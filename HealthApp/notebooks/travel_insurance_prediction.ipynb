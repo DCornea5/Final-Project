{
 "cells": [
  {
   "cell_type": "code",
   "execution_count": 1,
   "metadata": {
    "ExecuteTime": {
     "end_time": "2022-04-30T04:37:35.933722Z",
     "start_time": "2022-04-30T04:37:34.300996Z"
    }
   },
   "outputs": [],
   "source": [
    "%matplotlib inline\n",
    "import matplotlib.pyplot as plt\n",
    "import numpy as np\n",
    "import pandas as pd\n",
    "import seaborn as sns"
   ]
  },
  {
   "cell_type": "code",
   "execution_count": 2,
   "metadata": {
    "ExecuteTime": {
     "end_time": "2022-04-30T04:37:37.300735Z",
     "start_time": "2022-04-30T04:37:36.668985Z"
    }
   },
   "outputs": [],
   "source": [
    "df = pd.read_csv(\"../data/TravelInsurancePrediction.csv\")"
   ]
  },
  {
   "cell_type": "code",
   "execution_count": 3,
   "metadata": {
    "ExecuteTime": {
     "end_time": "2022-04-30T04:37:38.220121Z",
     "start_time": "2022-04-30T04:37:38.195119Z"
    }
   },
   "outputs": [
    {
     "data": {
      "text/html": [
       "<div>\n",
       "<style scoped>\n",
       "    .dataframe tbody tr th:only-of-type {\n",
       "        vertical-align: middle;\n",
       "    }\n",
       "\n",
       "    .dataframe tbody tr th {\n",
       "        vertical-align: top;\n",
       "    }\n",
       "\n",
       "    .dataframe thead th {\n",
       "        text-align: right;\n",
       "    }\n",
       "</style>\n",
       "<table border=\"1\" class=\"dataframe\">\n",
       "  <thead>\n",
       "    <tr style=\"text-align: right;\">\n",
       "      <th></th>\n",
       "      <th>Unnamed: 0</th>\n",
       "      <th>Age</th>\n",
       "      <th>Employment Type</th>\n",
       "      <th>GraduateOrNot</th>\n",
       "      <th>AnnualIncome</th>\n",
       "      <th>FamilyMembers</th>\n",
       "      <th>ChronicDiseases</th>\n",
       "      <th>FrequentFlyer</th>\n",
       "      <th>EverTravelledAbroad</th>\n",
       "      <th>TravelInsurance</th>\n",
       "    </tr>\n",
       "  </thead>\n",
       "  <tbody>\n",
       "    <tr>\n",
       "      <th>0</th>\n",
       "      <td>0</td>\n",
       "      <td>31</td>\n",
       "      <td>Government Sector</td>\n",
       "      <td>Yes</td>\n",
       "      <td>400000</td>\n",
       "      <td>6</td>\n",
       "      <td>1</td>\n",
       "      <td>No</td>\n",
       "      <td>No</td>\n",
       "      <td>0</td>\n",
       "    </tr>\n",
       "    <tr>\n",
       "      <th>1</th>\n",
       "      <td>1</td>\n",
       "      <td>31</td>\n",
       "      <td>Private Sector/Self Employed</td>\n",
       "      <td>Yes</td>\n",
       "      <td>1250000</td>\n",
       "      <td>7</td>\n",
       "      <td>0</td>\n",
       "      <td>No</td>\n",
       "      <td>No</td>\n",
       "      <td>0</td>\n",
       "    </tr>\n",
       "    <tr>\n",
       "      <th>2</th>\n",
       "      <td>2</td>\n",
       "      <td>34</td>\n",
       "      <td>Private Sector/Self Employed</td>\n",
       "      <td>Yes</td>\n",
       "      <td>500000</td>\n",
       "      <td>4</td>\n",
       "      <td>1</td>\n",
       "      <td>No</td>\n",
       "      <td>No</td>\n",
       "      <td>1</td>\n",
       "    </tr>\n",
       "    <tr>\n",
       "      <th>3</th>\n",
       "      <td>3</td>\n",
       "      <td>28</td>\n",
       "      <td>Private Sector/Self Employed</td>\n",
       "      <td>Yes</td>\n",
       "      <td>700000</td>\n",
       "      <td>3</td>\n",
       "      <td>1</td>\n",
       "      <td>No</td>\n",
       "      <td>No</td>\n",
       "      <td>0</td>\n",
       "    </tr>\n",
       "    <tr>\n",
       "      <th>4</th>\n",
       "      <td>4</td>\n",
       "      <td>28</td>\n",
       "      <td>Private Sector/Self Employed</td>\n",
       "      <td>Yes</td>\n",
       "      <td>700000</td>\n",
       "      <td>8</td>\n",
       "      <td>1</td>\n",
       "      <td>Yes</td>\n",
       "      <td>No</td>\n",
       "      <td>0</td>\n",
       "    </tr>\n",
       "  </tbody>\n",
       "</table>\n",
       "</div>"
      ],
      "text/plain": [
       "   Unnamed: 0  Age               Employment Type GraduateOrNot  AnnualIncome  \\\n",
       "0           0   31             Government Sector           Yes        400000   \n",
       "1           1   31  Private Sector/Self Employed           Yes       1250000   \n",
       "2           2   34  Private Sector/Self Employed           Yes        500000   \n",
       "3           3   28  Private Sector/Self Employed           Yes        700000   \n",
       "4           4   28  Private Sector/Self Employed           Yes        700000   \n",
       "\n",
       "   FamilyMembers  ChronicDiseases FrequentFlyer EverTravelledAbroad  \\\n",
       "0              6                1            No                  No   \n",
       "1              7                0            No                  No   \n",
       "2              4                1            No                  No   \n",
       "3              3                1            No                  No   \n",
       "4              8                1           Yes                  No   \n",
       "\n",
       "   TravelInsurance  \n",
       "0                0  \n",
       "1                0  \n",
       "2                1  \n",
       "3                0  \n",
       "4                0  "
      ]
     },
     "execution_count": 3,
     "metadata": {},
     "output_type": "execute_result"
    }
   ],
   "source": [
    "df.head()"
   ]
  },
  {
   "cell_type": "markdown",
   "metadata": {},
   "source": [
    "## EDA"
   ]
  },
  {
   "cell_type": "code",
   "execution_count": 4,
   "metadata": {
    "ExecuteTime": {
     "end_time": "2022-04-30T04:37:40.303909Z",
     "start_time": "2022-04-30T04:37:40.292913Z"
    }
   },
   "outputs": [
    {
     "data": {
      "text/plain": [
       "Index(['Unnamed: 0', 'Age', 'Employment Type', 'GraduateOrNot', 'AnnualIncome',\n",
       "       'FamilyMembers', 'ChronicDiseases', 'FrequentFlyer',\n",
       "       'EverTravelledAbroad', 'TravelInsurance'],\n",
       "      dtype='object')"
      ]
     },
     "execution_count": 4,
     "metadata": {},
     "output_type": "execute_result"
    }
   ],
   "source": [
    "df.columns"
   ]
  },
  {
   "cell_type": "code",
   "execution_count": 5,
   "metadata": {
    "ExecuteTime": {
     "end_time": "2022-04-30T04:37:40.901982Z",
     "start_time": "2022-04-30T04:37:40.883979Z"
    }
   },
   "outputs": [],
   "source": [
    "df = df.drop([\"Unnamed: 0\"], axis=1)"
   ]
  },
  {
   "cell_type": "code",
   "execution_count": 6,
   "metadata": {
    "ExecuteTime": {
     "end_time": "2022-04-30T04:37:42.406021Z",
     "start_time": "2022-04-30T04:37:42.324993Z"
    }
   },
   "outputs": [
    {
     "data": {
      "text/html": [
       "<div>\n",
       "<style scoped>\n",
       "    .dataframe tbody tr th:only-of-type {\n",
       "        vertical-align: middle;\n",
       "    }\n",
       "\n",
       "    .dataframe tbody tr th {\n",
       "        vertical-align: top;\n",
       "    }\n",
       "\n",
       "    .dataframe thead th {\n",
       "        text-align: right;\n",
       "    }\n",
       "</style>\n",
       "<table border=\"1\" class=\"dataframe\">\n",
       "  <thead>\n",
       "    <tr style=\"text-align: right;\">\n",
       "      <th></th>\n",
       "      <th>Age</th>\n",
       "      <th>AnnualIncome</th>\n",
       "      <th>FamilyMembers</th>\n",
       "      <th>ChronicDiseases</th>\n",
       "      <th>TravelInsurance</th>\n",
       "    </tr>\n",
       "  </thead>\n",
       "  <tbody>\n",
       "    <tr>\n",
       "      <th>count</th>\n",
       "      <td>1987.000000</td>\n",
       "      <td>1.987000e+03</td>\n",
       "      <td>1987.000000</td>\n",
       "      <td>1987.000000</td>\n",
       "      <td>1987.000000</td>\n",
       "    </tr>\n",
       "    <tr>\n",
       "      <th>mean</th>\n",
       "      <td>29.650226</td>\n",
       "      <td>9.327630e+05</td>\n",
       "      <td>4.752894</td>\n",
       "      <td>0.277806</td>\n",
       "      <td>0.357323</td>\n",
       "    </tr>\n",
       "    <tr>\n",
       "      <th>std</th>\n",
       "      <td>2.913308</td>\n",
       "      <td>3.768557e+05</td>\n",
       "      <td>1.609650</td>\n",
       "      <td>0.448030</td>\n",
       "      <td>0.479332</td>\n",
       "    </tr>\n",
       "    <tr>\n",
       "      <th>min</th>\n",
       "      <td>25.000000</td>\n",
       "      <td>3.000000e+05</td>\n",
       "      <td>2.000000</td>\n",
       "      <td>0.000000</td>\n",
       "      <td>0.000000</td>\n",
       "    </tr>\n",
       "    <tr>\n",
       "      <th>25%</th>\n",
       "      <td>28.000000</td>\n",
       "      <td>6.000000e+05</td>\n",
       "      <td>4.000000</td>\n",
       "      <td>0.000000</td>\n",
       "      <td>0.000000</td>\n",
       "    </tr>\n",
       "    <tr>\n",
       "      <th>50%</th>\n",
       "      <td>29.000000</td>\n",
       "      <td>9.000000e+05</td>\n",
       "      <td>5.000000</td>\n",
       "      <td>0.000000</td>\n",
       "      <td>0.000000</td>\n",
       "    </tr>\n",
       "    <tr>\n",
       "      <th>75%</th>\n",
       "      <td>32.000000</td>\n",
       "      <td>1.250000e+06</td>\n",
       "      <td>6.000000</td>\n",
       "      <td>1.000000</td>\n",
       "      <td>1.000000</td>\n",
       "    </tr>\n",
       "    <tr>\n",
       "      <th>max</th>\n",
       "      <td>35.000000</td>\n",
       "      <td>1.800000e+06</td>\n",
       "      <td>9.000000</td>\n",
       "      <td>1.000000</td>\n",
       "      <td>1.000000</td>\n",
       "    </tr>\n",
       "  </tbody>\n",
       "</table>\n",
       "</div>"
      ],
      "text/plain": [
       "               Age  AnnualIncome  FamilyMembers  ChronicDiseases  \\\n",
       "count  1987.000000  1.987000e+03    1987.000000      1987.000000   \n",
       "mean     29.650226  9.327630e+05       4.752894         0.277806   \n",
       "std       2.913308  3.768557e+05       1.609650         0.448030   \n",
       "min      25.000000  3.000000e+05       2.000000         0.000000   \n",
       "25%      28.000000  6.000000e+05       4.000000         0.000000   \n",
       "50%      29.000000  9.000000e+05       5.000000         0.000000   \n",
       "75%      32.000000  1.250000e+06       6.000000         1.000000   \n",
       "max      35.000000  1.800000e+06       9.000000         1.000000   \n",
       "\n",
       "       TravelInsurance  \n",
       "count      1987.000000  \n",
       "mean          0.357323  \n",
       "std           0.479332  \n",
       "min           0.000000  \n",
       "25%           0.000000  \n",
       "50%           0.000000  \n",
       "75%           1.000000  \n",
       "max           1.000000  "
      ]
     },
     "execution_count": 6,
     "metadata": {},
     "output_type": "execute_result"
    }
   ],
   "source": [
    "df.describe()"
   ]
  },
  {
   "cell_type": "code",
   "execution_count": 7,
   "metadata": {
    "ExecuteTime": {
     "end_time": "2022-04-30T04:37:42.953405Z",
     "start_time": "2022-04-30T04:37:42.931402Z"
    }
   },
   "outputs": [
    {
     "name": "stdout",
     "output_type": "stream",
     "text": [
      "<class 'pandas.core.frame.DataFrame'>\n",
      "RangeIndex: 1987 entries, 0 to 1986\n",
      "Data columns (total 9 columns):\n",
      " #   Column               Non-Null Count  Dtype \n",
      "---  ------               --------------  ----- \n",
      " 0   Age                  1987 non-null   int64 \n",
      " 1   Employment Type      1987 non-null   object\n",
      " 2   GraduateOrNot        1987 non-null   object\n",
      " 3   AnnualIncome         1987 non-null   int64 \n",
      " 4   FamilyMembers        1987 non-null   int64 \n",
      " 5   ChronicDiseases      1987 non-null   int64 \n",
      " 6   FrequentFlyer        1987 non-null   object\n",
      " 7   EverTravelledAbroad  1987 non-null   object\n",
      " 8   TravelInsurance      1987 non-null   int64 \n",
      "dtypes: int64(5), object(4)\n",
      "memory usage: 139.8+ KB\n"
     ]
    }
   ],
   "source": [
    "df.info()"
   ]
  },
  {
   "cell_type": "code",
   "execution_count": 8,
   "metadata": {
    "ExecuteTime": {
     "end_time": "2022-04-30T04:37:43.452094Z",
     "start_time": "2022-04-30T04:37:43.444099Z"
    }
   },
   "outputs": [
    {
     "name": "stdout",
     "output_type": "stream",
     "text": [
      "[[   0 1277]\n",
      " [   1  710]]\n"
     ]
    }
   ],
   "source": [
    "# gain understanding about each class\n",
    "insurance = np.array(df[\"TravelInsurance\"])\n",
    "unique, counts = np.unique(insurance, return_counts=True)\n",
    "print(np.column_stack((unique,counts)))"
   ]
  },
  {
   "cell_type": "code",
   "execution_count": 9,
   "metadata": {
    "ExecuteTime": {
     "end_time": "2022-04-30T04:37:44.269795Z",
     "start_time": "2022-04-30T04:37:44.164969Z"
    }
   },
   "outputs": [
    {
     "data": {
      "image/png": "[encoded data removed]",
      "text/plain": [
       "<Figure size 432x288 with 1 Axes>"
      ]
     },
     "metadata": {},
     "output_type": "display_data"
    }
   ],
   "source": [
    "#create pie chart\n",
    "plt.pie(counts, labels = [\"No sale\", \"Sale\"],  shadow= True, autopct='%.0f%%')\n",
    "plt.title(\"Imbalanced classes\")\n",
    "plt.show()"
   ]
  },
  {
   "cell_type": "code",
   "execution_count": 18,
   "metadata": {
    "ExecuteTime": {
     "end_time": "2022-04-30T04:41:32.441123Z",
     "start_time": "2022-04-30T04:41:32.398095Z"
    }
   },
   "outputs": [
    {
     "data": {
      "application/vnd.plotly.v1+json": {
       "config": {
        "plotlyServerURL": "https://plot.ly"
       },
       "data": [
        {
         "domain": {
          "x": [
           0,
           1
          ],
          "y": [
           0,
           1
          ]
         },
         "hole": 0.1,
         "hovertemplate": "Age=%{label}<extra></extra>",
         "labels": [
          31,
          31,
          34,
          28,
          28,
          25,
          31,
          31,
          28,
          33,
          31,
          26,
          32,
          31,
          31,
          34,
          28,
          28,
          29,
          34,
          28,
          29,
          31,
          28,
          31,
          35,
          34,
          28,
          26,
          31,
          30,
          31,
          25,
          32,
          28,
          33,
          31,
          34,
          34,
          33,
          25,
          33,
          26,
          28,
          25,
          34,
          25,
          35,
          28,
          31,
          31,
          29,
          31,
          28,
          29,
          26,
          28,
          34,
          33,
          33,
          31,
          32,
          28,
          27,
          30,
          26,
          30,
          34,
          29,
          31,
          34,
          28,
          28,
          28,
          28,
          34,
          29,
          31,
          31,
          31,
          26,
          25,
          28,
          34,
          32,
          25,
          32,
          28,
          34,
          28,
          27,
          28,
          28,
          33,
          34,
          26,
          28,
          29,
          29,
          29,
          28,
          33,
          29,
          26,
          28,
          28,
          34,
          34,
          26,
          25,
          31,
          28,
          30,
          29,
          29,
          29,
          28,
          31,
          31,
          31,
          28,
          26,
          32,
          27,
          32,
          29,
          32,
          27,
          31,
          29,
          28,
          28,
          28,
          25,
          28,
          28,
          29,
          29,
          28,
          35,
          28,
          25,
          32,
          26,
          31,
          28,
          30,
          31,
          25,
          28,
          28,
          29,
          28,
          25,
          28,
          34,
          28,
          28,
          31,
          27,
          31,
          34,
          34,
          32,
          28,
          33,
          28,
          31,
          27,
          25,
          31,
          28,
          27,
          26,
          34,
          30,
          34,
          28,
          32,
          26,
          28,
          26,
          35,
          25,
          25,
          28,
          28,
          28,
          26,
          26,
          27,
          30,
          28,
          34,
          33,
          25,
          34,
          29,
          25,
          30,
          27,
          31,
          28,
          28,
          32,
          29,
          25,
          31,
          29,
          25,
          28,
          27,
          28,
          26,
          27,
          33,
          34,
          28,
          26,
          31,
          35,
          28,
          28,
          30,
          31,
          31,
          34,
          34,
          34,
          34,
          29,
          31,
          28,
          31,
          34,
          30,
          26,
          30,
          29,
          26,
          27,
          35,
          33,
          26,
          27,
          28,
          31,
          27,
          34,
          28,
          34,
          28,
          29,
          28,
          28,
          34,
          34,
          33,
          29,
          33,
          26,
          28,
          26,
          35,
          29,
          27,
          31,
          33,
          34,
          27,
          34,
          35,
          28,
          34,
          32,
          26,
          29,
          31,
          32,
          32,
          32,
          26,
          26,
          26,
          28,
          33,
          28,
          29,
          29,
          26,
          32,
          34,
          27,
          31,
          29,
          28,
          32,
          35,
          25,
          27,
          32,
          27,
          34,
          31,
          34,
          26,
          33,
          28,
          34,
          33,
          30,
          34,
          32,
          25,
          26,
          28,
          31,
          32,
          34,
          25,
          35,
          28,
          28,
          33,
          28,
          31,
          28,
          34,
          34,
          28,
          35,
          33,
          31,
          31,
          29,
          28,
          32,
          30,
          28,
          29,
          27,
          28,
          28,
          28,
          32,
          29,
          25,
          34,
          31,
          28,
          31,
          29,
          31,
          31,
          25,
          28,
          34,
          34,
          34,
          25,
          28,
          29,
          28,
          34,
          31,
          25,
          28,
          31,
          35,
          32,
          31,
          27,
          29,
          28,
          28,
          28,
          31,
          27,
          25,
          27,
          28,
          29,
          31,
          29,
          33,
          34,
          28,
          28,
          28,
          31,
          33,
          28,
          31,
          29,
          28,
          32,
          33,
          25,
          28,
          35,
          29,
          34,
          31,
          28,
          33,
          32,
          28,
          25,
          31,
          28,
          28,
          28,
          28,
          25,
          33,
          28,
          31,
          31,
          34,
          25,
          34,
          28,
          34,
          25,
          29,
          29,
          25,
          25,
          28,
          32,
          26,
          28,
          34,
          28,
          34,
          34,
          28,
          27,
          33,
          28,
          34,
          34,
          29,
          25,
          28,
          27,
          28,
          29,
          33,
          31,
          31,
          28,
          34,
          31,
          28,
          35,
          26,
          25,
          26,
          34,
          25,
          35,
          26,
          33,
          34,
          26,
          28,
          26,
          28,
          25,
          28,
          26,
          28,
          25,
          31,
          34,
          33,
          34,
          29,
          34,
          34,
          29,
          32,
          28,
          33,
          27,
          33,
          34,
          28,
          30,
          29,
          28,
          34,
          29,
          34,
          31,
          26,
          28,
          29,
          32,
          26,
          31,
          28,
          31,
          29,
          28,
          28,
          32,
          28,
          28,
          31,
          31,
          29,
          27,
          28,
          27,
          31,
          31,
          29,
          25,
          35,
          28,
          35,
          33,
          32,
          26,
          31,
          28,
          25,
          28,
          29,
          28,
          31,
          29,
          27,
          31,
          30,
          29,
          28,
          33,
          26,
          29,
          27,
          34,
          31,
          26,
          28,
          26,
          27,
          28,
          34,
          25,
          27,
          33,
          32,
          26,
          33,
          27,
          34,
          29,
          26,
          29,
          33,
          33,
          29,
          28,
          27,
          35,
          35,
          27,
          25,
          32,
          28,
          27,
          29,
          29,
          31,
          27,
          34,
          33,
          31,
          28,
          29,
          29,
          29,
          34,
          28,
          29,
          35,
          26,
          28,
          25,
          25,
          28,
          33,
          25,
          31,
          34,
          35,
          34,
          34,
          34,
          34,
          33,
          32,
          28,
          28,
          28,
          28,
          28,
          31,
          28,
          28,
          31,
          34,
          28,
          27,
          30,
          31,
          35,
          29,
          28,
          32,
          28,
          34,
          31,
          28,
          27,
          28,
          25,
          28,
          33,
          34,
          28,
          34,
          28,
          25,
          34,
          26,
          31,
          27,
          34,
          26,
          28,
          32,
          28,
          28,
          34,
          28,
          28,
          26,
          33,
          33,
          27,
          32,
          28,
          31,
          28,
          30,
          34,
          28,
          28,
          26,
          32,
          34,
          28,
          28,
          26,
          33,
          26,
          28,
          29,
          27,
          30,
          27,
          27,
          29,
          27,
          25,
          26,
          29,
          28,
          26,
          28,
          25,
          34,
          33,
          28,
          33,
          27,
          33,
          31,
          31,
          27,
          34,
          28,
          32,
          25,
          33,
          32,
          28,
          29,
          28,
          27,
          33,
          27,
          34,
          28,
          34,
          33,
          26,
          34,
          28,
          28,
          28,
          28,
          29,
          28,
          27,
          34,
          27,
          34,
          33,
          29,
          25,
          30,
          25,
          34,
          28,
          27,
          31,
          28,
          30,
          27,
          34,
          28,
          30,
          28,
          28,
          33,
          34,
          34,
          34,
          29,
          29,
          28,
          27,
          34,
          28,
          34,
          35,
          28,
          28,
          33,
          32,
          29,
          28,
          27,
          33,
          34,
          27,
          26,
          28,
          28,
          27,
          29,
          34,
          28,
          34,
          30,
          28,
          29,
          35,
          31,
          28,
          32,
          25,
          27,
          27,
          25,
          31,
          27,
          28,
          29,
          31,
          29,
          29,
          34,
          34,
          28,
          32,
          35,
          28,
          28,
          26,
          32,
          28,
          28,
          34,
          31,
          31,
          31,
          30,
          29,
          27,
          29,
          30,
          27,
          34,
          30,
          29,
          26,
          33,
          30,
          29,
          25,
          34,
          27,
          28,
          28,
          25,
          34,
          29,
          28,
          32,
          29,
          28,
          32,
          34,
          26,
          34,
          27,
          34,
          31,
          33,
          35,
          28,
          29,
          29,
          26,
          28,
          34,
          29,
          29,
          33,
          28,
          28,
          29,
          35,
          34,
          32,
          28,
          27,
          31,
          32,
          26,
          34,
          28,
          27,
          28,
          34,
          30,
          28,
          29,
          26,
          31,
          31,
          33,
          28,
          33,
          35,
          25,
          27,
          32,
          28,
          29,
          28,
          26,
          26,
          29,
          28,
          29,
          26,
          28,
          35,
          32,
          31,
          28,
          28,
          35,
          33,
          29,
          29,
          31,
          30,
          28,
          33,
          31,
          31,
          25,
          29,
          33,
          34,
          28,
          28,
          28,
          34,
          26,
          34,
          26,
          34,
          27,
          31,
          31,
          32,
          28,
          26,
          28,
          33,
          26,
          32,
          33,
          29,
          28,
          31,
          30,
          34,
          33,
          26,
          26,
          34,
          28,
          27,
          28,
          28,
          27,
          33,
          28,
          28,
          31,
          25,
          34,
          25,
          29,
          33,
          28,
          25,
          35,
          29,
          29,
          28,
          34,
          28,
          29,
          34,
          34,
          25,
          28,
          27,
          31,
          28,
          28,
          33,
          26,
          33,
          25,
          25,
          29,
          31,
          31,
          27,
          34,
          28,
          26,
          26,
          30,
          26,
          34,
          32,
          30,
          28,
          27,
          27,
          35,
          28,
          25,
          25,
          33,
          31,
          33,
          29,
          30,
          28,
          34,
          28,
          27,
          31,
          28,
          26,
          34,
          28,
          26,
          29,
          31,
          31,
          27,
          28,
          34,
          26,
          34,
          27,
          35,
          29,
          25,
          26,
          26,
          29,
          28,
          31,
          27,
          25,
          28,
          27,
          25,
          32,
          31,
          28,
          25,
          25,
          31,
          34,
          29,
          32,
          31,
          25,
          34,
          28,
          29,
          30,
          28,
          32,
          26,
          31,
          30,
          25,
          28,
          33,
          31,
          25,
          29,
          33,
          25,
          29,
          34,
          31,
          25,
          31,
          28,
          27,
          32,
          35,
          31,
          32,
          28,
          29,
          28,
          29,
          34,
          27,
          28,
          33,
          27,
          31,
          28,
          34,
          32,
          31,
          27,
          31,
          34,
          28,
          26,
          29,
          25,
          29,
          28,
          28,
          31,
          28,
          26,
          29,
          34,
          31,
          26,
          34,
          34,
          30,
          28,
          28,
          35,
          27,
          34,
          29,
          34,
          34,
          26,
          34,
          26,
          35,
          25,
          29,
          34,
          35,
          33,
          33,
          34,
          28,
          28,
          33,
          28,
          31,
          34,
          34,
          25,
          29,
          28,
          29,
          30,
          33,
          26,
          28,
          31,
          34,
          35,
          31,
          28,
          27,
          35,
          28,
          26,
          28,
          33,
          27,
          27,
          31,
          28,
          29,
          26,
          28,
          25,
          28,
          34,
          28,
          28,
          34,
          28,
          28,
          28,
          34,
          31,
          29,
          28,
          34,
          29,
          31,
          28,
          34,
          34,
          28,
          25,
          34,
          31,
          28,
          32,
          30,
          33,
          34,
          34,
          28,
          27,
          26,
          28,
          28,
          29,
          35,
          33,
          31,
          29,
          26,
          34,
          31,
          25,
          33,
          34,
          31,
          31,
          28,
          25,
          33,
          28,
          26,
          28,
          31,
          28,
          28,
          33,
          29,
          26,
          31,
          34,
          30,
          25,
          34,
          25,
          31,
          25,
          27,
          31,
          28,
          34,
          28,
          28,
          29,
          33,
          33,
          31,
          34,
          29,
          31,
          33,
          31,
          34,
          31,
          27,
          34,
          28,
          28,
          31,
          34,
          34,
          28,
          33,
          28,
          33,
          25,
          26,
          26,
          26,
          28,
          28,
          28,
          28,
          34,
          25,
          34,
          28,
          28,
          28,
          34,
          33,
          30,
          33,
          27,
          28,
          31,
          34,
          33,
          31,
          33,
          31,
          31,
          25,
          33,
          29,
          34,
          29,
          31,
          34,
          30,
          29,
          25,
          29,
          31,
          28,
          33,
          26,
          28,
          34,
          28,
          28,
          31,
          34,
          33,
          28,
          28,
          35,
          29,
          28,
          27,
          28,
          31,
          28,
          28,
          28,
          34,
          29,
          28,
          28,
          31,
          33,
          28,
          28,
          34,
          29,
          31,
          25,
          31,
          25,
          31,
          26,
          31,
          31,
          34,
          34,
          33,
          30,
          34,
          28,
          28,
          33,
          33,
          31,
          29,
          28,
          25,
          25,
          28,
          28,
          28,
          34,
          28,
          34,
          25,
          26,
          25,
          28,
          29,
          28,
          33,
          26,
          33,
          28,
          31,
          33,
          26,
          30,
          30,
          30,
          26,
          32,
          34,
          26,
          28,
          28,
          29,
          34,
          31,
          27,
          29,
          34,
          28,
          28,
          33,
          28,
          28,
          28,
          27,
          26,
          34,
          35,
          28,
          25,
          28,
          25,
          34,
          27,
          28,
          30,
          27,
          25,
          32,
          31,
          27,
          33,
          30,
          35,
          32,
          28,
          31,
          25,
          29,
          28,
          26,
          28,
          34,
          28,
          33,
          31,
          33,
          28,
          28,
          29,
          26,
          28,
          34,
          31,
          26,
          35,
          30,
          27,
          33,
          31,
          28,
          33,
          31,
          28,
          26,
          25,
          34,
          32,
          25,
          25,
          28,
          31,
          34,
          34,
          31,
          30,
          32,
          33,
          34,
          31,
          26,
          29,
          31,
          28,
          29,
          31,
          32,
          29,
          34,
          25,
          31,
          30,
          27,
          33,
          25,
          25,
          28,
          34,
          28,
          31,
          28,
          28,
          31,
          35,
          29,
          32,
          31,
          28,
          33,
          35,
          28,
          29,
          28,
          28,
          33,
          34,
          28,
          25,
          27,
          34,
          33,
          28,
          28,
          34,
          32,
          32,
          28,
          29,
          25,
          26,
          27,
          32,
          25,
          29,
          28,
          33,
          33,
          28,
          25,
          28,
          28,
          29,
          34,
          27,
          28,
          27,
          25,
          28,
          26,
          26,
          28,
          28,
          34,
          32,
          34,
          26,
          31,
          28,
          28,
          29,
          31,
          27,
          29,
          30,
          30,
          31,
          28,
          31,
          26,
          27,
          28,
          33,
          33,
          33,
          26,
          29,
          31,
          33,
          34,
          28,
          28,
          32,
          29,
          34,
          30,
          34,
          27,
          28,
          28,
          28,
          28,
          28,
          31,
          26,
          30,
          32,
          32,
          34,
          28,
          28,
          29,
          31,
          30,
          28,
          34,
          33,
          29,
          27,
          28,
          34,
          25,
          33,
          28,
          30,
          28,
          28,
          27,
          28,
          28,
          33,
          31,
          28,
          28,
          25,
          28,
          28,
          31,
          25,
          30,
          28,
          25,
          26,
          25,
          34,
          31,
          31,
          32,
          27,
          28,
          28,
          28,
          28,
          29,
          26,
          33,
          29,
          26,
          27,
          33,
          26,
          31,
          28,
          34,
          30,
          27,
          28,
          28,
          25,
          27,
          31,
          34,
          33,
          25,
          28,
          26,
          29,
          29,
          34,
          31,
          33,
          32,
          25,
          34,
          31,
          28,
          35,
          29,
          25,
          26,
          28,
          31,
          28,
          28,
          25,
          28,
          34,
          28,
          28,
          25,
          34,
          34,
          26,
          25,
          28,
          26,
          28,
          35,
          29,
          29,
          28,
          28,
          28,
          25,
          31,
          34,
          28,
          29,
          26,
          34,
          29,
          28,
          28,
          34,
          33,
          27,
          28,
          31,
          28,
          31,
          29,
          30,
          28,
          26,
          28,
          28,
          31,
          31,
          27,
          35,
          26,
          29,
          31,
          31,
          35,
          28,
          29,
          29,
          28,
          28,
          31,
          27,
          31,
          26,
          28,
          33,
          35,
          26,
          28,
          31,
          28,
          28,
          28,
          27,
          28,
          31,
          34,
          34,
          25,
          29,
          30,
          34,
          32,
          28,
          28,
          34,
          28,
          26,
          35,
          31,
          31,
          29,
          31,
          34,
          34,
          33,
          27,
          29,
          29,
          26,
          28,
          28,
          35,
          28,
          34,
          31,
          33,
          28,
          33,
          28,
          28,
          26,
          33,
          30,
          34,
          29,
          25,
          26,
          25,
          34,
          30,
          28,
          29,
          32,
          34,
          26,
          35,
          28,
          29,
          34,
          26,
          28,
          28,
          32,
          33,
          29,
          34,
          28,
          25,
          31,
          29,
          34,
          29,
          34,
          25,
          31,
          34,
          26,
          28,
          28,
          28,
          34,
          34,
          28,
          27,
          28,
          28,
          25,
          26,
          25,
          29,
          31,
          33,
          28,
          29,
          26,
          26,
          28,
          28,
          27,
          29,
          28,
          29,
          28,
          33,
          34,
          29,
          26,
          25,
          28,
          25,
          35,
          25,
          28,
          29,
          29,
          32,
          28,
          31,
          25,
          31,
          29,
          29,
          31,
          31,
          33,
          34,
          28,
          32,
          28,
          32,
          34,
          28,
          27,
          28,
          32,
          28,
          31,
          28,
          28,
          28,
          28,
          34,
          34,
          27,
          26,
          27,
          30,
          32,
          28,
          34,
          28,
          34,
          31,
          26,
          28,
          35,
          25,
          31,
          25,
          34,
          29,
          34,
          29,
          26,
          34,
          28,
          28,
          27,
          27,
          34,
          31,
          27,
          28,
          35,
          32,
          31,
          26,
          31,
          28,
          28,
          28,
          32,
          28,
          26,
          31,
          35,
          25,
          31,
          27,
          28,
          33,
          33,
          28,
          25,
          28,
          28,
          28,
          28,
          28,
          27,
          34,
          33,
          30,
          28,
          28,
          34,
          33,
          28,
          32,
          31,
          34,
          26,
          33,
          33,
          25,
          34,
          34,
          28,
          31,
          34,
          35,
          28,
          25,
          33,
          33,
          34,
          34,
          27,
          25,
          27,
          28,
          29,
          34,
          28,
          32,
          32,
          35,
          34,
          28,
          27,
          31,
          34,
          30,
          33,
          32,
          31,
          31,
          28,
          28,
          26,
          25,
          33,
          28,
          30,
          34,
          34,
          28,
          31,
          29,
          31,
          28,
          31,
          28,
          26,
          32,
          25,
          34,
          28,
          25,
          27,
          33,
          28,
          28,
          34,
          34
         ],
         "legendgroup": "",
         "name": "",
         "showlegend": true,
         "type": "pie"
        }
       ],
       "layout": {
        "legend": {
         "tracegroupgap": 0
        },
        "template": {
         "data": {
          "bar": [
           {
            "error_x": {
             "color": "#2a3f5f"
            },
            "error_y": {
             "color": "#2a3f5f"
            },
            "marker": {
             "line": {
              "color": "#E5ECF6",
              "width": 0.5
             },
             "pattern": {
              "fillmode": "overlay",
              "size": 10,
              "solidity": 0.2
             }
            },
            "type": "bar"
           }
          ],
          "barpolar": [
           {
            "marker": {
             "line": {
              "color": "#E5ECF6",
              "width": 0.5
             },
             "pattern": {
              "fillmode": "overlay",
              "size": 10,
              "solidity": 0.2
             }
            },
            "type": "barpolar"
           }
          ],
          "carpet": [
           {
            "aaxis": {
             "endlinecolor": "#2a3f5f",
             "gridcolor": "white",
             "linecolor": "white",
             "minorgridcolor": "white",
             "startlinecolor": "#2a3f5f"
            },
            "baxis": {
             "endlinecolor": "#2a3f5f",
             "gridcolor": "white",
             "linecolor": "white",
             "minorgridcolor": "white",
             "startlinecolor": "#2a3f5f"
            },
            "type": "carpet"
           }
          ],
          "choropleth": [
           {
            "colorbar": {
             "outlinewidth": 0,
             "ticks": ""
            },
            "type": "choropleth"
           }
          ],
          "contour": [
           {
            "colorbar": {
             "outlinewidth": 0,
             "ticks": ""
            },
            "colorscale": [
             [
              0,
              "#0d0887"
             ],
             [
              0.1111111111111111,
              "#46039f"
             ],
             [
              0.2222222222222222,
              "#7201a8"
             ],
             [
              0.3333333333333333,
              "#9c179e"
             ],
             [
              0.4444444444444444,
              "#bd3786"
             ],
             [
              0.5555555555555556,
              "#d8576b"
             ],
             [
              0.6666666666666666,
              "#ed7953"
             ],
             [
              0.7777777777777778,
              "#fb9f3a"
             ],
             [
              0.8888888888888888,
              "#fdca26"
             ],
             [
              1,
              "#f0f921"
             ]
            ],
            "type": "contour"
           }
          ],
          "contourcarpet": [
           {
            "colorbar": {
             "outlinewidth": 0,
             "ticks": ""
            },
            "type": "contourcarpet"
           }
          ],
          "heatmap": [
           {
            "colorbar": {
             "outlinewidth": 0,
             "ticks": ""
            },
            "colorscale": [
             [
              0,
              "#0d0887"
             ],
             [
              0.1111111111111111,
              "#46039f"
             ],
             [
              0.2222222222222222,
              "#7201a8"
             ],
             [
              0.3333333333333333,
              "#9c179e"
             ],
             [
              0.4444444444444444,
              "#bd3786"
             ],
             [
              0.5555555555555556,
              "#d8576b"
             ],
             [
              0.6666666666666666,
              "#ed7953"
             ],
             [
              0.7777777777777778,
              "#fb9f3a"
             ],
             [
              0.8888888888888888,
              "#fdca26"
             ],
             [
              1,
              "#f0f921"
             ]
            ],
            "type": "heatmap"
           }
          ],
          "heatmapgl": [
           {
            "colorbar": {
             "outlinewidth": 0,
             "ticks": ""
            },
            "colorscale": [
             [
              0,
              "#0d0887"
             ],
             [
              0.1111111111111111,
              "#46039f"
             ],
             [
              0.2222222222222222,
              "#7201a8"
             ],
             [
              0.3333333333333333,
              "#9c179e"
             ],
             [
              0.4444444444444444,
              "#bd3786"
             ],
             [
              0.5555555555555556,
              "#d8576b"
             ],
             [
              0.6666666666666666,
              "#ed7953"
             ],
             [
              0.7777777777777778,
              "#fb9f3a"
             ],
             [
              0.8888888888888888,
              "#fdca26"
             ],
             [
              1,
              "#f0f921"
             ]
            ],
            "type": "heatmapgl"
           }
          ],
          "histogram": [
           {
            "marker": {
             "pattern": {
              "fillmode": "overlay",
              "size": 10,
              "solidity": 0.2
             }
            },
            "type": "histogram"
           }
          ],
          "histogram2d": [
           {
            "colorbar": {
             "outlinewidth": 0,
             "ticks": ""
            },
            "colorscale": [
             [
              0,
              "#0d0887"
             ],
             [
              0.1111111111111111,
              "#46039f"
             ],
             [
              0.2222222222222222,
              "#7201a8"
             ],
             [
              0.3333333333333333,
              "#9c179e"
             ],
             [
              0.4444444444444444,
              "#bd3786"
             ],
             [
              0.5555555555555556,
              "#d8576b"
             ],
             [
              0.6666666666666666,
              "#ed7953"
             ],
             [
              0.7777777777777778,
              "#fb9f3a"
             ],
             [
              0.8888888888888888,
              "#fdca26"
             ],
             [
              1,
              "#f0f921"
             ]
            ],
            "type": "histogram2d"
           }
          ],
          "histogram2dcontour": [
           {
            "colorbar": {
             "outlinewidth": 0,
             "ticks": ""
            },
            "colorscale": [
             [
              0,
              "#0d0887"
             ],
             [
              0.1111111111111111,
              "#46039f"
             ],
             [
              0.2222222222222222,
              "#7201a8"
             ],
             [
              0.3333333333333333,
              "#9c179e"
             ],
             [
              0.4444444444444444,
              "#bd3786"
             ],
             [
              0.5555555555555556,
              "#d8576b"
             ],
             [
              0.6666666666666666,
              "#ed7953"
             ],
             [
              0.7777777777777778,
              "#fb9f3a"
             ],
             [
              0.8888888888888888,
              "#fdca26"
             ],
             [
              1,
              "#f0f921"
             ]
            ],
            "type": "histogram2dcontour"
           }
          ],
          "mesh3d": [
           {
            "colorbar": {
             "outlinewidth": 0,
             "ticks": ""
            },
            "type": "mesh3d"
           }
          ],
          "parcoords": [
           {
            "line": {
             "colorbar": {
              "outlinewidth": 0,
              "ticks": ""
             }
            },
            "type": "parcoords"
           }
          ],
          "pie": [
           {
            "automargin": true,
            "type": "pie"
           }
          ],
          "scatter": [
           {
            "marker": {
             "colorbar": {
              "outlinewidth": 0,
              "ticks": ""
             }
            },
            "type": "scatter"
           }
          ],
          "scatter3d": [
           {
            "line": {
             "colorbar": {
              "outlinewidth": 0,
              "ticks": ""
             }
            },
            "marker": {
             "colorbar": {
              "outlinewidth": 0,
              "ticks": ""
             }
            },
            "type": "scatter3d"
           }
          ],
          "scattercarpet": [
           {
            "marker": {
             "colorbar": {
              "outlinewidth": 0,
              "ticks": ""
             }
            },
            "type": "scattercarpet"
           }
          ],
          "scattergeo": [
           {
            "marker": {
             "colorbar": {
              "outlinewidth": 0,
              "ticks": ""
             }
            },
            "type": "scattergeo"
           }
          ],
          "scattergl": [
           {
            "marker": {
             "colorbar": {
              "outlinewidth": 0,
              "ticks": ""
             }
            },
            "type": "scattergl"
           }
          ],
          "scattermapbox": [
           {
            "marker": {
             "colorbar": {
              "outlinewidth": 0,
              "ticks": ""
             }
            },
            "type": "scattermapbox"
           }
          ],
          "scatterpolar": [
           {
            "marker": {
             "colorbar": {
              "outlinewidth": 0,
              "ticks": ""
             }
            },
            "type": "scatterpolar"
           }
          ],
          "scatterpolargl": [
           {
            "marker": {
             "colorbar": {
              "outlinewidth": 0,
              "ticks": ""
             }
            },
            "type": "scatterpolargl"
           }
          ],
          "scatterternary": [
           {
            "marker": {
             "colorbar": {
              "outlinewidth": 0,
              "ticks": ""
             }
            },
            "type": "scatterternary"
           }
          ],
          "surface": [
           {
            "colorbar": {
             "outlinewidth": 0,
             "ticks": ""
            },
            "colorscale": [
             [
              0,
              "#0d0887"
             ],
             [
              0.1111111111111111,
              "#46039f"
             ],
             [
              0.2222222222222222,
              "#7201a8"
             ],
             [
              0.3333333333333333,
              "#9c179e"
             ],
             [
              0.4444444444444444,
              "#bd3786"
             ],
             [
              0.5555555555555556,
              "#d8576b"
             ],
             [
              0.6666666666666666,
              "#ed7953"
             ],
             [
              0.7777777777777778,
              "#fb9f3a"
             ],
             [
              0.8888888888888888,
              "#fdca26"
             ],
             [
              1,
              "#f0f921"
             ]
            ],
            "type": "surface"
           }
          ],
          "table": [
           {
            "cells": {
             "fill": {
              "color": "#EBF0F8"
             },
             "line": {
              "color": "white"
             }
            },
            "header": {
             "fill": {
              "color": "#C8D4E3"
             },
             "line": {
              "color": "white"
             }
            },
            "type": "table"
           }
          ]
         },
         "layout": {
          "annotationdefaults": {
           "arrowcolor": "#2a3f5f",
           "arrowhead": 0,
           "arrowwidth": 1
          },
          "autotypenumbers": "strict",
          "coloraxis": {
           "colorbar": {
            "outlinewidth": 0,
            "ticks": ""
           }
          },
          "colorscale": {
           "diverging": [
            [
             0,
             "#8e0152"
            ],
            [
             0.1,
             "#c51b7d"
            ],
            [
             0.2,
             "#de77ae"
            ],
            [
             0.3,
             "#f1b6da"
            ],
            [
             0.4,
             "#fde0ef"
            ],
            [
             0.5,
             "#f7f7f7"
            ],
            [
             0.6,
             "#e6f5d0"
            ],
            [
             0.7,
             "#b8e186"
            ],
            [
             0.8,
             "#7fbc41"
            ],
            [
             0.9,
             "#4d9221"
            ],
            [
             1,
             "#276419"
            ]
           ],
           "sequential": [
            [
             0,
             "#0d0887"
            ],
            [
             0.1111111111111111,
             "#46039f"
            ],
            [
             0.2222222222222222,
             "#7201a8"
            ],
            [
             0.3333333333333333,
             "#9c179e"
            ],
            [
             0.4444444444444444,
             "#bd3786"
            ],
            [
             0.5555555555555556,
             "#d8576b"
            ],
            [
             0.6666666666666666,
             "#ed7953"
            ],
            [
             0.7777777777777778,
             "#fb9f3a"
            ],
            [
             0.8888888888888888,
             "#fdca26"
            ],
            [
             1,
             "#f0f921"
            ]
           ],
           "sequentialminus": [
            [
             0,
             "#0d0887"
            ],
            [
             0.1111111111111111,
             "#46039f"
            ],
            [
             0.2222222222222222,
             "#7201a8"
            ],
            [
             0.3333333333333333,
             "#9c179e"
            ],
            [
             0.4444444444444444,
             "#bd3786"
            ],
            [
             0.5555555555555556,
             "#d8576b"
            ],
            [
             0.6666666666666666,
             "#ed7953"
            ],
            [
             0.7777777777777778,
             "#fb9f3a"
            ],
            [
             0.8888888888888888,
             "#fdca26"
            ],
            [
             1,
             "#f0f921"
            ]
           ]
          },
          "colorway": [
           "#636efa",
           "#EF553B",
           "#00cc96",
           "#ab63fa",
           "#FFA15A",
           "#19d3f3",
           "#FF6692",
           "#B6E880",
           "#FF97FF",
           "#FECB52"
          ],
          "font": {
           "color": "#2a3f5f"
          },
          "geo": {
           "bgcolor": "white",
           "lakecolor": "white",
           "landcolor": "#E5ECF6",
           "showlakes": true,
           "showland": true,
           "subunitcolor": "white"
          },
          "hoverlabel": {
           "align": "left"
          },
          "hovermode": "closest",
          "mapbox": {
           "style": "light"
          },
          "paper_bgcolor": "white",
          "plot_bgcolor": "#E5ECF6",
          "polar": {
           "angularaxis": {
            "gridcolor": "white",
            "linecolor": "white",
            "ticks": ""
           },
           "bgcolor": "#E5ECF6",
           "radialaxis": {
            "gridcolor": "white",
            "linecolor": "white",
            "ticks": ""
           }
          },
          "scene": {
           "xaxis": {
            "backgroundcolor": "#E5ECF6",
            "gridcolor": "white",
            "gridwidth": 2,
            "linecolor": "white",
            "showbackground": true,
            "ticks": "",
            "zerolinecolor": "white"
           },
           "yaxis": {
            "backgroundcolor": "#E5ECF6",
            "gridcolor": "white",
            "gridwidth": 2,
            "linecolor": "white",
            "showbackground": true,
            "ticks": "",
            "zerolinecolor": "white"
           },
           "zaxis": {
            "backgroundcolor": "#E5ECF6",
            "gridcolor": "white",
            "gridwidth": 2,
            "linecolor": "white",
            "showbackground": true,
            "ticks": "",
            "zerolinecolor": "white"
           }
          },
          "shapedefaults": {
           "line": {
            "color": "#2a3f5f"
           }
          },
          "ternary": {
           "aaxis": {
            "gridcolor": "white",
            "linecolor": "white",
            "ticks": ""
           },
           "baxis": {
            "gridcolor": "white",
            "linecolor": "white",
            "ticks": ""
           },
           "bgcolor": "#E5ECF6",
           "caxis": {
            "gridcolor": "white",
            "linecolor": "white",
            "ticks": ""
           }
          },
          "title": {
           "x": 0.05
          },
          "xaxis": {
           "automargin": true,
           "gridcolor": "white",
           "linecolor": "white",
           "ticks": "",
           "title": {
            "standoff": 15
           },
           "zerolinecolor": "white",
           "zerolinewidth": 2
          },
          "yaxis": {
           "automargin": true,
           "gridcolor": "white",
           "linecolor": "white",
           "ticks": "",
           "title": {
            "standoff": 15
           },
           "zerolinecolor": "white",
           "zerolinewidth": 2
          }
         }
        },
        "title": {
         "text": "Travel Insurance Customer by Age"
        }
       }
      },
      "text/html": [
       "<div>                            <div id=\"c267c81d-fcc8-463b-a57f-2b5971bb3854\" class=\"plotly-graph-div\" style=\"height:525px; width:100%;\"></div>            <script type=\"text/javascript\">                require([\"plotly\"], function(Plotly) {                    window.PLOTLYENV=window.PLOTLYENV || {};                                    if (document.getElementById(\"c267c81d-fcc8-463b-a57f-2b5971bb3854\")) {                    Plotly.newPlot(                        \"c267c81d-fcc8-463b-a57f-2b5971bb3854\",                        [{\"domain\":{\"x\":[0.0,1.0],\"y\":[0.0,1.0]},\"hole\":0.1,\"hovertemplate\":\"Age=%{label}<extra></extra>\",\"labels\":[31,31,34,28,28,25,31,31,28,33,31,26,32,31,31,34,28,28,29,34,28,29,31,28,31,35,34,28,26,31,30,31,25,32,28,33,31,34,34,33,25,33,26,28,25,34,25,35,28,31,31,29,31,28,29,26,28,34,33,33,31,32,28,27,30,26,30,34,29,31,34,28,28,28,28,34,29,31,31,31,26,25,28,34,32,25,32,28,34,28,27,28,28,33,34,26,28,29,29,29,28,33,29,26,28,28,34,34,26,25,31,28,30,29,29,29,28,31,31,31,28,26,32,27,32,29,32,27,31,29,28,28,28,25,28,28,29,29,28,35,28,25,32,26,31,28,30,31,25,28,28,29,28,25,28,34,28,28,31,27,31,34,34,32,28,33,28,31,27,25,31,28,27,26,34,30,34,28,32,26,28,26,35,25,25,28,28,28,26,26,27,30,28,34,33,25,34,29,25,30,27,31,28,28,32,29,25,31,29,25,28,27,28,26,27,33,34,28,26,31,35,28,28,30,31,31,34,34,34,34,29,31,28,31,34,30,26,30,29,26,27,35,33,26,27,28,31,27,34,28,34,28,29,28,28,34,34,33,29,33,26,28,26,35,29,27,31,33,34,27,34,35,28,34,32,26,29,31,32,32,32,26,26,26,28,33,28,29,29,26,32,34,27,31,29,28,32,35,25,27,32,27,34,31,34,26,33,28,34,33,30,34,32,25,26,28,31,32,34,25,35,28,28,33,28,31,28,34,34,28,35,33,31,31,29,28,32,30,28,29,27,28,28,28,32,29,25,34,31,28,31,29,31,31,25,28,34,34,34,25,28,29,28,34,31,25,28,31,35,32,31,27,29,28,28,28,31,27,25,27,28,29,31,29,33,34,28,28,28,31,33,28,31,29,28,32,33,25,28,35,29,34,31,28,33,32,28,25,31,28,28,28,28,25,33,28,31,31,34,25,34,28,34,25,29,29,25,25,28,32,26,28,34,28,34,34,28,27,33,28,34,34,29,25,28,27,28,29,33,31,31,28,34,31,28,35,26,25,26,34,25,35,26,33,34,26,28,26,28,25,28,26,28,25,31,34,33,34,29,34,34,29,32,28,33,27,33,34,28,30,29,28,34,29,34,31,26,28,29,32,26,31,28,31,29,28,28,32,28,28,31,31,29,27,28,27,31,31,29,25,35,28,35,33,32,26,31,28,25,28,29,28,31,29,27,31,30,29,28,33,26,29,27,34,31,26,28,26,27,28,34,25,27,33,32,26,33,27,34,29,26,29,33,33,29,28,27,35,35,27,25,32,28,27,29,29,31,27,34,33,31,28,29,29,29,34,28,29,35,26,28,25,25,28,33,25,31,34,35,34,34,34,34,33,32,28,28,28,28,28,31,28,28,31,34,28,27,30,31,35,29,28,32,28,34,31,28,27,28,25,28,33,34,28,34,28,25,34,26,31,27,34,26,28,32,28,28,34,28,28,26,33,33,27,32,28,31,28,30,34,28,28,26,32,34,28,28,26,33,26,28,29,27,30,27,27,29,27,25,26,29,28,26,28,25,34,33,28,33,27,33,31,31,27,34,28,32,25,33,32,28,29,28,27,33,27,34,28,34,33,26,34,28,28,28,28,29,28,27,34,27,34,33,29,25,30,25,34,28,27,31,28,30,27,34,28,30,28,28,33,34,34,34,29,29,28,27,34,28,34,35,28,28,33,32,29,28,27,33,34,27,26,28,28,27,29,34,28,34,30,28,29,35,31,28,32,25,27,27,25,31,27,28,29,31,29,29,34,34,28,32,35,28,28,26,32,28,28,34,31,31,31,30,29,27,29,30,27,34,30,29,26,33,30,29,25,34,27,28,28,25,34,29,28,32,29,28,32,34,26,34,27,34,31,33,35,28,29,29,26,28,34,29,29,33,28,28,29,35,34,32,28,27,31,32,26,34,28,27,28,34,30,28,29,26,31,31,33,28,33,35,25,27,32,28,29,28,26,26,29,28,29,26,28,35,32,31,28,28,35,33,29,29,31,30,28,33,31,31,25,29,33,34,28,28,28,34,26,34,26,34,27,31,31,32,28,26,28,33,26,32,33,29,28,31,30,34,33,26,26,34,28,27,28,28,27,33,28,28,31,25,34,25,29,33,28,25,35,29,29,28,34,28,29,34,34,25,28,27,31,28,28,33,26,33,25,25,29,31,31,27,34,28,26,26,30,26,34,32,30,28,27,27,35,28,25,25,33,31,33,29,30,28,34,28,27,31,28,26,34,28,26,29,31,31,27,28,34,26,34,27,35,29,25,26,26,29,28,31,27,25,28,27,25,32,31,28,25,25,31,34,29,32,31,25,34,28,29,30,28,32,26,31,30,25,28,33,31,25,29,33,25,29,34,31,25,31,28,27,32,35,31,32,28,29,28,29,34,27,28,33,27,31,28,34,32,31,27,31,34,28,26,29,25,29,28,28,31,28,26,29,34,31,26,34,34,30,28,28,35,27,34,29,34,34,26,34,26,35,25,29,34,35,33,33,34,28,28,33,28,31,34,34,25,29,28,29,30,33,26,28,31,34,35,31,28,27,35,28,26,28,33,27,27,31,28,29,26,28,25,28,34,28,28,34,28,28,28,34,31,29,28,34,29,31,28,34,34,28,25,34,31,28,32,30,33,34,34,28,27,26,28,28,29,35,33,31,29,26,34,31,25,33,34,31,31,28,25,33,28,26,28,31,28,28,33,29,26,31,34,30,25,34,25,31,25,27,31,28,34,28,28,29,33,33,31,34,29,31,33,31,34,31,27,34,28,28,31,34,34,28,33,28,33,25,26,26,26,28,28,28,28,34,25,34,28,28,28,34,33,30,33,27,28,31,34,33,31,33,31,31,25,33,29,34,29,31,34,30,29,25,29,31,28,33,26,28,34,28,28,31,34,33,28,28,35,29,28,27,28,31,28,28,28,34,29,28,28,31,33,28,28,34,29,31,25,31,25,31,26,31,31,34,34,33,30,34,28,28,33,33,31,29,28,25,25,28,28,28,34,28,34,25,26,25,28,29,28,33,26,33,28,31,33,26,30,30,30,26,32,34,26,28,28,29,34,31,27,29,34,28,28,33,28,28,28,27,26,34,35,28,25,28,25,34,27,28,30,27,25,32,31,27,33,30,35,32,28,31,25,29,28,26,28,34,28,33,31,33,28,28,29,26,28,34,31,26,35,30,27,33,31,28,33,31,28,26,25,34,32,25,25,28,31,34,34,31,30,32,33,34,31,26,29,31,28,29,31,32,29,34,25,31,30,27,33,25,25,28,34,28,31,28,28,31,35,29,32,31,28,33,35,28,29,28,28,33,34,28,25,27,34,33,28,28,34,32,32,28,29,25,26,27,32,25,29,28,33,33,28,25,28,28,29,34,27,28,27,25,28,26,26,28,28,34,32,34,26,31,28,28,29,31,27,29,30,30,31,28,31,26,27,28,33,33,33,26,29,31,33,34,28,28,32,29,34,30,34,27,28,28,28,28,28,31,26,30,32,32,34,28,28,29,31,30,28,34,33,29,27,28,34,25,33,28,30,28,28,27,28,28,33,31,28,28,25,28,28,31,25,30,28,25,26,25,34,31,31,32,27,28,28,28,28,29,26,33,29,26,27,33,26,31,28,34,30,27,28,28,25,27,31,34,33,25,28,26,29,29,34,31,33,32,25,34,31,28,35,29,25,26,28,31,28,28,25,28,34,28,28,25,34,34,26,25,28,26,28,35,29,29,28,28,28,25,31,34,28,29,26,34,29,28,28,34,33,27,28,31,28,31,29,30,28,26,28,28,31,31,27,35,26,29,31,31,35,28,29,29,28,28,31,27,31,26,28,33,35,26,28,31,28,28,28,27,28,31,34,34,25,29,30,34,32,28,28,34,28,26,35,31,31,29,31,34,34,33,27,29,29,26,28,28,35,28,34,31,33,28,33,28,28,26,33,30,34,29,25,26,25,34,30,28,29,32,34,26,35,28,29,34,26,28,28,32,33,29,34,28,25,31,29,34,29,34,25,31,34,26,28,28,28,34,34,28,27,28,28,25,26,25,29,31,33,28,29,26,26,28,28,27,29,28,29,28,33,34,29,26,25,28,25,35,25,28,29,29,32,28,31,25,31,29,29,31,31,33,34,28,32,28,32,34,28,27,28,32,28,31,28,28,28,28,34,34,27,26,27,30,32,28,34,28,34,31,26,28,35,25,31,25,34,29,34,29,26,34,28,28,27,27,34,31,27,28,35,32,31,26,31,28,28,28,32,28,26,31,35,25,31,27,28,33,33,28,25,28,28,28,28,28,27,34,33,30,28,28,34,33,28,32,31,34,26,33,33,25,34,34,28,31,34,35,28,25,33,33,34,34,27,25,27,28,29,34,28,32,32,35,34,28,27,31,34,30,33,32,31,31,28,28,26,25,33,28,30,34,34,28,31,29,31,28,31,28,26,32,25,34,28,25,27,33,28,28,34,34],\"legendgroup\":\"\",\"name\":\"\",\"showlegend\":true,\"type\":\"pie\"}],                        {\"template\":{\"data\":{\"bar\":[{\"error_x\":{\"color\":\"#2a3f5f\"},\"error_y\":{\"color\":\"#2a3f5f\"},\"marker\":{\"line\":{\"color\":\"#E5ECF6\",\"width\":0.5},\"pattern\":{\"fillmode\":\"overlay\",\"size\":10,\"solidity\":0.2}},\"type\":\"bar\"}],\"barpolar\":[{\"marker\":{\"line\":{\"color\":\"#E5ECF6\",\"width\":0.5},\"pattern\":{\"fillmode\":\"overlay\",\"size\":10,\"solidity\":0.2}},\"type\":\"barpolar\"}],\"carpet\":[{\"aaxis\":{\"endlinecolor\":\"#2a3f5f\",\"gridcolor\":\"white\",\"linecolor\":\"white\",\"minorgridcolor\":\"white\",\"startlinecolor\":\"#2a3f5f\"},\"baxis\":{\"endlinecolor\":\"#2a3f5f\",\"gridcolor\":\"white\",\"linecolor\":\"white\",\"minorgridcolor\":\"white\",\"startlinecolor\":\"#2a3f5f\"},\"type\":\"carpet\"}],\"choropleth\":[{\"colorbar\":{\"outlinewidth\":0,\"ticks\":\"\"},\"type\":\"choropleth\"}],\"contour\":[{\"colorbar\":{\"outlinewidth\":0,\"ticks\":\"\"},\"colorscale\":[[0.0,\"#0d0887\"],[0.1111111111111111,\"#46039f\"],[0.2222222222222222,\"#7201a8\"],[0.3333333333333333,\"#9c179e\"],[0.4444444444444444,\"#bd3786\"],[0.5555555555555556,\"#d8576b\"],[0.6666666666666666,\"#ed7953\"],[0.7777777777777778,\"#fb9f3a\"],[0.8888888888888888,\"#fdca26\"],[1.0,\"#f0f921\"]],\"type\":\"contour\"}],\"contourcarpet\":[{\"colorbar\":{\"outlinewidth\":0,\"ticks\":\"\"},\"type\":\"contourcarpet\"}],\"heatmap\":[{\"colorbar\":{\"outlinewidth\":0,\"ticks\":\"\"},\"colorscale\":[[0.0,\"#0d0887\"],[0.1111111111111111,\"#46039f\"],[0.2222222222222222,\"#7201a8\"],[0.3333333333333333,\"#9c179e\"],[0.4444444444444444,\"#bd3786\"],[0.5555555555555556,\"#d8576b\"],[0.6666666666666666,\"#ed7953\"],[0.7777777777777778,\"#fb9f3a\"],[0.8888888888888888,\"#fdca26\"],[1.0,\"#f0f921\"]],\"type\":\"heatmap\"}],\"heatmapgl\":[{\"colorbar\":{\"outlinewidth\":0,\"ticks\":\"\"},\"colorscale\":[[0.0,\"#0d0887\"],[0.1111111111111111,\"#46039f\"],[0.2222222222222222,\"#7201a8\"],[0.3333333333333333,\"#9c179e\"],[0.4444444444444444,\"#bd3786\"],[0.5555555555555556,\"#d8576b\"],[0.6666666666666666,\"#ed7953\"],[0.7777777777777778,\"#fb9f3a\"],[0.8888888888888888,\"#fdca26\"],[1.0,\"#f0f921\"]],\"type\":\"heatmapgl\"}],\"histogram\":[{\"marker\":{\"pattern\":{\"fillmode\":\"overlay\",\"size\":10,\"solidity\":0.2}},\"type\":\"histogram\"}],\"histogram2d\":[{\"colorbar\":{\"outlinewidth\":0,\"ticks\":\"\"},\"colorscale\":[[0.0,\"#0d0887\"],[0.1111111111111111,\"#46039f\"],[0.2222222222222222,\"#7201a8\"],[0.3333333333333333,\"#9c179e\"],[0.4444444444444444,\"#bd3786\"],[0.5555555555555556,\"#d8576b\"],[0.6666666666666666,\"#ed7953\"],[0.7777777777777778,\"#fb9f3a\"],[0.8888888888888888,\"#fdca26\"],[1.0,\"#f0f921\"]],\"type\":\"histogram2d\"}],\"histogram2dcontour\":[{\"colorbar\":{\"outlinewidth\":0,\"ticks\":\"\"},\"colorscale\":[[0.0,\"#0d0887\"],[0.1111111111111111,\"#46039f\"],[0.2222222222222222,\"#7201a8\"],[0.3333333333333333,\"#9c179e\"],[0.4444444444444444,\"#bd3786\"],[0.5555555555555556,\"#d8576b\"],[0.6666666666666666,\"#ed7953\"],[0.7777777777777778,\"#fb9f3a\"],[0.8888888888888888,\"#fdca26\"],[1.0,\"#f0f921\"]],\"type\":\"histogram2dcontour\"}],\"mesh3d\":[{\"colorbar\":{\"outlinewidth\":0,\"ticks\":\"\"},\"type\":\"mesh3d\"}],\"parcoords\":[{\"line\":{\"colorbar\":{\"outlinewidth\":0,\"ticks\":\"\"}},\"type\":\"parcoords\"}],\"pie\":[{\"automargin\":true,\"type\":\"pie\"}],\"scatter\":[{\"marker\":{\"colorbar\":{\"outlinewidth\":0,\"ticks\":\"\"}},\"type\":\"scatter\"}],\"scatter3d\":[{\"line\":{\"colorbar\":{\"outlinewidth\":0,\"ticks\":\"\"}},\"marker\":{\"colorbar\":{\"outlinewidth\":0,\"ticks\":\"\"}},\"type\":\"scatter3d\"}],\"scattercarpet\":[{\"marker\":{\"colorbar\":{\"outlinewidth\":0,\"ticks\":\"\"}},\"type\":\"scattercarpet\"}],\"scattergeo\":[{\"marker\":{\"colorbar\":{\"outlinewidth\":0,\"ticks\":\"\"}},\"type\":\"scattergeo\"}],\"scattergl\":[{\"marker\":{\"colorbar\":{\"outlinewidth\":0,\"ticks\":\"\"}},\"type\":\"scattergl\"}],\"scattermapbox\":[{\"marker\":{\"colorbar\":{\"outlinewidth\":0,\"ticks\":\"\"}},\"type\":\"scattermapbox\"}],\"scatterpolar\":[{\"marker\":{\"colorbar\":{\"outlinewidth\":0,\"ticks\":\"\"}},\"type\":\"scatterpolar\"}],\"scatterpolargl\":[{\"marker\":{\"colorbar\":{\"outlinewidth\":0,\"ticks\":\"\"}},\"type\":\"scatterpolargl\"}],\"scatterternary\":[{\"marker\":{\"colorbar\":{\"outlinewidth\":0,\"ticks\":\"\"}},\"type\":\"scatterternary\"}],\"surface\":[{\"colorbar\":{\"outlinewidth\":0,\"ticks\":\"\"},\"colorscale\":[[0.0,\"#0d0887\"],[0.1111111111111111,\"#46039f\"],[0.2222222222222222,\"#7201a8\"],[0.3333333333333333,\"#9c179e\"],[0.4444444444444444,\"#bd3786\"],[0.5555555555555556,\"#d8576b\"],[0.6666666666666666,\"#ed7953\"],[0.7777777777777778,\"#fb9f3a\"],[0.8888888888888888,\"#fdca26\"],[1.0,\"#f0f921\"]],\"type\":\"surface\"}],\"table\":[{\"cells\":{\"fill\":{\"color\":\"#EBF0F8\"},\"line\":{\"color\":\"white\"}},\"header\":{\"fill\":{\"color\":\"#C8D4E3\"},\"line\":{\"color\":\"white\"}},\"type\":\"table\"}]},\"layout\":{\"annotationdefaults\":{\"arrowcolor\":\"#2a3f5f\",\"arrowhead\":0,\"arrowwidth\":1},\"autotypenumbers\":\"strict\",\"coloraxis\":{\"colorbar\":{\"outlinewidth\":0,\"ticks\":\"\"}},\"colorscale\":{\"diverging\":[[0,\"#8e0152\"],[0.1,\"#c51b7d\"],[0.2,\"#de77ae\"],[0.3,\"#f1b6da\"],[0.4,\"#fde0ef\"],[0.5,\"#f7f7f7\"],[0.6,\"#e6f5d0\"],[0.7,\"#b8e186\"],[0.8,\"#7fbc41\"],[0.9,\"#4d9221\"],[1,\"#276419\"]],\"sequential\":[[0.0,\"#0d0887\"],[0.1111111111111111,\"#46039f\"],[0.2222222222222222,\"#7201a8\"],[0.3333333333333333,\"#9c179e\"],[0.4444444444444444,\"#bd3786\"],[0.5555555555555556,\"#d8576b\"],[0.6666666666666666,\"#ed7953\"],[0.7777777777777778,\"#fb9f3a\"],[0.8888888888888888,\"#fdca26\"],[1.0,\"#f0f921\"]],\"sequentialminus\":[[0.0,\"#0d0887\"],[0.1111111111111111,\"#46039f\"],[0.2222222222222222,\"#7201a8\"],[0.3333333333333333,\"#9c179e\"],[0.4444444444444444,\"#bd3786\"],[0.5555555555555556,\"#d8576b\"],[0.6666666666666666,\"#ed7953\"],[0.7777777777777778,\"#fb9f3a\"],[0.8888888888888888,\"#fdca26\"],[1.0,\"#f0f921\"]]},\"colorway\":[\"#636efa\",\"#EF553B\",\"#00cc96\",\"#ab63fa\",\"#FFA15A\",\"#19d3f3\",\"#FF6692\",\"#B6E880\",\"#FF97FF\",\"#FECB52\"],\"font\":{\"color\":\"#2a3f5f\"},\"geo\":{\"bgcolor\":\"white\",\"lakecolor\":\"white\",\"landcolor\":\"#E5ECF6\",\"showlakes\":true,\"showland\":true,\"subunitcolor\":\"white\"},\"hoverlabel\":{\"align\":\"left\"},\"hovermode\":\"closest\",\"mapbox\":{\"style\":\"light\"},\"paper_bgcolor\":\"white\",\"plot_bgcolor\":\"#E5ECF6\",\"polar\":{\"angularaxis\":{\"gridcolor\":\"white\",\"linecolor\":\"white\",\"ticks\":\"\"},\"bgcolor\":\"#E5ECF6\",\"radialaxis\":{\"gridcolor\":\"white\",\"linecolor\":\"white\",\"ticks\":\"\"}},\"scene\":{\"xaxis\":{\"backgroundcolor\":\"#E5ECF6\",\"gridcolor\":\"white\",\"gridwidth\":2,\"linecolor\":\"white\",\"showbackground\":true,\"ticks\":\"\",\"zerolinecolor\":\"white\"},\"yaxis\":{\"backgroundcolor\":\"#E5ECF6\",\"gridcolor\":\"white\",\"gridwidth\":2,\"linecolor\":\"white\",\"showbackground\":true,\"ticks\":\"\",\"zerolinecolor\":\"white\"},\"zaxis\":{\"backgroundcolor\":\"#E5ECF6\",\"gridcolor\":\"white\",\"gridwidth\":2,\"linecolor\":\"white\",\"showbackground\":true,\"ticks\":\"\",\"zerolinecolor\":\"white\"}},\"shapedefaults\":{\"line\":{\"color\":\"#2a3f5f\"}},\"ternary\":{\"aaxis\":{\"gridcolor\":\"white\",\"linecolor\":\"white\",\"ticks\":\"\"},\"baxis\":{\"gridcolor\":\"white\",\"linecolor\":\"white\",\"ticks\":\"\"},\"bgcolor\":\"#E5ECF6\",\"caxis\":{\"gridcolor\":\"white\",\"linecolor\":\"white\",\"ticks\":\"\"}},\"title\":{\"x\":0.05},\"xaxis\":{\"automargin\":true,\"gridcolor\":\"white\",\"linecolor\":\"white\",\"ticks\":\"\",\"title\":{\"standoff\":15},\"zerolinecolor\":\"white\",\"zerolinewidth\":2},\"yaxis\":{\"automargin\":true,\"gridcolor\":\"white\",\"linecolor\":\"white\",\"ticks\":\"\",\"title\":{\"standoff\":15},\"zerolinecolor\":\"white\",\"zerolinewidth\":2}}},\"legend\":{\"tracegroupgap\":0},\"title\":{\"text\":\"Travel Insurance Customer by Age\"}},                        {\"responsive\": true}                    ).then(function(){\n",
       "                            \n",
       "var gd = document.getElementById('c267c81d-fcc8-463b-a57f-2b5971bb3854');\n",
       "var x = new MutationObserver(function (mutations, observer) {{\n",
       "        var display = window.getComputedStyle(gd).display;\n",
       "        if (!display || display === 'none') {{\n",
       "            console.log([gd, 'removed!']);\n",
       "            Plotly.purge(gd);\n",
       "            observer.disconnect();\n",
       "        }}\n",
       "}});\n",
       "\n",
       "// Listen for the removal of the full notebook cells\n",
       "var notebookContainer = gd.closest('#notebook-container');\n",
       "if (notebookContainer) {{\n",
       "    x.observe(notebookContainer, {childList: true});\n",
       "}}\n",
       "\n",
       "// Listen for the clearing of the current output cell\n",
       "var outputEl = gd.closest('.output');\n",
       "if (outputEl) {{\n",
       "    x.observe(outputEl, {childList: true});\n",
       "}}\n",
       "\n",
       "                        })                };                });            </script>        </div>"
      ]
     },
     "metadata": {},
     "output_type": "display_data"
    }
   ],
   "source": [
    "import plotly.express as px\n",
    "\n",
    "fig=px.pie(df,names='Age',title='Travel Insurance Customer by Age',hole=0.1)\n",
    "fig"
   ]
  },
  {
   "cell_type": "code",
   "execution_count": 19,
   "metadata": {
    "ExecuteTime": {
     "end_time": "2022-04-30T04:41:33.886142Z",
     "start_time": "2022-04-30T04:41:33.148107Z"
    }
   },
   "outputs": [],
   "source": [
    "fig.write_html(\"../images/ins_pie.html\")"
   ]
  },
  {
   "cell_type": "markdown",
   "metadata": {},
   "source": [
    "## Data preprocessing"
   ]
  },
  {
   "cell_type": "code",
   "execution_count": 83,
   "metadata": {},
   "outputs": [],
   "source": [
    "df_binary_encoded = pd.get_dummies(df)"
   ]
  },
  {
   "cell_type": "code",
   "execution_count": 84,
   "metadata": {},
   "outputs": [
    {
     "data": {
      "text/html": [
       "<div>\n",
       "<style scoped>\n",
       "    .dataframe tbody tr th:only-of-type {\n",
       "        vertical-align: middle;\n",
       "    }\n",
       "\n",
       "    .dataframe tbody tr th {\n",
       "        vertical-align: top;\n",
       "    }\n",
       "\n",
       "    .dataframe thead th {\n",
       "        text-align: right;\n",
       "    }\n",
       "</style>\n",
       "<table border=\"1\" class=\"dataframe\">\n",
       "  <thead>\n",
       "    <tr style=\"text-align: right;\">\n",
       "      <th></th>\n",
       "      <th>Age</th>\n",
       "      <th>AnnualIncome</th>\n",
       "      <th>FamilyMembers</th>\n",
       "      <th>ChronicDiseases</th>\n",
       "      <th>TravelInsurance</th>\n",
       "      <th>Employment Type_Government Sector</th>\n",
       "      <th>GraduateOrNot_Yes</th>\n",
       "      <th>FrequentFlyer_Yes</th>\n",
       "      <th>EverTravelledAbroad_Yes</th>\n",
       "    </tr>\n",
       "  </thead>\n",
       "  <tbody>\n",
       "    <tr>\n",
       "      <th>0</th>\n",
       "      <td>31</td>\n",
       "      <td>400000</td>\n",
       "      <td>6</td>\n",
       "      <td>1</td>\n",
       "      <td>0</td>\n",
       "      <td>1</td>\n",
       "      <td>1</td>\n",
       "      <td>0</td>\n",
       "      <td>0</td>\n",
       "    </tr>\n",
       "    <tr>\n",
       "      <th>1</th>\n",
       "      <td>31</td>\n",
       "      <td>1250000</td>\n",
       "      <td>7</td>\n",
       "      <td>0</td>\n",
       "      <td>0</td>\n",
       "      <td>0</td>\n",
       "      <td>1</td>\n",
       "      <td>0</td>\n",
       "      <td>0</td>\n",
       "    </tr>\n",
       "    <tr>\n",
       "      <th>2</th>\n",
       "      <td>34</td>\n",
       "      <td>500000</td>\n",
       "      <td>4</td>\n",
       "      <td>1</td>\n",
       "      <td>1</td>\n",
       "      <td>0</td>\n",
       "      <td>1</td>\n",
       "      <td>0</td>\n",
       "      <td>0</td>\n",
       "    </tr>\n",
       "    <tr>\n",
       "      <th>3</th>\n",
       "      <td>28</td>\n",
       "      <td>700000</td>\n",
       "      <td>3</td>\n",
       "      <td>1</td>\n",
       "      <td>0</td>\n",
       "      <td>0</td>\n",
       "      <td>1</td>\n",
       "      <td>0</td>\n",
       "      <td>0</td>\n",
       "    </tr>\n",
       "    <tr>\n",
       "      <th>4</th>\n",
       "      <td>28</td>\n",
       "      <td>700000</td>\n",
       "      <td>8</td>\n",
       "      <td>1</td>\n",
       "      <td>0</td>\n",
       "      <td>0</td>\n",
       "      <td>1</td>\n",
       "      <td>1</td>\n",
       "      <td>0</td>\n",
       "    </tr>\n",
       "    <tr>\n",
       "      <th>...</th>\n",
       "      <td>...</td>\n",
       "      <td>...</td>\n",
       "      <td>...</td>\n",
       "      <td>...</td>\n",
       "      <td>...</td>\n",
       "      <td>...</td>\n",
       "      <td>...</td>\n",
       "      <td>...</td>\n",
       "      <td>...</td>\n",
       "    </tr>\n",
       "    <tr>\n",
       "      <th>1982</th>\n",
       "      <td>33</td>\n",
       "      <td>1500000</td>\n",
       "      <td>4</td>\n",
       "      <td>0</td>\n",
       "      <td>1</td>\n",
       "      <td>0</td>\n",
       "      <td>1</td>\n",
       "      <td>1</td>\n",
       "      <td>1</td>\n",
       "    </tr>\n",
       "    <tr>\n",
       "      <th>1983</th>\n",
       "      <td>28</td>\n",
       "      <td>1750000</td>\n",
       "      <td>5</td>\n",
       "      <td>1</td>\n",
       "      <td>0</td>\n",
       "      <td>0</td>\n",
       "      <td>1</td>\n",
       "      <td>0</td>\n",
       "      <td>1</td>\n",
       "    </tr>\n",
       "    <tr>\n",
       "      <th>1984</th>\n",
       "      <td>28</td>\n",
       "      <td>1150000</td>\n",
       "      <td>6</td>\n",
       "      <td>1</td>\n",
       "      <td>0</td>\n",
       "      <td>0</td>\n",
       "      <td>1</td>\n",
       "      <td>0</td>\n",
       "      <td>0</td>\n",
       "    </tr>\n",
       "    <tr>\n",
       "      <th>1985</th>\n",
       "      <td>34</td>\n",
       "      <td>1000000</td>\n",
       "      <td>6</td>\n",
       "      <td>0</td>\n",
       "      <td>1</td>\n",
       "      <td>0</td>\n",
       "      <td>1</td>\n",
       "      <td>1</td>\n",
       "      <td>1</td>\n",
       "    </tr>\n",
       "    <tr>\n",
       "      <th>1986</th>\n",
       "      <td>34</td>\n",
       "      <td>500000</td>\n",
       "      <td>4</td>\n",
       "      <td>0</td>\n",
       "      <td>0</td>\n",
       "      <td>0</td>\n",
       "      <td>1</td>\n",
       "      <td>0</td>\n",
       "      <td>0</td>\n",
       "    </tr>\n",
       "  </tbody>\n",
       "</table>\n",
       "<p>1987 rows × 9 columns</p>\n",
       "</div>"
      ],
      "text/plain": [
       "      Age  AnnualIncome  FamilyMembers  ChronicDiseases  TravelInsurance  \\\n",
       "0      31        400000              6                1                0   \n",
       "1      31       1250000              7                0                0   \n",
       "2      34        500000              4                1                1   \n",
       "3      28        700000              3                1                0   \n",
       "4      28        700000              8                1                0   \n",
       "...   ...           ...            ...              ...              ...   \n",
       "1982   33       1500000              4                0                1   \n",
       "1983   28       1750000              5                1                0   \n",
       "1984   28       1150000              6                1                0   \n",
       "1985   34       1000000              6                0                1   \n",
       "1986   34        500000              4                0                0   \n",
       "\n",
       "      Employment Type_Government Sector  GraduateOrNot_Yes  FrequentFlyer_Yes  \\\n",
       "0                                     1                  1                  0   \n",
       "1                                     0                  1                  0   \n",
       "2                                     0                  1                  0   \n",
       "3                                     0                  1                  0   \n",
       "4                                     0                  1                  1   \n",
       "...                                 ...                ...                ...   \n",
       "1982                                  0                  1                  1   \n",
       "1983                                  0                  1                  0   \n",
       "1984                                  0                  1                  0   \n",
       "1985                                  0                  1                  1   \n",
       "1986                                  0                  1                  0   \n",
       "\n",
       "      EverTravelledAbroad_Yes  \n",
       "0                           0  \n",
       "1                           0  \n",
       "2                           0  \n",
       "3                           0  \n",
       "4                           0  \n",
       "...                       ...  \n",
       "1982                        1  \n",
       "1983                        1  \n",
       "1984                        0  \n",
       "1985                        1  \n",
       "1986                        0  \n",
       "\n",
       "[1987 rows x 9 columns]"
      ]
     },
     "execution_count": 84,
     "metadata": {},
     "output_type": "execute_result"
    }
   ],
   "source": [
    "# Drop unecessary columns\n",
    "cleaned_df = df_binary_encoded.drop([\"Employment Type_Private Sector/Self Employed\",\"GraduateOrNot_No\",\"FrequentFlyer_No\",\"EverTravelledAbroad_No\"], axis = 1)\n",
    "cleaned_df"
   ]
  },
  {
   "cell_type": "code",
   "execution_count": 85,
   "metadata": {},
   "outputs": [],
   "source": [
    "X = cleaned_df.drop([\"TravelInsurance\"], axis = 1)\n",
    "y = cleaned_df[\"TravelInsurance\"]"
   ]
  },
  {
   "cell_type": "code",
   "execution_count": 86,
   "metadata": {},
   "outputs": [],
   "source": [
    "from sklearn.model_selection import train_test_split\n",
    "X_train, X_test, y_train, y_test = train_test_split(X, y, random_state=42)"
   ]
  },
  {
   "cell_type": "markdown",
   "metadata": {},
   "source": [
    "## Tuning and trainning model"
   ]
  },
  {
   "cell_type": "code",
   "execution_count": 87,
   "metadata": {},
   "outputs": [
    {
     "name": "stdout",
     "output_type": "stream",
     "text": [
      "k: 1, Train/Test Score: 0.915/0.744\n",
      "k: 3, Train/Test Score: 0.870/0.793\n",
      "k: 5, Train/Test Score: 0.845/0.817\n",
      "k: 7, Train/Test Score: 0.833/0.829\n",
      "k: 9, Train/Test Score: 0.828/0.821\n",
      "k: 11, Train/Test Score: 0.822/0.815\n",
      "k: 13, Train/Test Score: 0.815/0.815\n",
      "k: 15, Train/Test Score: 0.813/0.805\n",
      "k: 17, Train/Test Score: 0.809/0.805\n",
      "k: 19, Train/Test Score: 0.806/0.799\n"
     ]
    },
    {
     "data": {
      "image/png": "[encoded data removed]",
      "text/plain": [
       "<Figure size 432x288 with 1 Axes>"
      ]
     },
     "metadata": {
      "needs_background": "light"
     },
     "output_type": "display_data"
    }
   ],
   "source": [
    "from sklearn.neighbors import KNeighborsClassifier\n",
    "train_scores = []\n",
    "test_scores = []\n",
    "for k in range(1,20,2):\n",
    "    knn = KNeighborsClassifier(n_neighbors=k)\n",
    "    knn.fit(X_train,y_train)\n",
    "    train_score = knn.score(X_train, y_train)\n",
    "    test_score = knn.score(X_test, y_test)\n",
    "    train_scores.append(train_score)\n",
    "    test_scores.append(test_score)\n",
    "    print(f\"k: {k}, Train/Test Score: {train_score:.3f}/{test_score:.3f}\")\n",
    "    \n",
    "    \n",
    "plt.plot(range(1, 20, 2), train_scores, marker='o')\n",
    "plt.plot(range(1, 20, 2), test_scores, marker=\"x\")\n",
    "plt.xlabel(\"k neighbors\")\n",
    "plt.ylabel(\"Testing accuracy Score\")\n",
    "plt.show()"
   ]
  },
  {
   "cell_type": "markdown",
   "metadata": {},
   "source": [
    "## Validate model"
   ]
  },
  {
   "cell_type": "code",
   "execution_count": 88,
   "metadata": {},
   "outputs": [
    {
     "data": {
      "text/plain": [
       "KNeighborsClassifier(n_neighbors=7)"
      ]
     },
     "execution_count": 88,
     "metadata": {},
     "output_type": "execute_result"
    }
   ],
   "source": [
    "# select optimal k\n",
    "knn = KNeighborsClassifier(n_neighbors = 7)\n",
    "knn.fit(X_train,y_train)"
   ]
  },
  {
   "cell_type": "code",
   "execution_count": 89,
   "metadata": {},
   "outputs": [
    {
     "name": "stdout",
     "output_type": "stream",
     "text": [
      "              precision    recall  f1-score   support\n",
      "\n",
      "          No       0.81      0.96      0.88       321\n",
      "         Yes       0.88      0.60      0.71       176\n",
      "\n",
      "    accuracy                           0.83       497\n",
      "   macro avg       0.85      0.78      0.80       497\n",
      "weighted avg       0.84      0.83      0.82       497\n",
      "\n"
     ]
    }
   ],
   "source": [
    "predictions = knn.predict(X_test)\n",
    "\n",
    "# summary report\n",
    "from sklearn.metrics import classification_report\n",
    "print(classification_report(y_test, predictions,\n",
    "                    target_names=[\"No\", \"Yes\"]))"
   ]
  },
  {
   "cell_type": "markdown",
   "metadata": {},
   "source": [
    "## Saving model"
   ]
  },
  {
   "cell_type": "code",
   "execution_count": 90,
   "metadata": {},
   "outputs": [],
   "source": [
    "# Create pickle file\n",
    "file = open('../models/KNNmodel_travel_insurance_prediction', 'wb') \n",
    "\n",
    "# Save the trained model to file\n",
    "import pickle\n",
    "pickle.dump(knn, file)\n",
    "file.close()\n"
   ]
  },
  {
   "cell_type": "markdown",
   "metadata": {},
   "source": [
    "## Prediction"
   ]
  },
  {
   "cell_type": "code",
   "execution_count": 91,
   "metadata": {},
   "outputs": [],
   "source": [
    "# load the model from disk using pickle\n",
    "loaded_model = pickle.load(open('../models/KNNmodel_travel_insurance_prediction', 'rb'))"
   ]
  },
  {
   "cell_type": "code",
   "execution_count": 92,
   "metadata": {},
   "outputs": [
    {
     "data": {
      "text/plain": [
       "Index(['Age', 'AnnualIncome', 'FamilyMembers', 'ChronicDiseases',\n",
       "       'Employment Type_Government Sector', 'GraduateOrNot_Yes',\n",
       "       'FrequentFlyer_Yes', 'EverTravelledAbroad_Yes'],\n",
       "      dtype='object')"
      ]
     },
     "execution_count": 92,
     "metadata": {},
     "output_type": "execute_result"
    }
   ],
   "source": [
    "# setup questions for user input\n",
    "feature_names = X.columns\n",
    "feature_names"
   ]
  },
  {
   "cell_type": "markdown",
   "metadata": {},
   "source": [
    "### 1. Select an item from X_test to check model accuracy"
   ]
  },
  {
   "cell_type": "code",
   "execution_count": 93,
   "metadata": {},
   "outputs": [
    {
     "data": {
      "text/html": [
       "<div>\n",
       "<style scoped>\n",
       "    .dataframe tbody tr th:only-of-type {\n",
       "        vertical-align: middle;\n",
       "    }\n",
       "\n",
       "    .dataframe tbody tr th {\n",
       "        vertical-align: top;\n",
       "    }\n",
       "\n",
       "    .dataframe thead th {\n",
       "        text-align: right;\n",
       "    }\n",
       "</style>\n",
       "<table border=\"1\" class=\"dataframe\">\n",
       "  <thead>\n",
       "    <tr style=\"text-align: right;\">\n",
       "      <th></th>\n",
       "      <th>Age</th>\n",
       "      <th>AnnualIncome</th>\n",
       "      <th>FamilyMembers</th>\n",
       "      <th>ChronicDiseases</th>\n",
       "      <th>Employment Type_Government Sector</th>\n",
       "      <th>GraduateOrNot_Yes</th>\n",
       "      <th>FrequentFlyer_Yes</th>\n",
       "      <th>EverTravelledAbroad_Yes</th>\n",
       "    </tr>\n",
       "  </thead>\n",
       "  <tbody>\n",
       "    <tr>\n",
       "      <th>212</th>\n",
       "      <td>28</td>\n",
       "      <td>750000</td>\n",
       "      <td>5</td>\n",
       "      <td>1</td>\n",
       "      <td>0</td>\n",
       "      <td>1</td>\n",
       "      <td>0</td>\n",
       "      <td>0</td>\n",
       "    </tr>\n",
       "    <tr>\n",
       "      <th>1517</th>\n",
       "      <td>26</td>\n",
       "      <td>1400000</td>\n",
       "      <td>4</td>\n",
       "      <td>1</td>\n",
       "      <td>0</td>\n",
       "      <td>1</td>\n",
       "      <td>0</td>\n",
       "      <td>1</td>\n",
       "    </tr>\n",
       "    <tr>\n",
       "      <th>785</th>\n",
       "      <td>29</td>\n",
       "      <td>1200000</td>\n",
       "      <td>7</td>\n",
       "      <td>0</td>\n",
       "      <td>0</td>\n",
       "      <td>1</td>\n",
       "      <td>0</td>\n",
       "      <td>1</td>\n",
       "    </tr>\n",
       "    <tr>\n",
       "      <th>1175</th>\n",
       "      <td>33</td>\n",
       "      <td>400000</td>\n",
       "      <td>4</td>\n",
       "      <td>1</td>\n",
       "      <td>1</td>\n",
       "      <td>1</td>\n",
       "      <td>0</td>\n",
       "      <td>0</td>\n",
       "    </tr>\n",
       "    <tr>\n",
       "      <th>1760</th>\n",
       "      <td>34</td>\n",
       "      <td>1500000</td>\n",
       "      <td>3</td>\n",
       "      <td>0</td>\n",
       "      <td>0</td>\n",
       "      <td>1</td>\n",
       "      <td>1</td>\n",
       "      <td>1</td>\n",
       "    </tr>\n",
       "  </tbody>\n",
       "</table>\n",
       "</div>"
      ],
      "text/plain": [
       "      Age  AnnualIncome  FamilyMembers  ChronicDiseases  \\\n",
       "212    28        750000              5                1   \n",
       "1517   26       1400000              4                1   \n",
       "785    29       1200000              7                0   \n",
       "1175   33        400000              4                1   \n",
       "1760   34       1500000              3                0   \n",
       "\n",
       "      Employment Type_Government Sector  GraduateOrNot_Yes  FrequentFlyer_Yes  \\\n",
       "212                                   0                  1                  0   \n",
       "1517                                  0                  1                  0   \n",
       "785                                   0                  1                  0   \n",
       "1175                                  1                  1                  0   \n",
       "1760                                  0                  1                  1   \n",
       "\n",
       "      EverTravelledAbroad_Yes  \n",
       "212                         0  \n",
       "1517                        1  \n",
       "785                         1  \n",
       "1175                        0  \n",
       "1760                        1  "
      ]
     },
     "execution_count": 93,
     "metadata": {},
     "output_type": "execute_result"
    }
   ],
   "source": [
    "X_test.head()"
   ]
  },
  {
   "cell_type": "code",
   "execution_count": 94,
   "metadata": {},
   "outputs": [
    {
     "data": {
      "text/plain": [
       "212     0\n",
       "1517    1\n",
       "785     0\n",
       "1175    0\n",
       "1760    1\n",
       "Name: TravelInsurance, dtype: int64"
      ]
     },
     "execution_count": 94,
     "metadata": {},
     "output_type": "execute_result"
    }
   ],
   "source": [
    "y_test.head()"
   ]
  },
  {
   "cell_type": "code",
   "execution_count": 95,
   "metadata": {},
   "outputs": [
    {
     "data": {
      "text/html": [
       "<div>\n",
       "<style scoped>\n",
       "    .dataframe tbody tr th:only-of-type {\n",
       "        vertical-align: middle;\n",
       "    }\n",
       "\n",
       "    .dataframe tbody tr th {\n",
       "        vertical-align: top;\n",
       "    }\n",
       "\n",
       "    .dataframe thead th {\n",
       "        text-align: right;\n",
       "    }\n",
       "</style>\n",
       "<table border=\"1\" class=\"dataframe\">\n",
       "  <thead>\n",
       "    <tr style=\"text-align: right;\">\n",
       "      <th></th>\n",
       "      <th>Age</th>\n",
       "      <th>AnnualIncome</th>\n",
       "      <th>FamilyMembers</th>\n",
       "      <th>ChronicDiseases</th>\n",
       "      <th>Employment Type_Government Sector</th>\n",
       "      <th>GraduateOrNot_Yes</th>\n",
       "      <th>FrequentFlyer_Yes</th>\n",
       "      <th>EverTravelledAbroad_Yes</th>\n",
       "    </tr>\n",
       "  </thead>\n",
       "  <tbody>\n",
       "    <tr>\n",
       "      <th>1517</th>\n",
       "      <td>26</td>\n",
       "      <td>1400000</td>\n",
       "      <td>4</td>\n",
       "      <td>1</td>\n",
       "      <td>0</td>\n",
       "      <td>1</td>\n",
       "      <td>0</td>\n",
       "      <td>1</td>\n",
       "    </tr>\n",
       "  </tbody>\n",
       "</table>\n",
       "</div>"
      ],
      "text/plain": [
       "      Age  AnnualIncome  FamilyMembers  ChronicDiseases  \\\n",
       "1517   26       1400000              4                1   \n",
       "\n",
       "      Employment Type_Government Sector  GraduateOrNot_Yes  FrequentFlyer_Yes  \\\n",
       "1517                                  0                  1                  0   \n",
       "\n",
       "      EverTravelledAbroad_Yes  \n",
       "1517                        1  "
      ]
     },
     "execution_count": 95,
     "metadata": {},
     "output_type": "execute_result"
    }
   ],
   "source": [
    "test_individual = X_test.iloc[[1],:]\n",
    "test_individual"
   ]
  },
  {
   "cell_type": "code",
   "execution_count": 96,
   "metadata": {},
   "outputs": [
    {
     "data": {
      "text/plain": [
       "array([1], dtype=int64)"
      ]
     },
     "execution_count": 96,
     "metadata": {},
     "output_type": "execute_result"
    }
   ],
   "source": [
    "loaded_model.predict(test_individual)"
   ]
  },
  {
   "cell_type": "markdown",
   "metadata": {},
   "source": [
    "### 2. Set a standard user input"
   ]
  },
  {
   "cell_type": "code",
   "execution_count": 97,
   "metadata": {},
   "outputs": [],
   "source": [
    "sample_user_input = {\n",
    "    'Age':26, \n",
    "    'AnnualIncome':1400000,\n",
    "    'FamilyMembers':4,\n",
    "    'ChronicDiseases':\"Yes\",\n",
    "    'Employment Type':\"Private Sector/Self Employed\",\n",
    "    'GraduateOrNot': \"Yes\",\n",
    "    'FrequentFlyer': \"No\",\n",
    "    'EverTravelledAbroad': \"Yes\"\n",
    "    }\n",
    "# Note: Employment Type two choices:\n",
    "    #   1.\"Government Sector\"\n",
    "    #   2.\"Private Sector/Self Employed\""
   ]
  },
  {
   "cell_type": "code",
   "execution_count": 98,
   "metadata": {},
   "outputs": [
    {
     "data": {
      "text/plain": [
       "{'Age': None,\n",
       " 'AnnualIncome': None,\n",
       " 'FamilyMembers': None,\n",
       " 'ChronicDiseases': None,\n",
       " 'Employment Type_Government Sector': None,\n",
       " 'GraduateOrNot_Yes': None,\n",
       " 'FrequentFlyer_Yes': None,\n",
       " 'EverTravelledAbroad_Yes': None}"
      ]
     },
     "execution_count": 98,
     "metadata": {},
     "output_type": "execute_result"
    }
   ],
   "source": [
    "# setup required user input \n",
    "converted_user_input = dict.fromkeys(feature_names)\n",
    "converted_user_input"
   ]
  },
  {
   "cell_type": "markdown",
   "metadata": {},
   "source": [
    "### 3. Convert sample input to usable type"
   ]
  },
  {
   "cell_type": "code",
   "execution_count": 99,
   "metadata": {},
   "outputs": [
    {
     "data": {
      "text/plain": [
       "{'Age': 26,\n",
       " 'AnnualIncome': 1400000,\n",
       " 'FamilyMembers': 4,\n",
       " 'ChronicDiseases': 1,\n",
       " 'Employment Type_Government Sector': 0,\n",
       " 'GraduateOrNot_Yes': 1,\n",
       " 'FrequentFlyer_Yes': 0,\n",
       " 'EverTravelledAbroad_Yes': 1}"
      ]
     },
     "execution_count": 99,
     "metadata": {},
     "output_type": "execute_result"
    }
   ],
   "source": [
    "converted_user_input[\"Age\"] = sample_user_input[\"Age\"]\n",
    "converted_user_input[\"AnnualIncome\"] = sample_user_input[\"AnnualIncome\"]\n",
    "converted_user_input[\"FamilyMembers\"] = sample_user_input[\"FamilyMembers\"]\n",
    "\n",
    "if sample_user_input[\"ChronicDiseases\"] == \"Yes\":\n",
    "    converted_user_input[\"ChronicDiseases\"] = 1\n",
    "else:\n",
    "    converted_user_input[\"ChronicDiseases\"] = 0\n",
    "\n",
    "if sample_user_input[\"GraduateOrNot\"] == \"Yes\":\n",
    "    converted_user_input[\"GraduateOrNot_Yes\"] = 1\n",
    "else:\n",
    "    converted_user_input[\"GraduateOrNot_Yes\"] = 0\n",
    "\n",
    "if sample_user_input[\"FrequentFlyer\"] == \"Yes\":\n",
    "    converted_user_input[\"FrequentFlyer_Yes\"] = 1\n",
    "else:\n",
    "    converted_user_input[\"FrequentFlyer_Yes\"] = 0    \n",
    "\n",
    "if sample_user_input[\"EverTravelledAbroad\"] == \"Yes\":\n",
    "    converted_user_input[\"EverTravelledAbroad_Yes\"] = 1\n",
    "else:\n",
    "    converted_user_input[\"EverTravelledAbroad_Yes\"] = 0   \n",
    "\n",
    "if sample_user_input[\"Employment Type\"] == \"Government Sector\":\n",
    "    converted_user_input[\"Employment Type_Government Sector\"] = 1\n",
    "else:\n",
    "    converted_user_input[\"Employment Type_Government Sector\"] = 0  \n",
    "\n",
    "converted_user_input"
   ]
  },
  {
   "cell_type": "code",
   "execution_count": 100,
   "metadata": {},
   "outputs": [
    {
     "data": {
      "text/html": [
       "<div>\n",
       "<style scoped>\n",
       "    .dataframe tbody tr th:only-of-type {\n",
       "        vertical-align: middle;\n",
       "    }\n",
       "\n",
       "    .dataframe tbody tr th {\n",
       "        vertical-align: top;\n",
       "    }\n",
       "\n",
       "    .dataframe thead th {\n",
       "        text-align: right;\n",
       "    }\n",
       "</style>\n",
       "<table border=\"1\" class=\"dataframe\">\n",
       "  <thead>\n",
       "    <tr style=\"text-align: right;\">\n",
       "      <th></th>\n",
       "      <th>Age</th>\n",
       "      <th>AnnualIncome</th>\n",
       "      <th>FamilyMembers</th>\n",
       "      <th>ChronicDiseases</th>\n",
       "      <th>Employment Type_Government Sector</th>\n",
       "      <th>GraduateOrNot_Yes</th>\n",
       "      <th>FrequentFlyer_Yes</th>\n",
       "      <th>EverTravelledAbroad_Yes</th>\n",
       "    </tr>\n",
       "  </thead>\n",
       "  <tbody>\n",
       "    <tr>\n",
       "      <th>0</th>\n",
       "      <td>26</td>\n",
       "      <td>1400000</td>\n",
       "      <td>4</td>\n",
       "      <td>1</td>\n",
       "      <td>0</td>\n",
       "      <td>1</td>\n",
       "      <td>0</td>\n",
       "      <td>1</td>\n",
       "    </tr>\n",
       "  </tbody>\n",
       "</table>\n",
       "</div>"
      ],
      "text/plain": [
       "   Age  AnnualIncome  FamilyMembers  ChronicDiseases  \\\n",
       "0   26       1400000              4                1   \n",
       "\n",
       "   Employment Type_Government Sector  GraduateOrNot_Yes  FrequentFlyer_Yes  \\\n",
       "0                                  0                  1                  0   \n",
       "\n",
       "   EverTravelledAbroad_Yes  \n",
       "0                        1  "
      ]
     },
     "execution_count": 100,
     "metadata": {},
     "output_type": "execute_result"
    }
   ],
   "source": [
    "input_df = pd.DataFrame(converted_user_input,index=[0])\n",
    "input_df"
   ]
  },
  {
   "cell_type": "markdown",
   "metadata": {},
   "source": [
    "### 4. Prediction"
   ]
  },
  {
   "cell_type": "code",
   "execution_count": 101,
   "metadata": {},
   "outputs": [
    {
     "data": {
      "text/plain": [
       "array([1], dtype=int64)"
      ]
     },
     "execution_count": 101,
     "metadata": {},
     "output_type": "execute_result"
    }
   ],
   "source": [
    "prediction = loaded_model.predict(input_df)\n",
    "prediction"
   ]
  },
  {
   "cell_type": "code",
   "execution_count": 102,
   "metadata": {},
   "outputs": [
    {
     "name": "stdout",
     "output_type": "stream",
     "text": [
      "This customer may buy travel insurance!\n",
      "This customer may buy travel insurance!\n",
      "This customer may buy travel insurance!\n",
      "This customer may buy travel insurance!\n",
      "This customer may buy travel insurance!\n",
      "\n"
     ]
    }
   ],
   "source": [
    "if prediction == 0:\n",
    "    print(f\"This customer may NOT buy travel insurance!\\n\"*5)\n",
    "else:\n",
    "    print(f\"This customer may buy travel insurance!\\n\"*5)"
   ]
  }
 ],
 "metadata": {
  "interpreter": {
   "hash": "438308512471a1f928ce0cbee27d6bd148d5856c9990edc20f93d3e763c3a07b"
  },
  "kernelspec": {
   "display_name": "Python 3 (ipykernel)",
   "language": "python",
   "name": "python3"
  },
  "language_info": {
   "codemirror_mode": {
    "name": "ipython",
    "version": 3
   },
   "file_extension": ".py",
   "mimetype": "text/x-python",
   "name": "python",
   "nbconvert_exporter": "python",
   "pygments_lexer": "ipython3",
   "version": "3.9.7"
  }
 },
 "nbformat": 4,
 "nbformat_minor": 2
}
