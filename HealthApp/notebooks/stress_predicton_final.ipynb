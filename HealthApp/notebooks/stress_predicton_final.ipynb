{
 "cells": [
  {
   "cell_type": "code",
   "execution_count": 1,
   "id": "0cd59343",
   "metadata": {
    "ExecuteTime": {
     "end_time": "2022-04-17T09:15:28.705336Z",
     "start_time": "2022-04-17T09:15:26.887471Z"
    }
   },
   "outputs": [],
   "source": [
    "import matplotlib.pyplot as plt\n",
    "import numpy as np\n",
    "import pandas as pd\n",
    "import seaborn as sns\n",
    "import pickle \n",
    "\n",
    "import warnings\n",
    "warnings.filterwarnings(\"ignore\")"
   ]
  },
  {
   "cell_type": "code",
   "execution_count": 2,
   "id": "40c47385",
   "metadata": {
    "ExecuteTime": {
     "end_time": "2022-04-17T09:15:28.908461Z",
     "start_time": "2022-04-17T09:15:28.885457Z"
    }
   },
   "outputs": [
    {
     "data": {
      "text/html": [
       "<div>\n",
       "<style scoped>\n",
       "    .dataframe tbody tr th:only-of-type {\n",
       "        vertical-align: middle;\n",
       "    }\n",
       "\n",
       "    .dataframe tbody tr th {\n",
       "        vertical-align: top;\n",
       "    }\n",
       "\n",
       "    .dataframe thead th {\n",
       "        text-align: right;\n",
       "    }\n",
       "</style>\n",
       "<table border=\"1\" class=\"dataframe\">\n",
       "  <thead>\n",
       "    <tr style=\"text-align: right;\">\n",
       "      <th></th>\n",
       "      <th>Humidity</th>\n",
       "      <th>Temperature</th>\n",
       "      <th>Step count</th>\n",
       "      <th>Stress Level</th>\n",
       "    </tr>\n",
       "  </thead>\n",
       "  <tbody>\n",
       "    <tr>\n",
       "      <th>0</th>\n",
       "      <td>21.33</td>\n",
       "      <td>90.33</td>\n",
       "      <td>123</td>\n",
       "      <td>1</td>\n",
       "    </tr>\n",
       "    <tr>\n",
       "      <th>1</th>\n",
       "      <td>21.41</td>\n",
       "      <td>90.41</td>\n",
       "      <td>93</td>\n",
       "      <td>1</td>\n",
       "    </tr>\n",
       "    <tr>\n",
       "      <th>2</th>\n",
       "      <td>27.12</td>\n",
       "      <td>96.12</td>\n",
       "      <td>196</td>\n",
       "      <td>2</td>\n",
       "    </tr>\n",
       "    <tr>\n",
       "      <th>3</th>\n",
       "      <td>27.64</td>\n",
       "      <td>96.64</td>\n",
       "      <td>177</td>\n",
       "      <td>2</td>\n",
       "    </tr>\n",
       "    <tr>\n",
       "      <th>4</th>\n",
       "      <td>10.87</td>\n",
       "      <td>79.87</td>\n",
       "      <td>87</td>\n",
       "      <td>0</td>\n",
       "    </tr>\n",
       "  </tbody>\n",
       "</table>\n",
       "</div>"
      ],
      "text/plain": [
       "   Humidity  Temperature  Step count  Stress Level\n",
       "0     21.33        90.33         123             1\n",
       "1     21.41        90.41          93             1\n",
       "2     27.12        96.12         196             2\n",
       "3     27.64        96.64         177             2\n",
       "4     10.87        79.87          87             0"
      ]
     },
     "execution_count": 2,
     "metadata": {},
     "output_type": "execute_result"
    }
   ],
   "source": [
    "df = pd.read_csv('data/Stress-Lysis.csv')\n",
    "df.head()"
   ]
  },
  {
   "cell_type": "markdown",
   "id": "479af8a4",
   "metadata": {},
   "source": [
    "## Preprocessing Data"
   ]
  },
  {
   "cell_type": "code",
   "execution_count": 3,
   "id": "6d7c6a49",
   "metadata": {
    "ExecuteTime": {
     "end_time": "2022-04-17T09:15:30.117630Z",
     "start_time": "2022-04-17T09:15:30.100627Z"
    }
   },
   "outputs": [
    {
     "data": {
      "text/plain": [
       "(2001, 4)"
      ]
     },
     "execution_count": 3,
     "metadata": {},
     "output_type": "execute_result"
    }
   ],
   "source": [
    "df.shape"
   ]
  },
  {
   "cell_type": "code",
   "execution_count": 4,
   "id": "ad69c61c",
   "metadata": {
    "ExecuteTime": {
     "end_time": "2022-04-17T09:15:30.681213Z",
     "start_time": "2022-04-17T09:15:30.671203Z"
    }
   },
   "outputs": [
    {
     "data": {
      "text/html": [
       "<div>\n",
       "<style scoped>\n",
       "    .dataframe tbody tr th:only-of-type {\n",
       "        vertical-align: middle;\n",
       "    }\n",
       "\n",
       "    .dataframe tbody tr th {\n",
       "        vertical-align: top;\n",
       "    }\n",
       "\n",
       "    .dataframe thead th {\n",
       "        text-align: right;\n",
       "    }\n",
       "</style>\n",
       "<table border=\"1\" class=\"dataframe\">\n",
       "  <thead>\n",
       "    <tr style=\"text-align: right;\">\n",
       "      <th></th>\n",
       "      <th>Humidity</th>\n",
       "      <th>Temperature</th>\n",
       "      <th>Step count</th>\n",
       "      <th>Stress Level</th>\n",
       "    </tr>\n",
       "  </thead>\n",
       "  <tbody>\n",
       "  </tbody>\n",
       "</table>\n",
       "</div>"
      ],
      "text/plain": [
       "Empty DataFrame\n",
       "Columns: [Humidity, Temperature, Step count, Stress Level]\n",
       "Index: []"
      ]
     },
     "execution_count": 4,
     "metadata": {},
     "output_type": "execute_result"
    }
   ],
   "source": [
    "df[df.isnull().any(axis=1)]"
   ]
  },
  {
   "cell_type": "code",
   "execution_count": 5,
   "id": "1afc8f96",
   "metadata": {
    "ExecuteTime": {
     "end_time": "2022-04-17T09:15:32.787550Z",
     "start_time": "2022-04-17T09:15:32.492665Z"
    }
   },
   "outputs": [
    {
     "data": {
      "text/plain": [
       "<AxesSubplot:>"
      ]
     },
     "execution_count": 5,
     "metadata": {},
     "output_type": "execute_result"
    },
    {
     "data": {
      "image/png": "[encoded data removed]",
      "text/plain": [
       "<Figure size 432x288 with 2 Axes>"
      ]
     },
     "metadata": {
      "needs_background": "light"
     },
     "output_type": "display_data"
    }
   ],
   "source": [
    "sns.heatmap(df.isnull(), cmap='viridis')"
   ]
  },
  {
   "cell_type": "code",
   "execution_count": 6,
   "id": "ea12ab41",
   "metadata": {
    "ExecuteTime": {
     "end_time": "2022-04-17T09:15:33.437868Z",
     "start_time": "2022-04-17T09:15:33.348850Z"
    }
   },
   "outputs": [
    {
     "data": {
      "image/png": "[encoded data removed]",
      "text/plain": [
       "<Figure size 432x288 with 1 Axes>"
      ]
     },
     "metadata": {
      "needs_background": "light"
     },
     "output_type": "display_data"
    }
   ],
   "source": [
    "#lets check count of Stress\n",
    "sns.countplot(df[\"Stress Level\"])\n",
    "plt.show()"
   ]
  },
  {
   "cell_type": "code",
   "execution_count": 7,
   "id": "aa4089c4",
   "metadata": {
    "ExecuteTime": {
     "end_time": "2022-04-17T09:15:35.150681Z",
     "start_time": "2022-04-17T09:15:35.142689Z"
    }
   },
   "outputs": [
    {
     "name": "stdout",
     "output_type": "stream",
     "text": [
      "              Humidity  Temperature  Step count  Stress Level\n",
      "Humidity      1.000000     1.000000    0.870486      0.936036\n",
      "Temperature   1.000000     1.000000    0.870486      0.936036\n",
      "Step count    0.870486     0.870486    1.000000      0.832623\n",
      "Stress Level  0.936036     0.936036    0.832623      1.000000\n"
     ]
    }
   ],
   "source": [
    "# Compute the correlation matrix\n",
    "corr = df.corr()\n",
    "print(corr)"
   ]
  },
  {
   "cell_type": "code",
   "execution_count": 8,
   "id": "8b4a177d",
   "metadata": {
    "ExecuteTime": {
     "end_time": "2022-04-17T09:15:35.726782Z",
     "start_time": "2022-04-17T09:15:35.702784Z"
    }
   },
   "outputs": [
    {
     "data": {
      "text/html": [
       "<div>\n",
       "<style scoped>\n",
       "    .dataframe tbody tr th:only-of-type {\n",
       "        vertical-align: middle;\n",
       "    }\n",
       "\n",
       "    .dataframe tbody tr th {\n",
       "        vertical-align: top;\n",
       "    }\n",
       "\n",
       "    .dataframe thead th {\n",
       "        text-align: right;\n",
       "    }\n",
       "</style>\n",
       "<table border=\"1\" class=\"dataframe\">\n",
       "  <thead>\n",
       "    <tr style=\"text-align: right;\">\n",
       "      <th></th>\n",
       "      <th>Humidity</th>\n",
       "      <th>Temperature</th>\n",
       "      <th>Step count</th>\n",
       "      <th>Stress Level</th>\n",
       "    </tr>\n",
       "  </thead>\n",
       "  <tbody>\n",
       "    <tr>\n",
       "      <th>count</th>\n",
       "      <td>2001.000000</td>\n",
       "      <td>2001.000000</td>\n",
       "      <td>2001.000000</td>\n",
       "      <td>2001.000000</td>\n",
       "    </tr>\n",
       "    <tr>\n",
       "      <th>mean</th>\n",
       "      <td>20.000000</td>\n",
       "      <td>89.000000</td>\n",
       "      <td>100.141429</td>\n",
       "      <td>1.104448</td>\n",
       "    </tr>\n",
       "    <tr>\n",
       "      <th>std</th>\n",
       "      <td>5.777833</td>\n",
       "      <td>5.777833</td>\n",
       "      <td>58.182948</td>\n",
       "      <td>0.771094</td>\n",
       "    </tr>\n",
       "    <tr>\n",
       "      <th>min</th>\n",
       "      <td>10.000000</td>\n",
       "      <td>79.000000</td>\n",
       "      <td>0.000000</td>\n",
       "      <td>0.000000</td>\n",
       "    </tr>\n",
       "    <tr>\n",
       "      <th>25%</th>\n",
       "      <td>15.000000</td>\n",
       "      <td>84.000000</td>\n",
       "      <td>50.000000</td>\n",
       "      <td>0.000000</td>\n",
       "    </tr>\n",
       "    <tr>\n",
       "      <th>50%</th>\n",
       "      <td>20.000000</td>\n",
       "      <td>89.000000</td>\n",
       "      <td>101.000000</td>\n",
       "      <td>1.000000</td>\n",
       "    </tr>\n",
       "    <tr>\n",
       "      <th>75%</th>\n",
       "      <td>25.000000</td>\n",
       "      <td>94.000000</td>\n",
       "      <td>150.000000</td>\n",
       "      <td>2.000000</td>\n",
       "    </tr>\n",
       "    <tr>\n",
       "      <th>max</th>\n",
       "      <td>30.000000</td>\n",
       "      <td>99.000000</td>\n",
       "      <td>200.000000</td>\n",
       "      <td>2.000000</td>\n",
       "    </tr>\n",
       "  </tbody>\n",
       "</table>\n",
       "</div>"
      ],
      "text/plain": [
       "          Humidity  Temperature   Step count  Stress Level\n",
       "count  2001.000000  2001.000000  2001.000000   2001.000000\n",
       "mean     20.000000    89.000000   100.141429      1.104448\n",
       "std       5.777833     5.777833    58.182948      0.771094\n",
       "min      10.000000    79.000000     0.000000      0.000000\n",
       "25%      15.000000    84.000000    50.000000      0.000000\n",
       "50%      20.000000    89.000000   101.000000      1.000000\n",
       "75%      25.000000    94.000000   150.000000      2.000000\n",
       "max      30.000000    99.000000   200.000000      2.000000"
      ]
     },
     "execution_count": 8,
     "metadata": {},
     "output_type": "execute_result"
    }
   ],
   "source": [
    "df.describe()"
   ]
  },
  {
   "cell_type": "code",
   "execution_count": 9,
   "id": "e43fc995",
   "metadata": {
    "ExecuteTime": {
     "end_time": "2022-04-17T09:15:37.504742Z",
     "start_time": "2022-04-17T09:15:37.326411Z"
    }
   },
   "outputs": [
    {
     "data": {
      "text/plain": [
       "<AxesSubplot:>"
      ]
     },
     "execution_count": 9,
     "metadata": {},
     "output_type": "execute_result"
    },
    {
     "data": {
      "image/png": "[encoded data removed]",
      "text/plain": [
       "<Figure size 864x864 with 2 Axes>"
      ]
     },
     "metadata": {},
     "output_type": "display_data"
    }
   ],
   "source": [
    "# Generate a mask for the upper triangle\n",
    "sns.set(style=\"white\")\n",
    "mask = np.zeros_like(corr, dtype=np.bool)\n",
    "mask[np.triu_indices_from(mask)] = True\n",
    "\n",
    "# Set up the matplotlib figure\n",
    "f, ax = plt.subplots(figsize=(12, 12))\n",
    "\n",
    "# Draw the heatmap with the mask and correct aspect ratio\n",
    "sns.heatmap(corr, mask=mask, cmap=\"jet\", vmax=.3, center=0, square=True, linewidths=.5, cbar_kws={\"shrink\": .5})"
   ]
  },
  {
   "cell_type": "code",
   "execution_count": 10,
   "id": "58da6e3f",
   "metadata": {
    "ExecuteTime": {
     "end_time": "2022-04-17T09:15:38.117798Z",
     "start_time": "2022-04-17T09:15:38.098808Z"
    }
   },
   "outputs": [
    {
     "name": "stdout",
     "output_type": "stream",
     "text": [
      "(2001, 3) (2001,)\n"
     ]
    }
   ],
   "source": [
    "y = df[\"Stress Level\"]\n",
    "X = df.drop(columns=[\"Stress Level\"])\n",
    "print(X.shape, y.shape)"
   ]
  },
  {
   "cell_type": "markdown",
   "id": "cd0f3178",
   "metadata": {},
   "source": [
    "## Create KNN Classification model"
   ]
  },
  {
   "cell_type": "code",
   "execution_count": 11,
   "id": "49561edd",
   "metadata": {
    "ExecuteTime": {
     "end_time": "2022-04-17T09:15:39.973118Z",
     "start_time": "2022-04-17T09:15:39.767645Z"
    }
   },
   "outputs": [
    {
     "name": "stdout",
     "output_type": "stream",
     "text": [
      "(2001, 3) (2001,)\n"
     ]
    }
   ],
   "source": [
    "#  Split dataset into train & test components\n",
    "from sklearn.model_selection import train_test_split\n",
    "\n",
    "X_train, X_test, y_train, y_test = train_test_split(X, y, random_state=42)\n",
    "print(X.shape, y.shape)"
   ]
  },
  {
   "cell_type": "code",
   "execution_count": 12,
   "id": "710d930e",
   "metadata": {
    "ExecuteTime": {
     "end_time": "2022-04-17T09:15:40.583237Z",
     "start_time": "2022-04-17T09:15:40.572236Z"
    }
   },
   "outputs": [
    {
     "data": {
      "text/plain": [
       "501"
      ]
     },
     "execution_count": 12,
     "metadata": {},
     "output_type": "execute_result"
    }
   ],
   "source": [
    "# Scale dataset\n",
    "from sklearn.preprocessing import StandardScaler\n",
    "scaler = StandardScaler()\n",
    "X_train = scaler.fit_transform(X_train)\n",
    "X_test = scaler.transform(X_test)\n",
    "len(X_test)"
   ]
  },
  {
   "cell_type": "code",
   "execution_count": 13,
   "id": "b017e789",
   "metadata": {
    "ExecuteTime": {
     "end_time": "2022-04-17T09:15:42.553122Z",
     "start_time": "2022-04-17T09:15:42.438786Z"
    }
   },
   "outputs": [
    {
     "data": {
      "text/plain": [
       "KNeighborsClassifier()"
      ]
     },
     "execution_count": 13,
     "metadata": {},
     "output_type": "execute_result"
    }
   ],
   "source": [
    "# Use the KNN classifier to fit data:\n",
    "from sklearn.neighbors import KNeighborsClassifier\n",
    "classifier = KNeighborsClassifier(n_neighbors=5)\n",
    "clf= classifier.fit(X_train, y_train) \n",
    "clf"
   ]
  },
  {
   "cell_type": "code",
   "execution_count": 41,
   "id": "f09e8673",
   "metadata": {
    "ExecuteTime": {
     "end_time": "2022-04-17T09:22:57.549904Z",
     "start_time": "2022-04-17T09:22:57.534890Z"
    }
   },
   "outputs": [],
   "source": [
    "# Predict y data with classifier: \n",
    "y_predict = classifier.predict(X_test)\n"
   ]
  },
  {
   "cell_type": "code",
   "execution_count": 45,
   "id": "742f9624",
   "metadata": {
    "ExecuteTime": {
     "end_time": "2022-04-17T09:23:28.451107Z",
     "start_time": "2022-04-17T09:23:28.437104Z"
    }
   },
   "outputs": [
    {
     "name": "stdout",
     "output_type": "stream",
     "text": [
      "[[128   0   0]\n",
      " [  0 190   0]\n",
      " [  0   0 183]]\n",
      "\n",
      "The accuracy score is:  1.0\n"
     ]
    }
   ],
   "source": [
    "# Print training results: \n",
    "from sklearn.metrics import accuracy_score, classification_report, confusion_matrix\n",
    "print(confusion_matrix(y_test, y_predict))\n",
    "print(\"\\nThe accuracy score is: \", accuracy_score(y_test, y_predict))"
   ]
  },
  {
   "cell_type": "code",
   "execution_count": 46,
   "id": "48c254d2",
   "metadata": {
    "ExecuteTime": {
     "end_time": "2022-04-17T09:23:33.057920Z",
     "start_time": "2022-04-17T09:23:33.038916Z"
    }
   },
   "outputs": [
    {
     "name": "stdout",
     "output_type": "stream",
     "text": [
      "              precision    recall  f1-score   support\n",
      "\n",
      "           0       1.00      1.00      1.00       128\n",
      "           1       1.00      1.00      1.00       190\n",
      "           2       1.00      1.00      1.00       183\n",
      "\n",
      "    accuracy                           1.00       501\n",
      "   macro avg       1.00      1.00      1.00       501\n",
      "weighted avg       1.00      1.00      1.00       501\n",
      "\n"
     ]
    }
   ],
   "source": [
    "# Print classfication report\n",
    "print(classification_report(y_test, y_predict)) "
   ]
  },
  {
   "cell_type": "code",
   "execution_count": 21,
   "id": "2e91ae2f",
   "metadata": {
    "ExecuteTime": {
     "end_time": "2022-04-17T09:17:06.438201Z",
     "start_time": "2022-04-17T09:17:06.414725Z"
    }
   },
   "outputs": [],
   "source": [
    "# Create pickle file\n",
    "knnPickle = open('knn_stress_prediction', 'wb') \n",
    "\n",
    "# Save the trained model to file\n",
    "pickle.dump(clf, knnPickle)                      "
   ]
  },
  {
   "cell_type": "markdown",
   "id": "8a683690",
   "metadata": {},
   "source": [
    "## Load the model and apply new data from user input"
   ]
  },
  {
   "cell_type": "code",
   "execution_count": 47,
   "id": "1fcb8005",
   "metadata": {
    "ExecuteTime": {
     "end_time": "2022-04-17T09:27:50.711055Z",
     "start_time": "2022-04-17T09:27:50.696031Z"
    }
   },
   "outputs": [],
   "source": [
    "# load the model from disk using pickle\n",
    "loaded_model = pickle.load(open('knn_stress_prediction', 'rb'))"
   ]
  },
  {
   "cell_type": "code",
   "execution_count": 48,
   "id": "f6d6e039",
   "metadata": {
    "ExecuteTime": {
     "end_time": "2022-04-17T09:27:51.371032Z",
     "start_time": "2022-04-17T09:27:51.351043Z"
    }
   },
   "outputs": [
    {
     "data": {
      "text/html": [
       "<div>\n",
       "<style scoped>\n",
       "    .dataframe tbody tr th:only-of-type {\n",
       "        vertical-align: middle;\n",
       "    }\n",
       "\n",
       "    .dataframe tbody tr th {\n",
       "        vertical-align: top;\n",
       "    }\n",
       "\n",
       "    .dataframe thead th {\n",
       "        text-align: right;\n",
       "    }\n",
       "</style>\n",
       "<table border=\"1\" class=\"dataframe\">\n",
       "  <thead>\n",
       "    <tr style=\"text-align: right;\">\n",
       "      <th></th>\n",
       "      <th>Humidity</th>\n",
       "      <th>Temperature</th>\n",
       "      <th>Step count</th>\n",
       "    </tr>\n",
       "  </thead>\n",
       "  <tbody>\n",
       "    <tr>\n",
       "      <th>0</th>\n",
       "      <td>10</td>\n",
       "      <td>90</td>\n",
       "      <td>100</td>\n",
       "    </tr>\n",
       "  </tbody>\n",
       "</table>\n",
       "</div>"
      ],
      "text/plain": [
       "   Humidity  Temperature  Step count\n",
       "0        10           90         100"
      ]
     },
     "execution_count": 48,
     "metadata": {},
     "output_type": "execute_result"
    }
   ],
   "source": [
    "# Get user input\n",
    "user_input = {\"Humidity\": 10, \"Temperature\": 90, \"Step count\": 100 }\n",
    "user_input = pd.DataFrame(user_input, index=[0])\n",
    "user_input"
   ]
  },
  {
   "cell_type": "code",
   "execution_count": 49,
   "id": "10627b41",
   "metadata": {
    "ExecuteTime": {
     "end_time": "2022-04-17T09:27:52.025521Z",
     "start_time": "2022-04-17T09:27:52.006510Z"
    }
   },
   "outputs": [
    {
     "data": {
      "text/plain": [
       "array([[ 10,  90, 100]], dtype=int64)"
      ]
     },
     "execution_count": 49,
     "metadata": {},
     "output_type": "execute_result"
    }
   ],
   "source": [
    "# Reshape user_input data\n",
    "user_input = user_input.values.reshape(1, -1)\n",
    "user_input"
   ]
  },
  {
   "cell_type": "code",
   "execution_count": 50,
   "id": "d18c1f7e",
   "metadata": {
    "ExecuteTime": {
     "end_time": "2022-04-17T09:27:52.967008Z",
     "start_time": "2022-04-17T09:27:52.959006Z"
    }
   },
   "outputs": [
    {
     "data": {
      "text/plain": [
       "array([[-1.73036019,  0.17970597,  0.00768894]])"
      ]
     },
     "execution_count": 50,
     "metadata": {},
     "output_type": "execute_result"
    }
   ],
   "source": [
    "# Scaling user_input data\n",
    "new_data = scaler.transform(user_input)\n",
    "new_data"
   ]
  },
  {
   "cell_type": "code",
   "execution_count": 51,
   "id": "6a6327c3",
   "metadata": {
    "ExecuteTime": {
     "end_time": "2022-04-17T09:27:53.860454Z",
     "start_time": "2022-04-17T09:27:53.840036Z"
    }
   },
   "outputs": [
    {
     "data": {
      "text/plain": [
       "array([1], dtype=int64)"
      ]
     },
     "execution_count": 51,
     "metadata": {},
     "output_type": "execute_result"
    }
   ],
   "source": [
    "# Load the model and predict the outcome based on user_input data\n",
    "ML_guess = loaded_model.predict(new_data) \n",
    "ML_guess "
   ]
  },
  {
   "cell_type": "code",
   "execution_count": 52,
   "id": "a7a7f894",
   "metadata": {
    "ExecuteTime": {
     "end_time": "2022-04-17T09:27:54.624036Z",
     "start_time": "2022-04-17T09:27:54.615036Z"
    }
   },
   "outputs": [
    {
     "name": "stdout",
     "output_type": "stream",
     "text": [
      "Your stress level is:  1\n"
     ]
    }
   ],
   "source": [
    "# Print the outcome of ML prediction\n",
    "print(\"Your stress level is: \", *np.array(ML_guess))"
   ]
  },
  {
   "cell_type": "code",
   "execution_count": null,
   "id": "2fa601c6",
   "metadata": {},
   "outputs": [],
   "source": []
  }
 ],
 "metadata": {
  "kernelspec": {
   "display_name": "Python 3 (ipykernel)",
   "language": "python",
   "name": "python3"
  },
  "language_info": {
   "codemirror_mode": {
    "name": "ipython",
    "version": 3
   },
   "file_extension": ".py",
   "mimetype": "text/x-python",
   "name": "python",
   "nbconvert_exporter": "python",
   "pygments_lexer": "ipython3",
   "version": "3.9.7"
  }
 },
 "nbformat": 4,
 "nbformat_minor": 5
}
