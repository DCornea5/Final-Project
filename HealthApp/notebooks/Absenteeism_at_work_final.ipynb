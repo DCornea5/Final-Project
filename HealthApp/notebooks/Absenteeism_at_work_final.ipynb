{
 "cells": [
  {
   "cell_type": "code",
   "execution_count": 1,
   "id": "544d2111",
   "metadata": {
    "ExecuteTime": {
     "end_time": "2022-04-20T07:32:13.876211Z",
     "start_time": "2022-04-20T07:32:11.082166Z"
    }
   },
   "outputs": [],
   "source": [
    "# https://data.world/aaizemberg/absenteeismatwork/workspace/file?filename=Absenteeism_at_work.csv\n",
    "import matplotlib.pyplot as plt\n",
    "import plotly.express as px\n",
    "import numpy as np\n",
    "import pandas as pd\n",
    "import seaborn as sns\n",
    "import pickle \n",
    "\n",
    "import warnings\n",
    "warnings.filterwarnings(\"ignore\")"
   ]
  },
  {
   "cell_type": "code",
   "execution_count": 2,
   "id": "091f0b5a",
   "metadata": {
    "ExecuteTime": {
     "end_time": "2022-04-20T07:32:13.907219Z",
     "start_time": "2022-04-20T07:32:13.877214Z"
    }
   },
   "outputs": [
    {
     "data": {
      "text/html": [
       "<div>\n",
       "<style scoped>\n",
       "    .dataframe tbody tr th:only-of-type {\n",
       "        vertical-align: middle;\n",
       "    }\n",
       "\n",
       "    .dataframe tbody tr th {\n",
       "        vertical-align: top;\n",
       "    }\n",
       "\n",
       "    .dataframe thead th {\n",
       "        text-align: right;\n",
       "    }\n",
       "</style>\n",
       "<table border=\"1\" class=\"dataframe\">\n",
       "  <thead>\n",
       "    <tr style=\"text-align: right;\">\n",
       "      <th></th>\n",
       "      <th>ID</th>\n",
       "      <th>Reason for absence</th>\n",
       "      <th>Month of absence</th>\n",
       "      <th>Day of the week</th>\n",
       "      <th>Seasons</th>\n",
       "      <th>Transportation expense</th>\n",
       "      <th>Distance from Residence to Work</th>\n",
       "      <th>Service time</th>\n",
       "      <th>Age</th>\n",
       "      <th>Work load Average per day</th>\n",
       "      <th>...</th>\n",
       "      <th>Disciplinary failure</th>\n",
       "      <th>Education</th>\n",
       "      <th>Son</th>\n",
       "      <th>Social drinker</th>\n",
       "      <th>Social smoker</th>\n",
       "      <th>Pet</th>\n",
       "      <th>Weight</th>\n",
       "      <th>Height</th>\n",
       "      <th>Body mass index</th>\n",
       "      <th>Absenteeism time in hours</th>\n",
       "    </tr>\n",
       "  </thead>\n",
       "  <tbody>\n",
       "    <tr>\n",
       "      <th>0</th>\n",
       "      <td>11</td>\n",
       "      <td>26</td>\n",
       "      <td>7</td>\n",
       "      <td>3</td>\n",
       "      <td>1</td>\n",
       "      <td>289</td>\n",
       "      <td>36</td>\n",
       "      <td>13</td>\n",
       "      <td>33</td>\n",
       "      <td>239.554</td>\n",
       "      <td>...</td>\n",
       "      <td>0</td>\n",
       "      <td>1</td>\n",
       "      <td>2</td>\n",
       "      <td>1</td>\n",
       "      <td>0</td>\n",
       "      <td>1</td>\n",
       "      <td>90</td>\n",
       "      <td>172</td>\n",
       "      <td>30</td>\n",
       "      <td>4</td>\n",
       "    </tr>\n",
       "    <tr>\n",
       "      <th>1</th>\n",
       "      <td>36</td>\n",
       "      <td>0</td>\n",
       "      <td>7</td>\n",
       "      <td>3</td>\n",
       "      <td>1</td>\n",
       "      <td>118</td>\n",
       "      <td>13</td>\n",
       "      <td>18</td>\n",
       "      <td>50</td>\n",
       "      <td>239.554</td>\n",
       "      <td>...</td>\n",
       "      <td>1</td>\n",
       "      <td>1</td>\n",
       "      <td>1</td>\n",
       "      <td>1</td>\n",
       "      <td>0</td>\n",
       "      <td>0</td>\n",
       "      <td>98</td>\n",
       "      <td>178</td>\n",
       "      <td>31</td>\n",
       "      <td>0</td>\n",
       "    </tr>\n",
       "    <tr>\n",
       "      <th>2</th>\n",
       "      <td>3</td>\n",
       "      <td>23</td>\n",
       "      <td>7</td>\n",
       "      <td>4</td>\n",
       "      <td>1</td>\n",
       "      <td>179</td>\n",
       "      <td>51</td>\n",
       "      <td>18</td>\n",
       "      <td>38</td>\n",
       "      <td>239.554</td>\n",
       "      <td>...</td>\n",
       "      <td>0</td>\n",
       "      <td>1</td>\n",
       "      <td>0</td>\n",
       "      <td>1</td>\n",
       "      <td>0</td>\n",
       "      <td>0</td>\n",
       "      <td>89</td>\n",
       "      <td>170</td>\n",
       "      <td>31</td>\n",
       "      <td>2</td>\n",
       "    </tr>\n",
       "    <tr>\n",
       "      <th>3</th>\n",
       "      <td>7</td>\n",
       "      <td>7</td>\n",
       "      <td>7</td>\n",
       "      <td>5</td>\n",
       "      <td>1</td>\n",
       "      <td>279</td>\n",
       "      <td>5</td>\n",
       "      <td>14</td>\n",
       "      <td>39</td>\n",
       "      <td>239.554</td>\n",
       "      <td>...</td>\n",
       "      <td>0</td>\n",
       "      <td>1</td>\n",
       "      <td>2</td>\n",
       "      <td>1</td>\n",
       "      <td>1</td>\n",
       "      <td>0</td>\n",
       "      <td>68</td>\n",
       "      <td>168</td>\n",
       "      <td>24</td>\n",
       "      <td>4</td>\n",
       "    </tr>\n",
       "    <tr>\n",
       "      <th>4</th>\n",
       "      <td>11</td>\n",
       "      <td>23</td>\n",
       "      <td>7</td>\n",
       "      <td>5</td>\n",
       "      <td>1</td>\n",
       "      <td>289</td>\n",
       "      <td>36</td>\n",
       "      <td>13</td>\n",
       "      <td>33</td>\n",
       "      <td>239.554</td>\n",
       "      <td>...</td>\n",
       "      <td>0</td>\n",
       "      <td>1</td>\n",
       "      <td>2</td>\n",
       "      <td>1</td>\n",
       "      <td>0</td>\n",
       "      <td>1</td>\n",
       "      <td>90</td>\n",
       "      <td>172</td>\n",
       "      <td>30</td>\n",
       "      <td>2</td>\n",
       "    </tr>\n",
       "  </tbody>\n",
       "</table>\n",
       "<p>5 rows × 21 columns</p>\n",
       "</div>"
      ],
      "text/plain": [
       "   ID  Reason for absence  Month of absence  Day of the week  Seasons  \\\n",
       "0  11                  26                 7                3        1   \n",
       "1  36                   0                 7                3        1   \n",
       "2   3                  23                 7                4        1   \n",
       "3   7                   7                 7                5        1   \n",
       "4  11                  23                 7                5        1   \n",
       "\n",
       "   Transportation expense  Distance from Residence to Work  Service time  Age  \\\n",
       "0                     289                               36            13   33   \n",
       "1                     118                               13            18   50   \n",
       "2                     179                               51            18   38   \n",
       "3                     279                                5            14   39   \n",
       "4                     289                               36            13   33   \n",
       "\n",
       "   Work load Average per day  ...  Disciplinary failure  Education  Son  \\\n",
       "0                    239.554  ...                     0          1    2   \n",
       "1                    239.554  ...                     1          1    1   \n",
       "2                    239.554  ...                     0          1    0   \n",
       "3                    239.554  ...                     0          1    2   \n",
       "4                    239.554  ...                     0          1    2   \n",
       "\n",
       "   Social drinker  Social smoker  Pet  Weight  Height  Body mass index  \\\n",
       "0               1              0    1      90     172               30   \n",
       "1               1              0    0      98     178               31   \n",
       "2               1              0    0      89     170               31   \n",
       "3               1              1    0      68     168               24   \n",
       "4               1              0    1      90     172               30   \n",
       "\n",
       "   Absenteeism time in hours  \n",
       "0                          4  \n",
       "1                          0  \n",
       "2                          2  \n",
       "3                          4  \n",
       "4                          2  \n",
       "\n",
       "[5 rows x 21 columns]"
      ]
     },
     "execution_count": 2,
     "metadata": {},
     "output_type": "execute_result"
    }
   ],
   "source": [
    "# Read csv file and convert to dataframe\n",
    "data = pd.read_csv('../data/Absenteeism_at_work2.csv')\n",
    "data.head()"
   ]
  },
  {
   "cell_type": "code",
   "execution_count": 3,
   "id": "357b5f0b",
   "metadata": {
    "ExecuteTime": {
     "end_time": "2022-04-20T07:32:13.923224Z",
     "start_time": "2022-04-20T07:32:13.908221Z"
    }
   },
   "outputs": [
    {
     "data": {
      "text/plain": [
       "(740, 21)"
      ]
     },
     "execution_count": 3,
     "metadata": {},
     "output_type": "execute_result"
    }
   ],
   "source": [
    "data.shape"
   ]
  },
  {
   "cell_type": "code",
   "execution_count": 4,
   "id": "5a5e3192",
   "metadata": {
    "ExecuteTime": {
     "end_time": "2022-04-20T07:32:14.384089Z",
     "start_time": "2022-04-20T07:32:13.925226Z"
    }
   },
   "outputs": [
    {
     "data": {
      "text/plain": [
       "<AxesSubplot:>"
      ]
     },
     "execution_count": 4,
     "metadata": {},
     "output_type": "execute_result"
    },
    {
     "data": {
      "image/png": "[encoded data removed]",
      "text/plain": [
       "<Figure size 432x288 with 2 Axes>"
      ]
     },
     "metadata": {
      "needs_background": "light"
     },
     "output_type": "display_data"
    }
   ],
   "source": [
    "# Check for null value\n",
    "sns.heatmap(data.isnull(), cmap='viridis')"
   ]
  },
  {
   "cell_type": "markdown",
   "id": "77ad2f67",
   "metadata": {},
   "source": [
    "### Clean & Pre-processing data"
   ]
  },
  {
   "cell_type": "code",
   "execution_count": 29,
   "id": "df97d168",
   "metadata": {
    "ExecuteTime": {
     "end_time": "2022-04-20T07:39:45.147968Z",
     "start_time": "2022-04-20T07:39:45.122976Z"
    }
   },
   "outputs": [
    {
     "data": {
      "text/html": [
       "<div>\n",
       "<style scoped>\n",
       "    .dataframe tbody tr th:only-of-type {\n",
       "        vertical-align: middle;\n",
       "    }\n",
       "\n",
       "    .dataframe tbody tr th {\n",
       "        vertical-align: top;\n",
       "    }\n",
       "\n",
       "    .dataframe thead th {\n",
       "        text-align: right;\n",
       "    }\n",
       "</style>\n",
       "<table border=\"1\" class=\"dataframe\">\n",
       "  <thead>\n",
       "    <tr style=\"text-align: right;\">\n",
       "      <th></th>\n",
       "      <th>ID</th>\n",
       "      <th>Reasons</th>\n",
       "      <th>Month</th>\n",
       "      <th>DayNbr</th>\n",
       "      <th>Seasons</th>\n",
       "      <th>Travel_expense</th>\n",
       "      <th>Distance</th>\n",
       "      <th>Service_time</th>\n",
       "      <th>Age</th>\n",
       "      <th>Average_daily_workload</th>\n",
       "      <th>...</th>\n",
       "      <th>Discip_failures</th>\n",
       "      <th>Education</th>\n",
       "      <th>Son</th>\n",
       "      <th>Social_drinker</th>\n",
       "      <th>Social_smoker</th>\n",
       "      <th>Pet</th>\n",
       "      <th>Weight</th>\n",
       "      <th>Height</th>\n",
       "      <th>BMI</th>\n",
       "      <th>Total_hrs_absence</th>\n",
       "    </tr>\n",
       "  </thead>\n",
       "  <tbody>\n",
       "    <tr>\n",
       "      <th>0</th>\n",
       "      <td>11</td>\n",
       "      <td>26</td>\n",
       "      <td>7</td>\n",
       "      <td>3</td>\n",
       "      <td>1</td>\n",
       "      <td>289</td>\n",
       "      <td>36</td>\n",
       "      <td>13</td>\n",
       "      <td>33</td>\n",
       "      <td>239.554</td>\n",
       "      <td>...</td>\n",
       "      <td>0</td>\n",
       "      <td>1</td>\n",
       "      <td>2</td>\n",
       "      <td>1</td>\n",
       "      <td>0</td>\n",
       "      <td>1</td>\n",
       "      <td>90</td>\n",
       "      <td>172</td>\n",
       "      <td>30</td>\n",
       "      <td>4</td>\n",
       "    </tr>\n",
       "    <tr>\n",
       "      <th>1</th>\n",
       "      <td>36</td>\n",
       "      <td>0</td>\n",
       "      <td>7</td>\n",
       "      <td>3</td>\n",
       "      <td>1</td>\n",
       "      <td>118</td>\n",
       "      <td>13</td>\n",
       "      <td>18</td>\n",
       "      <td>50</td>\n",
       "      <td>239.554</td>\n",
       "      <td>...</td>\n",
       "      <td>1</td>\n",
       "      <td>1</td>\n",
       "      <td>1</td>\n",
       "      <td>1</td>\n",
       "      <td>0</td>\n",
       "      <td>0</td>\n",
       "      <td>98</td>\n",
       "      <td>178</td>\n",
       "      <td>31</td>\n",
       "      <td>0</td>\n",
       "    </tr>\n",
       "    <tr>\n",
       "      <th>2</th>\n",
       "      <td>3</td>\n",
       "      <td>23</td>\n",
       "      <td>7</td>\n",
       "      <td>4</td>\n",
       "      <td>1</td>\n",
       "      <td>179</td>\n",
       "      <td>51</td>\n",
       "      <td>18</td>\n",
       "      <td>38</td>\n",
       "      <td>239.554</td>\n",
       "      <td>...</td>\n",
       "      <td>0</td>\n",
       "      <td>1</td>\n",
       "      <td>0</td>\n",
       "      <td>1</td>\n",
       "      <td>0</td>\n",
       "      <td>0</td>\n",
       "      <td>89</td>\n",
       "      <td>170</td>\n",
       "      <td>31</td>\n",
       "      <td>2</td>\n",
       "    </tr>\n",
       "    <tr>\n",
       "      <th>3</th>\n",
       "      <td>7</td>\n",
       "      <td>7</td>\n",
       "      <td>7</td>\n",
       "      <td>5</td>\n",
       "      <td>1</td>\n",
       "      <td>279</td>\n",
       "      <td>5</td>\n",
       "      <td>14</td>\n",
       "      <td>39</td>\n",
       "      <td>239.554</td>\n",
       "      <td>...</td>\n",
       "      <td>0</td>\n",
       "      <td>1</td>\n",
       "      <td>2</td>\n",
       "      <td>1</td>\n",
       "      <td>1</td>\n",
       "      <td>0</td>\n",
       "      <td>68</td>\n",
       "      <td>168</td>\n",
       "      <td>24</td>\n",
       "      <td>4</td>\n",
       "    </tr>\n",
       "    <tr>\n",
       "      <th>4</th>\n",
       "      <td>11</td>\n",
       "      <td>23</td>\n",
       "      <td>7</td>\n",
       "      <td>5</td>\n",
       "      <td>1</td>\n",
       "      <td>289</td>\n",
       "      <td>36</td>\n",
       "      <td>13</td>\n",
       "      <td>33</td>\n",
       "      <td>239.554</td>\n",
       "      <td>...</td>\n",
       "      <td>0</td>\n",
       "      <td>1</td>\n",
       "      <td>2</td>\n",
       "      <td>1</td>\n",
       "      <td>0</td>\n",
       "      <td>1</td>\n",
       "      <td>90</td>\n",
       "      <td>172</td>\n",
       "      <td>30</td>\n",
       "      <td>2</td>\n",
       "    </tr>\n",
       "    <tr>\n",
       "      <th>...</th>\n",
       "      <td>...</td>\n",
       "      <td>...</td>\n",
       "      <td>...</td>\n",
       "      <td>...</td>\n",
       "      <td>...</td>\n",
       "      <td>...</td>\n",
       "      <td>...</td>\n",
       "      <td>...</td>\n",
       "      <td>...</td>\n",
       "      <td>...</td>\n",
       "      <td>...</td>\n",
       "      <td>...</td>\n",
       "      <td>...</td>\n",
       "      <td>...</td>\n",
       "      <td>...</td>\n",
       "      <td>...</td>\n",
       "      <td>...</td>\n",
       "      <td>...</td>\n",
       "      <td>...</td>\n",
       "      <td>...</td>\n",
       "      <td>...</td>\n",
       "    </tr>\n",
       "    <tr>\n",
       "      <th>735</th>\n",
       "      <td>11</td>\n",
       "      <td>14</td>\n",
       "      <td>7</td>\n",
       "      <td>3</td>\n",
       "      <td>1</td>\n",
       "      <td>289</td>\n",
       "      <td>36</td>\n",
       "      <td>13</td>\n",
       "      <td>33</td>\n",
       "      <td>264.604</td>\n",
       "      <td>...</td>\n",
       "      <td>0</td>\n",
       "      <td>1</td>\n",
       "      <td>2</td>\n",
       "      <td>1</td>\n",
       "      <td>0</td>\n",
       "      <td>1</td>\n",
       "      <td>90</td>\n",
       "      <td>172</td>\n",
       "      <td>30</td>\n",
       "      <td>8</td>\n",
       "    </tr>\n",
       "    <tr>\n",
       "      <th>736</th>\n",
       "      <td>1</td>\n",
       "      <td>11</td>\n",
       "      <td>7</td>\n",
       "      <td>3</td>\n",
       "      <td>1</td>\n",
       "      <td>235</td>\n",
       "      <td>11</td>\n",
       "      <td>14</td>\n",
       "      <td>37</td>\n",
       "      <td>264.604</td>\n",
       "      <td>...</td>\n",
       "      <td>0</td>\n",
       "      <td>3</td>\n",
       "      <td>1</td>\n",
       "      <td>0</td>\n",
       "      <td>0</td>\n",
       "      <td>1</td>\n",
       "      <td>88</td>\n",
       "      <td>172</td>\n",
       "      <td>29</td>\n",
       "      <td>4</td>\n",
       "    </tr>\n",
       "    <tr>\n",
       "      <th>737</th>\n",
       "      <td>4</td>\n",
       "      <td>0</td>\n",
       "      <td>0</td>\n",
       "      <td>3</td>\n",
       "      <td>1</td>\n",
       "      <td>118</td>\n",
       "      <td>14</td>\n",
       "      <td>13</td>\n",
       "      <td>40</td>\n",
       "      <td>271.219</td>\n",
       "      <td>...</td>\n",
       "      <td>0</td>\n",
       "      <td>1</td>\n",
       "      <td>1</td>\n",
       "      <td>1</td>\n",
       "      <td>0</td>\n",
       "      <td>8</td>\n",
       "      <td>98</td>\n",
       "      <td>170</td>\n",
       "      <td>34</td>\n",
       "      <td>0</td>\n",
       "    </tr>\n",
       "    <tr>\n",
       "      <th>738</th>\n",
       "      <td>8</td>\n",
       "      <td>0</td>\n",
       "      <td>0</td>\n",
       "      <td>4</td>\n",
       "      <td>2</td>\n",
       "      <td>231</td>\n",
       "      <td>35</td>\n",
       "      <td>14</td>\n",
       "      <td>39</td>\n",
       "      <td>271.219</td>\n",
       "      <td>...</td>\n",
       "      <td>0</td>\n",
       "      <td>1</td>\n",
       "      <td>2</td>\n",
       "      <td>1</td>\n",
       "      <td>0</td>\n",
       "      <td>2</td>\n",
       "      <td>100</td>\n",
       "      <td>170</td>\n",
       "      <td>35</td>\n",
       "      <td>0</td>\n",
       "    </tr>\n",
       "    <tr>\n",
       "      <th>739</th>\n",
       "      <td>35</td>\n",
       "      <td>0</td>\n",
       "      <td>0</td>\n",
       "      <td>6</td>\n",
       "      <td>3</td>\n",
       "      <td>179</td>\n",
       "      <td>45</td>\n",
       "      <td>14</td>\n",
       "      <td>53</td>\n",
       "      <td>271.219</td>\n",
       "      <td>...</td>\n",
       "      <td>0</td>\n",
       "      <td>1</td>\n",
       "      <td>1</td>\n",
       "      <td>0</td>\n",
       "      <td>0</td>\n",
       "      <td>1</td>\n",
       "      <td>77</td>\n",
       "      <td>175</td>\n",
       "      <td>25</td>\n",
       "      <td>0</td>\n",
       "    </tr>\n",
       "  </tbody>\n",
       "</table>\n",
       "<p>740 rows × 21 columns</p>\n",
       "</div>"
      ],
      "text/plain": [
       "     ID  Reasons  Month  DayNbr  Seasons  Travel_expense  Distance  \\\n",
       "0    11       26      7       3        1             289        36   \n",
       "1    36        0      7       3        1             118        13   \n",
       "2     3       23      7       4        1             179        51   \n",
       "3     7        7      7       5        1             279         5   \n",
       "4    11       23      7       5        1             289        36   \n",
       "..   ..      ...    ...     ...      ...             ...       ...   \n",
       "735  11       14      7       3        1             289        36   \n",
       "736   1       11      7       3        1             235        11   \n",
       "737   4        0      0       3        1             118        14   \n",
       "738   8        0      0       4        2             231        35   \n",
       "739  35        0      0       6        3             179        45   \n",
       "\n",
       "     Service_time  Age  Average_daily_workload  ...  Discip_failures  \\\n",
       "0              13   33                 239.554  ...                0   \n",
       "1              18   50                 239.554  ...                1   \n",
       "2              18   38                 239.554  ...                0   \n",
       "3              14   39                 239.554  ...                0   \n",
       "4              13   33                 239.554  ...                0   \n",
       "..            ...  ...                     ...  ...              ...   \n",
       "735            13   33                 264.604  ...                0   \n",
       "736            14   37                 264.604  ...                0   \n",
       "737            13   40                 271.219  ...                0   \n",
       "738            14   39                 271.219  ...                0   \n",
       "739            14   53                 271.219  ...                0   \n",
       "\n",
       "     Education  Son  Social_drinker  Social_smoker  Pet  Weight  Height  BMI  \\\n",
       "0            1    2               1              0    1      90     172   30   \n",
       "1            1    1               1              0    0      98     178   31   \n",
       "2            1    0               1              0    0      89     170   31   \n",
       "3            1    2               1              1    0      68     168   24   \n",
       "4            1    2               1              0    1      90     172   30   \n",
       "..         ...  ...             ...            ...  ...     ...     ...  ...   \n",
       "735          1    2               1              0    1      90     172   30   \n",
       "736          3    1               0              0    1      88     172   29   \n",
       "737          1    1               1              0    8      98     170   34   \n",
       "738          1    2               1              0    2     100     170   35   \n",
       "739          1    1               0              0    1      77     175   25   \n",
       "\n",
       "     Total_hrs_absence  \n",
       "0                    4  \n",
       "1                    0  \n",
       "2                    2  \n",
       "3                    4  \n",
       "4                    2  \n",
       "..                 ...  \n",
       "735                  8  \n",
       "736                  4  \n",
       "737                  0  \n",
       "738                  0  \n",
       "739                  0  \n",
       "\n",
       "[740 rows x 21 columns]"
      ]
     },
     "execution_count": 29,
     "metadata": {},
     "output_type": "execute_result"
    }
   ],
   "source": [
    "# Rename columns\n",
    "data = data.rename(columns={\"Distance from Residence to Work\": \"Distance\", \"Reason for absence\": \"Reasons\",\n",
    "                            \"Month of absence\": \"Month\", \"Day of the week\": \"DayNbr\",\n",
    "                            \"Transportation expense\": \"Travel_expense\", \"Service time\": \"Service_time\", \n",
    "                            \"Work load Average per day\": \"Average_daily_workload\", \n",
    "                            \"Disciplinary failure\" : \"Discip_failures\",\"Social drinker\":\"Social_drinker\",\n",
    "                            \"Social smoker\" : \"Social_smoker\", \"Body mass index\": \"BMI\",\n",
    "                            \"Absenteeism time in hours\": \"Total_hrs_absence\",\"Hit target\": \"Hit_target\"\n",
    "                           })\n",
    "data"
   ]
  },
  {
   "cell_type": "code",
   "execution_count": 30,
   "id": "36ef43a0",
   "metadata": {
    "ExecuteTime": {
     "end_time": "2022-04-20T07:39:47.813597Z",
     "start_time": "2022-04-20T07:39:47.802593Z"
    }
   },
   "outputs": [],
   "source": [
    "# df.to_csv(\"../data/absenteeism_clean.csv\", index=False)"
   ]
  },
  {
   "cell_type": "code",
   "execution_count": 31,
   "id": "23a95a15",
   "metadata": {
    "ExecuteTime": {
     "end_time": "2022-04-20T07:39:48.030170Z",
     "start_time": "2022-04-20T07:39:48.012165Z"
    }
   },
   "outputs": [
    {
     "data": {
      "text/html": [
       "<div>\n",
       "<style scoped>\n",
       "    .dataframe tbody tr th:only-of-type {\n",
       "        vertical-align: middle;\n",
       "    }\n",
       "\n",
       "    .dataframe tbody tr th {\n",
       "        vertical-align: top;\n",
       "    }\n",
       "\n",
       "    .dataframe thead th {\n",
       "        text-align: right;\n",
       "    }\n",
       "</style>\n",
       "<table border=\"1\" class=\"dataframe\">\n",
       "  <thead>\n",
       "    <tr style=\"text-align: right;\">\n",
       "      <th></th>\n",
       "      <th>Reasons</th>\n",
       "      <th>Month</th>\n",
       "      <th>DayNbr</th>\n",
       "      <th>Seasons</th>\n",
       "      <th>Travel_expense</th>\n",
       "      <th>Distance</th>\n",
       "      <th>Service_time</th>\n",
       "      <th>Age</th>\n",
       "      <th>Average_daily_workload</th>\n",
       "      <th>Hit_target</th>\n",
       "      <th>Discip_failures</th>\n",
       "      <th>Education</th>\n",
       "      <th>Son</th>\n",
       "      <th>Social_drinker</th>\n",
       "      <th>Social_smoker</th>\n",
       "      <th>Pet</th>\n",
       "      <th>Weight</th>\n",
       "      <th>Height</th>\n",
       "      <th>BMI</th>\n",
       "      <th>Total_hrs_absence</th>\n",
       "    </tr>\n",
       "  </thead>\n",
       "  <tbody>\n",
       "    <tr>\n",
       "      <th>0</th>\n",
       "      <td>26</td>\n",
       "      <td>7</td>\n",
       "      <td>3</td>\n",
       "      <td>1</td>\n",
       "      <td>289</td>\n",
       "      <td>36</td>\n",
       "      <td>13</td>\n",
       "      <td>33</td>\n",
       "      <td>239.554</td>\n",
       "      <td>97</td>\n",
       "      <td>0</td>\n",
       "      <td>1</td>\n",
       "      <td>2</td>\n",
       "      <td>1</td>\n",
       "      <td>0</td>\n",
       "      <td>1</td>\n",
       "      <td>90</td>\n",
       "      <td>172</td>\n",
       "      <td>30</td>\n",
       "      <td>4</td>\n",
       "    </tr>\n",
       "    <tr>\n",
       "      <th>1</th>\n",
       "      <td>0</td>\n",
       "      <td>7</td>\n",
       "      <td>3</td>\n",
       "      <td>1</td>\n",
       "      <td>118</td>\n",
       "      <td>13</td>\n",
       "      <td>18</td>\n",
       "      <td>50</td>\n",
       "      <td>239.554</td>\n",
       "      <td>97</td>\n",
       "      <td>1</td>\n",
       "      <td>1</td>\n",
       "      <td>1</td>\n",
       "      <td>1</td>\n",
       "      <td>0</td>\n",
       "      <td>0</td>\n",
       "      <td>98</td>\n",
       "      <td>178</td>\n",
       "      <td>31</td>\n",
       "      <td>0</td>\n",
       "    </tr>\n",
       "    <tr>\n",
       "      <th>2</th>\n",
       "      <td>23</td>\n",
       "      <td>7</td>\n",
       "      <td>4</td>\n",
       "      <td>1</td>\n",
       "      <td>179</td>\n",
       "      <td>51</td>\n",
       "      <td>18</td>\n",
       "      <td>38</td>\n",
       "      <td>239.554</td>\n",
       "      <td>97</td>\n",
       "      <td>0</td>\n",
       "      <td>1</td>\n",
       "      <td>0</td>\n",
       "      <td>1</td>\n",
       "      <td>0</td>\n",
       "      <td>0</td>\n",
       "      <td>89</td>\n",
       "      <td>170</td>\n",
       "      <td>31</td>\n",
       "      <td>2</td>\n",
       "    </tr>\n",
       "    <tr>\n",
       "      <th>3</th>\n",
       "      <td>7</td>\n",
       "      <td>7</td>\n",
       "      <td>5</td>\n",
       "      <td>1</td>\n",
       "      <td>279</td>\n",
       "      <td>5</td>\n",
       "      <td>14</td>\n",
       "      <td>39</td>\n",
       "      <td>239.554</td>\n",
       "      <td>97</td>\n",
       "      <td>0</td>\n",
       "      <td>1</td>\n",
       "      <td>2</td>\n",
       "      <td>1</td>\n",
       "      <td>1</td>\n",
       "      <td>0</td>\n",
       "      <td>68</td>\n",
       "      <td>168</td>\n",
       "      <td>24</td>\n",
       "      <td>4</td>\n",
       "    </tr>\n",
       "    <tr>\n",
       "      <th>4</th>\n",
       "      <td>23</td>\n",
       "      <td>7</td>\n",
       "      <td>5</td>\n",
       "      <td>1</td>\n",
       "      <td>289</td>\n",
       "      <td>36</td>\n",
       "      <td>13</td>\n",
       "      <td>33</td>\n",
       "      <td>239.554</td>\n",
       "      <td>97</td>\n",
       "      <td>0</td>\n",
       "      <td>1</td>\n",
       "      <td>2</td>\n",
       "      <td>1</td>\n",
       "      <td>0</td>\n",
       "      <td>1</td>\n",
       "      <td>90</td>\n",
       "      <td>172</td>\n",
       "      <td>30</td>\n",
       "      <td>2</td>\n",
       "    </tr>\n",
       "    <tr>\n",
       "      <th>...</th>\n",
       "      <td>...</td>\n",
       "      <td>...</td>\n",
       "      <td>...</td>\n",
       "      <td>...</td>\n",
       "      <td>...</td>\n",
       "      <td>...</td>\n",
       "      <td>...</td>\n",
       "      <td>...</td>\n",
       "      <td>...</td>\n",
       "      <td>...</td>\n",
       "      <td>...</td>\n",
       "      <td>...</td>\n",
       "      <td>...</td>\n",
       "      <td>...</td>\n",
       "      <td>...</td>\n",
       "      <td>...</td>\n",
       "      <td>...</td>\n",
       "      <td>...</td>\n",
       "      <td>...</td>\n",
       "      <td>...</td>\n",
       "    </tr>\n",
       "    <tr>\n",
       "      <th>735</th>\n",
       "      <td>14</td>\n",
       "      <td>7</td>\n",
       "      <td>3</td>\n",
       "      <td>1</td>\n",
       "      <td>289</td>\n",
       "      <td>36</td>\n",
       "      <td>13</td>\n",
       "      <td>33</td>\n",
       "      <td>264.604</td>\n",
       "      <td>93</td>\n",
       "      <td>0</td>\n",
       "      <td>1</td>\n",
       "      <td>2</td>\n",
       "      <td>1</td>\n",
       "      <td>0</td>\n",
       "      <td>1</td>\n",
       "      <td>90</td>\n",
       "      <td>172</td>\n",
       "      <td>30</td>\n",
       "      <td>8</td>\n",
       "    </tr>\n",
       "    <tr>\n",
       "      <th>736</th>\n",
       "      <td>11</td>\n",
       "      <td>7</td>\n",
       "      <td>3</td>\n",
       "      <td>1</td>\n",
       "      <td>235</td>\n",
       "      <td>11</td>\n",
       "      <td>14</td>\n",
       "      <td>37</td>\n",
       "      <td>264.604</td>\n",
       "      <td>93</td>\n",
       "      <td>0</td>\n",
       "      <td>3</td>\n",
       "      <td>1</td>\n",
       "      <td>0</td>\n",
       "      <td>0</td>\n",
       "      <td>1</td>\n",
       "      <td>88</td>\n",
       "      <td>172</td>\n",
       "      <td>29</td>\n",
       "      <td>4</td>\n",
       "    </tr>\n",
       "    <tr>\n",
       "      <th>737</th>\n",
       "      <td>0</td>\n",
       "      <td>0</td>\n",
       "      <td>3</td>\n",
       "      <td>1</td>\n",
       "      <td>118</td>\n",
       "      <td>14</td>\n",
       "      <td>13</td>\n",
       "      <td>40</td>\n",
       "      <td>271.219</td>\n",
       "      <td>95</td>\n",
       "      <td>0</td>\n",
       "      <td>1</td>\n",
       "      <td>1</td>\n",
       "      <td>1</td>\n",
       "      <td>0</td>\n",
       "      <td>8</td>\n",
       "      <td>98</td>\n",
       "      <td>170</td>\n",
       "      <td>34</td>\n",
       "      <td>0</td>\n",
       "    </tr>\n",
       "    <tr>\n",
       "      <th>738</th>\n",
       "      <td>0</td>\n",
       "      <td>0</td>\n",
       "      <td>4</td>\n",
       "      <td>2</td>\n",
       "      <td>231</td>\n",
       "      <td>35</td>\n",
       "      <td>14</td>\n",
       "      <td>39</td>\n",
       "      <td>271.219</td>\n",
       "      <td>95</td>\n",
       "      <td>0</td>\n",
       "      <td>1</td>\n",
       "      <td>2</td>\n",
       "      <td>1</td>\n",
       "      <td>0</td>\n",
       "      <td>2</td>\n",
       "      <td>100</td>\n",
       "      <td>170</td>\n",
       "      <td>35</td>\n",
       "      <td>0</td>\n",
       "    </tr>\n",
       "    <tr>\n",
       "      <th>739</th>\n",
       "      <td>0</td>\n",
       "      <td>0</td>\n",
       "      <td>6</td>\n",
       "      <td>3</td>\n",
       "      <td>179</td>\n",
       "      <td>45</td>\n",
       "      <td>14</td>\n",
       "      <td>53</td>\n",
       "      <td>271.219</td>\n",
       "      <td>95</td>\n",
       "      <td>0</td>\n",
       "      <td>1</td>\n",
       "      <td>1</td>\n",
       "      <td>0</td>\n",
       "      <td>0</td>\n",
       "      <td>1</td>\n",
       "      <td>77</td>\n",
       "      <td>175</td>\n",
       "      <td>25</td>\n",
       "      <td>0</td>\n",
       "    </tr>\n",
       "  </tbody>\n",
       "</table>\n",
       "<p>740 rows × 20 columns</p>\n",
       "</div>"
      ],
      "text/plain": [
       "     Reasons  Month  DayNbr  Seasons  Travel_expense  Distance  Service_time  \\\n",
       "0         26      7       3        1             289        36            13   \n",
       "1          0      7       3        1             118        13            18   \n",
       "2         23      7       4        1             179        51            18   \n",
       "3          7      7       5        1             279         5            14   \n",
       "4         23      7       5        1             289        36            13   \n",
       "..       ...    ...     ...      ...             ...       ...           ...   \n",
       "735       14      7       3        1             289        36            13   \n",
       "736       11      7       3        1             235        11            14   \n",
       "737        0      0       3        1             118        14            13   \n",
       "738        0      0       4        2             231        35            14   \n",
       "739        0      0       6        3             179        45            14   \n",
       "\n",
       "     Age  Average_daily_workload  Hit_target  Discip_failures  Education  Son  \\\n",
       "0     33                 239.554          97                0          1    2   \n",
       "1     50                 239.554          97                1          1    1   \n",
       "2     38                 239.554          97                0          1    0   \n",
       "3     39                 239.554          97                0          1    2   \n",
       "4     33                 239.554          97                0          1    2   \n",
       "..   ...                     ...         ...              ...        ...  ...   \n",
       "735   33                 264.604          93                0          1    2   \n",
       "736   37                 264.604          93                0          3    1   \n",
       "737   40                 271.219          95                0          1    1   \n",
       "738   39                 271.219          95                0          1    2   \n",
       "739   53                 271.219          95                0          1    1   \n",
       "\n",
       "     Social_drinker  Social_smoker  Pet  Weight  Height  BMI  \\\n",
       "0                 1              0    1      90     172   30   \n",
       "1                 1              0    0      98     178   31   \n",
       "2                 1              0    0      89     170   31   \n",
       "3                 1              1    0      68     168   24   \n",
       "4                 1              0    1      90     172   30   \n",
       "..              ...            ...  ...     ...     ...  ...   \n",
       "735               1              0    1      90     172   30   \n",
       "736               0              0    1      88     172   29   \n",
       "737               1              0    8      98     170   34   \n",
       "738               1              0    2     100     170   35   \n",
       "739               0              0    1      77     175   25   \n",
       "\n",
       "     Total_hrs_absence  \n",
       "0                    4  \n",
       "1                    0  \n",
       "2                    2  \n",
       "3                    4  \n",
       "4                    2  \n",
       "..                 ...  \n",
       "735                  8  \n",
       "736                  4  \n",
       "737                  0  \n",
       "738                  0  \n",
       "739                  0  \n",
       "\n",
       "[740 rows x 20 columns]"
      ]
     },
     "execution_count": 31,
     "metadata": {},
     "output_type": "execute_result"
    }
   ],
   "source": [
    "data.drop(columns=[\"ID\"])"
   ]
  },
  {
   "cell_type": "code",
   "execution_count": 32,
   "id": "9217cbfd",
   "metadata": {
    "ExecuteTime": {
     "end_time": "2022-04-20T07:39:48.719940Z",
     "start_time": "2022-04-20T07:39:48.700935Z"
    }
   },
   "outputs": [
    {
     "data": {
      "text/html": [
       "<div>\n",
       "<style scoped>\n",
       "    .dataframe tbody tr th:only-of-type {\n",
       "        vertical-align: middle;\n",
       "    }\n",
       "\n",
       "    .dataframe tbody tr th {\n",
       "        vertical-align: top;\n",
       "    }\n",
       "\n",
       "    .dataframe thead th {\n",
       "        text-align: right;\n",
       "    }\n",
       "</style>\n",
       "<table border=\"1\" class=\"dataframe\">\n",
       "  <thead>\n",
       "    <tr style=\"text-align: right;\">\n",
       "      <th></th>\n",
       "      <th>ID</th>\n",
       "      <th>Reasons</th>\n",
       "      <th>Month</th>\n",
       "      <th>DayNbr</th>\n",
       "      <th>Seasons</th>\n",
       "      <th>Travel_expense</th>\n",
       "      <th>Distance</th>\n",
       "      <th>Service_time</th>\n",
       "      <th>Age</th>\n",
       "      <th>Average_daily_workload</th>\n",
       "      <th>...</th>\n",
       "      <th>Discip_failures</th>\n",
       "      <th>Education</th>\n",
       "      <th>Son</th>\n",
       "      <th>Social_drinker</th>\n",
       "      <th>Social_smoker</th>\n",
       "      <th>Pet</th>\n",
       "      <th>Weight</th>\n",
       "      <th>Height</th>\n",
       "      <th>BMI</th>\n",
       "      <th>Total_hrs_absence</th>\n",
       "    </tr>\n",
       "  </thead>\n",
       "  <tbody>\n",
       "    <tr>\n",
       "      <th>0</th>\n",
       "      <td>11</td>\n",
       "      <td>26</td>\n",
       "      <td>7</td>\n",
       "      <td>3</td>\n",
       "      <td>1</td>\n",
       "      <td>289</td>\n",
       "      <td>36</td>\n",
       "      <td>13</td>\n",
       "      <td>33</td>\n",
       "      <td>239.554</td>\n",
       "      <td>...</td>\n",
       "      <td>0</td>\n",
       "      <td>1</td>\n",
       "      <td>2</td>\n",
       "      <td>1</td>\n",
       "      <td>0</td>\n",
       "      <td>1</td>\n",
       "      <td>90</td>\n",
       "      <td>172</td>\n",
       "      <td>30</td>\n",
       "      <td>4</td>\n",
       "    </tr>\n",
       "    <tr>\n",
       "      <th>1</th>\n",
       "      <td>36</td>\n",
       "      <td>0</td>\n",
       "      <td>7</td>\n",
       "      <td>3</td>\n",
       "      <td>1</td>\n",
       "      <td>118</td>\n",
       "      <td>13</td>\n",
       "      <td>18</td>\n",
       "      <td>50</td>\n",
       "      <td>239.554</td>\n",
       "      <td>...</td>\n",
       "      <td>1</td>\n",
       "      <td>1</td>\n",
       "      <td>1</td>\n",
       "      <td>1</td>\n",
       "      <td>0</td>\n",
       "      <td>0</td>\n",
       "      <td>98</td>\n",
       "      <td>178</td>\n",
       "      <td>31</td>\n",
       "      <td>0</td>\n",
       "    </tr>\n",
       "    <tr>\n",
       "      <th>2</th>\n",
       "      <td>3</td>\n",
       "      <td>23</td>\n",
       "      <td>7</td>\n",
       "      <td>4</td>\n",
       "      <td>1</td>\n",
       "      <td>179</td>\n",
       "      <td>51</td>\n",
       "      <td>18</td>\n",
       "      <td>38</td>\n",
       "      <td>239.554</td>\n",
       "      <td>...</td>\n",
       "      <td>0</td>\n",
       "      <td>1</td>\n",
       "      <td>0</td>\n",
       "      <td>1</td>\n",
       "      <td>0</td>\n",
       "      <td>0</td>\n",
       "      <td>89</td>\n",
       "      <td>170</td>\n",
       "      <td>31</td>\n",
       "      <td>2</td>\n",
       "    </tr>\n",
       "  </tbody>\n",
       "</table>\n",
       "<p>3 rows × 21 columns</p>\n",
       "</div>"
      ],
      "text/plain": [
       "   ID  Reasons  Month  DayNbr  Seasons  Travel_expense  Distance  \\\n",
       "0  11       26      7       3        1             289        36   \n",
       "1  36        0      7       3        1             118        13   \n",
       "2   3       23      7       4        1             179        51   \n",
       "\n",
       "   Service_time  Age  Average_daily_workload  ...  Discip_failures  Education  \\\n",
       "0            13   33                 239.554  ...                0          1   \n",
       "1            18   50                 239.554  ...                1          1   \n",
       "2            18   38                 239.554  ...                0          1   \n",
       "\n",
       "   Son  Social_drinker  Social_smoker  Pet  Weight  Height  BMI  \\\n",
       "0    2               1              0    1      90     172   30   \n",
       "1    1               1              0    0      98     178   31   \n",
       "2    0               1              0    0      89     170   31   \n",
       "\n",
       "   Total_hrs_absence  \n",
       "0                  4  \n",
       "1                  0  \n",
       "2                  2  \n",
       "\n",
       "[3 rows x 21 columns]"
      ]
     },
     "execution_count": 32,
     "metadata": {},
     "output_type": "execute_result"
    }
   ],
   "source": [
    "df=[]\n",
    "df = data.copy()\n",
    "df.head(3)"
   ]
  },
  {
   "cell_type": "code",
   "execution_count": 33,
   "id": "86bd97d0",
   "metadata": {
    "ExecuteTime": {
     "end_time": "2022-04-20T07:39:49.205584Z",
     "start_time": "2022-04-20T07:39:49.186581Z"
    }
   },
   "outputs": [
    {
     "data": {
      "text/plain": [
       "(740, 21)"
      ]
     },
     "execution_count": 33,
     "metadata": {},
     "output_type": "execute_result"
    }
   ],
   "source": [
    "df.shape"
   ]
  },
  {
   "cell_type": "code",
   "execution_count": 34,
   "id": "c9f239af",
   "metadata": {
    "ExecuteTime": {
     "end_time": "2022-04-20T07:39:50.987405Z",
     "start_time": "2022-04-20T07:39:50.924401Z"
    }
   },
   "outputs": [
    {
     "data": {
      "text/html": [
       "<div>\n",
       "<style scoped>\n",
       "    .dataframe tbody tr th:only-of-type {\n",
       "        vertical-align: middle;\n",
       "    }\n",
       "\n",
       "    .dataframe tbody tr th {\n",
       "        vertical-align: top;\n",
       "    }\n",
       "\n",
       "    .dataframe thead th {\n",
       "        text-align: right;\n",
       "    }\n",
       "</style>\n",
       "<table border=\"1\" class=\"dataframe\">\n",
       "  <thead>\n",
       "    <tr style=\"text-align: right;\">\n",
       "      <th></th>\n",
       "      <th>ID</th>\n",
       "      <th>Reasons</th>\n",
       "      <th>Month</th>\n",
       "      <th>DayNbr</th>\n",
       "      <th>Seasons</th>\n",
       "      <th>Travel_expense</th>\n",
       "      <th>Distance</th>\n",
       "      <th>Service_time</th>\n",
       "      <th>Age</th>\n",
       "      <th>Average_daily_workload</th>\n",
       "      <th>...</th>\n",
       "      <th>Discip_failures</th>\n",
       "      <th>Education</th>\n",
       "      <th>Son</th>\n",
       "      <th>Social_drinker</th>\n",
       "      <th>Social_smoker</th>\n",
       "      <th>Pet</th>\n",
       "      <th>Weight</th>\n",
       "      <th>Height</th>\n",
       "      <th>BMI</th>\n",
       "      <th>Total_hrs_absence</th>\n",
       "    </tr>\n",
       "  </thead>\n",
       "  <tbody>\n",
       "    <tr>\n",
       "      <th>count</th>\n",
       "      <td>740.000000</td>\n",
       "      <td>740.000000</td>\n",
       "      <td>740.000000</td>\n",
       "      <td>740.000000</td>\n",
       "      <td>740.000000</td>\n",
       "      <td>740.000000</td>\n",
       "      <td>740.000000</td>\n",
       "      <td>740.000000</td>\n",
       "      <td>740.000000</td>\n",
       "      <td>740.000000</td>\n",
       "      <td>...</td>\n",
       "      <td>740.000000</td>\n",
       "      <td>740.000000</td>\n",
       "      <td>740.000000</td>\n",
       "      <td>740.000000</td>\n",
       "      <td>740.000000</td>\n",
       "      <td>740.000000</td>\n",
       "      <td>740.000000</td>\n",
       "      <td>740.000000</td>\n",
       "      <td>740.000000</td>\n",
       "      <td>740.000000</td>\n",
       "    </tr>\n",
       "    <tr>\n",
       "      <th>mean</th>\n",
       "      <td>18.017568</td>\n",
       "      <td>19.216216</td>\n",
       "      <td>6.324324</td>\n",
       "      <td>3.914865</td>\n",
       "      <td>2.544595</td>\n",
       "      <td>221.329730</td>\n",
       "      <td>29.631081</td>\n",
       "      <td>12.554054</td>\n",
       "      <td>36.450000</td>\n",
       "      <td>271.490235</td>\n",
       "      <td>...</td>\n",
       "      <td>0.054054</td>\n",
       "      <td>1.291892</td>\n",
       "      <td>1.018919</td>\n",
       "      <td>0.567568</td>\n",
       "      <td>0.072973</td>\n",
       "      <td>0.745946</td>\n",
       "      <td>79.035135</td>\n",
       "      <td>172.114865</td>\n",
       "      <td>26.677027</td>\n",
       "      <td>6.924324</td>\n",
       "    </tr>\n",
       "    <tr>\n",
       "      <th>std</th>\n",
       "      <td>11.021247</td>\n",
       "      <td>8.433406</td>\n",
       "      <td>3.436287</td>\n",
       "      <td>1.421675</td>\n",
       "      <td>1.111831</td>\n",
       "      <td>66.952223</td>\n",
       "      <td>14.836788</td>\n",
       "      <td>4.384873</td>\n",
       "      <td>6.478772</td>\n",
       "      <td>39.058116</td>\n",
       "      <td>...</td>\n",
       "      <td>0.226277</td>\n",
       "      <td>0.673238</td>\n",
       "      <td>1.098489</td>\n",
       "      <td>0.495749</td>\n",
       "      <td>0.260268</td>\n",
       "      <td>1.318258</td>\n",
       "      <td>12.883211</td>\n",
       "      <td>6.034995</td>\n",
       "      <td>4.285452</td>\n",
       "      <td>13.330998</td>\n",
       "    </tr>\n",
       "    <tr>\n",
       "      <th>min</th>\n",
       "      <td>1.000000</td>\n",
       "      <td>0.000000</td>\n",
       "      <td>0.000000</td>\n",
       "      <td>2.000000</td>\n",
       "      <td>1.000000</td>\n",
       "      <td>118.000000</td>\n",
       "      <td>5.000000</td>\n",
       "      <td>1.000000</td>\n",
       "      <td>27.000000</td>\n",
       "      <td>205.917000</td>\n",
       "      <td>...</td>\n",
       "      <td>0.000000</td>\n",
       "      <td>1.000000</td>\n",
       "      <td>0.000000</td>\n",
       "      <td>0.000000</td>\n",
       "      <td>0.000000</td>\n",
       "      <td>0.000000</td>\n",
       "      <td>56.000000</td>\n",
       "      <td>163.000000</td>\n",
       "      <td>19.000000</td>\n",
       "      <td>0.000000</td>\n",
       "    </tr>\n",
       "    <tr>\n",
       "      <th>25%</th>\n",
       "      <td>9.000000</td>\n",
       "      <td>13.000000</td>\n",
       "      <td>3.000000</td>\n",
       "      <td>3.000000</td>\n",
       "      <td>2.000000</td>\n",
       "      <td>179.000000</td>\n",
       "      <td>16.000000</td>\n",
       "      <td>9.000000</td>\n",
       "      <td>31.000000</td>\n",
       "      <td>244.387000</td>\n",
       "      <td>...</td>\n",
       "      <td>0.000000</td>\n",
       "      <td>1.000000</td>\n",
       "      <td>0.000000</td>\n",
       "      <td>0.000000</td>\n",
       "      <td>0.000000</td>\n",
       "      <td>0.000000</td>\n",
       "      <td>69.000000</td>\n",
       "      <td>169.000000</td>\n",
       "      <td>24.000000</td>\n",
       "      <td>2.000000</td>\n",
       "    </tr>\n",
       "    <tr>\n",
       "      <th>50%</th>\n",
       "      <td>18.000000</td>\n",
       "      <td>23.000000</td>\n",
       "      <td>6.000000</td>\n",
       "      <td>4.000000</td>\n",
       "      <td>3.000000</td>\n",
       "      <td>225.000000</td>\n",
       "      <td>26.000000</td>\n",
       "      <td>13.000000</td>\n",
       "      <td>37.000000</td>\n",
       "      <td>264.249000</td>\n",
       "      <td>...</td>\n",
       "      <td>0.000000</td>\n",
       "      <td>1.000000</td>\n",
       "      <td>1.000000</td>\n",
       "      <td>1.000000</td>\n",
       "      <td>0.000000</td>\n",
       "      <td>0.000000</td>\n",
       "      <td>83.000000</td>\n",
       "      <td>170.000000</td>\n",
       "      <td>25.000000</td>\n",
       "      <td>3.000000</td>\n",
       "    </tr>\n",
       "    <tr>\n",
       "      <th>75%</th>\n",
       "      <td>28.000000</td>\n",
       "      <td>26.000000</td>\n",
       "      <td>9.000000</td>\n",
       "      <td>5.000000</td>\n",
       "      <td>4.000000</td>\n",
       "      <td>260.000000</td>\n",
       "      <td>50.000000</td>\n",
       "      <td>16.000000</td>\n",
       "      <td>40.000000</td>\n",
       "      <td>294.217000</td>\n",
       "      <td>...</td>\n",
       "      <td>0.000000</td>\n",
       "      <td>1.000000</td>\n",
       "      <td>2.000000</td>\n",
       "      <td>1.000000</td>\n",
       "      <td>0.000000</td>\n",
       "      <td>1.000000</td>\n",
       "      <td>89.000000</td>\n",
       "      <td>172.000000</td>\n",
       "      <td>31.000000</td>\n",
       "      <td>8.000000</td>\n",
       "    </tr>\n",
       "    <tr>\n",
       "      <th>max</th>\n",
       "      <td>36.000000</td>\n",
       "      <td>28.000000</td>\n",
       "      <td>12.000000</td>\n",
       "      <td>6.000000</td>\n",
       "      <td>4.000000</td>\n",
       "      <td>388.000000</td>\n",
       "      <td>52.000000</td>\n",
       "      <td>29.000000</td>\n",
       "      <td>58.000000</td>\n",
       "      <td>378.884000</td>\n",
       "      <td>...</td>\n",
       "      <td>1.000000</td>\n",
       "      <td>4.000000</td>\n",
       "      <td>4.000000</td>\n",
       "      <td>1.000000</td>\n",
       "      <td>1.000000</td>\n",
       "      <td>8.000000</td>\n",
       "      <td>108.000000</td>\n",
       "      <td>196.000000</td>\n",
       "      <td>38.000000</td>\n",
       "      <td>120.000000</td>\n",
       "    </tr>\n",
       "  </tbody>\n",
       "</table>\n",
       "<p>8 rows × 21 columns</p>\n",
       "</div>"
      ],
      "text/plain": [
       "               ID     Reasons       Month      DayNbr     Seasons  \\\n",
       "count  740.000000  740.000000  740.000000  740.000000  740.000000   \n",
       "mean    18.017568   19.216216    6.324324    3.914865    2.544595   \n",
       "std     11.021247    8.433406    3.436287    1.421675    1.111831   \n",
       "min      1.000000    0.000000    0.000000    2.000000    1.000000   \n",
       "25%      9.000000   13.000000    3.000000    3.000000    2.000000   \n",
       "50%     18.000000   23.000000    6.000000    4.000000    3.000000   \n",
       "75%     28.000000   26.000000    9.000000    5.000000    4.000000   \n",
       "max     36.000000   28.000000   12.000000    6.000000    4.000000   \n",
       "\n",
       "       Travel_expense    Distance  Service_time         Age  \\\n",
       "count      740.000000  740.000000    740.000000  740.000000   \n",
       "mean       221.329730   29.631081     12.554054   36.450000   \n",
       "std         66.952223   14.836788      4.384873    6.478772   \n",
       "min        118.000000    5.000000      1.000000   27.000000   \n",
       "25%        179.000000   16.000000      9.000000   31.000000   \n",
       "50%        225.000000   26.000000     13.000000   37.000000   \n",
       "75%        260.000000   50.000000     16.000000   40.000000   \n",
       "max        388.000000   52.000000     29.000000   58.000000   \n",
       "\n",
       "       Average_daily_workload  ...  Discip_failures   Education         Son  \\\n",
       "count              740.000000  ...       740.000000  740.000000  740.000000   \n",
       "mean               271.490235  ...         0.054054    1.291892    1.018919   \n",
       "std                 39.058116  ...         0.226277    0.673238    1.098489   \n",
       "min                205.917000  ...         0.000000    1.000000    0.000000   \n",
       "25%                244.387000  ...         0.000000    1.000000    0.000000   \n",
       "50%                264.249000  ...         0.000000    1.000000    1.000000   \n",
       "75%                294.217000  ...         0.000000    1.000000    2.000000   \n",
       "max                378.884000  ...         1.000000    4.000000    4.000000   \n",
       "\n",
       "       Social_drinker  Social_smoker         Pet      Weight      Height  \\\n",
       "count      740.000000     740.000000  740.000000  740.000000  740.000000   \n",
       "mean         0.567568       0.072973    0.745946   79.035135  172.114865   \n",
       "std          0.495749       0.260268    1.318258   12.883211    6.034995   \n",
       "min          0.000000       0.000000    0.000000   56.000000  163.000000   \n",
       "25%          0.000000       0.000000    0.000000   69.000000  169.000000   \n",
       "50%          1.000000       0.000000    0.000000   83.000000  170.000000   \n",
       "75%          1.000000       0.000000    1.000000   89.000000  172.000000   \n",
       "max          1.000000       1.000000    8.000000  108.000000  196.000000   \n",
       "\n",
       "              BMI  Total_hrs_absence  \n",
       "count  740.000000         740.000000  \n",
       "mean    26.677027           6.924324  \n",
       "std      4.285452          13.330998  \n",
       "min     19.000000           0.000000  \n",
       "25%     24.000000           2.000000  \n",
       "50%     25.000000           3.000000  \n",
       "75%     31.000000           8.000000  \n",
       "max     38.000000         120.000000  \n",
       "\n",
       "[8 rows x 21 columns]"
      ]
     },
     "execution_count": 34,
     "metadata": {},
     "output_type": "execute_result"
    }
   ],
   "source": [
    "df.describe()"
   ]
  },
  {
   "cell_type": "code",
   "execution_count": 35,
   "id": "e04985ec",
   "metadata": {
    "ExecuteTime": {
     "end_time": "2022-04-20T07:39:51.477379Z",
     "start_time": "2022-04-20T07:39:51.379358Z"
    }
   },
   "outputs": [
    {
     "data": {
      "image/png": "[encoded data removed]",
      "text/plain": [
       "<Figure size 432x432 with 1 Axes>"
      ]
     },
     "metadata": {},
     "output_type": "display_data"
    }
   ],
   "source": [
    "# Check count for Discip_failures\n",
    "plt.subplots(figsize=(6, 6))\n",
    "sns.countplot(df[\"Discip_failures\"])\n",
    "plt.show()"
   ]
  },
  {
   "cell_type": "code",
   "execution_count": 36,
   "id": "4ac21e34",
   "metadata": {
    "ExecuteTime": {
     "end_time": "2022-04-20T07:39:53.914592Z",
     "start_time": "2022-04-20T07:39:53.898589Z"
    }
   },
   "outputs": [],
   "source": [
    "# Compute the correlation matrix\n",
    "corr = df.corr()"
   ]
  },
  {
   "cell_type": "code",
   "execution_count": 37,
   "id": "6a31eab9",
   "metadata": {
    "ExecuteTime": {
     "end_time": "2022-04-20T07:39:55.179887Z",
     "start_time": "2022-04-20T07:39:54.713780Z"
    }
   },
   "outputs": [
    {
     "data": {
      "text/plain": [
       "<AxesSubplot:>"
      ]
     },
     "execution_count": 37,
     "metadata": {},
     "output_type": "execute_result"
    },
    {
     "data": {
      "image/png": "[encoded data removed]",
      "text/plain": [
       "<Figure size 864x864 with 2 Axes>"
      ]
     },
     "metadata": {},
     "output_type": "display_data"
    }
   ],
   "source": [
    "# Plot the correlation matrix of the values between the columns\n",
    "# Generate a mask for the upper triangle\n",
    "sns.set(style=\"white\")\n",
    "mask = np.zeros_like(corr, dtype=np.bool)\n",
    "mask[np.triu_indices_from(mask)] = True\n",
    "\n",
    "# Set up the matplotlib figure\n",
    "f, ax = plt.subplots(figsize=(12, 12))\n",
    "\n",
    "# Draw the heatmap with the mask and correct aspect ratio\n",
    "sns.heatmap(corr, mask=mask, cmap=\"jet\", vmax=.3, center=0, square=True, linewidths=.5, cbar_kws={\"shrink\": .5})"
   ]
  },
  {
   "cell_type": "code",
   "execution_count": 38,
   "id": "24862c52",
   "metadata": {
    "ExecuteTime": {
     "end_time": "2022-04-20T07:40:03.070827Z",
     "start_time": "2022-04-20T07:40:03.066826Z"
    }
   },
   "outputs": [
    {
     "name": "stdout",
     "output_type": "stream",
     "text": [
      "(740, 20) (740,)\n"
     ]
    }
   ],
   "source": [
    "# Use the column Discipline_failures as the predicted value\n",
    "y = df[\"Discip_failures\"]\n",
    "X = df.drop(columns=[\"Discip_failures\"])\n",
    "print(X.shape, y.shape)"
   ]
  },
  {
   "cell_type": "markdown",
   "id": "07c396bf",
   "metadata": {},
   "source": [
    "## Build & find the best fit ML model by applying various algorithms"
   ]
  },
  {
   "cell_type": "markdown",
   "id": "4d3cf89a",
   "metadata": {},
   "source": [
    "##### Model 1: Linear regression feature importance"
   ]
  },
  {
   "cell_type": "code",
   "execution_count": 15,
   "id": "ffdd8626",
   "metadata": {
    "ExecuteTime": {
     "end_time": "2022-04-20T07:32:15.884741Z",
     "start_time": "2022-04-20T07:32:15.132117Z"
    }
   },
   "outputs": [
    {
     "name": "stdout",
     "output_type": "stream",
     "text": [
      "Feature: 0, Score: -0.00093\n",
      "Feature: 1, Score: -0.01513\n",
      "Feature: 2, Score: -0.00291\n",
      "Feature: 3, Score: 0.00598\n",
      "Feature: 4, Score: 0.02371\n",
      "Feature: 5, Score: 0.00002\n",
      "Feature: 6, Score: -0.00221\n",
      "Feature: 7, Score: -0.00367\n",
      "Feature: 8, Score: 0.00036\n",
      "Feature: 9, Score: -0.00041\n",
      "Feature: 10, Score: -0.00188\n",
      "Feature: 11, Score: -0.01467\n",
      "Feature: 12, Score: 0.01115\n",
      "Feature: 13, Score: 0.06836\n",
      "Feature: 14, Score: 0.12644\n",
      "Feature: 15, Score: 0.00189\n",
      "Feature: 16, Score: 0.00817\n",
      "Feature: 17, Score: -0.01054\n",
      "Feature: 18, Score: -0.01832\n",
      "Feature: 19, Score: -0.00381\n"
     ]
    },
    {
     "data": {
      "image/png": "[encoded data removed]",
      "text/plain": [
       "<Figure size 432x288 with 1 Axes>"
      ]
     },
     "metadata": {},
     "output_type": "display_data"
    },
    {
     "name": "stdout",
     "output_type": "stream",
     "text": [
      "\u001b[35mTraining Data Score:  41.30 %\n",
      "\u001b[35mTesting Data Score: 29.36 %\n"
     ]
    }
   ],
   "source": [
    "# Model 1: Linear regression feature importance\n",
    "from sklearn.datasets import make_regression\n",
    "from sklearn.linear_model import LinearRegression\n",
    "from sklearn.model_selection import train_test_split\n",
    "model = LinearRegression()\n",
    "\n",
    "X_train, X_test, y_train, y_test = train_test_split(X, y, test_size=0.33, random_state=1)\n",
    "model.fit(X_train, y_train)\n",
    "# get importance\n",
    "\n",
    "importance = model.coef_\n",
    "# summarize feature importance\n",
    "for i,v in enumerate(importance):\n",
    "    print('Feature: %0d, Score: %.5f' % (i,v))\n",
    "# plot feature importance\n",
    "plt.bar([x for x in range(len(importance))], importance)\n",
    "plt.show()\n",
    "\n",
    "# Print score \n",
    "print(f\"\\u001b[35mTraining Data Score:  %.2f\" % (model.score(X_train, y_train)*100),\"%\")\n",
    "print(f\"\\u001b[35mTesting Data Score: %.2f\" % (model.score(X_test, y_test)*100),\"%\")"
   ]
  },
  {
   "cell_type": "markdown",
   "id": "90ca4b9b",
   "metadata": {},
   "source": [
    "##### Model 2: Logistic regression for feature importance"
   ]
  },
  {
   "cell_type": "code",
   "execution_count": 16,
   "id": "e9fe50c3",
   "metadata": {
    "ExecuteTime": {
     "end_time": "2022-04-20T07:32:16.074786Z",
     "start_time": "2022-04-20T07:32:15.885741Z"
    }
   },
   "outputs": [
    {
     "name": "stdout",
     "output_type": "stream",
     "text": [
      "Feature: 0, Score: 0.11809\n",
      "Feature: 1, Score: -1.34942\n",
      "Feature: 2, Score: 0.61368\n",
      "Feature: 3, Score: -0.10600\n",
      "Feature: 4, Score: 0.06768\n",
      "Feature: 5, Score: 0.00806\n",
      "Feature: 6, Score: -0.11186\n",
      "Feature: 7, Score: 0.01684\n",
      "Feature: 8, Score: -0.19644\n",
      "Feature: 9, Score: 0.01297\n",
      "Feature: 10, Score: 0.26704\n",
      "Feature: 11, Score: -0.04808\n",
      "Feature: 12, Score: 0.04681\n",
      "Feature: 13, Score: 0.06446\n",
      "Feature: 14, Score: 0.11209\n",
      "Feature: 15, Score: 0.17518\n",
      "Feature: 16, Score: -0.00364\n",
      "Feature: 17, Score: -0.15476\n",
      "Feature: 18, Score: 0.15794\n",
      "Feature: 19, Score: -1.15347\n"
     ]
    },
    {
     "data": {
      "image/png": "[encoded data removed]",
      "text/plain": [
       "<Figure size 432x288 with 1 Axes>"
      ]
     },
     "metadata": {},
     "output_type": "display_data"
    },
    {
     "name": "stdout",
     "output_type": "stream",
     "text": [
      "\u001b[35mTraining Data Score:  100.00 %\n",
      "\u001b[35mTesting Data Score: 99.18 %\n"
     ]
    }
   ],
   "source": [
    "# Model 2: Logistic regression for feature importance\n",
    "from sklearn.datasets import make_classification\n",
    "from sklearn.linear_model import LogisticRegression\n",
    "\n",
    "# define the model\n",
    "model = LogisticRegression()\n",
    "\n",
    "# split into train and test sets\n",
    "X_train, X_test, y_train, y_test = train_test_split(X, y, test_size=0.33, random_state=1)\n",
    "model.fit(X_train, y_train)\n",
    "\n",
    "# get importance\n",
    "importance = model.coef_[0]\n",
    "# summarize feature importance\n",
    "for i,v in enumerate(importance):\n",
    "    print('Feature: %0d, Score: %.5f' % (i,v))\n",
    "# plot feature importance\n",
    "plt.bar([x for x in range(len(importance))], importance)\n",
    "plt.show()\n",
    "\n",
    "# Print score \n",
    "print(f\"\\u001b[35mTraining Data Score:  %.2f\" % (model.score(X_train, y_train)*100),\"%\")\n",
    "print(f\"\\u001b[35mTesting Data Score: %.2f\" % (model.score(X_test, y_test)*100),\"%\")"
   ]
  },
  {
   "cell_type": "markdown",
   "id": "d3bcd61d",
   "metadata": {},
   "source": [
    "##### Model 3: Decision tree regressor for feature importance on a regression problem "
   ]
  },
  {
   "cell_type": "code",
   "execution_count": 17,
   "id": "7a7b5bc9",
   "metadata": {
    "ExecuteTime": {
     "end_time": "2022-04-20T07:32:16.328037Z",
     "start_time": "2022-04-20T07:32:16.075786Z"
    }
   },
   "outputs": [
    {
     "name": "stdout",
     "output_type": "stream",
     "text": [
      "Feature: 0, Score: 0.00000\n",
      "Feature: 1, Score: 0.92934\n",
      "Feature: 2, Score: 0.07066\n",
      "Feature: 3, Score: 0.00000\n",
      "Feature: 4, Score: 0.00000\n",
      "Feature: 5, Score: 0.00000\n",
      "Feature: 6, Score: 0.00000\n",
      "Feature: 7, Score: 0.00000\n",
      "Feature: 8, Score: 0.00000\n",
      "Feature: 9, Score: 0.00000\n",
      "Feature: 10, Score: 0.00000\n",
      "Feature: 11, Score: 0.00000\n",
      "Feature: 12, Score: 0.00000\n",
      "Feature: 13, Score: 0.00000\n",
      "Feature: 14, Score: 0.00000\n",
      "Feature: 15, Score: 0.00000\n",
      "Feature: 16, Score: 0.00000\n",
      "Feature: 17, Score: 0.00000\n",
      "Feature: 18, Score: 0.00000\n",
      "Feature: 19, Score: 0.00000\n"
     ]
    },
    {
     "data": {
      "image/png": "[encoded data removed]",
      "text/plain": [
       "<Figure size 432x288 with 1 Axes>"
      ]
     },
     "metadata": {},
     "output_type": "display_data"
    },
    {
     "name": "stdout",
     "output_type": "stream",
     "text": [
      "\u001b[35mTraining Data Score:  100.00 %\n",
      "\u001b[35mTesting Data Score: 100.00 %\n"
     ]
    }
   ],
   "source": [
    "# Model 3: Decision tree regressor for feature importance on a regression problem \n",
    "# Using CART feature Importance, CART = Classification and regression trees\n",
    "from sklearn.datasets import make_regression\n",
    "from sklearn.tree import DecisionTreeRegressor\n",
    "\n",
    "# define the model\n",
    "model = DecisionTreeRegressor()\n",
    "\n",
    "# fit the model\n",
    "X_train, X_test, y_train, y_test = train_test_split(X, y, test_size=0.33, random_state=1)\n",
    "model.fit(X_train, y_train)\n",
    "\n",
    "# get importance\n",
    "importance = model.feature_importances_\n",
    "# summarize feature importance\n",
    "for i,v in enumerate(importance):\n",
    "    print('Feature: %0d, Score: %.5f' % (i,v))\n",
    "# plot feature importance\n",
    "plt.bar([x for x in range(len(importance))], importance)\n",
    "plt.show()\n",
    "\n",
    "# Print score \n",
    "print(f\"\\u001b[35mTraining Data Score:  %.2f\" % (model.score(X_train, y_train)*100),\"%\")\n",
    "print(f\"\\u001b[35mTesting Data Score: %.2f\" % (model.score(X_test, y_test)*100),\"%\")"
   ]
  },
  {
   "cell_type": "markdown",
   "id": "3ab74592",
   "metadata": {},
   "source": [
    "##### Model 4: Decision tree classifier for feature importance on a classification problem"
   ]
  },
  {
   "cell_type": "code",
   "execution_count": 18,
   "id": "8954e427",
   "metadata": {
    "ExecuteTime": {
     "end_time": "2022-04-20T07:32:16.567524Z",
     "start_time": "2022-04-20T07:32:16.330574Z"
    }
   },
   "outputs": [
    {
     "name": "stdout",
     "output_type": "stream",
     "text": [
      "Feature: 0, Score: 0.00000\n",
      "Feature: 1, Score: 0.00000\n",
      "Feature: 2, Score: 0.07066\n",
      "Feature: 3, Score: 0.00000\n",
      "Feature: 4, Score: 0.00000\n",
      "Feature: 5, Score: 0.00000\n",
      "Feature: 6, Score: 0.00000\n",
      "Feature: 7, Score: 0.00000\n",
      "Feature: 8, Score: 0.00000\n",
      "Feature: 9, Score: 0.00000\n",
      "Feature: 10, Score: 0.00000\n",
      "Feature: 11, Score: 0.00000\n",
      "Feature: 12, Score: 0.00000\n",
      "Feature: 13, Score: 0.00000\n",
      "Feature: 14, Score: 0.00000\n",
      "Feature: 15, Score: 0.00000\n",
      "Feature: 16, Score: 0.00000\n",
      "Feature: 17, Score: 0.00000\n",
      "Feature: 18, Score: 0.00000\n",
      "Feature: 19, Score: 0.92934\n"
     ]
    },
    {
     "data": {
      "image/png": "[encoded data removed]",
      "text/plain": [
       "<Figure size 432x288 with 1 Axes>"
      ]
     },
     "metadata": {},
     "output_type": "display_data"
    },
    {
     "name": "stdout",
     "output_type": "stream",
     "text": [
      "\u001b[35mTraining Data Score:  100.00 %\n",
      "\u001b[35mTesting Data Score: 100.00 %\n"
     ]
    }
   ],
   "source": [
    "# Model 4: Decision tree classifier for feature importance on a classification problem\n",
    "from sklearn.datasets import make_classification\n",
    "from sklearn.tree import DecisionTreeClassifier\n",
    "\n",
    "# define the model\n",
    "model = DecisionTreeClassifier()\n",
    "\n",
    "# split into train and test sets\n",
    "X_train, X_test, y_train, y_test = train_test_split(X, y, test_size=0.33, random_state=1)\n",
    "model.fit(X_train, y_train)\n",
    "\n",
    "# get importance\n",
    "importance = model.feature_importances_\n",
    "# summarize feature importance\n",
    "for i,v in enumerate(importance):\n",
    "    print('Feature: %0d, Score: %.5f' % (i,v))\n",
    "# plot feature importance\n",
    "plt.bar([x for x in range(len(importance))], importance)\n",
    "plt.show()\n",
    "\n",
    "# Print score \n",
    "print(f\"\\u001b[35mTraining Data Score:  %.2f\" % (model.score(X_train, y_train)*100),\"%\")\n",
    "print(f\"\\u001b[35mTesting Data Score: %.2f\" % (model.score(X_test, y_test)*100),\"%\")"
   ]
  },
  {
   "cell_type": "markdown",
   "id": "cd841d97",
   "metadata": {},
   "source": [
    "##### Model 5: Random forest regressor for feature importance on a regression problem"
   ]
  },
  {
   "cell_type": "code",
   "execution_count": 19,
   "id": "27685237",
   "metadata": {
    "ExecuteTime": {
     "end_time": "2022-04-20T07:32:16.885308Z",
     "start_time": "2022-04-20T07:32:16.569524Z"
    }
   },
   "outputs": [
    {
     "name": "stdout",
     "output_type": "stream",
     "text": [
      "Feature: 0, Score: 0.00000\n",
      "Feature: 1, Score: 0.46540\n",
      "Feature: 2, Score: 0.05867\n",
      "Feature: 3, Score: 0.00000\n",
      "Feature: 4, Score: 0.00000\n",
      "Feature: 5, Score: 0.00000\n",
      "Feature: 6, Score: 0.00000\n",
      "Feature: 7, Score: 0.00000\n",
      "Feature: 8, Score: 0.00965\n",
      "Feature: 9, Score: 0.00000\n",
      "Feature: 10, Score: 0.00000\n",
      "Feature: 11, Score: 0.00000\n",
      "Feature: 12, Score: 0.00000\n",
      "Feature: 13, Score: 0.00000\n",
      "Feature: 14, Score: 0.00000\n",
      "Feature: 15, Score: 0.00000\n",
      "Feature: 16, Score: 0.00000\n",
      "Feature: 17, Score: 0.00000\n",
      "Feature: 18, Score: 0.00000\n",
      "Feature: 19, Score: 0.46628\n"
     ]
    },
    {
     "data": {
      "image/png": "[encoded data removed]",
      "text/plain": [
       "<Figure size 432x288 with 1 Axes>"
      ]
     },
     "metadata": {},
     "output_type": "display_data"
    },
    {
     "name": "stdout",
     "output_type": "stream",
     "text": [
      "\u001b[35mTraining Data Score:  99.66 %\n",
      "\u001b[35mTesting Data Score: 99.12 %\n"
     ]
    }
   ],
   "source": [
    "# Model 5: Random forest regressor for feature importance on a regression problem\n",
    "from sklearn.datasets import make_regression\n",
    "from sklearn.ensemble import RandomForestRegressor\n",
    "\n",
    "# define the model\n",
    "model = RandomForestRegressor()\n",
    "\n",
    "# split into train and test sets\n",
    "X_train, X_test, y_train, y_test = train_test_split(X, y, test_size=0.33, random_state=1)\n",
    "model.fit(X_train, y_train)\n",
    "\n",
    "# get importance\n",
    "importance = model.feature_importances_\n",
    "# summarize feature importance\n",
    "for i,v in enumerate(importance):\n",
    "    print('Feature: %0d, Score: %.5f' % (i,v))\n",
    "# plot feature importance\n",
    "plt.bar([x for x in range(len(importance))], importance)\n",
    "plt.show()\n",
    "\n",
    "# # Print score \n",
    "print(f\"\\u001b[35mTraining Data Score:  %.2f\" % (model.score(X_train, y_train)*100),\"%\")\n",
    "print(f\"\\u001b[35mTesting Data Score: %.2f\" % (model.score(X_test, y_test)*100),\"%\")"
   ]
  },
  {
   "cell_type": "markdown",
   "id": "c1dd5d8c",
   "metadata": {},
   "source": [
    "##### Model 6: Random forest classifier for feature importance on a classification problem"
   ]
  },
  {
   "cell_type": "code",
   "execution_count": 20,
   "id": "fd699824",
   "metadata": {
    "ExecuteTime": {
     "end_time": "2022-04-20T07:32:17.188407Z",
     "start_time": "2022-04-20T07:32:16.886310Z"
    }
   },
   "outputs": [
    {
     "name": "stdout",
     "output_type": "stream",
     "text": [
      "Feature: 0, Score: 0.00464\n",
      "Feature: 1, Score: 0.40787\n",
      "Feature: 2, Score: 0.02641\n",
      "Feature: 3, Score: 0.01020\n",
      "Feature: 4, Score: 0.01676\n",
      "Feature: 5, Score: 0.01581\n",
      "Feature: 6, Score: 0.02212\n",
      "Feature: 7, Score: 0.00451\n",
      "Feature: 8, Score: 0.01199\n",
      "Feature: 9, Score: 0.01611\n",
      "Feature: 10, Score: 0.01178\n",
      "Feature: 11, Score: 0.00098\n",
      "Feature: 12, Score: 0.00183\n",
      "Feature: 13, Score: 0.00109\n",
      "Feature: 14, Score: 0.00610\n",
      "Feature: 15, Score: 0.00605\n",
      "Feature: 16, Score: 0.01301\n",
      "Feature: 17, Score: 0.01064\n",
      "Feature: 18, Score: 0.01250\n",
      "Feature: 19, Score: 0.39962\n"
     ]
    },
    {
     "data": {
      "image/png": "[encoded data removed]",
      "text/plain": [
       "<Figure size 432x288 with 1 Axes>"
      ]
     },
     "metadata": {},
     "output_type": "display_data"
    },
    {
     "name": "stdout",
     "output_type": "stream",
     "text": [
      "\u001b[35mTraining Data Score:  100.00 %\n",
      "\u001b[35mTesting Data Score: 99.59 %\n"
     ]
    }
   ],
   "source": [
    "# Model 6: Random forest classifier for feature importance on a classification problem\n",
    "from sklearn.datasets import make_classification\n",
    "from sklearn.ensemble import RandomForestClassifier\n",
    "\n",
    "# define the model\n",
    "model = RandomForestClassifier()\n",
    "\n",
    "# split into train and test sets\n",
    "X_train, X_test, y_train, y_test = train_test_split(X, y, test_size=0.33, random_state=1)\n",
    "model.fit(X_train, y_train)\n",
    "\n",
    "# get importance\n",
    "importance = model.feature_importances_\n",
    "# summarize feature importance\n",
    "for i,v in enumerate(importance):\n",
    "    print('Feature: %0d, Score: %.5f' % (i,v))\n",
    "# plot feature importance\n",
    "plt.bar([x for x in range(len(importance))], importance)\n",
    "plt.show()\n",
    "\n",
    "# Print score \n",
    "print(f\"\\u001b[35mTraining Data Score:  %.2f\" % (model.score(X_train, y_train)*100),\"%\")\n",
    "print(f\"\\u001b[35mTesting Data Score: %.2f\" % (model.score(X_test, y_test)*100),\"%\")"
   ]
  },
  {
   "cell_type": "markdown",
   "id": "faf91d5e",
   "metadata": {},
   "source": [
    "##### Model 7: Xgboost regressor for feature importance on a regression problem"
   ]
  },
  {
   "cell_type": "code",
   "execution_count": 21,
   "id": "e8dd4986",
   "metadata": {
    "ExecuteTime": {
     "end_time": "2022-04-20T07:32:17.491610Z",
     "start_time": "2022-04-20T07:32:17.190422Z"
    }
   },
   "outputs": [
    {
     "name": "stdout",
     "output_type": "stream",
     "text": [
      "Feature: 0, Score: 0.00000\n",
      "Feature: 1, Score: 0.93581\n",
      "Feature: 2, Score: 0.06419\n",
      "Feature: 3, Score: 0.00000\n",
      "Feature: 4, Score: 0.00000\n",
      "Feature: 5, Score: 0.00000\n",
      "Feature: 6, Score: 0.00000\n",
      "Feature: 7, Score: 0.00000\n",
      "Feature: 8, Score: 0.00000\n",
      "Feature: 9, Score: 0.00000\n",
      "Feature: 10, Score: 0.00000\n",
      "Feature: 11, Score: 0.00000\n",
      "Feature: 12, Score: 0.00000\n",
      "Feature: 13, Score: 0.00000\n",
      "Feature: 14, Score: 0.00000\n",
      "Feature: 15, Score: 0.00000\n",
      "Feature: 16, Score: 0.00000\n",
      "Feature: 17, Score: 0.00000\n",
      "Feature: 18, Score: 0.00000\n",
      "Feature: 19, Score: 0.00000\n"
     ]
    },
    {
     "data": {
      "image/png": "[encoded data removed]",
      "text/plain": [
       "<Figure size 432x288 with 1 Axes>"
      ]
     },
     "metadata": {},
     "output_type": "display_data"
    },
    {
     "name": "stdout",
     "output_type": "stream",
     "text": [
      "\u001b[35mTraining Data Score:  100.00 %\n",
      "\u001b[35mTesting Data Score: 100.00 %\n"
     ]
    }
   ],
   "source": [
    "# Model 7: Xgboost regressor for feature importance on a regression problem\n",
    "# !pip install xgboost\n",
    "import xgboost\n",
    "from sklearn.datasets import make_regression\n",
    "from xgboost import XGBRegressor\n",
    "\n",
    "# define the model\n",
    "model = XGBRegressor()\n",
    "\n",
    "# split into train and test sets\n",
    "X_train, X_test, y_train, y_test = train_test_split(X, y, test_size=0.33, random_state=1)\n",
    "model.fit(X_train, y_train)\n",
    "\n",
    "# get importance\n",
    "importance = model.feature_importances_\n",
    "# summarize feature importance\n",
    "for i,v in enumerate(importance):\n",
    "    print('Feature: %0d, Score: %.5f' % (i,v))\n",
    "# plot feature importance\n",
    "plt.bar([x for x in range(len(importance))], importance)\n",
    "plt.show()\n",
    "\n",
    "# # Print score \n",
    "print(f\"\\u001b[35mTraining Data Score:  %.2f\" % (model.score(X_train, y_train)*100),\"%\")\n",
    "print(f\"\\u001b[35mTesting Data Score: %.2f\" % (model.score(X_test, y_test)*100),\"%\")"
   ]
  },
  {
   "cell_type": "markdown",
   "id": "7f145ff8",
   "metadata": {},
   "source": [
    "##### Model 8: Xgboost classifier for feature importance on a classification problem"
   ]
  },
  {
   "cell_type": "code",
   "execution_count": 22,
   "id": "51308af3",
   "metadata": {
    "ExecuteTime": {
     "end_time": "2022-04-20T07:32:17.698654Z",
     "start_time": "2022-04-20T07:32:17.492609Z"
    }
   },
   "outputs": [
    {
     "name": "stdout",
     "output_type": "stream",
     "text": [
      "Feature: 0, Score: 0.00107\n",
      "Feature: 1, Score: 0.90518\n",
      "Feature: 2, Score: 0.02286\n",
      "Feature: 3, Score: 0.00000\n",
      "Feature: 4, Score: 0.00000\n",
      "Feature: 5, Score: 0.00978\n",
      "Feature: 6, Score: 0.02571\n",
      "Feature: 7, Score: 0.00000\n",
      "Feature: 8, Score: 0.00000\n",
      "Feature: 9, Score: 0.02027\n",
      "Feature: 10, Score: 0.00901\n",
      "Feature: 11, Score: 0.00000\n",
      "Feature: 12, Score: 0.00000\n",
      "Feature: 13, Score: 0.00000\n",
      "Feature: 14, Score: 0.00000\n",
      "Feature: 15, Score: 0.00000\n",
      "Feature: 16, Score: 0.00126\n",
      "Feature: 17, Score: 0.00000\n",
      "Feature: 18, Score: 0.00487\n",
      "Feature: 19, Score: 0.00000\n"
     ]
    },
    {
     "data": {
      "image/png": "[encoded data removed]",
      "text/plain": [
       "<Figure size 432x288 with 1 Axes>"
      ]
     },
     "metadata": {},
     "output_type": "display_data"
    },
    {
     "name": "stdout",
     "output_type": "stream",
     "text": [
      "\u001b[35mTraining Data Score:  100.00 %\n",
      "\u001b[35mTesting Data Score: 100.00 %\n"
     ]
    }
   ],
   "source": [
    "# Model 8: Xgboost classifier for feature importance on a classification problem\n",
    "from sklearn.datasets import make_classification\n",
    "from xgboost import XGBClassifier\n",
    "\n",
    "# define the model\n",
    "model = XGBClassifier()\n",
    "\n",
    "# split into train and test sets\n",
    "X_train, X_test, y_train, y_test = train_test_split(X, y, test_size=0.33, random_state=1)\n",
    "model.fit(X_train, y_train)\n",
    "\n",
    "# get importance\n",
    "importance = model.feature_importances_\n",
    "# summarize feature importance\n",
    "for i,v in enumerate(importance):\n",
    "    print('Feature: %0d, Score: %.5f' % (i,v))\n",
    "# plot feature importance\n",
    "plt.bar([x for x in range(len(importance))], importance)\n",
    "plt.show()\n",
    "\n",
    "# Print score \n",
    "print(f\"\\u001b[35mTraining Data Score:  %.2f\" % (model.score(X_train, y_train)*100),\"%\")\n",
    "print(f\"\\u001b[35mTesting Data Score: %.2f\" % (model.score(X_test, y_test)*100),\"%\")"
   ]
  },
  {
   "cell_type": "markdown",
   "id": "5ef83005",
   "metadata": {
    "ExecuteTime": {
     "end_time": "2022-04-20T07:28:11.836246Z",
     "start_time": "2022-04-20T07:28:11.827246Z"
    }
   },
   "source": [
    "##### Model 9: Permutation regressor feature importance with knn for regression"
   ]
  },
  {
   "cell_type": "code",
   "execution_count": 23,
   "id": "dfc572f2",
   "metadata": {
    "ExecuteTime": {
     "end_time": "2022-04-20T07:32:18.850431Z",
     "start_time": "2022-04-20T07:32:17.699657Z"
    }
   },
   "outputs": [
    {
     "name": "stdout",
     "output_type": "stream",
     "text": [
      "Feature: 0, Score: -0.00135\n",
      "Feature: 1, Score: 0.01964\n",
      "Feature: 2, Score: -0.00077\n",
      "Feature: 3, Score: 0.00013\n",
      "Feature: 4, Score: 0.00000\n",
      "Feature: 5, Score: 0.01628\n",
      "Feature: 6, Score: -0.00162\n",
      "Feature: 7, Score: 0.00002\n",
      "Feature: 8, Score: -0.00017\n",
      "Feature: 9, Score: 0.00709\n",
      "Feature: 10, Score: -0.00099\n",
      "Feature: 11, Score: 0.00000\n",
      "Feature: 12, Score: 0.00000\n",
      "Feature: 13, Score: 0.00000\n",
      "Feature: 14, Score: 0.00000\n",
      "Feature: 15, Score: -0.00003\n",
      "Feature: 16, Score: 0.00423\n",
      "Feature: 17, Score: 0.00013\n",
      "Feature: 18, Score: -0.00018\n",
      "Feature: 19, Score: 0.00120\n"
     ]
    },
    {
     "data": {
      "image/png": "[encoded data removed]",
      "text/plain": [
       "<Figure size 432x288 with 1 Axes>"
      ]
     },
     "metadata": {},
     "output_type": "display_data"
    },
    {
     "name": "stdout",
     "output_type": "stream",
     "text": [
      "\u001b[35mTraining Data Score:  52.30 %\n",
      "\u001b[35mTesting Data Score: 29.20 %\n"
     ]
    }
   ],
   "source": [
    "# Model 9: Permutation regressor feature importance with knn for regression\n",
    "from sklearn.datasets import make_regression\n",
    "from sklearn.neighbors import KNeighborsRegressor\n",
    "from sklearn.inspection import permutation_importance\n",
    "\n",
    "# define the model\n",
    "model = KNeighborsRegressor()\n",
    "\n",
    "# split into train and test sets\n",
    "X_train, X_test, y_train, y_test = train_test_split(X, y, test_size=0.33, random_state=1)\n",
    "model.fit(X_train, y_train)\n",
    "\n",
    "# perform permutation importance\n",
    "results = permutation_importance(model, X, y, scoring='neg_mean_squared_error')\n",
    "# get importance\n",
    "importance = results.importances_mean\n",
    "# summarize feature importance\n",
    "for i,v in enumerate(importance):\n",
    "    print('Feature: %0d, Score: %.5f' % (i,v))\n",
    "# plot feature importance\n",
    "plt.bar([x for x in range(len(importance))], importance)\n",
    "plt.show()\n",
    "\n",
    "# # Print score \n",
    "print(f\"\\u001b[35mTraining Data Score:  %.2f\" % (model.score(X_train, y_train)*100),\"%\")\n",
    "print(f\"\\u001b[35mTesting Data Score: %.2f\" % (model.score(X_test, y_test)*100),\"%\")"
   ]
  },
  {
   "cell_type": "markdown",
   "id": "9715cee3",
   "metadata": {},
   "source": [
    "##### Model 10: Permutation classifier feature importance with knn for classification"
   ]
  },
  {
   "cell_type": "code",
   "execution_count": 40,
   "id": "45d04564",
   "metadata": {
    "ExecuteTime": {
     "end_time": "2022-04-20T07:43:14.707175Z",
     "start_time": "2022-04-20T07:43:12.219924Z"
    }
   },
   "outputs": [
    {
     "name": "stdout",
     "output_type": "stream",
     "text": [
      "Feature: 0, Score: 0.00135\n",
      "Feature: 1, Score: 0.02297\n",
      "Feature: 2, Score: 0.00000\n",
      "Feature: 3, Score: 0.00000\n",
      "Feature: 4, Score: 0.00000\n",
      "Feature: 5, Score: 0.01622\n",
      "Feature: 6, Score: 0.00000\n",
      "Feature: 7, Score: 0.00000\n",
      "Feature: 8, Score: -0.00027\n",
      "Feature: 9, Score: 0.01135\n",
      "Feature: 10, Score: 0.00000\n",
      "Feature: 11, Score: 0.00000\n",
      "Feature: 12, Score: 0.00000\n",
      "Feature: 13, Score: 0.00000\n",
      "Feature: 14, Score: 0.00000\n",
      "Feature: 15, Score: 0.00000\n",
      "Feature: 16, Score: 0.00514\n",
      "Feature: 17, Score: 0.00054\n",
      "Feature: 18, Score: 0.00000\n",
      "Feature: 19, Score: 0.00108\n"
     ]
    },
    {
     "data": {
      "image/png": "[encoded data removed]",
      "text/plain": [
       "<Figure size 432x288 with 1 Axes>"
      ]
     },
     "metadata": {},
     "output_type": "display_data"
    },
    {
     "name": "stdout",
     "output_type": "stream",
     "text": [
      "\u001b[35mTraining Data Score:  96.77 %\n",
      "\u001b[35mTesting Data Score: 96.33 %\n"
     ]
    }
   ],
   "source": [
    "# Model 10: Permutation classifier feature importance with knn for classification\n",
    "from sklearn.datasets import make_classification\n",
    "from sklearn.neighbors import KNeighborsClassifier\n",
    "from sklearn.inspection import permutation_importance\n",
    "\n",
    "# define the model\n",
    "model = KNeighborsClassifier()\n",
    "\n",
    "# split into train and test sets\n",
    "X_train, X_test, y_train, y_test = train_test_split(X, y, test_size=0.33, random_state=1)\n",
    "model.fit(X_train, y_train)\n",
    "\n",
    "# perform permutation importance\n",
    "results = permutation_importance(model, X, y, scoring='accuracy')\n",
    "# get importance\n",
    "importance = results.importances_mean\n",
    "# summarize feature importance\n",
    "for i,v in enumerate(importance):\n",
    "    print('Feature: %0d, Score: %.5f' % (i,v))\n",
    "# plot feature importance\n",
    "plt.bar([x for x in range(len(importance))], importance)\n",
    "plt.show()\n",
    "\n",
    "# Print score \n",
    "print(f\"\\u001b[35mTraining Data Score:  %.2f\" % (model.score(X_train, y_train)*100),\"%\")\n",
    "print(f\"\\u001b[35mTesting Data Score: %.2f\" % (model.score(X_test, y_test)*100),\"%\")"
   ]
  },
  {
   "cell_type": "markdown",
   "id": "03e3dbb4",
   "metadata": {},
   "source": [
    "##### Model 11: Feature selection with importance"
   ]
  },
  {
   "cell_type": "code",
   "execution_count": 25,
   "id": "20cfbdec",
   "metadata": {
    "ExecuteTime": {
     "end_time": "2022-04-20T07:32:21.451329Z",
     "start_time": "2022-04-20T07:32:21.436325Z"
    }
   },
   "outputs": [
    {
     "name": "stdout",
     "output_type": "stream",
     "text": [
      "\u001b[35mAccuracy Rate: 99.18 \u001b[0;0m\n"
     ]
    }
   ],
   "source": [
    "# Model 11: Feature selection with importance - Evaluation of a model using all features for regression\n",
    "from sklearn.datasets import make_classification\n",
    "from sklearn.model_selection import train_test_split\n",
    "from sklearn.linear_model import LogisticRegression\n",
    "from sklearn.metrics import accuracy_score\n",
    "\n",
    "# define model\n",
    "model = LogisticRegression(solver='liblinear')\n",
    "\n",
    "# split into train and test sets\n",
    "X_train, X_test, y_train, y_test = train_test_split(X, y, test_size=0.33, random_state=1)\n",
    "# fit the model\n",
    "model.fit(X_train, y_train)\n",
    "\n",
    "# evaluate the model\n",
    "yhat = model.predict(X_test)\n",
    "# evaluate predictions\n",
    "accuracy = accuracy_score(y_test, yhat)\n",
    "print(f'\\u001b[35mAccuracy Rate: %.2f \\033[0;0m' % (accuracy*100)) "
   ]
  },
  {
   "cell_type": "markdown",
   "id": "de8de542",
   "metadata": {},
   "source": [
    "##### Model 12: Random forest feature importance for features selection for classification"
   ]
  },
  {
   "cell_type": "code",
   "execution_count": 26,
   "id": "49eb2743",
   "metadata": {
    "ExecuteTime": {
     "end_time": "2022-04-20T07:32:21.659373Z",
     "start_time": "2022-04-20T07:32:21.452329Z"
    }
   },
   "outputs": [
    {
     "name": "stdout",
     "output_type": "stream",
     "text": [
      "\u001b[35mAccuracy Rate: 100.00\n"
     ]
    }
   ],
   "source": [
    "# Model 12: Random forest feature importance for features selection for classification\n",
    "from sklearn.datasets import make_classification\n",
    "from sklearn.model_selection import train_test_split\n",
    "from sklearn.feature_selection import SelectFromModel\n",
    "from sklearn.ensemble import RandomForestClassifier\n",
    "from sklearn.linear_model import LogisticRegression\n",
    "from sklearn.metrics import accuracy_score\n",
    " \n",
    "# feature selection\n",
    "def select_features(X_train, y_train, X_test):\n",
    "    # configure to select a subset of features\n",
    "    fs = SelectFromModel(RandomForestClassifier(max_features=20))\n",
    "    # learn relationship from training data\n",
    "    fs.fit(X_train, y_train)\n",
    "    # transform train input data\n",
    "    X_train_fs = fs.transform(X_train)\n",
    "    # transform test input data\n",
    "    X_test_fs = fs.transform(X_test)\n",
    "    return X_train_fs, X_test_fs, fs\n",
    " \n",
    "# split into train and test sets\n",
    "X_train, X_test, y_train, y_test = train_test_split(X, y, test_size=0.33, random_state=1)\n",
    "# feature selection\n",
    "X_train_fs, X_test_fs, fs = select_features(X_train, y_train, X_test)\n",
    "\n",
    "# fit the model\n",
    "model = LogisticRegression(solver='liblinear')\n",
    "model.fit(X_train_fs, y_train)\n",
    "# evaluate the model\n",
    "y_valuate = model.predict(X_test_fs)\n",
    "# evaluate predictions\n",
    "accuracy = accuracy_score(y_test, y_valuate)\n",
    "print('\\u001b[35mAccuracy Rate: %.2f' % (accuracy*100))"
   ]
  },
  {
   "cell_type": "markdown",
   "id": "16a1f9c2",
   "metadata": {},
   "source": [
    "<font color=\"blue\">\n",
    "<b> Based on the analysis above, the top 4 machine learning models that provide the 100% accuracy are:<br>\n",
    "1) Model 03: using DecisionTreeRegressor()  <br> 2) Model 04: using DecisionTreeClassifier() <br> 3) Model 08: using XGBClassifier()  <br> 4) Model 12: using sklearn.feature_selection\n",
    "</font>"
   ]
  },
  {
   "cell_type": "markdown",
   "id": "2b067bf7",
   "metadata": {},
   "source": [
    "## Save the model using pickle"
   ]
  },
  {
   "cell_type": "code",
   "execution_count": 27,
   "id": "6b2fc1c1",
   "metadata": {
    "ExecuteTime": {
     "end_time": "2022-04-20T07:32:21.675378Z",
     "start_time": "2022-04-20T07:32:21.660375Z"
    }
   },
   "outputs": [],
   "source": [
    "# Create pickle file\n",
    "import pickle \n",
    "knnPickle = open('../models/RFmodel_absence_discipline_prediction', 'wb') \n",
    "\n",
    "# Save the trained model with one of the highest accuracy (i.e. Model 12) to file \n",
    "pickle.dump(fs, knnPickle)     \n",
    "knnPickle.close()"
   ]
  },
  {
   "cell_type": "markdown",
   "id": "39d2b6f3",
   "metadata": {},
   "source": [
    "## Load the model using pickle"
   ]
  },
  {
   "cell_type": "code",
   "execution_count": 28,
   "id": "1da5e8df",
   "metadata": {
    "ExecuteTime": {
     "end_time": "2022-04-20T07:32:21.707063Z",
     "start_time": "2022-04-20T07:32:21.679380Z"
    }
   },
   "outputs": [
    {
     "name": "stdout",
     "output_type": "stream",
     "text": [
      "SelectFromModel(estimator=RandomForestClassifier(max_features=20))\n"
     ]
    }
   ],
   "source": [
    "# load the model from disk using pickle\n",
    "loaded_model = pickle.load(open('../models/RFmodel_absence_discipline_prediction', 'rb'))\n",
    "print(loaded_model)"
   ]
  },
  {
   "cell_type": "markdown",
   "id": "23179b53",
   "metadata": {},
   "source": [
    "<font color=\"blue\"><li>This dataset contains too many columns and hence it's not practical to develop a front end app for requesting user input.<br><li>\n",
    "It can only be used for analysing different methodologies, libraries and approaches of machine learning to achieve the best prediction and accuracy score."
   ]
  },
  {
   "cell_type": "code",
   "execution_count": null,
   "id": "d5e7f145",
   "metadata": {},
   "outputs": [],
   "source": []
  }
 ],
 "metadata": {
  "kernelspec": {
   "display_name": "Python 3 (ipykernel)",
   "language": "python",
   "name": "python3"
  },
  "language_info": {
   "codemirror_mode": {
    "name": "ipython",
    "version": 3
   },
   "file_extension": ".py",
   "mimetype": "text/x-python",
   "name": "python",
   "nbconvert_exporter": "python",
   "pygments_lexer": "ipython3",
   "version": "3.9.7"
  }
 },
 "nbformat": 4,
 "nbformat_minor": 5
}
