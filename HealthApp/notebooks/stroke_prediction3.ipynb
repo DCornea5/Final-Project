{
 "cells": [
  {
   "cell_type": "code",
   "execution_count": 1,
   "id": "396e2c06-00e2-4640-91aa-3a0d09a84c9e",
   "metadata": {},
   "outputs": [],
   "source": [
    "%matplotlib inline\n",
    "import matplotlib.pyplot as plt\n",
    "import numpy as np\n",
    "import pandas as pd\n",
    "import seaborn as sns"
   ]
  },
  {
   "cell_type": "code",
   "execution_count": 2,
   "id": "6e0f11fa-257b-4414-a06c-8f37f67246be",
   "metadata": {},
   "outputs": [
    {
     "data": {
      "text/html": [
       "<div>\n",
       "<style scoped>\n",
       "    .dataframe tbody tr th:only-of-type {\n",
       "        vertical-align: middle;\n",
       "    }\n",
       "\n",
       "    .dataframe tbody tr th {\n",
       "        vertical-align: top;\n",
       "    }\n",
       "\n",
       "    .dataframe thead th {\n",
       "        text-align: right;\n",
       "    }\n",
       "</style>\n",
       "<table border=\"1\" class=\"dataframe\">\n",
       "  <thead>\n",
       "    <tr style=\"text-align: right;\">\n",
       "      <th></th>\n",
       "      <th>HeartDisease</th>\n",
       "      <th>BMI</th>\n",
       "      <th>Smoking</th>\n",
       "      <th>AlcoholDrinking</th>\n",
       "      <th>Stroke</th>\n",
       "      <th>PhysicalHealth</th>\n",
       "      <th>MentalHealth</th>\n",
       "      <th>DiffWalking</th>\n",
       "      <th>Sex</th>\n",
       "      <th>AgeCategory</th>\n",
       "      <th>Race</th>\n",
       "      <th>Diabetic</th>\n",
       "      <th>PhysicalActivity</th>\n",
       "      <th>GenHealth</th>\n",
       "      <th>SleepTime</th>\n",
       "      <th>Asthma</th>\n",
       "      <th>KidneyDisease</th>\n",
       "      <th>SkinCancer</th>\n",
       "    </tr>\n",
       "  </thead>\n",
       "  <tbody>\n",
       "    <tr>\n",
       "      <th>0</th>\n",
       "      <td>No</td>\n",
       "      <td>16.60</td>\n",
       "      <td>Yes</td>\n",
       "      <td>No</td>\n",
       "      <td>No</td>\n",
       "      <td>3.0</td>\n",
       "      <td>30.0</td>\n",
       "      <td>No</td>\n",
       "      <td>Female</td>\n",
       "      <td>55-59</td>\n",
       "      <td>White</td>\n",
       "      <td>Yes</td>\n",
       "      <td>Yes</td>\n",
       "      <td>Very good</td>\n",
       "      <td>5.0</td>\n",
       "      <td>Yes</td>\n",
       "      <td>No</td>\n",
       "      <td>Yes</td>\n",
       "    </tr>\n",
       "    <tr>\n",
       "      <th>1</th>\n",
       "      <td>No</td>\n",
       "      <td>20.34</td>\n",
       "      <td>No</td>\n",
       "      <td>No</td>\n",
       "      <td>Yes</td>\n",
       "      <td>0.0</td>\n",
       "      <td>0.0</td>\n",
       "      <td>No</td>\n",
       "      <td>Female</td>\n",
       "      <td>80 or older</td>\n",
       "      <td>White</td>\n",
       "      <td>No</td>\n",
       "      <td>Yes</td>\n",
       "      <td>Very good</td>\n",
       "      <td>7.0</td>\n",
       "      <td>No</td>\n",
       "      <td>No</td>\n",
       "      <td>No</td>\n",
       "    </tr>\n",
       "    <tr>\n",
       "      <th>2</th>\n",
       "      <td>No</td>\n",
       "      <td>26.58</td>\n",
       "      <td>Yes</td>\n",
       "      <td>No</td>\n",
       "      <td>No</td>\n",
       "      <td>20.0</td>\n",
       "      <td>30.0</td>\n",
       "      <td>No</td>\n",
       "      <td>Male</td>\n",
       "      <td>65-69</td>\n",
       "      <td>White</td>\n",
       "      <td>Yes</td>\n",
       "      <td>Yes</td>\n",
       "      <td>Fair</td>\n",
       "      <td>8.0</td>\n",
       "      <td>Yes</td>\n",
       "      <td>No</td>\n",
       "      <td>No</td>\n",
       "    </tr>\n",
       "    <tr>\n",
       "      <th>3</th>\n",
       "      <td>No</td>\n",
       "      <td>24.21</td>\n",
       "      <td>No</td>\n",
       "      <td>No</td>\n",
       "      <td>No</td>\n",
       "      <td>0.0</td>\n",
       "      <td>0.0</td>\n",
       "      <td>No</td>\n",
       "      <td>Female</td>\n",
       "      <td>75-79</td>\n",
       "      <td>White</td>\n",
       "      <td>No</td>\n",
       "      <td>No</td>\n",
       "      <td>Good</td>\n",
       "      <td>6.0</td>\n",
       "      <td>No</td>\n",
       "      <td>No</td>\n",
       "      <td>Yes</td>\n",
       "    </tr>\n",
       "    <tr>\n",
       "      <th>4</th>\n",
       "      <td>No</td>\n",
       "      <td>23.71</td>\n",
       "      <td>No</td>\n",
       "      <td>No</td>\n",
       "      <td>No</td>\n",
       "      <td>28.0</td>\n",
       "      <td>0.0</td>\n",
       "      <td>Yes</td>\n",
       "      <td>Female</td>\n",
       "      <td>40-44</td>\n",
       "      <td>White</td>\n",
       "      <td>No</td>\n",
       "      <td>Yes</td>\n",
       "      <td>Very good</td>\n",
       "      <td>8.0</td>\n",
       "      <td>No</td>\n",
       "      <td>No</td>\n",
       "      <td>No</td>\n",
       "    </tr>\n",
       "    <tr>\n",
       "      <th>...</th>\n",
       "      <td>...</td>\n",
       "      <td>...</td>\n",
       "      <td>...</td>\n",
       "      <td>...</td>\n",
       "      <td>...</td>\n",
       "      <td>...</td>\n",
       "      <td>...</td>\n",
       "      <td>...</td>\n",
       "      <td>...</td>\n",
       "      <td>...</td>\n",
       "      <td>...</td>\n",
       "      <td>...</td>\n",
       "      <td>...</td>\n",
       "      <td>...</td>\n",
       "      <td>...</td>\n",
       "      <td>...</td>\n",
       "      <td>...</td>\n",
       "      <td>...</td>\n",
       "    </tr>\n",
       "    <tr>\n",
       "      <th>319790</th>\n",
       "      <td>Yes</td>\n",
       "      <td>27.41</td>\n",
       "      <td>Yes</td>\n",
       "      <td>No</td>\n",
       "      <td>No</td>\n",
       "      <td>7.0</td>\n",
       "      <td>0.0</td>\n",
       "      <td>Yes</td>\n",
       "      <td>Male</td>\n",
       "      <td>60-64</td>\n",
       "      <td>Hispanic</td>\n",
       "      <td>Yes</td>\n",
       "      <td>No</td>\n",
       "      <td>Fair</td>\n",
       "      <td>6.0</td>\n",
       "      <td>Yes</td>\n",
       "      <td>No</td>\n",
       "      <td>No</td>\n",
       "    </tr>\n",
       "    <tr>\n",
       "      <th>319791</th>\n",
       "      <td>No</td>\n",
       "      <td>29.84</td>\n",
       "      <td>Yes</td>\n",
       "      <td>No</td>\n",
       "      <td>No</td>\n",
       "      <td>0.0</td>\n",
       "      <td>0.0</td>\n",
       "      <td>No</td>\n",
       "      <td>Male</td>\n",
       "      <td>35-39</td>\n",
       "      <td>Hispanic</td>\n",
       "      <td>No</td>\n",
       "      <td>Yes</td>\n",
       "      <td>Very good</td>\n",
       "      <td>5.0</td>\n",
       "      <td>Yes</td>\n",
       "      <td>No</td>\n",
       "      <td>No</td>\n",
       "    </tr>\n",
       "    <tr>\n",
       "      <th>319792</th>\n",
       "      <td>No</td>\n",
       "      <td>24.24</td>\n",
       "      <td>No</td>\n",
       "      <td>No</td>\n",
       "      <td>No</td>\n",
       "      <td>0.0</td>\n",
       "      <td>0.0</td>\n",
       "      <td>No</td>\n",
       "      <td>Female</td>\n",
       "      <td>45-49</td>\n",
       "      <td>Hispanic</td>\n",
       "      <td>No</td>\n",
       "      <td>Yes</td>\n",
       "      <td>Good</td>\n",
       "      <td>6.0</td>\n",
       "      <td>No</td>\n",
       "      <td>No</td>\n",
       "      <td>No</td>\n",
       "    </tr>\n",
       "    <tr>\n",
       "      <th>319793</th>\n",
       "      <td>No</td>\n",
       "      <td>32.81</td>\n",
       "      <td>No</td>\n",
       "      <td>No</td>\n",
       "      <td>No</td>\n",
       "      <td>0.0</td>\n",
       "      <td>0.0</td>\n",
       "      <td>No</td>\n",
       "      <td>Female</td>\n",
       "      <td>25-29</td>\n",
       "      <td>Hispanic</td>\n",
       "      <td>No</td>\n",
       "      <td>No</td>\n",
       "      <td>Good</td>\n",
       "      <td>12.0</td>\n",
       "      <td>No</td>\n",
       "      <td>No</td>\n",
       "      <td>No</td>\n",
       "    </tr>\n",
       "    <tr>\n",
       "      <th>319794</th>\n",
       "      <td>No</td>\n",
       "      <td>46.56</td>\n",
       "      <td>No</td>\n",
       "      <td>No</td>\n",
       "      <td>No</td>\n",
       "      <td>0.0</td>\n",
       "      <td>0.0</td>\n",
       "      <td>No</td>\n",
       "      <td>Female</td>\n",
       "      <td>80 or older</td>\n",
       "      <td>Hispanic</td>\n",
       "      <td>No</td>\n",
       "      <td>Yes</td>\n",
       "      <td>Good</td>\n",
       "      <td>8.0</td>\n",
       "      <td>No</td>\n",
       "      <td>No</td>\n",
       "      <td>No</td>\n",
       "    </tr>\n",
       "  </tbody>\n",
       "</table>\n",
       "<p>319795 rows × 18 columns</p>\n",
       "</div>"
      ],
      "text/plain": [
       "       HeartDisease    BMI Smoking AlcoholDrinking Stroke  PhysicalHealth  \\\n",
       "0                No  16.60     Yes              No     No             3.0   \n",
       "1                No  20.34      No              No    Yes             0.0   \n",
       "2                No  26.58     Yes              No     No            20.0   \n",
       "3                No  24.21      No              No     No             0.0   \n",
       "4                No  23.71      No              No     No            28.0   \n",
       "...             ...    ...     ...             ...    ...             ...   \n",
       "319790          Yes  27.41     Yes              No     No             7.0   \n",
       "319791           No  29.84     Yes              No     No             0.0   \n",
       "319792           No  24.24      No              No     No             0.0   \n",
       "319793           No  32.81      No              No     No             0.0   \n",
       "319794           No  46.56      No              No     No             0.0   \n",
       "\n",
       "        MentalHealth DiffWalking     Sex  AgeCategory      Race Diabetic  \\\n",
       "0               30.0          No  Female        55-59     White      Yes   \n",
       "1                0.0          No  Female  80 or older     White       No   \n",
       "2               30.0          No    Male        65-69     White      Yes   \n",
       "3                0.0          No  Female        75-79     White       No   \n",
       "4                0.0         Yes  Female        40-44     White       No   \n",
       "...              ...         ...     ...          ...       ...      ...   \n",
       "319790           0.0         Yes    Male        60-64  Hispanic      Yes   \n",
       "319791           0.0          No    Male        35-39  Hispanic       No   \n",
       "319792           0.0          No  Female        45-49  Hispanic       No   \n",
       "319793           0.0          No  Female        25-29  Hispanic       No   \n",
       "319794           0.0          No  Female  80 or older  Hispanic       No   \n",
       "\n",
       "       PhysicalActivity  GenHealth  SleepTime Asthma KidneyDisease SkinCancer  \n",
       "0                   Yes  Very good        5.0    Yes            No        Yes  \n",
       "1                   Yes  Very good        7.0     No            No         No  \n",
       "2                   Yes       Fair        8.0    Yes            No         No  \n",
       "3                    No       Good        6.0     No            No        Yes  \n",
       "4                   Yes  Very good        8.0     No            No         No  \n",
       "...                 ...        ...        ...    ...           ...        ...  \n",
       "319790               No       Fair        6.0    Yes            No         No  \n",
       "319791              Yes  Very good        5.0    Yes            No         No  \n",
       "319792              Yes       Good        6.0     No            No         No  \n",
       "319793               No       Good       12.0     No            No         No  \n",
       "319794              Yes       Good        8.0     No            No         No  \n",
       "\n",
       "[319795 rows x 18 columns]"
      ]
     },
     "execution_count": 2,
     "metadata": {},
     "output_type": "execute_result"
    }
   ],
   "source": [
    "raw_df = pd.read_csv(\"../data/heart_2020_cleaned.csv\")\n",
    "raw_df"
   ]
  },
  {
   "cell_type": "markdown",
   "id": "3b3b6558",
   "metadata": {},
   "source": [
    "## EDA"
   ]
  },
  {
   "cell_type": "code",
   "execution_count": 3,
   "id": "51b1eaef",
   "metadata": {},
   "outputs": [
    {
     "data": {
      "text/html": [
       "<div>\n",
       "<style scoped>\n",
       "    .dataframe tbody tr th:only-of-type {\n",
       "        vertical-align: middle;\n",
       "    }\n",
       "\n",
       "    .dataframe tbody tr th {\n",
       "        vertical-align: top;\n",
       "    }\n",
       "\n",
       "    .dataframe thead th {\n",
       "        text-align: right;\n",
       "    }\n",
       "</style>\n",
       "<table border=\"1\" class=\"dataframe\">\n",
       "  <thead>\n",
       "    <tr style=\"text-align: right;\">\n",
       "      <th></th>\n",
       "      <th>BMI</th>\n",
       "      <th>PhysicalHealth</th>\n",
       "      <th>MentalHealth</th>\n",
       "      <th>SleepTime</th>\n",
       "    </tr>\n",
       "  </thead>\n",
       "  <tbody>\n",
       "    <tr>\n",
       "      <th>count</th>\n",
       "      <td>319795.000000</td>\n",
       "      <td>319795.00000</td>\n",
       "      <td>319795.000000</td>\n",
       "      <td>319795.000000</td>\n",
       "    </tr>\n",
       "    <tr>\n",
       "      <th>mean</th>\n",
       "      <td>28.325399</td>\n",
       "      <td>3.37171</td>\n",
       "      <td>3.898366</td>\n",
       "      <td>7.097075</td>\n",
       "    </tr>\n",
       "    <tr>\n",
       "      <th>std</th>\n",
       "      <td>6.356100</td>\n",
       "      <td>7.95085</td>\n",
       "      <td>7.955235</td>\n",
       "      <td>1.436007</td>\n",
       "    </tr>\n",
       "    <tr>\n",
       "      <th>min</th>\n",
       "      <td>12.020000</td>\n",
       "      <td>0.00000</td>\n",
       "      <td>0.000000</td>\n",
       "      <td>1.000000</td>\n",
       "    </tr>\n",
       "    <tr>\n",
       "      <th>25%</th>\n",
       "      <td>24.030000</td>\n",
       "      <td>0.00000</td>\n",
       "      <td>0.000000</td>\n",
       "      <td>6.000000</td>\n",
       "    </tr>\n",
       "    <tr>\n",
       "      <th>50%</th>\n",
       "      <td>27.340000</td>\n",
       "      <td>0.00000</td>\n",
       "      <td>0.000000</td>\n",
       "      <td>7.000000</td>\n",
       "    </tr>\n",
       "    <tr>\n",
       "      <th>75%</th>\n",
       "      <td>31.420000</td>\n",
       "      <td>2.00000</td>\n",
       "      <td>3.000000</td>\n",
       "      <td>8.000000</td>\n",
       "    </tr>\n",
       "    <tr>\n",
       "      <th>max</th>\n",
       "      <td>94.850000</td>\n",
       "      <td>30.00000</td>\n",
       "      <td>30.000000</td>\n",
       "      <td>24.000000</td>\n",
       "    </tr>\n",
       "  </tbody>\n",
       "</table>\n",
       "</div>"
      ],
      "text/plain": [
       "                 BMI  PhysicalHealth   MentalHealth      SleepTime\n",
       "count  319795.000000    319795.00000  319795.000000  319795.000000\n",
       "mean       28.325399         3.37171       3.898366       7.097075\n",
       "std         6.356100         7.95085       7.955235       1.436007\n",
       "min        12.020000         0.00000       0.000000       1.000000\n",
       "25%        24.030000         0.00000       0.000000       6.000000\n",
       "50%        27.340000         0.00000       0.000000       7.000000\n",
       "75%        31.420000         2.00000       3.000000       8.000000\n",
       "max        94.850000        30.00000      30.000000      24.000000"
      ]
     },
     "execution_count": 3,
     "metadata": {},
     "output_type": "execute_result"
    }
   ],
   "source": [
    "raw_df.describe()"
   ]
  },
  {
   "cell_type": "code",
   "execution_count": 4,
   "id": "84400cc2",
   "metadata": {},
   "outputs": [
    {
     "name": "stdout",
     "output_type": "stream",
     "text": [
      "<class 'pandas.core.frame.DataFrame'>\n",
      "RangeIndex: 319795 entries, 0 to 319794\n",
      "Data columns (total 18 columns):\n",
      " #   Column            Non-Null Count   Dtype  \n",
      "---  ------            --------------   -----  \n",
      " 0   HeartDisease      319795 non-null  object \n",
      " 1   BMI               319795 non-null  float64\n",
      " 2   Smoking           319795 non-null  object \n",
      " 3   AlcoholDrinking   319795 non-null  object \n",
      " 4   Stroke            319795 non-null  object \n",
      " 5   PhysicalHealth    319795 non-null  float64\n",
      " 6   MentalHealth      319795 non-null  float64\n",
      " 7   DiffWalking       319795 non-null  object \n",
      " 8   Sex               319795 non-null  object \n",
      " 9   AgeCategory       319795 non-null  object \n",
      " 10  Race              319795 non-null  object \n",
      " 11  Diabetic          319795 non-null  object \n",
      " 12  PhysicalActivity  319795 non-null  object \n",
      " 13  GenHealth         319795 non-null  object \n",
      " 14  SleepTime         319795 non-null  float64\n",
      " 15  Asthma            319795 non-null  object \n",
      " 16  KidneyDisease     319795 non-null  object \n",
      " 17  SkinCancer        319795 non-null  object \n",
      "dtypes: float64(4), object(14)\n",
      "memory usage: 43.9+ MB\n"
     ]
    }
   ],
   "source": [
    "raw_df.info()"
   ]
  },
  {
   "cell_type": "code",
   "execution_count": 5,
   "id": "a74a32c7",
   "metadata": {},
   "outputs": [
    {
     "name": "stdout",
     "output_type": "stream",
     "text": [
      "[['No' 307726]\n",
      " ['Yes' 12069]]\n"
     ]
    }
   ],
   "source": [
    "stroke = np.array(raw_df[\"Stroke\"])\n",
    "unique, counts = np.unique(stroke, return_counts=True)\n",
    "print(np.column_stack((unique,counts)))"
   ]
  },
  {
   "cell_type": "code",
   "execution_count": 6,
   "id": "85ae958e",
   "metadata": {},
   "outputs": [
    {
     "data": {
      "image/png": "[encoded data removed]",
      "text/plain": [
       "<Figure size 432x288 with 1 Axes>"
      ]
     },
     "metadata": {},
     "output_type": "display_data"
    }
   ],
   "source": [
    "#create pie chart\n",
    "plt.pie(counts, labels = [\"No stroke\", \"Stroke\"],  shadow= True, autopct='%.0f%%')\n",
    "plt.title(\"Imbalanced classes\")\n",
    "plt.show()"
   ]
  },
  {
   "cell_type": "markdown",
   "id": "b43456cc",
   "metadata": {},
   "source": [
    "## Remove the dominant class - Under-sampling the dataset"
   ]
  },
  {
   "cell_type": "code",
   "execution_count": 7,
   "id": "cc461a17",
   "metadata": {},
   "outputs": [],
   "source": [
    "# Seperate df by class of stroke\n",
    "stroke_df = raw_df.loc[raw_df.Stroke == \"Yes\"]\n",
    "no_stroke_df = raw_df.loc[raw_df.Stroke == \"No\"]\n"
   ]
  },
  {
   "cell_type": "code",
   "execution_count": 8,
   "id": "e18560a9",
   "metadata": {},
   "outputs": [],
   "source": [
    "# randomly select row from no stroke data frame to drop\n",
    "np.random.seed(10)\n",
    "remove_n = 307726-12069\n",
    "remove_indices = np.random.choice(no_stroke_df.index, remove_n, replace = False)\n",
    "reduced_no_stroke_df = no_stroke_df.drop(remove_indices)\n",
    "\n",
    "# combine new no stroke df with stroke data frame\n",
    "df = stroke_df.append(reduced_no_stroke_df)\n",
    "df.sort_index(inplace= True)"
   ]
  },
  {
   "cell_type": "code",
   "execution_count": 9,
   "id": "20301f43",
   "metadata": {},
   "outputs": [
    {
     "data": {
      "text/html": [
       "<div>\n",
       "<style scoped>\n",
       "    .dataframe tbody tr th:only-of-type {\n",
       "        vertical-align: middle;\n",
       "    }\n",
       "\n",
       "    .dataframe tbody tr th {\n",
       "        vertical-align: top;\n",
       "    }\n",
       "\n",
       "    .dataframe thead th {\n",
       "        text-align: right;\n",
       "    }\n",
       "</style>\n",
       "<table border=\"1\" class=\"dataframe\">\n",
       "  <thead>\n",
       "    <tr style=\"text-align: right;\">\n",
       "      <th></th>\n",
       "      <th>HeartDisease</th>\n",
       "      <th>BMI</th>\n",
       "      <th>Smoking</th>\n",
       "      <th>AlcoholDrinking</th>\n",
       "      <th>Stroke</th>\n",
       "      <th>PhysicalHealth</th>\n",
       "      <th>MentalHealth</th>\n",
       "      <th>DiffWalking</th>\n",
       "      <th>Sex</th>\n",
       "      <th>AgeCategory</th>\n",
       "      <th>Race</th>\n",
       "      <th>Diabetic</th>\n",
       "      <th>PhysicalActivity</th>\n",
       "      <th>GenHealth</th>\n",
       "      <th>SleepTime</th>\n",
       "      <th>Asthma</th>\n",
       "      <th>KidneyDisease</th>\n",
       "      <th>SkinCancer</th>\n",
       "    </tr>\n",
       "  </thead>\n",
       "  <tbody>\n",
       "    <tr>\n",
       "      <th>1</th>\n",
       "      <td>No</td>\n",
       "      <td>20.34</td>\n",
       "      <td>No</td>\n",
       "      <td>No</td>\n",
       "      <td>Yes</td>\n",
       "      <td>0.0</td>\n",
       "      <td>0.0</td>\n",
       "      <td>No</td>\n",
       "      <td>Female</td>\n",
       "      <td>80 or older</td>\n",
       "      <td>White</td>\n",
       "      <td>No</td>\n",
       "      <td>Yes</td>\n",
       "      <td>Very good</td>\n",
       "      <td>7.0</td>\n",
       "      <td>No</td>\n",
       "      <td>No</td>\n",
       "      <td>No</td>\n",
       "    </tr>\n",
       "    <tr>\n",
       "      <th>22</th>\n",
       "      <td>No</td>\n",
       "      <td>26.17</td>\n",
       "      <td>Yes</td>\n",
       "      <td>No</td>\n",
       "      <td>No</td>\n",
       "      <td>0.0</td>\n",
       "      <td>15.0</td>\n",
       "      <td>No</td>\n",
       "      <td>Female</td>\n",
       "      <td>45-49</td>\n",
       "      <td>White</td>\n",
       "      <td>No</td>\n",
       "      <td>Yes</td>\n",
       "      <td>Very good</td>\n",
       "      <td>6.0</td>\n",
       "      <td>No</td>\n",
       "      <td>No</td>\n",
       "      <td>No</td>\n",
       "    </tr>\n",
       "    <tr>\n",
       "      <th>25</th>\n",
       "      <td>No</td>\n",
       "      <td>29.18</td>\n",
       "      <td>Yes</td>\n",
       "      <td>No</td>\n",
       "      <td>No</td>\n",
       "      <td>30.0</td>\n",
       "      <td>30.0</td>\n",
       "      <td>Yes</td>\n",
       "      <td>Female</td>\n",
       "      <td>60-64</td>\n",
       "      <td>White</td>\n",
       "      <td>No</td>\n",
       "      <td>No</td>\n",
       "      <td>Poor</td>\n",
       "      <td>6.0</td>\n",
       "      <td>Yes</td>\n",
       "      <td>No</td>\n",
       "      <td>No</td>\n",
       "    </tr>\n",
       "    <tr>\n",
       "      <th>35</th>\n",
       "      <td>Yes</td>\n",
       "      <td>32.98</td>\n",
       "      <td>Yes</td>\n",
       "      <td>No</td>\n",
       "      <td>Yes</td>\n",
       "      <td>10.0</td>\n",
       "      <td>0.0</td>\n",
       "      <td>Yes</td>\n",
       "      <td>Male</td>\n",
       "      <td>75-79</td>\n",
       "      <td>White</td>\n",
       "      <td>Yes</td>\n",
       "      <td>Yes</td>\n",
       "      <td>Poor</td>\n",
       "      <td>4.0</td>\n",
       "      <td>No</td>\n",
       "      <td>No</td>\n",
       "      <td>Yes</td>\n",
       "    </tr>\n",
       "    <tr>\n",
       "      <th>40</th>\n",
       "      <td>No</td>\n",
       "      <td>22.60</td>\n",
       "      <td>Yes</td>\n",
       "      <td>No</td>\n",
       "      <td>Yes</td>\n",
       "      <td>0.0</td>\n",
       "      <td>10.0</td>\n",
       "      <td>No</td>\n",
       "      <td>Female</td>\n",
       "      <td>55-59</td>\n",
       "      <td>White</td>\n",
       "      <td>No</td>\n",
       "      <td>No</td>\n",
       "      <td>Very good</td>\n",
       "      <td>8.0</td>\n",
       "      <td>No</td>\n",
       "      <td>No</td>\n",
       "      <td>No</td>\n",
       "    </tr>\n",
       "    <tr>\n",
       "      <th>...</th>\n",
       "      <td>...</td>\n",
       "      <td>...</td>\n",
       "      <td>...</td>\n",
       "      <td>...</td>\n",
       "      <td>...</td>\n",
       "      <td>...</td>\n",
       "      <td>...</td>\n",
       "      <td>...</td>\n",
       "      <td>...</td>\n",
       "      <td>...</td>\n",
       "      <td>...</td>\n",
       "      <td>...</td>\n",
       "      <td>...</td>\n",
       "      <td>...</td>\n",
       "      <td>...</td>\n",
       "      <td>...</td>\n",
       "      <td>...</td>\n",
       "      <td>...</td>\n",
       "    </tr>\n",
       "    <tr>\n",
       "      <th>319732</th>\n",
       "      <td>No</td>\n",
       "      <td>18.79</td>\n",
       "      <td>No</td>\n",
       "      <td>Yes</td>\n",
       "      <td>No</td>\n",
       "      <td>30.0</td>\n",
       "      <td>15.0</td>\n",
       "      <td>Yes</td>\n",
       "      <td>Male</td>\n",
       "      <td>55-59</td>\n",
       "      <td>Hispanic</td>\n",
       "      <td>No</td>\n",
       "      <td>No</td>\n",
       "      <td>Fair</td>\n",
       "      <td>6.0</td>\n",
       "      <td>Yes</td>\n",
       "      <td>No</td>\n",
       "      <td>No</td>\n",
       "    </tr>\n",
       "    <tr>\n",
       "      <th>319739</th>\n",
       "      <td>Yes</td>\n",
       "      <td>35.02</td>\n",
       "      <td>No</td>\n",
       "      <td>No</td>\n",
       "      <td>No</td>\n",
       "      <td>15.0</td>\n",
       "      <td>0.0</td>\n",
       "      <td>No</td>\n",
       "      <td>Male</td>\n",
       "      <td>60-64</td>\n",
       "      <td>Hispanic</td>\n",
       "      <td>Yes</td>\n",
       "      <td>Yes</td>\n",
       "      <td>Fair</td>\n",
       "      <td>8.0</td>\n",
       "      <td>No</td>\n",
       "      <td>Yes</td>\n",
       "      <td>No</td>\n",
       "    </tr>\n",
       "    <tr>\n",
       "      <th>319740</th>\n",
       "      <td>No</td>\n",
       "      <td>26.07</td>\n",
       "      <td>No</td>\n",
       "      <td>No</td>\n",
       "      <td>Yes</td>\n",
       "      <td>0.0</td>\n",
       "      <td>0.0</td>\n",
       "      <td>No</td>\n",
       "      <td>Female</td>\n",
       "      <td>60-64</td>\n",
       "      <td>Hispanic</td>\n",
       "      <td>No</td>\n",
       "      <td>No</td>\n",
       "      <td>Good</td>\n",
       "      <td>6.0</td>\n",
       "      <td>No</td>\n",
       "      <td>No</td>\n",
       "      <td>No</td>\n",
       "    </tr>\n",
       "    <tr>\n",
       "      <th>319765</th>\n",
       "      <td>Yes</td>\n",
       "      <td>38.45</td>\n",
       "      <td>No</td>\n",
       "      <td>No</td>\n",
       "      <td>Yes</td>\n",
       "      <td>30.0</td>\n",
       "      <td>15.0</td>\n",
       "      <td>Yes</td>\n",
       "      <td>Female</td>\n",
       "      <td>55-59</td>\n",
       "      <td>Hispanic</td>\n",
       "      <td>Yes</td>\n",
       "      <td>Yes</td>\n",
       "      <td>Poor</td>\n",
       "      <td>6.0</td>\n",
       "      <td>Yes</td>\n",
       "      <td>No</td>\n",
       "      <td>No</td>\n",
       "    </tr>\n",
       "    <tr>\n",
       "      <th>319775</th>\n",
       "      <td>No</td>\n",
       "      <td>24.37</td>\n",
       "      <td>Yes</td>\n",
       "      <td>No</td>\n",
       "      <td>No</td>\n",
       "      <td>0.0</td>\n",
       "      <td>0.0</td>\n",
       "      <td>No</td>\n",
       "      <td>Male</td>\n",
       "      <td>35-39</td>\n",
       "      <td>Hispanic</td>\n",
       "      <td>No</td>\n",
       "      <td>No</td>\n",
       "      <td>Good</td>\n",
       "      <td>8.0</td>\n",
       "      <td>No</td>\n",
       "      <td>No</td>\n",
       "      <td>No</td>\n",
       "    </tr>\n",
       "  </tbody>\n",
       "</table>\n",
       "<p>24138 rows × 18 columns</p>\n",
       "</div>"
      ],
      "text/plain": [
       "       HeartDisease    BMI Smoking AlcoholDrinking Stroke  PhysicalHealth  \\\n",
       "1                No  20.34      No              No    Yes             0.0   \n",
       "22               No  26.17     Yes              No     No             0.0   \n",
       "25               No  29.18     Yes              No     No            30.0   \n",
       "35              Yes  32.98     Yes              No    Yes            10.0   \n",
       "40               No  22.60     Yes              No    Yes             0.0   \n",
       "...             ...    ...     ...             ...    ...             ...   \n",
       "319732           No  18.79      No             Yes     No            30.0   \n",
       "319739          Yes  35.02      No              No     No            15.0   \n",
       "319740           No  26.07      No              No    Yes             0.0   \n",
       "319765          Yes  38.45      No              No    Yes            30.0   \n",
       "319775           No  24.37     Yes              No     No             0.0   \n",
       "\n",
       "        MentalHealth DiffWalking     Sex  AgeCategory      Race Diabetic  \\\n",
       "1                0.0          No  Female  80 or older     White       No   \n",
       "22              15.0          No  Female        45-49     White       No   \n",
       "25              30.0         Yes  Female        60-64     White       No   \n",
       "35               0.0         Yes    Male        75-79     White      Yes   \n",
       "40              10.0          No  Female        55-59     White       No   \n",
       "...              ...         ...     ...          ...       ...      ...   \n",
       "319732          15.0         Yes    Male        55-59  Hispanic       No   \n",
       "319739           0.0          No    Male        60-64  Hispanic      Yes   \n",
       "319740           0.0          No  Female        60-64  Hispanic       No   \n",
       "319765          15.0         Yes  Female        55-59  Hispanic      Yes   \n",
       "319775           0.0          No    Male        35-39  Hispanic       No   \n",
       "\n",
       "       PhysicalActivity  GenHealth  SleepTime Asthma KidneyDisease SkinCancer  \n",
       "1                   Yes  Very good        7.0     No            No         No  \n",
       "22                  Yes  Very good        6.0     No            No         No  \n",
       "25                   No       Poor        6.0    Yes            No         No  \n",
       "35                  Yes       Poor        4.0     No            No        Yes  \n",
       "40                   No  Very good        8.0     No            No         No  \n",
       "...                 ...        ...        ...    ...           ...        ...  \n",
       "319732               No       Fair        6.0    Yes            No         No  \n",
       "319739              Yes       Fair        8.0     No           Yes         No  \n",
       "319740               No       Good        6.0     No            No         No  \n",
       "319765              Yes       Poor        6.0    Yes            No         No  \n",
       "319775               No       Good        8.0     No            No         No  \n",
       "\n",
       "[24138 rows x 18 columns]"
      ]
     },
     "execution_count": 9,
     "metadata": {},
     "output_type": "execute_result"
    }
   ],
   "source": [
    "df"
   ]
  },
  {
   "cell_type": "code",
   "execution_count": 10,
   "id": "7a5c229d",
   "metadata": {},
   "outputs": [
    {
     "name": "stdout",
     "output_type": "stream",
     "text": [
      "[['No' 12069]\n",
      " ['Yes' 12069]]\n"
     ]
    }
   ],
   "source": [
    "stroke = np.array(df[\"Stroke\"])\n",
    "unique, counts = np.unique(stroke, return_counts=True)\n",
    "print(np.column_stack((unique,counts)))"
   ]
  },
  {
   "cell_type": "code",
   "execution_count": 11,
   "id": "76c155f9",
   "metadata": {},
   "outputs": [
    {
     "data": {
      "image/png": "[encoded data removed]",
      "text/plain": [
       "<Figure size 432x288 with 1 Axes>"
      ]
     },
     "metadata": {},
     "output_type": "display_data"
    }
   ],
   "source": [
    "#create pie chart\n",
    "plt.pie(counts, labels = [\"No stroke\", \"Stroke\"],  shadow= True, autopct='%.0f%%')\n",
    "plt.title(\"Imbalanced classes\")\n",
    "plt.show()"
   ]
  },
  {
   "cell_type": "code",
   "execution_count": 12,
   "id": "1f3e27cb",
   "metadata": {},
   "outputs": [
    {
     "data": {
      "text/plain": [
       "array(['18-24', '25-29', '30-34', '35-39', '40-44', '45-49', '50-54',\n",
       "       '55-59', '60-64', '65-69', '70-74', '75-79', '80 or older'],\n",
       "      dtype=object)"
      ]
     },
     "execution_count": 12,
     "metadata": {},
     "output_type": "execute_result"
    }
   ],
   "source": [
    "bins = np.sort(df[\"AgeCategory\"].unique())\n",
    "bins"
   ]
  },
  {
   "cell_type": "code",
   "execution_count": 13,
   "id": "b0cd8534",
   "metadata": {},
   "outputs": [
    {
     "data": {
      "text/plain": [
       "<AxesSubplot:xlabel='AgeCategory', ylabel='Count'>"
      ]
     },
     "execution_count": 13,
     "metadata": {},
     "output_type": "execute_result"
    },
    {
     "data": {
      "image/png": "[encoded data removed]",
      "text/plain": [
       "<Figure size 720x576 with 1 Axes>"
      ]
     },
     "metadata": {
      "needs_background": "light"
     },
     "output_type": "display_data"
    }
   ],
   "source": [
    "# Set up the matplotlib figure\n",
    "f, ax = plt.subplots(figsize=(10, 8))\n",
    "sns.histplot(df, x = \"AgeCategory\")\n"
   ]
  },
  {
   "cell_type": "markdown",
   "id": "a6c10482",
   "metadata": {},
   "source": [
    "## Finding features of important"
   ]
  },
  {
   "cell_type": "code",
   "execution_count": 14,
   "id": "67c620d3",
   "metadata": {},
   "outputs": [],
   "source": [
    "# setting up dependent variable\n",
    "y = df[\"Stroke\"]"
   ]
  },
  {
   "cell_type": "code",
   "execution_count": 15,
   "id": "bba1708c-25cc-4fea-b929-4d6242ebfb94",
   "metadata": {
    "tags": []
   },
   "outputs": [],
   "source": [
    "# encoded target column heart disease\n",
    "from sklearn.preprocessing import LabelEncoder\n",
    "label_encoder = LabelEncoder()\n",
    "label_encoder.fit(y)\n",
    "encoded_y = label_encoder.transform(y)\n"
   ]
  },
  {
   "cell_type": "code",
   "execution_count": 16,
   "id": "0d9f5157-9e9f-48ef-bf58-6521b70f3d0d",
   "metadata": {},
   "outputs": [
    {
     "data": {
      "text/plain": [
       "Index(['BMI', 'PhysicalHealth', 'MentalHealth', 'SleepTime', 'HeartDisease_No',\n",
       "       'HeartDisease_Yes', 'Smoking_No', 'Smoking_Yes', 'AlcoholDrinking_No',\n",
       "       'AlcoholDrinking_Yes', 'DiffWalking_No', 'DiffWalking_Yes',\n",
       "       'Sex_Female', 'Sex_Male', 'AgeCategory_18-24', 'AgeCategory_25-29',\n",
       "       'AgeCategory_30-34', 'AgeCategory_35-39', 'AgeCategory_40-44',\n",
       "       'AgeCategory_45-49', 'AgeCategory_50-54', 'AgeCategory_55-59',\n",
       "       'AgeCategory_60-64', 'AgeCategory_65-69', 'AgeCategory_70-74',\n",
       "       'AgeCategory_75-79', 'AgeCategory_80 or older',\n",
       "       'Race_American Indian/Alaskan Native', 'Race_Asian', 'Race_Black',\n",
       "       'Race_Hispanic', 'Race_Other', 'Race_White', 'Diabetic_No',\n",
       "       'Diabetic_No, borderline diabetes', 'Diabetic_Yes',\n",
       "       'Diabetic_Yes (during pregnancy)', 'PhysicalActivity_No',\n",
       "       'PhysicalActivity_Yes', 'GenHealth_Excellent', 'GenHealth_Fair',\n",
       "       'GenHealth_Good', 'GenHealth_Poor', 'GenHealth_Very good', 'Asthma_No',\n",
       "       'Asthma_Yes', 'KidneyDisease_No', 'KidneyDisease_Yes', 'SkinCancer_No',\n",
       "       'SkinCancer_Yes'],\n",
       "      dtype='object')"
      ]
     },
     "execution_count": 16,
     "metadata": {},
     "output_type": "execute_result"
    }
   ],
   "source": [
    "# encode data\n",
    "data = df.drop([\"Stroke\"], axis = 1)\n",
    "X= pd.get_dummies(data)\n",
    "X.columns"
   ]
  },
  {
   "cell_type": "code",
   "execution_count": 17,
   "id": "92c12123-b0f7-44ac-87f9-96be9f17a468",
   "metadata": {},
   "outputs": [],
   "source": [
    "# remove unnecessary columns\n",
    "X = X.drop([\"HeartDisease_No\",\"Sex_Female\",\"Smoking_No\",\"AlcoholDrinking_No\",\"DiffWalking_No\",\"PhysicalActivity_No\",\"Asthma_No\",\"KidneyDisease_No\",\"SkinCancer_No\"],axis = 1)"
   ]
  },
  {
   "cell_type": "code",
   "execution_count": 18,
   "id": "db84de48",
   "metadata": {},
   "outputs": [
    {
     "data": {
      "text/plain": [
       "Index(['BMI', 'PhysicalHealth', 'MentalHealth', 'SleepTime',\n",
       "       'HeartDisease_Yes', 'Smoking_Yes', 'AlcoholDrinking_Yes',\n",
       "       'DiffWalking_Yes', 'Sex_Male', 'AgeCategory_18-24', 'AgeCategory_25-29',\n",
       "       'AgeCategory_30-34', 'AgeCategory_35-39', 'AgeCategory_40-44',\n",
       "       'AgeCategory_45-49', 'AgeCategory_50-54', 'AgeCategory_55-59',\n",
       "       'AgeCategory_60-64', 'AgeCategory_65-69', 'AgeCategory_70-74',\n",
       "       'AgeCategory_75-79', 'AgeCategory_80 or older',\n",
       "       'Race_American Indian/Alaskan Native', 'Race_Asian', 'Race_Black',\n",
       "       'Race_Hispanic', 'Race_Other', 'Race_White', 'Diabetic_No',\n",
       "       'Diabetic_No, borderline diabetes', 'Diabetic_Yes',\n",
       "       'Diabetic_Yes (during pregnancy)', 'PhysicalActivity_Yes',\n",
       "       'GenHealth_Excellent', 'GenHealth_Fair', 'GenHealth_Good',\n",
       "       'GenHealth_Poor', 'GenHealth_Very good', 'Asthma_Yes',\n",
       "       'KidneyDisease_Yes', 'SkinCancer_Yes'],\n",
       "      dtype='object')"
      ]
     },
     "execution_count": 18,
     "metadata": {},
     "output_type": "execute_result"
    }
   ],
   "source": [
    "# Store column names\n",
    "feature_names = X.columns\n",
    "feature_names"
   ]
  },
  {
   "cell_type": "code",
   "execution_count": 19,
   "id": "2483d7cc-381c-4b7e-91c2-abe78aff01ce",
   "metadata": {},
   "outputs": [],
   "source": [
    "# split data into training and testing portion\n",
    "from sklearn.model_selection import train_test_split\n",
    "X_train, X_test, y_train, y_test = train_test_split(X, encoded_y, random_state=42)"
   ]
  },
  {
   "cell_type": "code",
   "execution_count": 20,
   "id": "6fc011de-0e02-4cc3-9017-0c5a3333aca7",
   "metadata": {},
   "outputs": [],
   "source": [
    "from sklearn.ensemble import RandomForestClassifier\n",
    "rf = RandomForestClassifier(n_estimators=50) \n",
    "rf = rf.fit(X_train,y_train)\n"
   ]
  },
  {
   "cell_type": "code",
   "execution_count": 21,
   "id": "43d01ede",
   "metadata": {},
   "outputs": [
    {
     "data": {
      "text/plain": [
       "[(0.20170917223924742, 'BMI'),\n",
       " (0.08624415023522349, 'SleepTime'),\n",
       " (0.07072990100174954, 'PhysicalHealth'),\n",
       " (0.06707519831992864, 'HeartDisease_Yes'),\n",
       " (0.061857453619156025, 'DiffWalking_Yes'),\n",
       " (0.05725299276069537, 'MentalHealth'),\n",
       " (0.028416672593055733, 'Sex_Male'),\n",
       " (0.02674835601427539, 'AgeCategory_80 or older'),\n",
       " (0.025067618207489886, 'PhysicalActivity_Yes'),\n",
       " (0.024742841189386865, 'Smoking_Yes'),\n",
       " (0.021132119402061073, 'GenHealth_Fair'),\n",
       " (0.019458331769583382, 'GenHealth_Excellent'),\n",
       " (0.019356230473048575, 'Asthma_Yes'),\n",
       " (0.018294696843146916, 'AgeCategory_75-79'),\n",
       " (0.01795041353306744, 'GenHealth_Poor'),\n",
       " (0.017169039848863542, 'SkinCancer_Yes'),\n",
       " (0.01594241508363983, 'Diabetic_Yes'),\n",
       " (0.015690632128674085, 'AgeCategory_70-74'),\n",
       " (0.015616781762350934, 'Diabetic_No'),\n",
       " (0.014272226348538473, 'GenHealth_Good'),\n",
       " (0.014120855218537301, 'Race_White'),\n",
       " (0.014032210418145827, 'GenHealth_Very good'),\n",
       " (0.013792948402402248, 'KidneyDisease_Yes'),\n",
       " (0.012826509611782172, 'AgeCategory_65-69'),\n",
       " (0.011681926428399726, 'AgeCategory_60-64'),\n",
       " (0.010645666902626763, 'AlcoholDrinking_Yes'),\n",
       " (0.010334070616115807, 'Race_Black'),\n",
       " (0.00983851683132879, 'AgeCategory_55-59'),\n",
       " (0.009660492121304938, 'AgeCategory_18-24'),\n",
       " (0.009339864350200528, 'Race_Hispanic'),\n",
       " (0.008022492186238678, 'AgeCategory_50-54'),\n",
       " (0.007248600702776274, 'AgeCategory_40-44'),\n",
       " (0.006693328378209558, 'AgeCategory_45-49'),\n",
       " (0.006617117645442577, 'AgeCategory_30-34'),\n",
       " (0.006441747574201188, 'AgeCategory_35-39'),\n",
       " (0.0062040546490722175, 'Race_Other'),\n",
       " (0.0055583341574802995, 'AgeCategory_25-29'),\n",
       " (0.004133040313409773, 'Diabetic_No, borderline diabetes'),\n",
       " (0.003675590101255459, 'Race_American Indian/Alaskan Native'),\n",
       " (0.003071175040531176, 'Race_Asian'),\n",
       " (0.0013342149773559174, 'Diabetic_Yes (during pregnancy)')]"
      ]
     },
     "execution_count": 21,
     "metadata": {},
     "output_type": "execute_result"
    }
   ],
   "source": [
    "# calculate feature importance\n",
    "importances = rf.feature_importances_\n",
    "# We can sort the features by their importance\n",
    "sorted(zip(importances, feature_names), reverse=True)"
   ]
  },
  {
   "cell_type": "code",
   "execution_count": 25,
   "id": "ca0e8cb8",
   "metadata": {},
   "outputs": [
    {
     "name": "stderr",
     "output_type": "stream",
     "text": [
      "C:\\Users\\knguy\\anaconda3\\lib\\site-packages\\seaborn\\_decorators.py:36: FutureWarning: Pass the following variables as keyword args: x, y. From version 0.12, the only valid positional argument will be `data`, and passing other arguments without an explicit keyword will result in an error or misinterpretation.\n",
      "  warnings.warn(\n"
     ]
    },
    {
     "data": {
      "text/plain": [
       "Text(0.5, 1.0, 'Features of importance - Stroke prediction')"
      ]
     },
     "execution_count": 25,
     "metadata": {},
     "output_type": "execute_result"
    },
    {
     "data": {
      "image/png": "[encoded data removed]",
      "text/plain": [
       "<Figure size 576x720 with 1 Axes>"
      ]
     },
     "metadata": {
      "needs_background": "light"
     },
     "output_type": "display_data"
    }
   ],
   "source": [
    "fig, axis = plt.subplots(figsize = (8,10))\n",
    "sns.barplot(importances,feature_names)\n",
    "plt.xlabel(\"percentage\")\n",
    "plt.title(\"Features of importance - Stroke prediction\")"
   ]
  },
  {
   "cell_type": "markdown",
   "id": "70e6d794",
   "metadata": {},
   "source": [
    "## Data preprocessing"
   ]
  },
  {
   "cell_type": "code",
   "execution_count": 26,
   "id": "4a35dec7",
   "metadata": {},
   "outputs": [],
   "source": [
    "# drop not important columns after finding out about feature of importance\n",
    "df = df.drop([\"Race\",\"HeartDisease\",\"GenHealth\",\"Diabetic\"], axis = 1)"
   ]
  },
  {
   "cell_type": "code",
   "execution_count": 27,
   "id": "0b666912",
   "metadata": {},
   "outputs": [],
   "source": [
    "# setting up dependent variable\n",
    "y = df[\"Stroke\"]"
   ]
  },
  {
   "cell_type": "code",
   "execution_count": 28,
   "id": "4ea88a63",
   "metadata": {
    "tags": []
   },
   "outputs": [],
   "source": [
    "# encoded target column heart disease\n",
    "from sklearn.preprocessing import LabelEncoder\n",
    "label_encoder = LabelEncoder()\n",
    "label_encoder.fit(y)\n",
    "encoded_y = label_encoder.transform(y)\n"
   ]
  },
  {
   "cell_type": "code",
   "execution_count": 29,
   "id": "8d283e73",
   "metadata": {},
   "outputs": [
    {
     "data": {
      "text/plain": [
       "Index(['BMI', 'PhysicalHealth', 'MentalHealth', 'SleepTime', 'Smoking_No',\n",
       "       'Smoking_Yes', 'AlcoholDrinking_No', 'AlcoholDrinking_Yes',\n",
       "       'DiffWalking_No', 'DiffWalking_Yes', 'Sex_Female', 'Sex_Male',\n",
       "       'AgeCategory_18-24', 'AgeCategory_25-29', 'AgeCategory_30-34',\n",
       "       'AgeCategory_35-39', 'AgeCategory_40-44', 'AgeCategory_45-49',\n",
       "       'AgeCategory_50-54', 'AgeCategory_55-59', 'AgeCategory_60-64',\n",
       "       'AgeCategory_65-69', 'AgeCategory_70-74', 'AgeCategory_75-79',\n",
       "       'AgeCategory_80 or older', 'PhysicalActivity_No',\n",
       "       'PhysicalActivity_Yes', 'Asthma_No', 'Asthma_Yes', 'KidneyDisease_No',\n",
       "       'KidneyDisease_Yes', 'SkinCancer_No', 'SkinCancer_Yes'],\n",
       "      dtype='object')"
      ]
     },
     "execution_count": 29,
     "metadata": {},
     "output_type": "execute_result"
    }
   ],
   "source": [
    "# encode data\n",
    "data = df.drop([\"Stroke\"], axis = 1)\n",
    "X= pd.get_dummies(data)\n",
    "X.columns"
   ]
  },
  {
   "cell_type": "code",
   "execution_count": 30,
   "id": "ec98b2ab",
   "metadata": {},
   "outputs": [],
   "source": [
    "# remove unnecessary columns\n",
    "X = X.drop([\"Sex_Female\",\"Smoking_No\",\"AlcoholDrinking_No\",\"DiffWalking_No\",\"PhysicalActivity_No\",\"Asthma_No\",\"KidneyDisease_No\",\"SkinCancer_No\"],axis = 1)"
   ]
  },
  {
   "cell_type": "code",
   "execution_count": 31,
   "id": "2888f551-75d5-49b0-bfc0-03629c1781a9",
   "metadata": {},
   "outputs": [
    {
     "data": {
      "text/plain": [
       "Index(['BMI', 'PhysicalHealth', 'MentalHealth', 'SleepTime', 'Smoking_Yes',\n",
       "       'AlcoholDrinking_Yes', 'DiffWalking_Yes', 'Sex_Male',\n",
       "       'AgeCategory_18-24', 'AgeCategory_25-29', 'AgeCategory_30-34',\n",
       "       'AgeCategory_35-39', 'AgeCategory_40-44', 'AgeCategory_45-49',\n",
       "       'AgeCategory_50-54', 'AgeCategory_55-59', 'AgeCategory_60-64',\n",
       "       'AgeCategory_65-69', 'AgeCategory_70-74', 'AgeCategory_75-79',\n",
       "       'AgeCategory_80 or older', 'PhysicalActivity_Yes', 'Asthma_Yes',\n",
       "       'KidneyDisease_Yes', 'SkinCancer_Yes'],\n",
       "      dtype='object')"
      ]
     },
     "execution_count": 31,
     "metadata": {},
     "output_type": "execute_result"
    }
   ],
   "source": [
    "# Store column names\n",
    "feature_names = X.columns\n",
    "feature_names"
   ]
  },
  {
   "cell_type": "code",
   "execution_count": 32,
   "id": "826e7c9d-2f5e-4374-969f-4955f43c2ae9",
   "metadata": {},
   "outputs": [
    {
     "data": {
      "text/html": [
       "<div>\n",
       "<style scoped>\n",
       "    .dataframe tbody tr th:only-of-type {\n",
       "        vertical-align: middle;\n",
       "    }\n",
       "\n",
       "    .dataframe tbody tr th {\n",
       "        vertical-align: top;\n",
       "    }\n",
       "\n",
       "    .dataframe thead th {\n",
       "        text-align: right;\n",
       "    }\n",
       "</style>\n",
       "<table border=\"1\" class=\"dataframe\">\n",
       "  <thead>\n",
       "    <tr style=\"text-align: right;\">\n",
       "      <th></th>\n",
       "      <th>BMI</th>\n",
       "      <th>PhysicalHealth</th>\n",
       "      <th>MentalHealth</th>\n",
       "      <th>SleepTime</th>\n",
       "      <th>Smoking_Yes</th>\n",
       "      <th>AlcoholDrinking_Yes</th>\n",
       "      <th>DiffWalking_Yes</th>\n",
       "      <th>Sex_Male</th>\n",
       "      <th>AgeCategory_18-24</th>\n",
       "      <th>AgeCategory_25-29</th>\n",
       "      <th>...</th>\n",
       "      <th>AgeCategory_55-59</th>\n",
       "      <th>AgeCategory_60-64</th>\n",
       "      <th>AgeCategory_65-69</th>\n",
       "      <th>AgeCategory_70-74</th>\n",
       "      <th>AgeCategory_75-79</th>\n",
       "      <th>AgeCategory_80 or older</th>\n",
       "      <th>PhysicalActivity_Yes</th>\n",
       "      <th>Asthma_Yes</th>\n",
       "      <th>KidneyDisease_Yes</th>\n",
       "      <th>SkinCancer_Yes</th>\n",
       "    </tr>\n",
       "  </thead>\n",
       "  <tbody>\n",
       "    <tr>\n",
       "      <th>1</th>\n",
       "      <td>20.34</td>\n",
       "      <td>0.0</td>\n",
       "      <td>0.0</td>\n",
       "      <td>7.0</td>\n",
       "      <td>0</td>\n",
       "      <td>0</td>\n",
       "      <td>0</td>\n",
       "      <td>0</td>\n",
       "      <td>0</td>\n",
       "      <td>0</td>\n",
       "      <td>...</td>\n",
       "      <td>0</td>\n",
       "      <td>0</td>\n",
       "      <td>0</td>\n",
       "      <td>0</td>\n",
       "      <td>0</td>\n",
       "      <td>1</td>\n",
       "      <td>1</td>\n",
       "      <td>0</td>\n",
       "      <td>0</td>\n",
       "      <td>0</td>\n",
       "    </tr>\n",
       "    <tr>\n",
       "      <th>22</th>\n",
       "      <td>26.17</td>\n",
       "      <td>0.0</td>\n",
       "      <td>15.0</td>\n",
       "      <td>6.0</td>\n",
       "      <td>1</td>\n",
       "      <td>0</td>\n",
       "      <td>0</td>\n",
       "      <td>0</td>\n",
       "      <td>0</td>\n",
       "      <td>0</td>\n",
       "      <td>...</td>\n",
       "      <td>0</td>\n",
       "      <td>0</td>\n",
       "      <td>0</td>\n",
       "      <td>0</td>\n",
       "      <td>0</td>\n",
       "      <td>0</td>\n",
       "      <td>1</td>\n",
       "      <td>0</td>\n",
       "      <td>0</td>\n",
       "      <td>0</td>\n",
       "    </tr>\n",
       "    <tr>\n",
       "      <th>25</th>\n",
       "      <td>29.18</td>\n",
       "      <td>30.0</td>\n",
       "      <td>30.0</td>\n",
       "      <td>6.0</td>\n",
       "      <td>1</td>\n",
       "      <td>0</td>\n",
       "      <td>1</td>\n",
       "      <td>0</td>\n",
       "      <td>0</td>\n",
       "      <td>0</td>\n",
       "      <td>...</td>\n",
       "      <td>0</td>\n",
       "      <td>1</td>\n",
       "      <td>0</td>\n",
       "      <td>0</td>\n",
       "      <td>0</td>\n",
       "      <td>0</td>\n",
       "      <td>0</td>\n",
       "      <td>1</td>\n",
       "      <td>0</td>\n",
       "      <td>0</td>\n",
       "    </tr>\n",
       "    <tr>\n",
       "      <th>35</th>\n",
       "      <td>32.98</td>\n",
       "      <td>10.0</td>\n",
       "      <td>0.0</td>\n",
       "      <td>4.0</td>\n",
       "      <td>1</td>\n",
       "      <td>0</td>\n",
       "      <td>1</td>\n",
       "      <td>1</td>\n",
       "      <td>0</td>\n",
       "      <td>0</td>\n",
       "      <td>...</td>\n",
       "      <td>0</td>\n",
       "      <td>0</td>\n",
       "      <td>0</td>\n",
       "      <td>0</td>\n",
       "      <td>1</td>\n",
       "      <td>0</td>\n",
       "      <td>1</td>\n",
       "      <td>0</td>\n",
       "      <td>0</td>\n",
       "      <td>1</td>\n",
       "    </tr>\n",
       "    <tr>\n",
       "      <th>40</th>\n",
       "      <td>22.60</td>\n",
       "      <td>0.0</td>\n",
       "      <td>10.0</td>\n",
       "      <td>8.0</td>\n",
       "      <td>1</td>\n",
       "      <td>0</td>\n",
       "      <td>0</td>\n",
       "      <td>0</td>\n",
       "      <td>0</td>\n",
       "      <td>0</td>\n",
       "      <td>...</td>\n",
       "      <td>1</td>\n",
       "      <td>0</td>\n",
       "      <td>0</td>\n",
       "      <td>0</td>\n",
       "      <td>0</td>\n",
       "      <td>0</td>\n",
       "      <td>0</td>\n",
       "      <td>0</td>\n",
       "      <td>0</td>\n",
       "      <td>0</td>\n",
       "    </tr>\n",
       "  </tbody>\n",
       "</table>\n",
       "<p>5 rows × 25 columns</p>\n",
       "</div>"
      ],
      "text/plain": [
       "      BMI  PhysicalHealth  MentalHealth  SleepTime  Smoking_Yes  \\\n",
       "1   20.34             0.0           0.0        7.0            0   \n",
       "22  26.17             0.0          15.0        6.0            1   \n",
       "25  29.18            30.0          30.0        6.0            1   \n",
       "35  32.98            10.0           0.0        4.0            1   \n",
       "40  22.60             0.0          10.0        8.0            1   \n",
       "\n",
       "    AlcoholDrinking_Yes  DiffWalking_Yes  Sex_Male  AgeCategory_18-24  \\\n",
       "1                     0                0         0                  0   \n",
       "22                    0                0         0                  0   \n",
       "25                    0                1         0                  0   \n",
       "35                    0                1         1                  0   \n",
       "40                    0                0         0                  0   \n",
       "\n",
       "    AgeCategory_25-29  ...  AgeCategory_55-59  AgeCategory_60-64  \\\n",
       "1                   0  ...                  0                  0   \n",
       "22                  0  ...                  0                  0   \n",
       "25                  0  ...                  0                  1   \n",
       "35                  0  ...                  0                  0   \n",
       "40                  0  ...                  1                  0   \n",
       "\n",
       "    AgeCategory_65-69  AgeCategory_70-74  AgeCategory_75-79  \\\n",
       "1                   0                  0                  0   \n",
       "22                  0                  0                  0   \n",
       "25                  0                  0                  0   \n",
       "35                  0                  0                  1   \n",
       "40                  0                  0                  0   \n",
       "\n",
       "    AgeCategory_80 or older  PhysicalActivity_Yes  Asthma_Yes  \\\n",
       "1                         1                     1           0   \n",
       "22                        0                     1           0   \n",
       "25                        0                     0           1   \n",
       "35                        0                     1           0   \n",
       "40                        0                     0           0   \n",
       "\n",
       "    KidneyDisease_Yes  SkinCancer_Yes  \n",
       "1                   0               0  \n",
       "22                  0               0  \n",
       "25                  0               0  \n",
       "35                  0               1  \n",
       "40                  0               0  \n",
       "\n",
       "[5 rows x 25 columns]"
      ]
     },
     "execution_count": 32,
     "metadata": {},
     "output_type": "execute_result"
    }
   ],
   "source": [
    "X.head()"
   ]
  },
  {
   "cell_type": "code",
   "execution_count": 33,
   "id": "4a82ba3c",
   "metadata": {},
   "outputs": [],
   "source": [
    "# split data into training and testing portion\n",
    "from sklearn.model_selection import train_test_split\n",
    "X_train, X_test, y_train, y_test = train_test_split(X, encoded_y, random_state=42)"
   ]
  },
  {
   "cell_type": "markdown",
   "id": "a6396311",
   "metadata": {},
   "source": [
    "## Logistic Regression Model"
   ]
  },
  {
   "cell_type": "code",
   "execution_count": 34,
   "id": "36d2605b-f93a-4d22-97bd-ed7a112074d3",
   "metadata": {},
   "outputs": [],
   "source": [
    "from sklearn.linear_model import LogisticRegression\n",
    "logistic = LogisticRegression(max_iter=1000)"
   ]
  },
  {
   "cell_type": "code",
   "execution_count": 35,
   "id": "4b7d918d-5b4c-41f1-969c-6b2e38757bab",
   "metadata": {},
   "outputs": [
    {
     "data": {
      "text/plain": [
       "LogisticRegression(max_iter=1000)"
      ]
     },
     "execution_count": 35,
     "metadata": {},
     "output_type": "execute_result"
    }
   ],
   "source": [
    "logistic.fit(X_train,y_train)"
   ]
  },
  {
   "cell_type": "code",
   "execution_count": 36,
   "id": "9e045ca7",
   "metadata": {},
   "outputs": [
    {
     "name": "stdout",
     "output_type": "stream",
     "text": [
      "              precision    recall  f1-score   support\n",
      "\n",
      "   no stroke       0.72      0.73      0.72      3027\n",
      "      stroke       0.73      0.71      0.72      3008\n",
      "\n",
      "    accuracy                           0.72      6035\n",
      "   macro avg       0.72      0.72      0.72      6035\n",
      "weighted avg       0.72      0.72      0.72      6035\n",
      "\n"
     ]
    }
   ],
   "source": [
    "predictions = logistic.predict(X_test)\n",
    "from sklearn.metrics import classification_report\n",
    "print(classification_report(y_test, predictions,\n",
    "                        target_names=[\"no stroke\", \"stroke\"]))"
   ]
  },
  {
   "cell_type": "markdown",
   "id": "7d4a39b9",
   "metadata": {},
   "source": [
    "## Decision tree model"
   ]
  },
  {
   "cell_type": "code",
   "execution_count": 37,
   "id": "e8005ada-202e-419b-85de-7f474da3b4f1",
   "metadata": {},
   "outputs": [],
   "source": [
    "from sklearn import tree\n",
    "dtree = tree.DecisionTreeClassifier()"
   ]
  },
  {
   "cell_type": "code",
   "execution_count": 38,
   "id": "a5770b34-87cf-44c6-a2c6-b1847500c20e",
   "metadata": {},
   "outputs": [
    {
     "data": {
      "text/plain": [
       "DecisionTreeClassifier()"
      ]
     },
     "execution_count": 38,
     "metadata": {},
     "output_type": "execute_result"
    }
   ],
   "source": [
    "dtree.fit(X_train,y_train)"
   ]
  },
  {
   "cell_type": "code",
   "execution_count": 39,
   "id": "cd7b9d5c",
   "metadata": {},
   "outputs": [
    {
     "name": "stdout",
     "output_type": "stream",
     "text": [
      "              precision    recall  f1-score   support\n",
      "\n",
      "   no stroke       0.63      0.63      0.63      3027\n",
      "      stroke       0.63      0.63      0.63      3008\n",
      "\n",
      "    accuracy                           0.63      6035\n",
      "   macro avg       0.63      0.63      0.63      6035\n",
      "weighted avg       0.63      0.63      0.63      6035\n",
      "\n"
     ]
    }
   ],
   "source": [
    "predictions = dtree.predict(X_test)\n",
    "from sklearn.metrics import classification_report\n",
    "print(classification_report(y_test, predictions,\n",
    "                        target_names=[\"no stroke\", \"stroke\"]))"
   ]
  },
  {
   "cell_type": "markdown",
   "id": "40a19d3c",
   "metadata": {},
   "source": [
    "## Random forest model"
   ]
  },
  {
   "cell_type": "code",
   "execution_count": 40,
   "id": "942877da",
   "metadata": {},
   "outputs": [],
   "source": [
    "from sklearn.ensemble import RandomForestClassifier\n",
    "rf = RandomForestClassifier(n_estimators=50) \n",
    "rf = rf.fit(X_train,y_train)\n"
   ]
  },
  {
   "cell_type": "code",
   "execution_count": 41,
   "id": "5a3e9df7",
   "metadata": {},
   "outputs": [
    {
     "name": "stdout",
     "output_type": "stream",
     "text": [
      "              precision    recall  f1-score   support\n",
      "\n",
      "   no stroke       0.70      0.66      0.68      3027\n",
      "      stroke       0.68      0.72      0.70      3008\n",
      "\n",
      "    accuracy                           0.69      6035\n",
      "   macro avg       0.69      0.69      0.69      6035\n",
      "weighted avg       0.69      0.69      0.69      6035\n",
      "\n"
     ]
    }
   ],
   "source": [
    "predictions = rf.predict(X_test)\n",
    "from sklearn.metrics import classification_report\n",
    "print(classification_report(y_test, predictions,\n",
    "                        target_names=[\"no stroke\", \"stroke\"]))"
   ]
  },
  {
   "cell_type": "markdown",
   "id": "685b36cd",
   "metadata": {},
   "source": [
    "# K Neighbour model"
   ]
  },
  {
   "cell_type": "code",
   "execution_count": 42,
   "id": "b9c3350a",
   "metadata": {},
   "outputs": [
    {
     "name": "stdout",
     "output_type": "stream",
     "text": [
      "k: 1, Train/Test Score: 0.995/0.613\n",
      "k: 3, Train/Test Score: 0.810/0.635\n",
      "k: 5, Train/Test Score: 0.767/0.653\n",
      "k: 7, Train/Test Score: 0.749/0.661\n",
      "k: 9, Train/Test Score: 0.737/0.667\n",
      "k: 11, Train/Test Score: 0.729/0.665\n",
      "k: 13, Train/Test Score: 0.723/0.664\n",
      "k: 15, Train/Test Score: 0.719/0.665\n",
      "k: 17, Train/Test Score: 0.715/0.670\n",
      "k: 19, Train/Test Score: 0.715/0.670\n"
     ]
    },
    {
     "data": {
      "image/png": "[encoded data removed]",
      "text/plain": [
       "<Figure size 432x288 with 1 Axes>"
      ]
     },
     "metadata": {
      "needs_background": "light"
     },
     "output_type": "display_data"
    }
   ],
   "source": [
    "from sklearn.neighbors import KNeighborsClassifier\n",
    "train_scores = []\n",
    "test_scores = []\n",
    "for k in range(1,20,2):\n",
    "    knn = KNeighborsClassifier(n_neighbors=k)\n",
    "    knn.fit(X_train,y_train)\n",
    "    train_score = knn.score(X_train, y_train)\n",
    "    test_score = knn.score(X_test, y_test)\n",
    "    train_scores.append(train_score)\n",
    "    test_scores.append(test_score)\n",
    "    print(f\"k: {k}, Train/Test Score: {train_score:.3f}/{test_score:.3f}\")\n",
    "\n",
    "\n",
    "plt.plot(range(1, 20, 2), train_scores, marker='o')\n",
    "plt.plot(range(1, 20, 2), test_scores, marker=\"x\")\n",
    "plt.xlabel(\"k neighbors\")\n",
    "plt.ylabel(\"Testing accuracy Score\")\n",
    "plt.show()"
   ]
  },
  {
   "cell_type": "markdown",
   "id": "9fb3af86",
   "metadata": {},
   "source": [
    "## SVC model"
   ]
  },
  {
   "cell_type": "code",
   "execution_count": 43,
   "id": "d2be2d97",
   "metadata": {},
   "outputs": [
    {
     "data": {
      "text/plain": [
       "SVC(kernel='linear')"
      ]
     },
     "execution_count": 43,
     "metadata": {},
     "output_type": "execute_result"
    }
   ],
   "source": [
    "# Vector machine linear classifier\n",
    "from sklearn.svm import SVC \n",
    "svc_model = SVC(kernel='linear')\n",
    "svc_model.fit(X_train, y_train)"
   ]
  },
  {
   "cell_type": "code",
   "execution_count": 44,
   "id": "d6d514a4",
   "metadata": {},
   "outputs": [
    {
     "name": "stdout",
     "output_type": "stream",
     "text": [
      "              precision    recall  f1-score   support\n",
      "\n",
      "   no stroke       0.71      0.75      0.73      3027\n",
      "      stroke       0.73      0.69      0.71      3008\n",
      "\n",
      "    accuracy                           0.72      6035\n",
      "   macro avg       0.72      0.72      0.72      6035\n",
      "weighted avg       0.72      0.72      0.72      6035\n",
      "\n"
     ]
    }
   ],
   "source": [
    "predictions = svc_model.predict(X_test)\n",
    "from sklearn.metrics import classification_report\n",
    "print(classification_report(y_test, predictions,\n",
    "                        target_names=[\"no stroke\", \"stroke\"]))"
   ]
  },
  {
   "cell_type": "markdown",
   "id": "cec1075a",
   "metadata": {},
   "source": [
    "## Chosen model: Logistic Regression Model\n",
    "Reason: best F1 score on both classes, and run fast"
   ]
  },
  {
   "cell_type": "markdown",
   "id": "63a7a9ab",
   "metadata": {},
   "source": [
    "## Save model"
   ]
  },
  {
   "cell_type": "code",
   "execution_count": 45,
   "id": "227665ff",
   "metadata": {},
   "outputs": [],
   "source": [
    "# Create pickle file\n",
    "file = open('../models/LRmodel_stroke_prediction', 'wb') \n",
    "\n",
    "# Save the trained model to file\n",
    "import pickle\n",
    "pickle.dump(logistic, file)\n",
    "file.close()"
   ]
  },
  {
   "cell_type": "markdown",
   "id": "8fb63e4e",
   "metadata": {},
   "source": [
    "## Prediction"
   ]
  },
  {
   "cell_type": "code",
   "execution_count": 46,
   "id": "eb429130",
   "metadata": {},
   "outputs": [],
   "source": [
    "# load the model from disk using pickle\n",
    "loaded_model = pickle.load(open('../models/LRmodel_stroke_prediction', 'rb'))"
   ]
  },
  {
   "cell_type": "code",
   "execution_count": 47,
   "id": "27f6b61a",
   "metadata": {},
   "outputs": [
    {
     "data": {
      "text/plain": [
       "Index(['BMI', 'PhysicalHealth', 'MentalHealth', 'SleepTime', 'Smoking_Yes',\n",
       "       'AlcoholDrinking_Yes', 'DiffWalking_Yes', 'Sex_Male',\n",
       "       'AgeCategory_18-24', 'AgeCategory_25-29', 'AgeCategory_30-34',\n",
       "       'AgeCategory_35-39', 'AgeCategory_40-44', 'AgeCategory_45-49',\n",
       "       'AgeCategory_50-54', 'AgeCategory_55-59', 'AgeCategory_60-64',\n",
       "       'AgeCategory_65-69', 'AgeCategory_70-74', 'AgeCategory_75-79',\n",
       "       'AgeCategory_80 or older', 'PhysicalActivity_Yes', 'Asthma_Yes',\n",
       "       'KidneyDisease_Yes', 'SkinCancer_Yes'],\n",
       "      dtype='object')"
      ]
     },
     "execution_count": 47,
     "metadata": {},
     "output_type": "execute_result"
    }
   ],
   "source": [
    "feature_names"
   ]
  },
  {
   "cell_type": "code",
   "execution_count": 48,
   "id": "05135822",
   "metadata": {},
   "outputs": [],
   "source": [
    "converted_input = dict.fromkeys(feature_names)"
   ]
  },
  {
   "cell_type": "code",
   "execution_count": 49,
   "id": "aae4c4b1",
   "metadata": {},
   "outputs": [],
   "source": [
    "# Sample user's input from webpage\n",
    "user_input = {\n",
    "    \"Height\":170,\n",
    "    \"Weight\":80,\n",
    "    \"PhysicalHealth\":0,\n",
    "    \"MentalHealth\":0,\n",
    "    \"SleepTime\":7,\n",
    "    \"Smoking\": \"No\",\n",
    "    \"AlcoholDrinking\":\"No\",\n",
    "    'DiffWalking':\"No\",\n",
    "    'Sex':\"Male\",\n",
    "    'Age Category':\"18-24\",\n",
    "    'PhysicalActivity':\"No\",\n",
    "    'Asthma':\"No\",\n",
    "    'KidneyDisease':\"No\",\n",
    "    'SkinCancer':\"No\"\n",
    "    }\n"
   ]
  },
  {
   "cell_type": "code",
   "execution_count": 50,
   "id": "f0fb64f9",
   "metadata": {},
   "outputs": [],
   "source": [
    "# convert user input to compatible form\n",
    "converted_input[\"BMI\"] = user_input[\"Weight\"] / (user_input[\"Height\"]/100)**2\n",
    "converted_input[\"PhysicalHealth\"] = user_input[\"PhysicalHealth\"]\n",
    "converted_input[\"MentalHealth\"] = user_input[\"MentalHealth\"]\n",
    "converted_input[\"SleepTime\"] = user_input[\"SleepTime\"]\n",
    "\n",
    "# set all values of the remaining keys to 0\n",
    "for i in range(4,len(feature_names),1):\n",
    "    key = feature_names[i]\n",
    "    converted_input[key] = 0"
   ]
  },
  {
   "cell_type": "code",
   "execution_count": 51,
   "id": "b447ee9d",
   "metadata": {},
   "outputs": [],
   "source": [
    "# Convert boolean type input to numerical value\n",
    "if user_input[\"Smoking\"] == \"Yes\":\n",
    "    converted_input[\"Smoking_Yes\"] = 1\n",
    "\n",
    "if user_input[\"AlcoholDrinking\"] == \"Yes\":\n",
    "    converted_input[\"AlcoholDrinking_Yes\"] = 1\n",
    "\n",
    "if user_input[\"DiffWalking\"] == \"Yes\":\n",
    "    converted_input[\"DiffWalking_Yes\"] = 1\n",
    "\n",
    "if user_input[\"Sex\"] == \"Yes\":\n",
    "    converted_input[\"Sex_Male\"] = 1\n",
    "    \n",
    "if user_input[\"PhysicalActivity\"] == \"Yes\":\n",
    "    converted_input[\"PhysicalActivity_Yes\"] = 1\n",
    "\n",
    "if user_input[\"Asthma\"] == \"Yes\":\n",
    "    converted_input[\"Asthma_Yes\"] = 1\n",
    "\n",
    "if user_input[\"KidneyDisease\"] == \"Yes\":\n",
    "    converted_input[\"KidneyDisease_Yes\"] = 1\n",
    "\n",
    "if user_input[\"SkinCancer\"] == \"Yes\":\n",
    "    converted_input[\"SkinCancer_Yes\"] = 1"
   ]
  },
  {
   "cell_type": "code",
   "execution_count": 52,
   "id": "476eed11",
   "metadata": {},
   "outputs": [
    {
     "data": {
      "text/plain": [
       "{'BMI': 27.68166089965398,\n",
       " 'PhysicalHealth': 0,\n",
       " 'MentalHealth': 0,\n",
       " 'SleepTime': 7,\n",
       " 'Smoking_Yes': 0,\n",
       " 'AlcoholDrinking_Yes': 0,\n",
       " 'DiffWalking_Yes': 0,\n",
       " 'Sex_Male': 0,\n",
       " 'AgeCategory_18-24': 1,\n",
       " 'AgeCategory_25-29': 0,\n",
       " 'AgeCategory_30-34': 0,\n",
       " 'AgeCategory_35-39': 0,\n",
       " 'AgeCategory_40-44': 0,\n",
       " 'AgeCategory_45-49': 0,\n",
       " 'AgeCategory_50-54': 0,\n",
       " 'AgeCategory_55-59': 0,\n",
       " 'AgeCategory_60-64': 0,\n",
       " 'AgeCategory_65-69': 0,\n",
       " 'AgeCategory_70-74': 0,\n",
       " 'AgeCategory_75-79': 0,\n",
       " 'AgeCategory_80 or older': 0,\n",
       " 'PhysicalActivity_Yes': 0,\n",
       " 'Asthma_Yes': 0,\n",
       " 'KidneyDisease_Yes': 0,\n",
       " 'SkinCancer_Yes': 0}"
      ]
     },
     "execution_count": 52,
     "metadata": {},
     "output_type": "execute_result"
    }
   ],
   "source": [
    "# convert age category\n",
    "key = \"AgeCategory_\" + user_input['Age Category']\n",
    "converted_input[key] = 1\n",
    "\n",
    "converted_input"
   ]
  },
  {
   "cell_type": "code",
   "execution_count": 53,
   "id": "b6aa9099",
   "metadata": {},
   "outputs": [
    {
     "data": {
      "text/html": [
       "<div>\n",
       "<style scoped>\n",
       "    .dataframe tbody tr th:only-of-type {\n",
       "        vertical-align: middle;\n",
       "    }\n",
       "\n",
       "    .dataframe tbody tr th {\n",
       "        vertical-align: top;\n",
       "    }\n",
       "\n",
       "    .dataframe thead th {\n",
       "        text-align: right;\n",
       "    }\n",
       "</style>\n",
       "<table border=\"1\" class=\"dataframe\">\n",
       "  <thead>\n",
       "    <tr style=\"text-align: right;\">\n",
       "      <th></th>\n",
       "      <th>BMI</th>\n",
       "      <th>PhysicalHealth</th>\n",
       "      <th>MentalHealth</th>\n",
       "      <th>SleepTime</th>\n",
       "      <th>Smoking_Yes</th>\n",
       "      <th>AlcoholDrinking_Yes</th>\n",
       "      <th>DiffWalking_Yes</th>\n",
       "      <th>Sex_Male</th>\n",
       "      <th>AgeCategory_18-24</th>\n",
       "      <th>AgeCategory_25-29</th>\n",
       "      <th>...</th>\n",
       "      <th>AgeCategory_55-59</th>\n",
       "      <th>AgeCategory_60-64</th>\n",
       "      <th>AgeCategory_65-69</th>\n",
       "      <th>AgeCategory_70-74</th>\n",
       "      <th>AgeCategory_75-79</th>\n",
       "      <th>AgeCategory_80 or older</th>\n",
       "      <th>PhysicalActivity_Yes</th>\n",
       "      <th>Asthma_Yes</th>\n",
       "      <th>KidneyDisease_Yes</th>\n",
       "      <th>SkinCancer_Yes</th>\n",
       "    </tr>\n",
       "  </thead>\n",
       "  <tbody>\n",
       "    <tr>\n",
       "      <th>0</th>\n",
       "      <td>27.681661</td>\n",
       "      <td>0</td>\n",
       "      <td>0</td>\n",
       "      <td>7</td>\n",
       "      <td>0</td>\n",
       "      <td>0</td>\n",
       "      <td>0</td>\n",
       "      <td>0</td>\n",
       "      <td>1</td>\n",
       "      <td>0</td>\n",
       "      <td>...</td>\n",
       "      <td>0</td>\n",
       "      <td>0</td>\n",
       "      <td>0</td>\n",
       "      <td>0</td>\n",
       "      <td>0</td>\n",
       "      <td>0</td>\n",
       "      <td>0</td>\n",
       "      <td>0</td>\n",
       "      <td>0</td>\n",
       "      <td>0</td>\n",
       "    </tr>\n",
       "  </tbody>\n",
       "</table>\n",
       "<p>1 rows × 25 columns</p>\n",
       "</div>"
      ],
      "text/plain": [
       "         BMI  PhysicalHealth  MentalHealth  SleepTime  Smoking_Yes  \\\n",
       "0  27.681661               0             0          7            0   \n",
       "\n",
       "   AlcoholDrinking_Yes  DiffWalking_Yes  Sex_Male  AgeCategory_18-24  \\\n",
       "0                    0                0         0                  1   \n",
       "\n",
       "   AgeCategory_25-29  ...  AgeCategory_55-59  AgeCategory_60-64  \\\n",
       "0                  0  ...                  0                  0   \n",
       "\n",
       "   AgeCategory_65-69  AgeCategory_70-74  AgeCategory_75-79  \\\n",
       "0                  0                  0                  0   \n",
       "\n",
       "   AgeCategory_80 or older  PhysicalActivity_Yes  Asthma_Yes  \\\n",
       "0                        0                     0           0   \n",
       "\n",
       "   KidneyDisease_Yes  SkinCancer_Yes  \n",
       "0                  0               0  \n",
       "\n",
       "[1 rows x 25 columns]"
      ]
     },
     "execution_count": 53,
     "metadata": {},
     "output_type": "execute_result"
    }
   ],
   "source": [
    "# convert dictionary to df\n",
    "input_df = pd.DataFrame(converted_input, index=[0])\n",
    "input_df"
   ]
  },
  {
   "cell_type": "code",
   "execution_count": 54,
   "id": "ddc572c6",
   "metadata": {},
   "outputs": [
    {
     "name": "stdout",
     "output_type": "stream",
     "text": [
      "You have a high chance of having no stroke\n"
     ]
    }
   ],
   "source": [
    "prediction = loaded_model.predict(input_df)\n",
    "if prediction[0] == 0:\n",
    "    print(\"You have a high chance of having no stroke\")\n",
    "else:    \n",
    "    print(\"You have a high chance of having a stroke\")"
   ]
  },
  {
   "cell_type": "code",
   "execution_count": null,
   "id": "d6e06b2d",
   "metadata": {},
   "outputs": [],
   "source": []
  }
 ],
 "metadata": {
  "kernelspec": {
   "display_name": "Python 3",
   "language": "python",
   "name": "python3"
  },
  "language_info": {
   "codemirror_mode": {
    "name": "ipython",
    "version": 3
   },
   "file_extension": ".py",
   "mimetype": "text/x-python",
   "name": "python",
   "nbconvert_exporter": "python",
   "pygments_lexer": "ipython3",
   "version": "3.8.8"
  }
 },
 "nbformat": 4,
 "nbformat_minor": 5
}
