{
 "cells": [
  {
   "cell_type": "markdown",
   "id": "86a9b5a8",
   "metadata": {},
   "source": [
    "https://www.kaggle.com/datasets/brsdincer/personality-scale-analysis"
   ]
  },
  {
   "cell_type": "code",
   "execution_count": 1,
   "id": "d30365cd",
   "metadata": {
    "ExecuteTime": {
     "end_time": "2022-04-30T03:57:30.051569Z",
     "start_time": "2022-04-30T03:57:28.414535Z"
    }
   },
   "outputs": [],
   "source": [
    "# Import libraries and dependencies\n",
    "import matplotlib.pyplot as plt\n",
    "import plotly.express as px\n",
    "import plotly.graph_objects as go\n",
    "\n",
    "import numpy as np\n",
    "import pandas as pd\n",
    "import seaborn as sns\n",
    "import pickle \n",
    "\n",
    "import warnings\n",
    "warnings.filterwarnings(\"ignore\")"
   ]
  },
  {
   "cell_type": "code",
   "execution_count": 2,
   "id": "bc05f707",
   "metadata": {
    "ExecuteTime": {
     "end_time": "2022-04-30T03:57:31.195522Z",
     "start_time": "2022-04-30T03:57:30.953550Z"
    }
   },
   "outputs": [],
   "source": [
    "from sklearn.model_selection import train_test_split\n",
    "from sklearn.metrics import confusion_matrix, accuracy_score, classification_report, roc_auc_score, roc_curve"
   ]
  },
  {
   "cell_type": "code",
   "execution_count": 3,
   "id": "8e1afa56",
   "metadata": {
    "ExecuteTime": {
     "end_time": "2022-04-30T03:57:32.455164Z",
     "start_time": "2022-04-30T03:57:31.827882Z"
    }
   },
   "outputs": [
    {
     "data": {
      "text/html": [
       "<div>\n",
       "<style scoped>\n",
       "    .dataframe tbody tr th:only-of-type {\n",
       "        vertical-align: middle;\n",
       "    }\n",
       "\n",
       "    .dataframe tbody tr th {\n",
       "        vertical-align: top;\n",
       "    }\n",
       "\n",
       "    .dataframe thead th {\n",
       "        text-align: right;\n",
       "    }\n",
       "</style>\n",
       "<table border=\"1\" class=\"dataframe\">\n",
       "  <thead>\n",
       "    <tr style=\"text-align: right;\">\n",
       "      <th></th>\n",
       "      <th>gender</th>\n",
       "      <th>age</th>\n",
       "      <th>openness</th>\n",
       "      <th>neuroticism</th>\n",
       "      <th>conscientiousness</th>\n",
       "      <th>agreeableness</th>\n",
       "      <th>extraversion</th>\n",
       "      <th>Personality</th>\n",
       "    </tr>\n",
       "  </thead>\n",
       "  <tbody>\n",
       "    <tr>\n",
       "      <th>0</th>\n",
       "      <td>Female</td>\n",
       "      <td>20</td>\n",
       "      <td>7</td>\n",
       "      <td>9</td>\n",
       "      <td>9</td>\n",
       "      <td>5</td>\n",
       "      <td>5</td>\n",
       "      <td>dependable</td>\n",
       "    </tr>\n",
       "    <tr>\n",
       "      <th>1</th>\n",
       "      <td>Male</td>\n",
       "      <td>17</td>\n",
       "      <td>5</td>\n",
       "      <td>4</td>\n",
       "      <td>5</td>\n",
       "      <td>2</td>\n",
       "      <td>4</td>\n",
       "      <td>serious</td>\n",
       "    </tr>\n",
       "    <tr>\n",
       "      <th>2</th>\n",
       "      <td>Female</td>\n",
       "      <td>25</td>\n",
       "      <td>5</td>\n",
       "      <td>5</td>\n",
       "      <td>7</td>\n",
       "      <td>2</td>\n",
       "      <td>4</td>\n",
       "      <td>serious</td>\n",
       "    </tr>\n",
       "    <tr>\n",
       "      <th>3</th>\n",
       "      <td>Female</td>\n",
       "      <td>18</td>\n",
       "      <td>6</td>\n",
       "      <td>2</td>\n",
       "      <td>7</td>\n",
       "      <td>4</td>\n",
       "      <td>7</td>\n",
       "      <td>serious</td>\n",
       "    </tr>\n",
       "    <tr>\n",
       "      <th>4</th>\n",
       "      <td>Female</td>\n",
       "      <td>19</td>\n",
       "      <td>2</td>\n",
       "      <td>4</td>\n",
       "      <td>7</td>\n",
       "      <td>1</td>\n",
       "      <td>3</td>\n",
       "      <td>responsible</td>\n",
       "    </tr>\n",
       "  </tbody>\n",
       "</table>\n",
       "</div>"
      ],
      "text/plain": [
       "   gender  age  openness  neuroticism  conscientiousness  agreeableness  \\\n",
       "0  Female   20         7            9                  9              5   \n",
       "1    Male   17         5            4                  5              2   \n",
       "2  Female   25         5            5                  7              2   \n",
       "3  Female   18         6            2                  7              4   \n",
       "4  Female   19         2            4                  7              1   \n",
       "\n",
       "   extraversion  Personality  \n",
       "0             5   dependable  \n",
       "1             4      serious  \n",
       "2             4      serious  \n",
       "3             7      serious  \n",
       "4             3  responsible  "
      ]
     },
     "execution_count": 3,
     "metadata": {},
     "output_type": "execute_result"
    }
   ],
   "source": [
    "csv_data = pd.read_csv(\"../data/psyc.csv\")\n",
    "csv_data.head()"
   ]
  },
  {
   "cell_type": "markdown",
   "id": "b5c73dea",
   "metadata": {},
   "source": [
    "<font color=\"blue\">\n",
    "<b>Personality Scale Analysis </b><br>\n",
    "Scoring-based personality scale analysis<br>\n",
    "\n",
    "gender -- Male / Female<br>\n",
    "age -- Age<br>\n",
    "openness -- Openness score from 1 to 9<br>\n",
    "neuroticism -- Neuroticism score from 1 to 9<br>\n",
    "conscientiousness -- Conscientiousness score from 1 to 9<br>\n",
    "agreeableness -- Agreeablenes score from 1 to 9<br>\n",
    "extraversion -- Extraversion score from 1 to 9<br>\n",
    "Personality -- Dependable, Serious, Responsible, Extraverted, Lively<br>\n",
    "<br>\n",
    "Target dependent variable:<br>\n",
    "Personality\n",
    "</font>"
   ]
  },
  {
   "cell_type": "markdown",
   "id": "c3e25b1a",
   "metadata": {},
   "source": [
    "### Data cleaning and exploratory analysis"
   ]
  },
  {
   "cell_type": "code",
   "execution_count": 4,
   "id": "6af7e6ce",
   "metadata": {
    "ExecuteTime": {
     "end_time": "2022-04-30T03:57:36.068320Z",
     "start_time": "2022-04-30T03:57:36.059309Z"
    }
   },
   "outputs": [
    {
     "data": {
      "text/plain": [
       "gender               0\n",
       "age                  0\n",
       "openness             0\n",
       "neuroticism          0\n",
       "conscientiousness    0\n",
       "agreeableness        0\n",
       "extraversion         0\n",
       "Personality          0\n",
       "dtype: int64"
      ]
     },
     "execution_count": 4,
     "metadata": {},
     "output_type": "execute_result"
    }
   ],
   "source": [
    "csv_data.isnull().sum()"
   ]
  },
  {
   "cell_type": "code",
   "execution_count": 5,
   "id": "c4940d0b",
   "metadata": {
    "ExecuteTime": {
     "end_time": "2022-04-30T03:57:36.947753Z",
     "start_time": "2022-04-30T03:57:36.713682Z"
    }
   },
   "outputs": [
    {
     "data": {
      "text/plain": [
       "<AxesSubplot:>"
      ]
     },
     "execution_count": 5,
     "metadata": {},
     "output_type": "execute_result"
    },
    {
     "data": {
      "image/png": "[encoded data removed]",
      "text/plain": [
       "<Figure size 432x288 with 2 Axes>"
      ]
     },
     "metadata": {
      "needs_background": "light"
     },
     "output_type": "display_data"
    }
   ],
   "source": [
    "sns.heatmap(csv_data.isnull(), cmap='Set1')"
   ]
  },
  {
   "cell_type": "code",
   "execution_count": 6,
   "id": "76d27010",
   "metadata": {
    "ExecuteTime": {
     "end_time": "2022-04-30T03:57:39.593615Z",
     "start_time": "2022-04-30T03:57:39.499595Z"
    }
   },
   "outputs": [
    {
     "data": {
      "image/png": "[encoded data removed]",
      "text/plain": [
       "<Figure size 432x288 with 1 Axes>"
      ]
     },
     "metadata": {
      "needs_background": "light"
     },
     "output_type": "display_data"
    }
   ],
   "source": [
    "sns.countplot(y=csv_data[\"Personality\"],palette=\"husl\")\n",
    "plt.show()"
   ]
  },
  {
   "cell_type": "code",
   "execution_count": 7,
   "id": "d8d7d44e",
   "metadata": {
    "ExecuteTime": {
     "end_time": "2022-04-30T03:58:02.912832Z",
     "start_time": "2022-04-30T03:58:02.892827Z"
    }
   },
   "outputs": [
    {
     "data": {
      "text/plain": [
       "<Figure size 432x288 with 0 Axes>"
      ]
     },
     "metadata": {},
     "output_type": "display_data"
    }
   ],
   "source": [
    "plt.savefig(\"../images/pc_bar.png\")"
   ]
  },
  {
   "cell_type": "code",
   "execution_count": 8,
   "id": "1a54050a",
   "metadata": {
    "ExecuteTime": {
     "end_time": "2022-04-30T03:58:04.686197Z",
     "start_time": "2022-04-30T03:58:04.651864Z"
    }
   },
   "outputs": [
    {
     "data": {
      "text/html": [
       "<div>\n",
       "<style scoped>\n",
       "    .dataframe tbody tr th:only-of-type {\n",
       "        vertical-align: middle;\n",
       "    }\n",
       "\n",
       "    .dataframe tbody tr th {\n",
       "        vertical-align: top;\n",
       "    }\n",
       "\n",
       "    .dataframe thead th {\n",
       "        text-align: right;\n",
       "    }\n",
       "</style>\n",
       "<table border=\"1\" class=\"dataframe\">\n",
       "  <thead>\n",
       "    <tr style=\"text-align: right;\">\n",
       "      <th></th>\n",
       "      <th>age</th>\n",
       "      <th>openness</th>\n",
       "      <th>neuroticism</th>\n",
       "      <th>conscientiousness</th>\n",
       "      <th>agreeableness</th>\n",
       "      <th>extraversion</th>\n",
       "    </tr>\n",
       "  </thead>\n",
       "  <tbody>\n",
       "    <tr>\n",
       "      <th>count</th>\n",
       "      <td>315.000000</td>\n",
       "      <td>315.000000</td>\n",
       "      <td>315.000000</td>\n",
       "      <td>315.000000</td>\n",
       "      <td>315.000000</td>\n",
       "      <td>315.000000</td>\n",
       "    </tr>\n",
       "    <tr>\n",
       "      <th>mean</th>\n",
       "      <td>20.244444</td>\n",
       "      <td>4.850794</td>\n",
       "      <td>4.584127</td>\n",
       "      <td>4.812698</td>\n",
       "      <td>4.844444</td>\n",
       "      <td>4.926984</td>\n",
       "    </tr>\n",
       "    <tr>\n",
       "      <th>std</th>\n",
       "      <td>2.616811</td>\n",
       "      <td>1.537211</td>\n",
       "      <td>1.818623</td>\n",
       "      <td>1.786315</td>\n",
       "      <td>1.718555</td>\n",
       "      <td>1.466527</td>\n",
       "    </tr>\n",
       "    <tr>\n",
       "      <th>min</th>\n",
       "      <td>5.000000</td>\n",
       "      <td>1.000000</td>\n",
       "      <td>1.000000</td>\n",
       "      <td>1.000000</td>\n",
       "      <td>1.000000</td>\n",
       "      <td>1.000000</td>\n",
       "    </tr>\n",
       "    <tr>\n",
       "      <th>25%</th>\n",
       "      <td>18.000000</td>\n",
       "      <td>4.000000</td>\n",
       "      <td>3.000000</td>\n",
       "      <td>4.000000</td>\n",
       "      <td>4.000000</td>\n",
       "      <td>4.000000</td>\n",
       "    </tr>\n",
       "    <tr>\n",
       "      <th>50%</th>\n",
       "      <td>20.000000</td>\n",
       "      <td>5.000000</td>\n",
       "      <td>5.000000</td>\n",
       "      <td>5.000000</td>\n",
       "      <td>5.000000</td>\n",
       "      <td>5.000000</td>\n",
       "    </tr>\n",
       "    <tr>\n",
       "      <th>75%</th>\n",
       "      <td>22.000000</td>\n",
       "      <td>6.000000</td>\n",
       "      <td>6.000000</td>\n",
       "      <td>6.000000</td>\n",
       "      <td>6.000000</td>\n",
       "      <td>6.000000</td>\n",
       "    </tr>\n",
       "    <tr>\n",
       "      <th>max</th>\n",
       "      <td>28.000000</td>\n",
       "      <td>8.000000</td>\n",
       "      <td>9.000000</td>\n",
       "      <td>9.000000</td>\n",
       "      <td>8.000000</td>\n",
       "      <td>8.000000</td>\n",
       "    </tr>\n",
       "  </tbody>\n",
       "</table>\n",
       "</div>"
      ],
      "text/plain": [
       "              age    openness  neuroticism  conscientiousness  agreeableness  \\\n",
       "count  315.000000  315.000000   315.000000         315.000000     315.000000   \n",
       "mean    20.244444    4.850794     4.584127           4.812698       4.844444   \n",
       "std      2.616811    1.537211     1.818623           1.786315       1.718555   \n",
       "min      5.000000    1.000000     1.000000           1.000000       1.000000   \n",
       "25%     18.000000    4.000000     3.000000           4.000000       4.000000   \n",
       "50%     20.000000    5.000000     5.000000           5.000000       5.000000   \n",
       "75%     22.000000    6.000000     6.000000           6.000000       6.000000   \n",
       "max     28.000000    8.000000     9.000000           9.000000       8.000000   \n",
       "\n",
       "       extraversion  \n",
       "count    315.000000  \n",
       "mean       4.926984  \n",
       "std        1.466527  \n",
       "min        1.000000  \n",
       "25%        4.000000  \n",
       "50%        5.000000  \n",
       "75%        6.000000  \n",
       "max        8.000000  "
      ]
     },
     "execution_count": 8,
     "metadata": {},
     "output_type": "execute_result"
    }
   ],
   "source": [
    "csv_data.describe()"
   ]
  },
  {
   "cell_type": "code",
   "execution_count": 9,
   "id": "e1ee27b3",
   "metadata": {
    "ExecuteTime": {
     "end_time": "2022-04-30T03:58:05.743777Z",
     "start_time": "2022-04-30T03:58:05.554736Z"
    }
   },
   "outputs": [
    {
     "data": {
      "text/plain": [
       "<AxesSubplot:>"
      ]
     },
     "execution_count": 9,
     "metadata": {},
     "output_type": "execute_result"
    },
    {
     "data": {
      "image/png": "[encoded data removed]",
      "text/plain": [
       "<Figure size 864x864 with 2 Axes>"
      ]
     },
     "metadata": {},
     "output_type": "display_data"
    }
   ],
   "source": [
    "corr = csv_data.corr()\n",
    "\n",
    "#Generate correlation graph\n",
    "sns.set(style=\"white\")\n",
    "mask = np.zeros_like(corr, dtype=np.bool)\n",
    "mask[np.triu_indices_from(mask)] = True\n",
    "\n",
    "# Set up the matplotlib figure\n",
    "f, ax = plt.subplots(figsize=(12, 12))\n",
    "\n",
    "# Draw the heatmap with the mask and correct aspect ratio\n",
    "sns.heatmap(corr, mask=mask, cmap=\"Paired\", vmax=.3, center=0, square=True, linewidths=.5, cbar_kws={\"shrink\": .7})"
   ]
  },
  {
   "cell_type": "code",
   "execution_count": 10,
   "id": "752c2404",
   "metadata": {
    "ExecuteTime": {
     "end_time": "2022-04-30T03:58:08.167131Z",
     "start_time": "2022-04-30T03:58:07.806005Z"
    }
   },
   "outputs": [
    {
     "data": {
      "image/png": "[encoded data removed]",
      "text/plain": [
       "<Figure size 720x576 with 2 Axes>"
      ]
     },
     "metadata": {},
     "output_type": "display_data"
    }
   ],
   "source": [
    "fig = plt.figure(figsize=(10,8))\n",
    "sns.heatmap(corr,annot=True,cmap='RdYlGn', vmin=-1, vmax=+1)\n",
    "\n",
    "plt.show()"
   ]
  },
  {
   "cell_type": "code",
   "execution_count": 11,
   "id": "b275f834",
   "metadata": {
    "ExecuteTime": {
     "end_time": "2022-04-30T03:58:09.791238Z",
     "start_time": "2022-04-30T03:58:09.762233Z"
    }
   },
   "outputs": [
    {
     "data": {
      "text/plain": [
       "<Figure size 432x288 with 0 Axes>"
      ]
     },
     "metadata": {},
     "output_type": "display_data"
    }
   ],
   "source": [
    "plt.savefig(\"../images/pc_heatmap.png\")"
   ]
  },
  {
   "cell_type": "code",
   "execution_count": 10,
   "id": "82f1488f",
   "metadata": {
    "ExecuteTime": {
     "end_time": "2022-04-20T11:50:03.191212Z",
     "start_time": "2022-04-20T11:49:55.974342Z"
    }
   },
   "outputs": [
    {
     "data": {
      "text/plain": [
       "<seaborn.axisgrid.PairGrid at 0x233d4a2bfd0>"
      ]
     },
     "execution_count": 10,
     "metadata": {},
     "output_type": "execute_result"
    },
    {
     "data": {
      "image/png": "[encoded data removed]",
      "text/plain": [
       "<Figure size 1177.35x1080 with 42 Axes>"
      ]
     },
     "metadata": {},
     "output_type": "display_data"
    }
   ],
   "source": [
    "sns.pairplot(csv_data,hue='Personality')"
   ]
  },
  {
   "cell_type": "code",
   "execution_count": 12,
   "id": "49f31e8a",
   "metadata": {
    "ExecuteTime": {
     "end_time": "2022-04-30T03:58:28.611586Z",
     "start_time": "2022-04-30T03:58:28.587569Z"
    }
   },
   "outputs": [
    {
     "data": {
      "text/plain": [
       "<Figure size 432x288 with 0 Axes>"
      ]
     },
     "metadata": {},
     "output_type": "display_data"
    }
   ],
   "source": [
    "plt.savefig(\"../images/pc_pairplot.png\")"
   ]
  },
  {
   "cell_type": "code",
   "execution_count": 17,
   "id": "c6702ea2",
   "metadata": {
    "ExecuteTime": {
     "end_time": "2022-04-30T04:00:32.275978Z",
     "start_time": "2022-04-30T04:00:32.218970Z"
    }
   },
   "outputs": [
    {
     "data": {
      "application/vnd.plotly.v1+json": {
       "config": {
        "plotlyServerURL": "https://plot.ly"
       },
       "data": [
        {
         "hovertemplate": "gender=Female<br>Personality=%{x}<br>age=%{marker.size}<extra></extra>",
         "legendgroup": "Female",
         "marker": {
          "color": "#636efa",
          "size": [
           20,
           25,
           18,
           19,
           19,
           24,
           20,
           20,
           19,
           17,
           23,
           24,
           25,
           20,
           19,
           21,
           26,
           18,
           17,
           21,
           19,
           22,
           20,
           25,
           17,
           21,
           25,
           24,
           19,
           20,
           21,
           25,
           21,
           18,
           20,
           24,
           23,
           19,
           21,
           18,
           26,
           23,
           21,
           17,
           19,
           22,
           21,
           20,
           23,
           18,
           18,
           24,
           18,
           23,
           18,
           22,
           19,
           18,
           17,
           19,
           23,
           25,
           21,
           19,
           19,
           22,
           19,
           18,
           22,
           19,
           19,
           22,
           19,
           19,
           25,
           19,
           22,
           17,
           23,
           19,
           21,
           19,
           19,
           20,
           19,
           20,
           17,
           21,
           19,
           25,
           26,
           18,
           17,
           19,
           23,
           22,
           20,
           18,
           24,
           19,
           23,
           21,
           18,
           19,
           18,
           17,
           21,
           19,
           23,
           18,
           20,
           20,
           18,
           19,
           20,
           18,
           20,
           19,
           17,
           19,
           21,
           26,
           18,
           20,
           22,
           17,
           21,
           18,
           22,
           19,
           19,
           5,
           21,
           18,
           22,
           18,
           22,
           18,
           19,
           21,
           21,
           17,
           17,
           19,
           23,
           20,
           20,
           25,
           18,
           25,
           22,
           19,
           19,
           17,
           19,
           18
          ],
          "sizemode": "area",
          "sizeref": 0.07,
          "symbol": "circle"
         },
         "mode": "markers",
         "name": "Female",
         "orientation": "v",
         "showlegend": true,
         "type": "scatter",
         "x": [
          "dependable",
          "serious",
          "serious",
          "responsible",
          "serious",
          "extraverted",
          "responsible",
          "serious",
          "lively",
          "extraverted",
          "extraverted",
          "serious",
          "dependable",
          "serious",
          "extraverted",
          "responsible",
          "lively",
          "serious",
          "extraverted",
          "serious",
          "responsible",
          "serious",
          "extraverted",
          "dependable",
          "responsible",
          "dependable",
          "serious",
          "serious",
          "extraverted",
          "extraverted",
          "serious",
          "responsible",
          "dependable",
          "serious",
          "responsible",
          "serious",
          "responsible",
          "extraverted",
          "serious",
          "extraverted",
          "extraverted",
          "serious",
          "serious",
          "serious",
          "responsible",
          "responsible",
          "serious",
          "serious",
          "extraverted",
          "serious",
          "serious",
          "extraverted",
          "extraverted",
          "extraverted",
          "extraverted",
          "serious",
          "extraverted",
          "serious",
          "extraverted",
          "serious",
          "extraverted",
          "lively",
          "serious",
          "responsible",
          "serious",
          "dependable",
          "dependable",
          "responsible",
          "responsible",
          "extraverted",
          "serious",
          "serious",
          "serious",
          "serious",
          "dependable",
          "extraverted",
          "serious",
          "serious",
          "extraverted",
          "extraverted",
          "extraverted",
          "serious",
          "responsible",
          "extraverted",
          "serious",
          "serious",
          "responsible",
          "extraverted",
          "extraverted",
          "serious",
          "serious",
          "responsible",
          "responsible",
          "serious",
          "lively",
          "serious",
          "extraverted",
          "extraverted",
          "extraverted",
          "extraverted",
          "extraverted",
          "serious",
          "extraverted",
          "extraverted",
          "dependable",
          "extraverted",
          "serious",
          "extraverted",
          "responsible",
          "extraverted",
          "responsible",
          "extraverted",
          "dependable",
          "dependable",
          "extraverted",
          "responsible",
          "extraverted",
          "serious",
          "extraverted",
          "extraverted",
          "serious",
          "extraverted",
          "extraverted",
          "extraverted",
          "responsible",
          "extraverted",
          "serious",
          "lively",
          "responsible",
          "extraverted",
          "responsible",
          "responsible",
          "lively",
          "serious",
          "responsible",
          "extraverted",
          "lively",
          "responsible",
          "responsible",
          "serious",
          "serious",
          "extraverted",
          "responsible",
          "extraverted",
          "extraverted",
          "extraverted",
          "lively",
          "extraverted",
          "extraverted",
          "extraverted",
          "extraverted",
          "serious",
          "serious",
          "serious",
          "extraverted",
          "extraverted"
         ],
         "xaxis": "x",
         "y": [
          20,
          25,
          18,
          19,
          19,
          24,
          20,
          20,
          19,
          17,
          23,
          24,
          25,
          20,
          19,
          21,
          26,
          18,
          17,
          21,
          19,
          22,
          20,
          25,
          17,
          21,
          25,
          24,
          19,
          20,
          21,
          25,
          21,
          18,
          20,
          24,
          23,
          19,
          21,
          18,
          26,
          23,
          21,
          17,
          19,
          22,
          21,
          20,
          23,
          18,
          18,
          24,
          18,
          23,
          18,
          22,
          19,
          18,
          17,
          19,
          23,
          25,
          21,
          19,
          19,
          22,
          19,
          18,
          22,
          19,
          19,
          22,
          19,
          19,
          25,
          19,
          22,
          17,
          23,
          19,
          21,
          19,
          19,
          20,
          19,
          20,
          17,
          21,
          19,
          25,
          26,
          18,
          17,
          19,
          23,
          22,
          20,
          18,
          24,
          19,
          23,
          21,
          18,
          19,
          18,
          17,
          21,
          19,
          23,
          18,
          20,
          20,
          18,
          19,
          20,
          18,
          20,
          19,
          17,
          19,
          21,
          26,
          18,
          20,
          22,
          17,
          21,
          18,
          22,
          19,
          19,
          5,
          21,
          18,
          22,
          18,
          22,
          18,
          19,
          21,
          21,
          17,
          17,
          19,
          23,
          20,
          20,
          25,
          18,
          25,
          22,
          19,
          19,
          17,
          19,
          18
         ],
         "yaxis": "y"
        },
        {
         "hovertemplate": "gender=Male<br>Personality=%{x}<br>age=%{marker.size}<extra></extra>",
         "legendgroup": "Male",
         "marker": {
          "color": "#EF553B",
          "size": [
           17,
           27,
           20,
           21,
           20,
           19,
           17,
           18,
           23,
           19,
           17,
           17,
           22,
           23,
           19,
           24,
           25,
           23,
           19,
           20,
           18,
           24,
           23,
           17,
           19,
           24,
           28,
           19,
           24,
           26,
           19,
           19,
           21,
           21,
           18,
           19,
           23,
           25,
           20,
           19,
           20,
           23,
           19,
           20,
           18,
           21,
           24,
           23,
           19,
           19,
           19,
           18,
           19,
           20,
           22,
           19,
           25,
           18,
           17,
           20,
           20,
           22,
           19,
           20,
           19,
           24,
           19,
           19,
           18,
           19,
           19,
           18,
           26,
           20,
           19,
           22,
           18,
           23,
           18,
           22,
           27,
           19,
           23,
           21,
           17,
           20,
           19,
           18,
           21,
           25,
           18,
           17,
           20,
           24,
           18,
           21,
           18,
           17,
           20,
           18,
           18,
           24,
           18,
           18,
           23,
           21,
           21,
           22,
           18,
           19,
           23,
           19,
           19,
           21,
           17,
           22,
           20,
           22,
           19,
           18,
           26,
           24,
           18,
           19,
           20,
           19,
           17,
           20,
           18,
           20,
           22,
           19,
           20,
           19,
           18,
           20,
           17,
           24,
           20,
           19,
           19,
           17,
           22,
           18,
           20,
           21,
           19,
           25,
           17,
           17,
           18,
           23,
           24,
           20,
           18,
           22,
           18,
           18,
           23
          ],
          "sizemode": "area",
          "sizeref": 0.07,
          "symbol": "circle"
         },
         "mode": "markers",
         "name": "Male",
         "orientation": "v",
         "showlegend": true,
         "type": "scatter",
         "x": [
          "serious",
          "serious",
          "serious",
          "serious",
          "serious",
          "responsible",
          "serious",
          "serious",
          "serious",
          "extraverted",
          "serious",
          "extraverted",
          "dependable",
          "serious",
          "serious",
          "lively",
          "extraverted",
          "serious",
          "serious",
          "serious",
          "responsible",
          "serious",
          "extraverted",
          "serious",
          "serious",
          "lively",
          "serious",
          "serious",
          "serious",
          "serious",
          "serious",
          "serious",
          "serious",
          "serious",
          "serious",
          "serious",
          "serious",
          "serious",
          "serious",
          "serious",
          "serious",
          "serious",
          "extraverted",
          "serious",
          "lively",
          "serious",
          "dependable",
          "serious",
          "serious",
          "dependable",
          "serious",
          "dependable",
          "serious",
          "serious",
          "lively",
          "serious",
          "extraverted",
          "serious",
          "serious",
          "lively",
          "responsible",
          "lively",
          "serious",
          "serious",
          "responsible",
          "serious",
          "serious",
          "dependable",
          "serious",
          "serious",
          "serious",
          "serious",
          "serious",
          "lively",
          "responsible",
          "responsible",
          "serious",
          "dependable",
          "lively",
          "responsible",
          "serious",
          "serious",
          "responsible",
          "serious",
          "lively",
          "serious",
          "serious",
          "serious",
          "serious",
          "extraverted",
          "lively",
          "lively",
          "serious",
          "serious",
          "responsible",
          "serious",
          "serious",
          "lively",
          "serious",
          "serious",
          "serious",
          "extraverted",
          "lively",
          "dependable",
          "extraverted",
          "serious",
          "dependable",
          "lively",
          "extraverted",
          "serious",
          "serious",
          "extraverted",
          "serious",
          "serious",
          "serious",
          "serious",
          "serious",
          "serious",
          "serious",
          "serious",
          "serious",
          "serious",
          "serious",
          "serious",
          "responsible",
          "serious",
          "extraverted",
          "serious",
          "lively",
          "serious",
          "dependable",
          "serious",
          "serious",
          "serious",
          "serious",
          "serious",
          "serious",
          "extraverted",
          "serious",
          "responsible",
          "extraverted",
          "responsible",
          "lively",
          "serious",
          "extraverted",
          "extraverted",
          "serious",
          "extraverted",
          "extraverted",
          "serious",
          "serious",
          "serious",
          "serious",
          "serious",
          "serious",
          "serious",
          "dependable",
          "serious",
          "extraverted"
         ],
         "xaxis": "x",
         "y": [
          17,
          27,
          20,
          21,
          20,
          19,
          17,
          18,
          23,
          19,
          17,
          17,
          22,
          23,
          19,
          24,
          25,
          23,
          19,
          20,
          18,
          24,
          23,
          17,
          19,
          24,
          28,
          19,
          24,
          26,
          19,
          19,
          21,
          21,
          18,
          19,
          23,
          25,
          20,
          19,
          20,
          23,
          19,
          20,
          18,
          21,
          24,
          23,
          19,
          19,
          19,
          18,
          19,
          20,
          22,
          19,
          25,
          18,
          17,
          20,
          20,
          22,
          19,
          20,
          19,
          24,
          19,
          19,
          18,
          19,
          19,
          18,
          26,
          20,
          19,
          22,
          18,
          23,
          18,
          22,
          27,
          19,
          23,
          21,
          17,
          20,
          19,
          18,
          21,
          25,
          18,
          17,
          20,
          24,
          18,
          21,
          18,
          17,
          20,
          18,
          18,
          24,
          18,
          18,
          23,
          21,
          21,
          22,
          18,
          19,
          23,
          19,
          19,
          21,
          17,
          22,
          20,
          22,
          19,
          18,
          26,
          24,
          18,
          19,
          20,
          19,
          17,
          20,
          18,
          20,
          22,
          19,
          20,
          19,
          18,
          20,
          17,
          24,
          20,
          19,
          19,
          17,
          22,
          18,
          20,
          21,
          19,
          25,
          17,
          17,
          18,
          23,
          24,
          20,
          18,
          22,
          18,
          18,
          23
         ],
         "yaxis": "y"
        }
       ],
       "layout": {
        "legend": {
         "itemsizing": "constant",
         "title": {
          "text": "gender"
         },
         "tracegroupgap": 0
        },
        "template": {
         "data": {
          "bar": [
           {
            "error_x": {
             "color": "#2a3f5f"
            },
            "error_y": {
             "color": "#2a3f5f"
            },
            "marker": {
             "line": {
              "color": "#E5ECF6",
              "width": 0.5
             },
             "pattern": {
              "fillmode": "overlay",
              "size": 10,
              "solidity": 0.2
             }
            },
            "type": "bar"
           }
          ],
          "barpolar": [
           {
            "marker": {
             "line": {
              "color": "#E5ECF6",
              "width": 0.5
             },
             "pattern": {
              "fillmode": "overlay",
              "size": 10,
              "solidity": 0.2
             }
            },
            "type": "barpolar"
           }
          ],
          "carpet": [
           {
            "aaxis": {
             "endlinecolor": "#2a3f5f",
             "gridcolor": "white",
             "linecolor": "white",
             "minorgridcolor": "white",
             "startlinecolor": "#2a3f5f"
            },
            "baxis": {
             "endlinecolor": "#2a3f5f",
             "gridcolor": "white",
             "linecolor": "white",
             "minorgridcolor": "white",
             "startlinecolor": "#2a3f5f"
            },
            "type": "carpet"
           }
          ],
          "choropleth": [
           {
            "colorbar": {
             "outlinewidth": 0,
             "ticks": ""
            },
            "type": "choropleth"
           }
          ],
          "contour": [
           {
            "colorbar": {
             "outlinewidth": 0,
             "ticks": ""
            },
            "colorscale": [
             [
              0,
              "#0d0887"
             ],
             [
              0.1111111111111111,
              "#46039f"
             ],
             [
              0.2222222222222222,
              "#7201a8"
             ],
             [
              0.3333333333333333,
              "#9c179e"
             ],
             [
              0.4444444444444444,
              "#bd3786"
             ],
             [
              0.5555555555555556,
              "#d8576b"
             ],
             [
              0.6666666666666666,
              "#ed7953"
             ],
             [
              0.7777777777777778,
              "#fb9f3a"
             ],
             [
              0.8888888888888888,
              "#fdca26"
             ],
             [
              1,
              "#f0f921"
             ]
            ],
            "type": "contour"
           }
          ],
          "contourcarpet": [
           {
            "colorbar": {
             "outlinewidth": 0,
             "ticks": ""
            },
            "type": "contourcarpet"
           }
          ],
          "heatmap": [
           {
            "colorbar": {
             "outlinewidth": 0,
             "ticks": ""
            },
            "colorscale": [
             [
              0,
              "#0d0887"
             ],
             [
              0.1111111111111111,
              "#46039f"
             ],
             [
              0.2222222222222222,
              "#7201a8"
             ],
             [
              0.3333333333333333,
              "#9c179e"
             ],
             [
              0.4444444444444444,
              "#bd3786"
             ],
             [
              0.5555555555555556,
              "#d8576b"
             ],
             [
              0.6666666666666666,
              "#ed7953"
             ],
             [
              0.7777777777777778,
              "#fb9f3a"
             ],
             [
              0.8888888888888888,
              "#fdca26"
             ],
             [
              1,
              "#f0f921"
             ]
            ],
            "type": "heatmap"
           }
          ],
          "heatmapgl": [
           {
            "colorbar": {
             "outlinewidth": 0,
             "ticks": ""
            },
            "colorscale": [
             [
              0,
              "#0d0887"
             ],
             [
              0.1111111111111111,
              "#46039f"
             ],
             [
              0.2222222222222222,
              "#7201a8"
             ],
             [
              0.3333333333333333,
              "#9c179e"
             ],
             [
              0.4444444444444444,
              "#bd3786"
             ],
             [
              0.5555555555555556,
              "#d8576b"
             ],
             [
              0.6666666666666666,
              "#ed7953"
             ],
             [
              0.7777777777777778,
              "#fb9f3a"
             ],
             [
              0.8888888888888888,
              "#fdca26"
             ],
             [
              1,
              "#f0f921"
             ]
            ],
            "type": "heatmapgl"
           }
          ],
          "histogram": [
           {
            "marker": {
             "pattern": {
              "fillmode": "overlay",
              "size": 10,
              "solidity": 0.2
             }
            },
            "type": "histogram"
           }
          ],
          "histogram2d": [
           {
            "colorbar": {
             "outlinewidth": 0,
             "ticks": ""
            },
            "colorscale": [
             [
              0,
              "#0d0887"
             ],
             [
              0.1111111111111111,
              "#46039f"
             ],
             [
              0.2222222222222222,
              "#7201a8"
             ],
             [
              0.3333333333333333,
              "#9c179e"
             ],
             [
              0.4444444444444444,
              "#bd3786"
             ],
             [
              0.5555555555555556,
              "#d8576b"
             ],
             [
              0.6666666666666666,
              "#ed7953"
             ],
             [
              0.7777777777777778,
              "#fb9f3a"
             ],
             [
              0.8888888888888888,
              "#fdca26"
             ],
             [
              1,
              "#f0f921"
             ]
            ],
            "type": "histogram2d"
           }
          ],
          "histogram2dcontour": [
           {
            "colorbar": {
             "outlinewidth": 0,
             "ticks": ""
            },
            "colorscale": [
             [
              0,
              "#0d0887"
             ],
             [
              0.1111111111111111,
              "#46039f"
             ],
             [
              0.2222222222222222,
              "#7201a8"
             ],
             [
              0.3333333333333333,
              "#9c179e"
             ],
             [
              0.4444444444444444,
              "#bd3786"
             ],
             [
              0.5555555555555556,
              "#d8576b"
             ],
             [
              0.6666666666666666,
              "#ed7953"
             ],
             [
              0.7777777777777778,
              "#fb9f3a"
             ],
             [
              0.8888888888888888,
              "#fdca26"
             ],
             [
              1,
              "#f0f921"
             ]
            ],
            "type": "histogram2dcontour"
           }
          ],
          "mesh3d": [
           {
            "colorbar": {
             "outlinewidth": 0,
             "ticks": ""
            },
            "type": "mesh3d"
           }
          ],
          "parcoords": [
           {
            "line": {
             "colorbar": {
              "outlinewidth": 0,
              "ticks": ""
             }
            },
            "type": "parcoords"
           }
          ],
          "pie": [
           {
            "automargin": true,
            "type": "pie"
           }
          ],
          "scatter": [
           {
            "marker": {
             "colorbar": {
              "outlinewidth": 0,
              "ticks": ""
             }
            },
            "type": "scatter"
           }
          ],
          "scatter3d": [
           {
            "line": {
             "colorbar": {
              "outlinewidth": 0,
              "ticks": ""
             }
            },
            "marker": {
             "colorbar": {
              "outlinewidth": 0,
              "ticks": ""
             }
            },
            "type": "scatter3d"
           }
          ],
          "scattercarpet": [
           {
            "marker": {
             "colorbar": {
              "outlinewidth": 0,
              "ticks": ""
             }
            },
            "type": "scattercarpet"
           }
          ],
          "scattergeo": [
           {
            "marker": {
             "colorbar": {
              "outlinewidth": 0,
              "ticks": ""
             }
            },
            "type": "scattergeo"
           }
          ],
          "scattergl": [
           {
            "marker": {
             "colorbar": {
              "outlinewidth": 0,
              "ticks": ""
             }
            },
            "type": "scattergl"
           }
          ],
          "scattermapbox": [
           {
            "marker": {
             "colorbar": {
              "outlinewidth": 0,
              "ticks": ""
             }
            },
            "type": "scattermapbox"
           }
          ],
          "scatterpolar": [
           {
            "marker": {
             "colorbar": {
              "outlinewidth": 0,
              "ticks": ""
             }
            },
            "type": "scatterpolar"
           }
          ],
          "scatterpolargl": [
           {
            "marker": {
             "colorbar": {
              "outlinewidth": 0,
              "ticks": ""
             }
            },
            "type": "scatterpolargl"
           }
          ],
          "scatterternary": [
           {
            "marker": {
             "colorbar": {
              "outlinewidth": 0,
              "ticks": ""
             }
            },
            "type": "scatterternary"
           }
          ],
          "surface": [
           {
            "colorbar": {
             "outlinewidth": 0,
             "ticks": ""
            },
            "colorscale": [
             [
              0,
              "#0d0887"
             ],
             [
              0.1111111111111111,
              "#46039f"
             ],
             [
              0.2222222222222222,
              "#7201a8"
             ],
             [
              0.3333333333333333,
              "#9c179e"
             ],
             [
              0.4444444444444444,
              "#bd3786"
             ],
             [
              0.5555555555555556,
              "#d8576b"
             ],
             [
              0.6666666666666666,
              "#ed7953"
             ],
             [
              0.7777777777777778,
              "#fb9f3a"
             ],
             [
              0.8888888888888888,
              "#fdca26"
             ],
             [
              1,
              "#f0f921"
             ]
            ],
            "type": "surface"
           }
          ],
          "table": [
           {
            "cells": {
             "fill": {
              "color": "#EBF0F8"
             },
             "line": {
              "color": "white"
             }
            },
            "header": {
             "fill": {
              "color": "#C8D4E3"
             },
             "line": {
              "color": "white"
             }
            },
            "type": "table"
           }
          ]
         },
         "layout": {
          "annotationdefaults": {
           "arrowcolor": "#2a3f5f",
           "arrowhead": 0,
           "arrowwidth": 1
          },
          "autotypenumbers": "strict",
          "coloraxis": {
           "colorbar": {
            "outlinewidth": 0,
            "ticks": ""
           }
          },
          "colorscale": {
           "diverging": [
            [
             0,
             "#8e0152"
            ],
            [
             0.1,
             "#c51b7d"
            ],
            [
             0.2,
             "#de77ae"
            ],
            [
             0.3,
             "#f1b6da"
            ],
            [
             0.4,
             "#fde0ef"
            ],
            [
             0.5,
             "#f7f7f7"
            ],
            [
             0.6,
             "#e6f5d0"
            ],
            [
             0.7,
             "#b8e186"
            ],
            [
             0.8,
             "#7fbc41"
            ],
            [
             0.9,
             "#4d9221"
            ],
            [
             1,
             "#276419"
            ]
           ],
           "sequential": [
            [
             0,
             "#0d0887"
            ],
            [
             0.1111111111111111,
             "#46039f"
            ],
            [
             0.2222222222222222,
             "#7201a8"
            ],
            [
             0.3333333333333333,
             "#9c179e"
            ],
            [
             0.4444444444444444,
             "#bd3786"
            ],
            [
             0.5555555555555556,
             "#d8576b"
            ],
            [
             0.6666666666666666,
             "#ed7953"
            ],
            [
             0.7777777777777778,
             "#fb9f3a"
            ],
            [
             0.8888888888888888,
             "#fdca26"
            ],
            [
             1,
             "#f0f921"
            ]
           ],
           "sequentialminus": [
            [
             0,
             "#0d0887"
            ],
            [
             0.1111111111111111,
             "#46039f"
            ],
            [
             0.2222222222222222,
             "#7201a8"
            ],
            [
             0.3333333333333333,
             "#9c179e"
            ],
            [
             0.4444444444444444,
             "#bd3786"
            ],
            [
             0.5555555555555556,
             "#d8576b"
            ],
            [
             0.6666666666666666,
             "#ed7953"
            ],
            [
             0.7777777777777778,
             "#fb9f3a"
            ],
            [
             0.8888888888888888,
             "#fdca26"
            ],
            [
             1,
             "#f0f921"
            ]
           ]
          },
          "colorway": [
           "#636efa",
           "#EF553B",
           "#00cc96",
           "#ab63fa",
           "#FFA15A",
           "#19d3f3",
           "#FF6692",
           "#B6E880",
           "#FF97FF",
           "#FECB52"
          ],
          "font": {
           "color": "#2a3f5f"
          },
          "geo": {
           "bgcolor": "white",
           "lakecolor": "white",
           "landcolor": "#E5ECF6",
           "showlakes": true,
           "showland": true,
           "subunitcolor": "white"
          },
          "hoverlabel": {
           "align": "left"
          },
          "hovermode": "closest",
          "mapbox": {
           "style": "light"
          },
          "paper_bgcolor": "white",
          "plot_bgcolor": "#E5ECF6",
          "polar": {
           "angularaxis": {
            "gridcolor": "white",
            "linecolor": "white",
            "ticks": ""
           },
           "bgcolor": "#E5ECF6",
           "radialaxis": {
            "gridcolor": "white",
            "linecolor": "white",
            "ticks": ""
           }
          },
          "scene": {
           "xaxis": {
            "backgroundcolor": "#E5ECF6",
            "gridcolor": "white",
            "gridwidth": 2,
            "linecolor": "white",
            "showbackground": true,
            "ticks": "",
            "zerolinecolor": "white"
           },
           "yaxis": {
            "backgroundcolor": "#E5ECF6",
            "gridcolor": "white",
            "gridwidth": 2,
            "linecolor": "white",
            "showbackground": true,
            "ticks": "",
            "zerolinecolor": "white"
           },
           "zaxis": {
            "backgroundcolor": "#E5ECF6",
            "gridcolor": "white",
            "gridwidth": 2,
            "linecolor": "white",
            "showbackground": true,
            "ticks": "",
            "zerolinecolor": "white"
           }
          },
          "shapedefaults": {
           "line": {
            "color": "#2a3f5f"
           }
          },
          "ternary": {
           "aaxis": {
            "gridcolor": "white",
            "linecolor": "white",
            "ticks": ""
           },
           "baxis": {
            "gridcolor": "white",
            "linecolor": "white",
            "ticks": ""
           },
           "bgcolor": "#E5ECF6",
           "caxis": {
            "gridcolor": "white",
            "linecolor": "white",
            "ticks": ""
           }
          },
          "title": {
           "x": 0.05
          },
          "xaxis": {
           "automargin": true,
           "gridcolor": "white",
           "linecolor": "white",
           "ticks": "",
           "title": {
            "standoff": 15
           },
           "zerolinecolor": "white",
           "zerolinewidth": 2
          },
          "yaxis": {
           "automargin": true,
           "gridcolor": "white",
           "linecolor": "white",
           "ticks": "",
           "title": {
            "standoff": 15
           },
           "zerolinecolor": "white",
           "zerolinewidth": 2
          }
         }
        },
        "title": {
         "text": "Gender vs Age"
        },
        "xaxis": {
         "anchor": "y",
         "domain": [
          0,
          1
         ],
         "title": {
          "text": "Personality"
         }
        },
        "yaxis": {
         "anchor": "x",
         "domain": [
          0,
          1
         ],
         "title": {
          "text": "age"
         }
        }
       }
      },
      "text/html": [
       "<div>                            <div id=\"1fa5ada4-3721-4dd9-bd28-8b95cd7767fb\" class=\"plotly-graph-div\" style=\"height:525px; width:100%;\"></div>            <script type=\"text/javascript\">                require([\"plotly\"], function(Plotly) {                    window.PLOTLYENV=window.PLOTLYENV || {};                                    if (document.getElementById(\"1fa5ada4-3721-4dd9-bd28-8b95cd7767fb\")) {                    Plotly.newPlot(                        \"1fa5ada4-3721-4dd9-bd28-8b95cd7767fb\",                        [{\"hovertemplate\":\"gender=Female<br>Personality=%{x}<br>age=%{marker.size}<extra></extra>\",\"legendgroup\":\"Female\",\"marker\":{\"color\":\"#636efa\",\"size\":[20,25,18,19,19,24,20,20,19,17,23,24,25,20,19,21,26,18,17,21,19,22,20,25,17,21,25,24,19,20,21,25,21,18,20,24,23,19,21,18,26,23,21,17,19,22,21,20,23,18,18,24,18,23,18,22,19,18,17,19,23,25,21,19,19,22,19,18,22,19,19,22,19,19,25,19,22,17,23,19,21,19,19,20,19,20,17,21,19,25,26,18,17,19,23,22,20,18,24,19,23,21,18,19,18,17,21,19,23,18,20,20,18,19,20,18,20,19,17,19,21,26,18,20,22,17,21,18,22,19,19,5,21,18,22,18,22,18,19,21,21,17,17,19,23,20,20,25,18,25,22,19,19,17,19,18],\"sizemode\":\"area\",\"sizeref\":0.07,\"symbol\":\"circle\"},\"mode\":\"markers\",\"name\":\"Female\",\"orientation\":\"v\",\"showlegend\":true,\"x\":[\"dependable\",\"serious\",\"serious\",\"responsible\",\"serious\",\"extraverted\",\"responsible\",\"serious\",\"lively\",\"extraverted\",\"extraverted\",\"serious\",\"dependable\",\"serious\",\"extraverted\",\"responsible\",\"lively\",\"serious\",\"extraverted\",\"serious\",\"responsible\",\"serious\",\"extraverted\",\"dependable\",\"responsible\",\"dependable\",\"serious\",\"serious\",\"extraverted\",\"extraverted\",\"serious\",\"responsible\",\"dependable\",\"serious\",\"responsible\",\"serious\",\"responsible\",\"extraverted\",\"serious\",\"extraverted\",\"extraverted\",\"serious\",\"serious\",\"serious\",\"responsible\",\"responsible\",\"serious\",\"serious\",\"extraverted\",\"serious\",\"serious\",\"extraverted\",\"extraverted\",\"extraverted\",\"extraverted\",\"serious\",\"extraverted\",\"serious\",\"extraverted\",\"serious\",\"extraverted\",\"lively\",\"serious\",\"responsible\",\"serious\",\"dependable\",\"dependable\",\"responsible\",\"responsible\",\"extraverted\",\"serious\",\"serious\",\"serious\",\"serious\",\"dependable\",\"extraverted\",\"serious\",\"serious\",\"extraverted\",\"extraverted\",\"extraverted\",\"serious\",\"responsible\",\"extraverted\",\"serious\",\"serious\",\"responsible\",\"extraverted\",\"extraverted\",\"serious\",\"serious\",\"responsible\",\"responsible\",\"serious\",\"lively\",\"serious\",\"extraverted\",\"extraverted\",\"extraverted\",\"extraverted\",\"extraverted\",\"serious\",\"extraverted\",\"extraverted\",\"dependable\",\"extraverted\",\"serious\",\"extraverted\",\"responsible\",\"extraverted\",\"responsible\",\"extraverted\",\"dependable\",\"dependable\",\"extraverted\",\"responsible\",\"extraverted\",\"serious\",\"extraverted\",\"extraverted\",\"serious\",\"extraverted\",\"extraverted\",\"extraverted\",\"responsible\",\"extraverted\",\"serious\",\"lively\",\"responsible\",\"extraverted\",\"responsible\",\"responsible\",\"lively\",\"serious\",\"responsible\",\"extraverted\",\"lively\",\"responsible\",\"responsible\",\"serious\",\"serious\",\"extraverted\",\"responsible\",\"extraverted\",\"extraverted\",\"extraverted\",\"lively\",\"extraverted\",\"extraverted\",\"extraverted\",\"extraverted\",\"serious\",\"serious\",\"serious\",\"extraverted\",\"extraverted\"],\"xaxis\":\"x\",\"y\":[20,25,18,19,19,24,20,20,19,17,23,24,25,20,19,21,26,18,17,21,19,22,20,25,17,21,25,24,19,20,21,25,21,18,20,24,23,19,21,18,26,23,21,17,19,22,21,20,23,18,18,24,18,23,18,22,19,18,17,19,23,25,21,19,19,22,19,18,22,19,19,22,19,19,25,19,22,17,23,19,21,19,19,20,19,20,17,21,19,25,26,18,17,19,23,22,20,18,24,19,23,21,18,19,18,17,21,19,23,18,20,20,18,19,20,18,20,19,17,19,21,26,18,20,22,17,21,18,22,19,19,5,21,18,22,18,22,18,19,21,21,17,17,19,23,20,20,25,18,25,22,19,19,17,19,18],\"yaxis\":\"y\",\"type\":\"scatter\"},{\"hovertemplate\":\"gender=Male<br>Personality=%{x}<br>age=%{marker.size}<extra></extra>\",\"legendgroup\":\"Male\",\"marker\":{\"color\":\"#EF553B\",\"size\":[17,27,20,21,20,19,17,18,23,19,17,17,22,23,19,24,25,23,19,20,18,24,23,17,19,24,28,19,24,26,19,19,21,21,18,19,23,25,20,19,20,23,19,20,18,21,24,23,19,19,19,18,19,20,22,19,25,18,17,20,20,22,19,20,19,24,19,19,18,19,19,18,26,20,19,22,18,23,18,22,27,19,23,21,17,20,19,18,21,25,18,17,20,24,18,21,18,17,20,18,18,24,18,18,23,21,21,22,18,19,23,19,19,21,17,22,20,22,19,18,26,24,18,19,20,19,17,20,18,20,22,19,20,19,18,20,17,24,20,19,19,17,22,18,20,21,19,25,17,17,18,23,24,20,18,22,18,18,23],\"sizemode\":\"area\",\"sizeref\":0.07,\"symbol\":\"circle\"},\"mode\":\"markers\",\"name\":\"Male\",\"orientation\":\"v\",\"showlegend\":true,\"x\":[\"serious\",\"serious\",\"serious\",\"serious\",\"serious\",\"responsible\",\"serious\",\"serious\",\"serious\",\"extraverted\",\"serious\",\"extraverted\",\"dependable\",\"serious\",\"serious\",\"lively\",\"extraverted\",\"serious\",\"serious\",\"serious\",\"responsible\",\"serious\",\"extraverted\",\"serious\",\"serious\",\"lively\",\"serious\",\"serious\",\"serious\",\"serious\",\"serious\",\"serious\",\"serious\",\"serious\",\"serious\",\"serious\",\"serious\",\"serious\",\"serious\",\"serious\",\"serious\",\"serious\",\"extraverted\",\"serious\",\"lively\",\"serious\",\"dependable\",\"serious\",\"serious\",\"dependable\",\"serious\",\"dependable\",\"serious\",\"serious\",\"lively\",\"serious\",\"extraverted\",\"serious\",\"serious\",\"lively\",\"responsible\",\"lively\",\"serious\",\"serious\",\"responsible\",\"serious\",\"serious\",\"dependable\",\"serious\",\"serious\",\"serious\",\"serious\",\"serious\",\"lively\",\"responsible\",\"responsible\",\"serious\",\"dependable\",\"lively\",\"responsible\",\"serious\",\"serious\",\"responsible\",\"serious\",\"lively\",\"serious\",\"serious\",\"serious\",\"serious\",\"extraverted\",\"lively\",\"lively\",\"serious\",\"serious\",\"responsible\",\"serious\",\"serious\",\"lively\",\"serious\",\"serious\",\"serious\",\"extraverted\",\"lively\",\"dependable\",\"extraverted\",\"serious\",\"dependable\",\"lively\",\"extraverted\",\"serious\",\"serious\",\"extraverted\",\"serious\",\"serious\",\"serious\",\"serious\",\"serious\",\"serious\",\"serious\",\"serious\",\"serious\",\"serious\",\"serious\",\"serious\",\"responsible\",\"serious\",\"extraverted\",\"serious\",\"lively\",\"serious\",\"dependable\",\"serious\",\"serious\",\"serious\",\"serious\",\"serious\",\"serious\",\"extraverted\",\"serious\",\"responsible\",\"extraverted\",\"responsible\",\"lively\",\"serious\",\"extraverted\",\"extraverted\",\"serious\",\"extraverted\",\"extraverted\",\"serious\",\"serious\",\"serious\",\"serious\",\"serious\",\"serious\",\"serious\",\"dependable\",\"serious\",\"extraverted\"],\"xaxis\":\"x\",\"y\":[17,27,20,21,20,19,17,18,23,19,17,17,22,23,19,24,25,23,19,20,18,24,23,17,19,24,28,19,24,26,19,19,21,21,18,19,23,25,20,19,20,23,19,20,18,21,24,23,19,19,19,18,19,20,22,19,25,18,17,20,20,22,19,20,19,24,19,19,18,19,19,18,26,20,19,22,18,23,18,22,27,19,23,21,17,20,19,18,21,25,18,17,20,24,18,21,18,17,20,18,18,24,18,18,23,21,21,22,18,19,23,19,19,21,17,22,20,22,19,18,26,24,18,19,20,19,17,20,18,20,22,19,20,19,18,20,17,24,20,19,19,17,22,18,20,21,19,25,17,17,18,23,24,20,18,22,18,18,23],\"yaxis\":\"y\",\"type\":\"scatter\"}],                        {\"template\":{\"data\":{\"bar\":[{\"error_x\":{\"color\":\"#2a3f5f\"},\"error_y\":{\"color\":\"#2a3f5f\"},\"marker\":{\"line\":{\"color\":\"#E5ECF6\",\"width\":0.5},\"pattern\":{\"fillmode\":\"overlay\",\"size\":10,\"solidity\":0.2}},\"type\":\"bar\"}],\"barpolar\":[{\"marker\":{\"line\":{\"color\":\"#E5ECF6\",\"width\":0.5},\"pattern\":{\"fillmode\":\"overlay\",\"size\":10,\"solidity\":0.2}},\"type\":\"barpolar\"}],\"carpet\":[{\"aaxis\":{\"endlinecolor\":\"#2a3f5f\",\"gridcolor\":\"white\",\"linecolor\":\"white\",\"minorgridcolor\":\"white\",\"startlinecolor\":\"#2a3f5f\"},\"baxis\":{\"endlinecolor\":\"#2a3f5f\",\"gridcolor\":\"white\",\"linecolor\":\"white\",\"minorgridcolor\":\"white\",\"startlinecolor\":\"#2a3f5f\"},\"type\":\"carpet\"}],\"choropleth\":[{\"colorbar\":{\"outlinewidth\":0,\"ticks\":\"\"},\"type\":\"choropleth\"}],\"contour\":[{\"colorbar\":{\"outlinewidth\":0,\"ticks\":\"\"},\"colorscale\":[[0.0,\"#0d0887\"],[0.1111111111111111,\"#46039f\"],[0.2222222222222222,\"#7201a8\"],[0.3333333333333333,\"#9c179e\"],[0.4444444444444444,\"#bd3786\"],[0.5555555555555556,\"#d8576b\"],[0.6666666666666666,\"#ed7953\"],[0.7777777777777778,\"#fb9f3a\"],[0.8888888888888888,\"#fdca26\"],[1.0,\"#f0f921\"]],\"type\":\"contour\"}],\"contourcarpet\":[{\"colorbar\":{\"outlinewidth\":0,\"ticks\":\"\"},\"type\":\"contourcarpet\"}],\"heatmap\":[{\"colorbar\":{\"outlinewidth\":0,\"ticks\":\"\"},\"colorscale\":[[0.0,\"#0d0887\"],[0.1111111111111111,\"#46039f\"],[0.2222222222222222,\"#7201a8\"],[0.3333333333333333,\"#9c179e\"],[0.4444444444444444,\"#bd3786\"],[0.5555555555555556,\"#d8576b\"],[0.6666666666666666,\"#ed7953\"],[0.7777777777777778,\"#fb9f3a\"],[0.8888888888888888,\"#fdca26\"],[1.0,\"#f0f921\"]],\"type\":\"heatmap\"}],\"heatmapgl\":[{\"colorbar\":{\"outlinewidth\":0,\"ticks\":\"\"},\"colorscale\":[[0.0,\"#0d0887\"],[0.1111111111111111,\"#46039f\"],[0.2222222222222222,\"#7201a8\"],[0.3333333333333333,\"#9c179e\"],[0.4444444444444444,\"#bd3786\"],[0.5555555555555556,\"#d8576b\"],[0.6666666666666666,\"#ed7953\"],[0.7777777777777778,\"#fb9f3a\"],[0.8888888888888888,\"#fdca26\"],[1.0,\"#f0f921\"]],\"type\":\"heatmapgl\"}],\"histogram\":[{\"marker\":{\"pattern\":{\"fillmode\":\"overlay\",\"size\":10,\"solidity\":0.2}},\"type\":\"histogram\"}],\"histogram2d\":[{\"colorbar\":{\"outlinewidth\":0,\"ticks\":\"\"},\"colorscale\":[[0.0,\"#0d0887\"],[0.1111111111111111,\"#46039f\"],[0.2222222222222222,\"#7201a8\"],[0.3333333333333333,\"#9c179e\"],[0.4444444444444444,\"#bd3786\"],[0.5555555555555556,\"#d8576b\"],[0.6666666666666666,\"#ed7953\"],[0.7777777777777778,\"#fb9f3a\"],[0.8888888888888888,\"#fdca26\"],[1.0,\"#f0f921\"]],\"type\":\"histogram2d\"}],\"histogram2dcontour\":[{\"colorbar\":{\"outlinewidth\":0,\"ticks\":\"\"},\"colorscale\":[[0.0,\"#0d0887\"],[0.1111111111111111,\"#46039f\"],[0.2222222222222222,\"#7201a8\"],[0.3333333333333333,\"#9c179e\"],[0.4444444444444444,\"#bd3786\"],[0.5555555555555556,\"#d8576b\"],[0.6666666666666666,\"#ed7953\"],[0.7777777777777778,\"#fb9f3a\"],[0.8888888888888888,\"#fdca26\"],[1.0,\"#f0f921\"]],\"type\":\"histogram2dcontour\"}],\"mesh3d\":[{\"colorbar\":{\"outlinewidth\":0,\"ticks\":\"\"},\"type\":\"mesh3d\"}],\"parcoords\":[{\"line\":{\"colorbar\":{\"outlinewidth\":0,\"ticks\":\"\"}},\"type\":\"parcoords\"}],\"pie\":[{\"automargin\":true,\"type\":\"pie\"}],\"scatter\":[{\"marker\":{\"colorbar\":{\"outlinewidth\":0,\"ticks\":\"\"}},\"type\":\"scatter\"}],\"scatter3d\":[{\"line\":{\"colorbar\":{\"outlinewidth\":0,\"ticks\":\"\"}},\"marker\":{\"colorbar\":{\"outlinewidth\":0,\"ticks\":\"\"}},\"type\":\"scatter3d\"}],\"scattercarpet\":[{\"marker\":{\"colorbar\":{\"outlinewidth\":0,\"ticks\":\"\"}},\"type\":\"scattercarpet\"}],\"scattergeo\":[{\"marker\":{\"colorbar\":{\"outlinewidth\":0,\"ticks\":\"\"}},\"type\":\"scattergeo\"}],\"scattergl\":[{\"marker\":{\"colorbar\":{\"outlinewidth\":0,\"ticks\":\"\"}},\"type\":\"scattergl\"}],\"scattermapbox\":[{\"marker\":{\"colorbar\":{\"outlinewidth\":0,\"ticks\":\"\"}},\"type\":\"scattermapbox\"}],\"scatterpolar\":[{\"marker\":{\"colorbar\":{\"outlinewidth\":0,\"ticks\":\"\"}},\"type\":\"scatterpolar\"}],\"scatterpolargl\":[{\"marker\":{\"colorbar\":{\"outlinewidth\":0,\"ticks\":\"\"}},\"type\":\"scatterpolargl\"}],\"scatterternary\":[{\"marker\":{\"colorbar\":{\"outlinewidth\":0,\"ticks\":\"\"}},\"type\":\"scatterternary\"}],\"surface\":[{\"colorbar\":{\"outlinewidth\":0,\"ticks\":\"\"},\"colorscale\":[[0.0,\"#0d0887\"],[0.1111111111111111,\"#46039f\"],[0.2222222222222222,\"#7201a8\"],[0.3333333333333333,\"#9c179e\"],[0.4444444444444444,\"#bd3786\"],[0.5555555555555556,\"#d8576b\"],[0.6666666666666666,\"#ed7953\"],[0.7777777777777778,\"#fb9f3a\"],[0.8888888888888888,\"#fdca26\"],[1.0,\"#f0f921\"]],\"type\":\"surface\"}],\"table\":[{\"cells\":{\"fill\":{\"color\":\"#EBF0F8\"},\"line\":{\"color\":\"white\"}},\"header\":{\"fill\":{\"color\":\"#C8D4E3\"},\"line\":{\"color\":\"white\"}},\"type\":\"table\"}]},\"layout\":{\"annotationdefaults\":{\"arrowcolor\":\"#2a3f5f\",\"arrowhead\":0,\"arrowwidth\":1},\"autotypenumbers\":\"strict\",\"coloraxis\":{\"colorbar\":{\"outlinewidth\":0,\"ticks\":\"\"}},\"colorscale\":{\"diverging\":[[0,\"#8e0152\"],[0.1,\"#c51b7d\"],[0.2,\"#de77ae\"],[0.3,\"#f1b6da\"],[0.4,\"#fde0ef\"],[0.5,\"#f7f7f7\"],[0.6,\"#e6f5d0\"],[0.7,\"#b8e186\"],[0.8,\"#7fbc41\"],[0.9,\"#4d9221\"],[1,\"#276419\"]],\"sequential\":[[0.0,\"#0d0887\"],[0.1111111111111111,\"#46039f\"],[0.2222222222222222,\"#7201a8\"],[0.3333333333333333,\"#9c179e\"],[0.4444444444444444,\"#bd3786\"],[0.5555555555555556,\"#d8576b\"],[0.6666666666666666,\"#ed7953\"],[0.7777777777777778,\"#fb9f3a\"],[0.8888888888888888,\"#fdca26\"],[1.0,\"#f0f921\"]],\"sequentialminus\":[[0.0,\"#0d0887\"],[0.1111111111111111,\"#46039f\"],[0.2222222222222222,\"#7201a8\"],[0.3333333333333333,\"#9c179e\"],[0.4444444444444444,\"#bd3786\"],[0.5555555555555556,\"#d8576b\"],[0.6666666666666666,\"#ed7953\"],[0.7777777777777778,\"#fb9f3a\"],[0.8888888888888888,\"#fdca26\"],[1.0,\"#f0f921\"]]},\"colorway\":[\"#636efa\",\"#EF553B\",\"#00cc96\",\"#ab63fa\",\"#FFA15A\",\"#19d3f3\",\"#FF6692\",\"#B6E880\",\"#FF97FF\",\"#FECB52\"],\"font\":{\"color\":\"#2a3f5f\"},\"geo\":{\"bgcolor\":\"white\",\"lakecolor\":\"white\",\"landcolor\":\"#E5ECF6\",\"showlakes\":true,\"showland\":true,\"subunitcolor\":\"white\"},\"hoverlabel\":{\"align\":\"left\"},\"hovermode\":\"closest\",\"mapbox\":{\"style\":\"light\"},\"paper_bgcolor\":\"white\",\"plot_bgcolor\":\"#E5ECF6\",\"polar\":{\"angularaxis\":{\"gridcolor\":\"white\",\"linecolor\":\"white\",\"ticks\":\"\"},\"bgcolor\":\"#E5ECF6\",\"radialaxis\":{\"gridcolor\":\"white\",\"linecolor\":\"white\",\"ticks\":\"\"}},\"scene\":{\"xaxis\":{\"backgroundcolor\":\"#E5ECF6\",\"gridcolor\":\"white\",\"gridwidth\":2,\"linecolor\":\"white\",\"showbackground\":true,\"ticks\":\"\",\"zerolinecolor\":\"white\"},\"yaxis\":{\"backgroundcolor\":\"#E5ECF6\",\"gridcolor\":\"white\",\"gridwidth\":2,\"linecolor\":\"white\",\"showbackground\":true,\"ticks\":\"\",\"zerolinecolor\":\"white\"},\"zaxis\":{\"backgroundcolor\":\"#E5ECF6\",\"gridcolor\":\"white\",\"gridwidth\":2,\"linecolor\":\"white\",\"showbackground\":true,\"ticks\":\"\",\"zerolinecolor\":\"white\"}},\"shapedefaults\":{\"line\":{\"color\":\"#2a3f5f\"}},\"ternary\":{\"aaxis\":{\"gridcolor\":\"white\",\"linecolor\":\"white\",\"ticks\":\"\"},\"baxis\":{\"gridcolor\":\"white\",\"linecolor\":\"white\",\"ticks\":\"\"},\"bgcolor\":\"#E5ECF6\",\"caxis\":{\"gridcolor\":\"white\",\"linecolor\":\"white\",\"ticks\":\"\"}},\"title\":{\"x\":0.05},\"xaxis\":{\"automargin\":true,\"gridcolor\":\"white\",\"linecolor\":\"white\",\"ticks\":\"\",\"title\":{\"standoff\":15},\"zerolinecolor\":\"white\",\"zerolinewidth\":2},\"yaxis\":{\"automargin\":true,\"gridcolor\":\"white\",\"linecolor\":\"white\",\"ticks\":\"\",\"title\":{\"standoff\":15},\"zerolinecolor\":\"white\",\"zerolinewidth\":2}}},\"xaxis\":{\"anchor\":\"y\",\"domain\":[0.0,1.0],\"title\":{\"text\":\"Personality\"}},\"yaxis\":{\"anchor\":\"x\",\"domain\":[0.0,1.0],\"title\":{\"text\":\"age\"}},\"legend\":{\"title\":{\"text\":\"gender\"},\"tracegroupgap\":0,\"itemsizing\":\"constant\"},\"title\":{\"text\":\"Gender vs Age\"}},                        {\"responsive\": true}                    ).then(function(){\n",
       "                            \n",
       "var gd = document.getElementById('1fa5ada4-3721-4dd9-bd28-8b95cd7767fb');\n",
       "var x = new MutationObserver(function (mutations, observer) {{\n",
       "        var display = window.getComputedStyle(gd).display;\n",
       "        if (!display || display === 'none') {{\n",
       "            console.log([gd, 'removed!']);\n",
       "            Plotly.purge(gd);\n",
       "            observer.disconnect();\n",
       "        }}\n",
       "}});\n",
       "\n",
       "// Listen for the removal of the full notebook cells\n",
       "var notebookContainer = gd.closest('#notebook-container');\n",
       "if (notebookContainer) {{\n",
       "    x.observe(notebookContainer, {childList: true});\n",
       "}}\n",
       "\n",
       "// Listen for the clearing of the current output cell\n",
       "var outputEl = gd.closest('.output');\n",
       "if (outputEl) {{\n",
       "    x.observe(outputEl, {childList: true});\n",
       "}}\n",
       "\n",
       "                        })                };                });            </script>        </div>"
      ]
     },
     "metadata": {},
     "output_type": "display_data"
    }
   ],
   "source": [
    "fig= px.scatter(csv_data, x='Personality', y='age', size=\"age\", \n",
    "           color='gender',\n",
    "           title=\"Gender vs Age\")\n",
    "\n",
    "fig"
   ]
  },
  {
   "cell_type": "code",
   "execution_count": 19,
   "id": "16eb455f",
   "metadata": {
    "ExecuteTime": {
     "end_time": "2022-04-30T04:00:36.863960Z",
     "start_time": "2022-04-30T04:00:36.701012Z"
    }
   },
   "outputs": [],
   "source": [
    "fig.write_html(\"../images/pc_scatter.html\")"
   ]
  },
  {
   "cell_type": "code",
   "execution_count": 22,
   "id": "d9d2d98a",
   "metadata": {
    "ExecuteTime": {
     "end_time": "2022-04-30T04:01:28.128818Z",
     "start_time": "2022-04-30T04:01:27.970782Z"
    }
   },
   "outputs": [
    {
     "data": {
      "image/png": "[encoded data removed]",
      "text/plain": [
       "<Figure size 432x288 with 1 Axes>"
      ]
     },
     "metadata": {},
     "output_type": "display_data"
    }
   ],
   "source": [
    "sns.countplot(x=csv_data[\"age\"],palette=\"husl\")\n",
    "plt.show()"
   ]
  },
  {
   "cell_type": "code",
   "execution_count": 23,
   "id": "e6403bff",
   "metadata": {
    "ExecuteTime": {
     "end_time": "2022-04-30T04:01:28.854983Z",
     "start_time": "2022-04-30T04:01:28.764958Z"
    }
   },
   "outputs": [
    {
     "data": {
      "image/png": "[encoded data removed]",
      "text/plain": [
       "<Figure size 432x288 with 1 Axes>"
      ]
     },
     "metadata": {},
     "output_type": "display_data"
    }
   ],
   "source": [
    "ax = sns.boxplot(x=\"gender\", y=\"age\", data=csv_data)"
   ]
  },
  {
   "cell_type": "code",
   "execution_count": 24,
   "id": "2b6a9cdf",
   "metadata": {
    "ExecuteTime": {
     "end_time": "2022-04-30T04:01:29.727620Z",
     "start_time": "2022-04-30T04:01:29.474480Z"
    }
   },
   "outputs": [
    {
     "data": {
      "image/png": "[encoded data removed]",
      "text/plain": [
       "<Figure size 432x288 with 1 Axes>"
      ]
     },
     "metadata": {},
     "output_type": "display_data"
    }
   ],
   "source": [
    "total_personalities =  csv_data[\"openness\"] + csv_data[\"neuroticism\"] + \\\n",
    "                    csv_data[\"conscientiousness\"] + csv_data[\"agreeableness\"] + csv_data[\"extraversion\"]\n",
    "\n",
    "sns.boxplot(y=total_personalities,x=\"gender\",hue=\"Personality\",data=csv_data)\n",
    "plt.legend(bbox_to_anchor=(1.05, 1), loc=2, borderaxespad=0.)\n",
    "plt.show()"
   ]
  },
  {
   "cell_type": "code",
   "execution_count": 25,
   "id": "f6b52ee9",
   "metadata": {
    "ExecuteTime": {
     "end_time": "2022-04-30T04:01:31.033570Z",
     "start_time": "2022-04-30T04:01:31.011562Z"
    }
   },
   "outputs": [
    {
     "data": {
      "text/plain": [
       "<Figure size 432x288 with 0 Axes>"
      ]
     },
     "metadata": {},
     "output_type": "display_data"
    }
   ],
   "source": [
    "plt.savefig(\"../images/pc_box.png\")"
   ]
  },
  {
   "cell_type": "code",
   "execution_count": 15,
   "id": "12d09c92",
   "metadata": {
    "ExecuteTime": {
     "end_time": "2022-04-20T11:50:04.581061Z",
     "start_time": "2022-04-20T11:50:04.553056Z"
    }
   },
   "outputs": [
    {
     "data": {
      "text/html": [
       "<div>\n",
       "<style scoped>\n",
       "    .dataframe tbody tr th:only-of-type {\n",
       "        vertical-align: middle;\n",
       "    }\n",
       "\n",
       "    .dataframe tbody tr th {\n",
       "        vertical-align: top;\n",
       "    }\n",
       "\n",
       "    .dataframe thead th {\n",
       "        text-align: right;\n",
       "    }\n",
       "</style>\n",
       "<table border=\"1\" class=\"dataframe\">\n",
       "  <thead>\n",
       "    <tr style=\"text-align: right;\">\n",
       "      <th></th>\n",
       "      <th>age</th>\n",
       "      <th>openness</th>\n",
       "      <th>neuroticism</th>\n",
       "      <th>conscientiousness</th>\n",
       "      <th>agreeableness</th>\n",
       "      <th>extraversion</th>\n",
       "      <th>Personality</th>\n",
       "    </tr>\n",
       "    <tr>\n",
       "      <th>gender</th>\n",
       "      <th></th>\n",
       "      <th></th>\n",
       "      <th></th>\n",
       "      <th></th>\n",
       "      <th></th>\n",
       "      <th></th>\n",
       "      <th></th>\n",
       "    </tr>\n",
       "  </thead>\n",
       "  <tbody>\n",
       "    <tr>\n",
       "      <th>Female</th>\n",
       "      <td>5</td>\n",
       "      <td>1</td>\n",
       "      <td>1</td>\n",
       "      <td>1</td>\n",
       "      <td>1</td>\n",
       "      <td>1</td>\n",
       "      <td>dependable</td>\n",
       "    </tr>\n",
       "    <tr>\n",
       "      <th>Male</th>\n",
       "      <td>17</td>\n",
       "      <td>1</td>\n",
       "      <td>1</td>\n",
       "      <td>1</td>\n",
       "      <td>1</td>\n",
       "      <td>1</td>\n",
       "      <td>dependable</td>\n",
       "    </tr>\n",
       "  </tbody>\n",
       "</table>\n",
       "</div>"
      ],
      "text/plain": [
       "        age  openness  neuroticism  conscientiousness  agreeableness  \\\n",
       "gender                                                                 \n",
       "Female    5         1            1                  1              1   \n",
       "Male     17         1            1                  1              1   \n",
       "\n",
       "        extraversion Personality  \n",
       "gender                            \n",
       "Female             1  dependable  \n",
       "Male               1  dependable  "
      ]
     },
     "execution_count": 15,
     "metadata": {},
     "output_type": "execute_result"
    }
   ],
   "source": [
    "# Locate the outlier as found by the boxplot above\n",
    "csv_data.groupby(by=\"gender\").min()"
   ]
  },
  {
   "cell_type": "code",
   "execution_count": 16,
   "id": "e91c73ee",
   "metadata": {
    "ExecuteTime": {
     "end_time": "2022-04-20T11:50:04.613071Z",
     "start_time": "2022-04-20T11:50:04.583064Z"
    }
   },
   "outputs": [
    {
     "data": {
      "text/html": [
       "<div>\n",
       "<style scoped>\n",
       "    .dataframe tbody tr th:only-of-type {\n",
       "        vertical-align: middle;\n",
       "    }\n",
       "\n",
       "    .dataframe tbody tr th {\n",
       "        vertical-align: top;\n",
       "    }\n",
       "\n",
       "    .dataframe thead th {\n",
       "        text-align: right;\n",
       "    }\n",
       "</style>\n",
       "<table border=\"1\" class=\"dataframe\">\n",
       "  <thead>\n",
       "    <tr style=\"text-align: right;\">\n",
       "      <th></th>\n",
       "      <th>age</th>\n",
       "      <th>openness</th>\n",
       "      <th>neuroticism</th>\n",
       "      <th>conscientiousness</th>\n",
       "      <th>agreeableness</th>\n",
       "      <th>extraversion</th>\n",
       "      <th>Personality</th>\n",
       "    </tr>\n",
       "    <tr>\n",
       "      <th>gender</th>\n",
       "      <th></th>\n",
       "      <th></th>\n",
       "      <th></th>\n",
       "      <th></th>\n",
       "      <th></th>\n",
       "      <th></th>\n",
       "      <th></th>\n",
       "    </tr>\n",
       "  </thead>\n",
       "  <tbody>\n",
       "    <tr>\n",
       "      <th>Female</th>\n",
       "      <td>17</td>\n",
       "      <td>1</td>\n",
       "      <td>1</td>\n",
       "      <td>1</td>\n",
       "      <td>1</td>\n",
       "      <td>1</td>\n",
       "      <td>dependable</td>\n",
       "    </tr>\n",
       "    <tr>\n",
       "      <th>Male</th>\n",
       "      <td>17</td>\n",
       "      <td>1</td>\n",
       "      <td>1</td>\n",
       "      <td>1</td>\n",
       "      <td>1</td>\n",
       "      <td>1</td>\n",
       "      <td>dependable</td>\n",
       "    </tr>\n",
       "  </tbody>\n",
       "</table>\n",
       "</div>"
      ],
      "text/plain": [
       "        age  openness  neuroticism  conscientiousness  agreeableness  \\\n",
       "gender                                                                 \n",
       "Female   17         1            1                  1              1   \n",
       "Male     17         1            1                  1              1   \n",
       "\n",
       "        extraversion Personality  \n",
       "gender                            \n",
       "Female             1  dependable  \n",
       "Male               1  dependable  "
      ]
     },
     "execution_count": 16,
     "metadata": {},
     "output_type": "execute_result"
    }
   ],
   "source": [
    "# Remove the outlier in the age column\n",
    "csv_data = csv_data.drop(csv_data['age'].idxmin())\n",
    "csv_data.groupby(by=\"gender\").min()"
   ]
  },
  {
   "cell_type": "markdown",
   "id": "5f20abf6",
   "metadata": {},
   "source": [
    "### Data pre-processing"
   ]
  },
  {
   "cell_type": "code",
   "execution_count": 54,
   "id": "502f5ae1",
   "metadata": {
    "ExecuteTime": {
     "end_time": "2022-04-20T11:59:27.327109Z",
     "start_time": "2022-04-20T11:59:27.317102Z"
    }
   },
   "outputs": [
    {
     "data": {
      "text/html": [
       "<div>\n",
       "<style scoped>\n",
       "    .dataframe tbody tr th:only-of-type {\n",
       "        vertical-align: middle;\n",
       "    }\n",
       "\n",
       "    .dataframe tbody tr th {\n",
       "        vertical-align: top;\n",
       "    }\n",
       "\n",
       "    .dataframe thead th {\n",
       "        text-align: right;\n",
       "    }\n",
       "</style>\n",
       "<table border=\"1\" class=\"dataframe\">\n",
       "  <thead>\n",
       "    <tr style=\"text-align: right;\">\n",
       "      <th></th>\n",
       "      <th>gender</th>\n",
       "      <th>age</th>\n",
       "      <th>openness</th>\n",
       "      <th>neuroticism</th>\n",
       "      <th>conscientiousness</th>\n",
       "      <th>agreeableness</th>\n",
       "      <th>extraversion</th>\n",
       "      <th>Personality</th>\n",
       "    </tr>\n",
       "  </thead>\n",
       "  <tbody>\n",
       "    <tr>\n",
       "      <th>0</th>\n",
       "      <td>Female</td>\n",
       "      <td>20</td>\n",
       "      <td>7</td>\n",
       "      <td>9</td>\n",
       "      <td>9</td>\n",
       "      <td>5</td>\n",
       "      <td>5</td>\n",
       "      <td>dependable</td>\n",
       "    </tr>\n",
       "    <tr>\n",
       "      <th>1</th>\n",
       "      <td>Male</td>\n",
       "      <td>17</td>\n",
       "      <td>5</td>\n",
       "      <td>4</td>\n",
       "      <td>5</td>\n",
       "      <td>2</td>\n",
       "      <td>4</td>\n",
       "      <td>serious</td>\n",
       "    </tr>\n",
       "  </tbody>\n",
       "</table>\n",
       "</div>"
      ],
      "text/plain": [
       "   gender  age  openness  neuroticism  conscientiousness  agreeableness  \\\n",
       "0  Female   20         7            9                  9              5   \n",
       "1    Male   17         5            4                  5              2   \n",
       "\n",
       "   extraversion Personality  \n",
       "0             5  dependable  \n",
       "1             4     serious  "
      ]
     },
     "execution_count": 54,
     "metadata": {},
     "output_type": "execute_result"
    }
   ],
   "source": [
    "# Clone the dataframe\n",
    "df = csv_data.reset_index(drop=True).copy()\n",
    "df.head(2)"
   ]
  },
  {
   "cell_type": "code",
   "execution_count": 55,
   "id": "23944627",
   "metadata": {
    "ExecuteTime": {
     "end_time": "2022-04-20T11:59:29.622093Z",
     "start_time": "2022-04-20T11:59:29.620105Z"
    }
   },
   "outputs": [],
   "source": [
    "# Encode \"gender\" column to binary numbers\n",
    "# df = pd.get_dummies(csv_data, columns=[\"gender\"])\n",
    "# df.head()"
   ]
  },
  {
   "cell_type": "code",
   "execution_count": 56,
   "id": "7883840a",
   "metadata": {
    "ExecuteTime": {
     "end_time": "2022-04-20T11:59:32.031153Z",
     "start_time": "2022-04-20T11:59:32.012130Z"
    }
   },
   "outputs": [],
   "source": [
    "# Manually categorised the gender column. i.e. not using get_dummies encoder\n",
    "# to prevent the split in column gender for male & female, such as gender -> gender_Female and gender_Male column\n",
    "df.loc[df['gender'] == 'Female', 'gender',] = 1\n",
    "df.loc[df['gender'] == 'Male', 'gender',] = 0\n",
    "\n",
    "# Categorised Personality column\n",
    "df.loc[df['Personality'] == 'dependable', 'Personality',] = 0\n",
    "df.loc[df['Personality'] == 'extraverted', 'Personality',] = 1\n",
    "df.loc[df['Personality'] == 'lively', 'Personality',] = 2\n",
    "df.loc[df['Personality'] == 'responsible', 'Personality',] = 3\n",
    "df.loc[df['Personality'] == 'serious', 'Personality',] = 4"
   ]
  },
  {
   "cell_type": "code",
   "execution_count": 57,
   "id": "fcf5bbdc",
   "metadata": {
    "ExecuteTime": {
     "end_time": "2022-04-20T11:59:35.501368Z",
     "start_time": "2022-04-20T11:59:35.492375Z"
    }
   },
   "outputs": [
    {
     "data": {
      "text/html": [
       "<div>\n",
       "<style scoped>\n",
       "    .dataframe tbody tr th:only-of-type {\n",
       "        vertical-align: middle;\n",
       "    }\n",
       "\n",
       "    .dataframe tbody tr th {\n",
       "        vertical-align: top;\n",
       "    }\n",
       "\n",
       "    .dataframe thead th {\n",
       "        text-align: right;\n",
       "    }\n",
       "</style>\n",
       "<table border=\"1\" class=\"dataframe\">\n",
       "  <thead>\n",
       "    <tr style=\"text-align: right;\">\n",
       "      <th></th>\n",
       "      <th>gender</th>\n",
       "      <th>age</th>\n",
       "      <th>openness</th>\n",
       "      <th>neuroticism</th>\n",
       "      <th>conscientiousness</th>\n",
       "      <th>agreeableness</th>\n",
       "      <th>extraversion</th>\n",
       "      <th>Personality</th>\n",
       "    </tr>\n",
       "  </thead>\n",
       "  <tbody>\n",
       "    <tr>\n",
       "      <th>0</th>\n",
       "      <td>1</td>\n",
       "      <td>20</td>\n",
       "      <td>7</td>\n",
       "      <td>9</td>\n",
       "      <td>9</td>\n",
       "      <td>5</td>\n",
       "      <td>5</td>\n",
       "      <td>0</td>\n",
       "    </tr>\n",
       "    <tr>\n",
       "      <th>1</th>\n",
       "      <td>0</td>\n",
       "      <td>17</td>\n",
       "      <td>5</td>\n",
       "      <td>4</td>\n",
       "      <td>5</td>\n",
       "      <td>2</td>\n",
       "      <td>4</td>\n",
       "      <td>4</td>\n",
       "    </tr>\n",
       "  </tbody>\n",
       "</table>\n",
       "</div>"
      ],
      "text/plain": [
       "   gender  age  openness  neuroticism  conscientiousness  agreeableness  \\\n",
       "0       1   20         7            9                  9              5   \n",
       "1       0   17         5            4                  5              2   \n",
       "\n",
       "   extraversion  Personality  \n",
       "0             5            0  \n",
       "1             4            4  "
      ]
     },
     "execution_count": 57,
     "metadata": {},
     "output_type": "execute_result"
    }
   ],
   "source": [
    "# Conver the gender & Personality columns into numeric\n",
    "df['Personality'] = pd.to_numeric(df['Personality'])\n",
    "df[\"gender\"]= pd.to_numeric(df['gender'])\n",
    "df.head(2)"
   ]
  },
  {
   "cell_type": "code",
   "execution_count": 58,
   "id": "afb85bac",
   "metadata": {
    "ExecuteTime": {
     "end_time": "2022-04-20T11:59:36.233165Z",
     "start_time": "2022-04-20T11:59:36.212139Z"
    }
   },
   "outputs": [
    {
     "name": "stdout",
     "output_type": "stream",
     "text": [
      "<class 'pandas.core.frame.DataFrame'>\n",
      "RangeIndex: 314 entries, 0 to 313\n",
      "Data columns (total 8 columns):\n",
      " #   Column             Non-Null Count  Dtype\n",
      "---  ------             --------------  -----\n",
      " 0   gender             314 non-null    int64\n",
      " 1   age                314 non-null    int64\n",
      " 2   openness           314 non-null    int64\n",
      " 3   neuroticism        314 non-null    int64\n",
      " 4   conscientiousness  314 non-null    int64\n",
      " 5   agreeableness      314 non-null    int64\n",
      " 6   extraversion       314 non-null    int64\n",
      " 7   Personality        314 non-null    int64\n",
      "dtypes: int64(8)\n",
      "memory usage: 19.8 KB\n"
     ]
    }
   ],
   "source": [
    "df.info()"
   ]
  },
  {
   "cell_type": "code",
   "execution_count": 59,
   "id": "9a539d8c",
   "metadata": {
    "ExecuteTime": {
     "end_time": "2022-04-20T11:59:38.283891Z",
     "start_time": "2022-04-20T11:59:38.266879Z"
    }
   },
   "outputs": [
    {
     "name": "stdout",
     "output_type": "stream",
     "text": [
      "df.shape  (314, 8)\n",
      "X.shape  (314, 7)\n",
      "y.shape  (314,)\n"
     ]
    }
   ],
   "source": [
    "# Get X, y data from the dataframe & check the shape of them\n",
    "y = df['Personality']\n",
    "# y = y.astype('int')\n",
    "X = df.drop('Personality', axis=1)\n",
    "print(f\"df.shape \", df.shape)\n",
    "print(f\"X.shape \", X.shape)\n",
    "print(f\"y.shape \", y.shape)"
   ]
  },
  {
   "cell_type": "markdown",
   "id": "8e7615a1",
   "metadata": {},
   "source": [
    "### Build and select the most accuracy model"
   ]
  },
  {
   "cell_type": "markdown",
   "id": "c31c9947",
   "metadata": {
    "ExecuteTime": {
     "end_time": "2022-04-20T11:50:58.655909Z",
     "start_time": "2022-04-20T11:50:58.643899Z"
    }
   },
   "source": [
    "##### Model1: Logistic regression for feature importance"
   ]
  },
  {
   "cell_type": "code",
   "execution_count": 60,
   "id": "b11f1933",
   "metadata": {
    "ExecuteTime": {
     "end_time": "2022-04-20T11:59:38.913792Z",
     "start_time": "2022-04-20T11:59:38.762759Z"
    }
   },
   "outputs": [
    {
     "name": "stdout",
     "output_type": "stream",
     "text": [
      "Feature: 0, Score: -0.61865\n",
      "Feature: 1, Score: -0.04892\n",
      "Feature: 2, Score: 0.09475\n",
      "Feature: 3, Score: 0.01637\n",
      "Feature: 4, Score: -0.06474\n",
      "Feature: 5, Score: -0.06204\n",
      "Feature: 6, Score: 0.36202\n"
     ]
    },
    {
     "data": {
      "image/png": "[encoded data removed]",
      "text/plain": [
       "<Figure size 432x288 with 1 Axes>"
      ]
     },
     "metadata": {},
     "output_type": "display_data"
    },
    {
     "name": "stdout",
     "output_type": "stream",
     "text": [
      "\u001b[35mTraining Data Score:  75.24 %\n",
      "\u001b[35mTesting Data Score: 66.35 %\n"
     ]
    }
   ],
   "source": [
    "# Model 1: Logistic regression for feature importance\n",
    "from sklearn.datasets import make_classification\n",
    "from sklearn.linear_model import LogisticRegression\n",
    "\n",
    "# define the model\n",
    "model = LogisticRegression()\n",
    "\n",
    "# split into train and test sets\n",
    "X_train, X_test, y_train, y_test = train_test_split(X, y, test_size=0.33, random_state=1)\n",
    "model.fit(X_train, y_train)\n",
    "\n",
    "# get importance\n",
    "importance = model.coef_[0]\n",
    "# summarize feature importance\n",
    "for i,v in enumerate(importance):\n",
    "    print('Feature: %0d, Score: %.5f' % (i,v))\n",
    "# plot feature importance\n",
    "plt.bar([x for x in range(len(importance))], importance)\n",
    "plt.show()\n",
    "\n",
    "# Print score \n",
    "print(f\"\\u001b[35mTraining Data Score:  %.2f\" % (model.score(X_train, y_train)*100),\"%\")\n",
    "print(f\"\\u001b[35mTesting Data Score: %.2f\" % (model.score(X_test, y_test)*100),\"%\")"
   ]
  },
  {
   "cell_type": "code",
   "execution_count": 61,
   "id": "8ed8688b",
   "metadata": {
    "ExecuteTime": {
     "end_time": "2022-04-20T11:59:38.960801Z",
     "start_time": "2022-04-20T11:59:38.938798Z"
    }
   },
   "outputs": [
    {
     "name": "stdout",
     "output_type": "stream",
     "text": [
      "              precision    recall  f1-score   support\n",
      "\n",
      "           0       0.00      0.00      0.00         7\n",
      "           1       0.48      0.76      0.59        21\n",
      "           2       1.00      0.38      0.55         8\n",
      "           3       0.33      0.14      0.20        14\n",
      "           4       0.77      0.89      0.83        54\n",
      "\n",
      "    accuracy                           0.66       104\n",
      "   macro avg       0.52      0.43      0.43       104\n",
      "weighted avg       0.62      0.66      0.62       104\n",
      "\n"
     ]
    }
   ],
   "source": [
    "pred = model.predict(X_test)\n",
    "# Print classfication report\n",
    "print(classification_report(y_test, model.predict(X_test))) "
   ]
  },
  {
   "cell_type": "code",
   "execution_count": 62,
   "id": "197b48ad",
   "metadata": {
    "ExecuteTime": {
     "end_time": "2022-04-20T11:59:39.088655Z",
     "start_time": "2022-04-20T11:59:39.073656Z"
    }
   },
   "outputs": [
    {
     "name": "stdout",
     "output_type": "stream",
     "text": [
      "mse: 1.6538461538461537\n",
      "r2: 0.6634615384615384\n"
     ]
    }
   ],
   "source": [
    "from sklearn.metrics import mean_squared_error, r2_score\n",
    "# Print r2 and mse scores\n",
    "y_predict = model.predict(X_test)\n",
    "mse = mean_squared_error(y_test, y_predict)\n",
    "r2 = model.score(X_test, y_test)\n",
    "print(f\"mse: {mse}\")\n",
    "print(f\"r2: {r2}\")"
   ]
  },
  {
   "cell_type": "markdown",
   "id": "905325da",
   "metadata": {},
   "source": [
    "##### Model 2: Decision tree classifier for feature importance on a classification problem"
   ]
  },
  {
   "cell_type": "code",
   "execution_count": 63,
   "id": "42a7e5c8",
   "metadata": {
    "ExecuteTime": {
     "end_time": "2022-04-20T11:59:39.483156Z",
     "start_time": "2022-04-20T11:59:39.347116Z"
    }
   },
   "outputs": [
    {
     "name": "stdout",
     "output_type": "stream",
     "text": [
      "Feature: 0, Score: 0.08924\n",
      "Feature: 1, Score: 0.13395\n",
      "Feature: 2, Score: 0.14347\n",
      "Feature: 3, Score: 0.15840\n",
      "Feature: 4, Score: 0.19069\n",
      "Feature: 5, Score: 0.08533\n",
      "Feature: 6, Score: 0.19892\n"
     ]
    },
    {
     "data": {
      "image/png": "[encoded data removed]",
      "text/plain": [
       "<Figure size 432x288 with 1 Axes>"
      ]
     },
     "metadata": {},
     "output_type": "display_data"
    },
    {
     "name": "stdout",
     "output_type": "stream",
     "text": [
      "\u001b[35mTraining Data Score:  99.52 %\n",
      "\u001b[35mTesting Data Score: 50.96 %\n"
     ]
    }
   ],
   "source": [
    "# Model 2: Decision tree classifier for feature importance on a classification problem\n",
    "from sklearn.datasets import make_classification\n",
    "from sklearn.tree import DecisionTreeClassifier\n",
    "\n",
    "# define the model\n",
    "model = DecisionTreeClassifier()\n",
    "\n",
    "# split into train and test sets\n",
    "X_train, X_test, y_train, y_test = train_test_split(X, y, test_size=0.33, random_state=1)\n",
    "model.fit(X_train, y_train)\n",
    "\n",
    "# get importance\n",
    "importance = model.feature_importances_\n",
    "# summarize feature importance\n",
    "for i,v in enumerate(importance):\n",
    "    print('Feature: %0d, Score: %.5f' % (i,v))\n",
    "# plot feature importance\n",
    "plt.bar([x for x in range(len(importance))], importance)\n",
    "plt.show()\n",
    "\n",
    "# Print score \n",
    "print(f\"\\u001b[35mTraining Data Score:  %.2f\" % (model.score(X_train, y_train)*100),\"%\")\n",
    "print(f\"\\u001b[35mTesting Data Score: %.2f\" % (model.score(X_test, y_test)*100),\"%\")"
   ]
  },
  {
   "cell_type": "code",
   "execution_count": 64,
   "id": "203ca4b1",
   "metadata": {
    "ExecuteTime": {
     "end_time": "2022-04-20T11:59:39.531163Z",
     "start_time": "2022-04-20T11:59:39.510172Z"
    }
   },
   "outputs": [
    {
     "name": "stdout",
     "output_type": "stream",
     "text": [
      "              precision    recall  f1-score   support\n",
      "\n",
      "           0       0.00      0.00      0.00         7\n",
      "           1       0.52      0.62      0.57        21\n",
      "           2       0.22      0.25      0.24         8\n",
      "           3       0.29      0.36      0.32        14\n",
      "           4       0.73      0.61      0.67        54\n",
      "\n",
      "    accuracy                           0.51       104\n",
      "   macro avg       0.35      0.37      0.36       104\n",
      "weighted avg       0.54      0.51      0.52       104\n",
      "\n"
     ]
    }
   ],
   "source": [
    "pred = model.predict(X_test)\n",
    "# Print classfication report\n",
    "print(classification_report(y_test, model.predict(X_test))) "
   ]
  },
  {
   "cell_type": "code",
   "execution_count": 65,
   "id": "8a4e9423",
   "metadata": {
    "ExecuteTime": {
     "end_time": "2022-04-20T11:59:39.687411Z",
     "start_time": "2022-04-20T11:59:39.675401Z"
    }
   },
   "outputs": [
    {
     "name": "stdout",
     "output_type": "stream",
     "text": [
      "mse: 2.701923076923077\n",
      "r2: 0.5096153846153846\n"
     ]
    }
   ],
   "source": [
    "from sklearn.metrics import mean_squared_error, r2_score\n",
    "# Print r2 and mse scores\n",
    "y_predict = model.predict(X_test)\n",
    "mse = mean_squared_error(y_test, y_predict)\n",
    "r2 = model.score(X_test, y_test)\n",
    "print(f\"mse: {mse}\")\n",
    "print(f\"r2: {r2}\")"
   ]
  },
  {
   "cell_type": "markdown",
   "id": "c6a9d794",
   "metadata": {},
   "source": [
    "##### Model 3: Random forest classifier for feature importance on a classification problem"
   ]
  },
  {
   "cell_type": "code",
   "execution_count": 66,
   "id": "a7fa5350",
   "metadata": {
    "ExecuteTime": {
     "end_time": "2022-04-20T11:59:40.225713Z",
     "start_time": "2022-04-20T11:59:39.955654Z"
    }
   },
   "outputs": [
    {
     "name": "stdout",
     "output_type": "stream",
     "text": [
      "Feature: 0, Score: 0.07786\n",
      "Feature: 1, Score: 0.14047\n",
      "Feature: 2, Score: 0.13563\n",
      "Feature: 3, Score: 0.20424\n",
      "Feature: 4, Score: 0.14963\n",
      "Feature: 5, Score: 0.11121\n",
      "Feature: 6, Score: 0.18096\n"
     ]
    },
    {
     "data": {
      "image/png": "[encoded data removed]",
      "text/plain": [
       "<Figure size 432x288 with 1 Axes>"
      ]
     },
     "metadata": {},
     "output_type": "display_data"
    },
    {
     "name": "stdout",
     "output_type": "stream",
     "text": [
      "\u001b[35mTraining Data Score:  99.52 %\n",
      "\u001b[35mTesting Data Score: 69.23 %\n"
     ]
    }
   ],
   "source": [
    "# Model 3: Random forest classifier for feature importance on a classification problem\n",
    "from sklearn.datasets import make_classification\n",
    "from sklearn.ensemble import RandomForestClassifier\n",
    "\n",
    "# define the model\n",
    "model = RandomForestClassifier()\n",
    "\n",
    "# split into train and test sets\n",
    "X_train, X_test, y_train, y_test = train_test_split(X, y, test_size=0.33, random_state=1)\n",
    "model.fit(X_train, y_train)\n",
    "\n",
    "# get importance\n",
    "importance = model.feature_importances_\n",
    "# summarize feature importance\n",
    "for i,v in enumerate(importance):\n",
    "    print('Feature: %0d, Score: %.5f' % (i,v))\n",
    "# plot feature importance\n",
    "plt.bar([x for x in range(len(importance))], importance)\n",
    "plt.show()\n",
    "\n",
    "# Print score \n",
    "print(f\"\\u001b[35mTraining Data Score:  %.2f\" % (model.score(X_train, y_train)*100),\"%\")\n",
    "print(f\"\\u001b[35mTesting Data Score: %.2f\" % (model.score(X_test, y_test)*100),\"%\")"
   ]
  },
  {
   "cell_type": "code",
   "execution_count": 67,
   "id": "22c32113",
   "metadata": {
    "ExecuteTime": {
     "end_time": "2022-04-20T11:59:40.271927Z",
     "start_time": "2022-04-20T11:59:40.227714Z"
    }
   },
   "outputs": [
    {
     "name": "stdout",
     "output_type": "stream",
     "text": [
      "              precision    recall  f1-score   support\n",
      "\n",
      "           0       0.00      0.00      0.00         7\n",
      "           1       0.56      0.86      0.68        21\n",
      "           2       0.67      0.25      0.36         8\n",
      "           3       0.57      0.29      0.38        14\n",
      "           4       0.80      0.89      0.84        54\n",
      "\n",
      "    accuracy                           0.69       104\n",
      "   macro avg       0.52      0.46      0.45       104\n",
      "weighted avg       0.66      0.69      0.65       104\n",
      "\n"
     ]
    }
   ],
   "source": [
    "pred = model.predict(X_test)\n",
    "# Print classfication report\n",
    "print(classification_report(y_test, model.predict(X_test))) "
   ]
  },
  {
   "cell_type": "code",
   "execution_count": 68,
   "id": "9baf8af3",
   "metadata": {
    "ExecuteTime": {
     "end_time": "2022-04-20T11:59:40.303929Z",
     "start_time": "2022-04-20T11:59:40.277924Z"
    }
   },
   "outputs": [
    {
     "name": "stdout",
     "output_type": "stream",
     "text": [
      "mse: 1.6153846153846154\n",
      "r2: 0.6923076923076923\n"
     ]
    }
   ],
   "source": [
    "from sklearn.metrics import mean_squared_error, r2_score\n",
    "# Print r2 and mse scores\n",
    "y_predict = model.predict(X_test)\n",
    "mse = mean_squared_error(y_test, y_predict)\n",
    "r2 = model.score(X_test, y_test)\n",
    "print(f\"mse: {mse}\")\n",
    "print(f\"r2: {r2}\")"
   ]
  },
  {
   "cell_type": "markdown",
   "id": "65893854",
   "metadata": {},
   "source": [
    "##### Model 4: Xgboost classifier for feature importance on a classification problem"
   ]
  },
  {
   "cell_type": "code",
   "execution_count": 69,
   "id": "e9b5699c",
   "metadata": {
    "ExecuteTime": {
     "end_time": "2022-04-20T11:59:40.840592Z",
     "start_time": "2022-04-20T11:59:40.589548Z"
    }
   },
   "outputs": [
    {
     "name": "stdout",
     "output_type": "stream",
     "text": [
      "Feature: 0, Score: 0.18516\n",
      "Feature: 1, Score: 0.10620\n",
      "Feature: 2, Score: 0.11574\n",
      "Feature: 3, Score: 0.18299\n",
      "Feature: 4, Score: 0.12143\n",
      "Feature: 5, Score: 0.10217\n",
      "Feature: 6, Score: 0.18630\n"
     ]
    },
    {
     "data": {
      "image/png": "[encoded data removed]",
      "text/plain": [
       "<Figure size 432x288 with 1 Axes>"
      ]
     },
     "metadata": {},
     "output_type": "display_data"
    },
    {
     "name": "stdout",
     "output_type": "stream",
     "text": [
      "\u001b[35mTraining Data Score:  99.52 %\n",
      "\u001b[35mTesting Data Score: 65.38 %\n"
     ]
    }
   ],
   "source": [
    "# Model 4: Xgboost classifier for feature importance on a classification problem\n",
    "from sklearn.datasets import make_classification\n",
    "from xgboost import XGBClassifier\n",
    "from sklearn.preprocessing import LabelEncoder\n",
    "from sklearn.metrics import classification_report, roc_curve\n",
    "# define the model\n",
    "model = XGBClassifier()      \n",
    "\n",
    "y = y.astype('int')\n",
    "# split into train and test sets\n",
    "X_train, X_test, y_train, y_test = train_test_split(X, y, test_size=0.33, random_state=1)\n",
    "model.fit(X_train, y_train)\n",
    "\n",
    "# get importance\n",
    "importance = model.feature_importances_\n",
    "# summarize feature importance\n",
    "for i,v in enumerate(importance):\n",
    "    print('Feature: %0d, Score: %.5f' % (i,v))\n",
    "# plot feature importance\n",
    "plt.bar([x for x in range(len(importance))], importance)\n",
    "plt.show()\n",
    "\n",
    "# Print score \n",
    "print(f\"\\u001b[35mTraining Data Score:  %.2f\" % (model.score(X_train, y_train)*100),\"%\")\n",
    "print(f\"\\u001b[35mTesting Data Score: %.2f\" % (model.score(X_test, y_test)*100),\"%\")"
   ]
  },
  {
   "cell_type": "code",
   "execution_count": 70,
   "id": "d32274a5",
   "metadata": {
    "ExecuteTime": {
     "end_time": "2022-04-20T11:59:40.856596Z",
     "start_time": "2022-04-20T11:59:40.841593Z"
    }
   },
   "outputs": [
    {
     "name": "stdout",
     "output_type": "stream",
     "text": [
      "              precision    recall  f1-score   support\n",
      "\n",
      "           0       0.00      0.00      0.00         7\n",
      "           1       0.62      0.86      0.72        21\n",
      "           2       0.43      0.38      0.40         8\n",
      "           3       0.38      0.43      0.40        14\n",
      "           4       0.82      0.76      0.79        54\n",
      "\n",
      "    accuracy                           0.65       104\n",
      "   macro avg       0.45      0.48      0.46       104\n",
      "weighted avg       0.63      0.65      0.64       104\n",
      "\n"
     ]
    }
   ],
   "source": [
    "pred = model.predict(X_test)\n",
    "# Print classfication report\n",
    "print(classification_report(y_test, model.predict(X_test))) "
   ]
  },
  {
   "cell_type": "code",
   "execution_count": 71,
   "id": "f7924eaf",
   "metadata": {
    "ExecuteTime": {
     "end_time": "2022-04-20T11:59:40.903605Z",
     "start_time": "2022-04-20T11:59:40.890601Z"
    }
   },
   "outputs": [
    {
     "name": "stdout",
     "output_type": "stream",
     "text": [
      "mse: 1.5192307692307692\n",
      "r2: 0.6538461538461539\n"
     ]
    }
   ],
   "source": [
    "from sklearn.metrics import mean_squared_error, r2_score\n",
    "# Print r2 and mse scores\n",
    "y_predict = model.predict(X_test)\n",
    "mse = mean_squared_error(y_test, y_predict)\n",
    "r2 = model.score(X_test, y_test)\n",
    "print(f\"mse: {mse}\")\n",
    "print(f\"r2: {r2}\")"
   ]
  },
  {
   "cell_type": "markdown",
   "id": "5131222c",
   "metadata": {},
   "source": [
    "#### The model that has the highest accuracy rate is: Model 3: Random forest classifier for feature importance on a classification problem</b>"
   ]
  },
  {
   "cell_type": "code",
   "execution_count": 72,
   "id": "58d752a9",
   "metadata": {
    "ExecuteTime": {
     "end_time": "2022-04-20T11:59:41.488975Z",
     "start_time": "2022-04-20T11:59:41.206899Z"
    }
   },
   "outputs": [
    {
     "name": "stdout",
     "output_type": "stream",
     "text": [
      "Feature: 0, Score: 0.07382\n",
      "Feature: 1, Score: 0.14017\n",
      "Feature: 2, Score: 0.13313\n",
      "Feature: 3, Score: 0.20226\n",
      "Feature: 4, Score: 0.15502\n",
      "Feature: 5, Score: 0.11153\n",
      "Feature: 6, Score: 0.18408\n"
     ]
    },
    {
     "data": {
      "image/png": "[encoded data removed]",
      "text/plain": [
       "<Figure size 432x288 with 1 Axes>"
      ]
     },
     "metadata": {},
     "output_type": "display_data"
    },
    {
     "name": "stdout",
     "output_type": "stream",
     "text": [
      "\u001b[35mTraining Data Score:  99.52 %\n",
      "\u001b[35mTesting Data Score: 69.23 %\n"
     ]
    }
   ],
   "source": [
    "# Model 3: Random forest classifier for feature importance on a classification problem\n",
    "from sklearn.datasets import make_classification\n",
    "from sklearn.ensemble import RandomForestClassifier\n",
    "\n",
    "# define the model\n",
    "model = RandomForestClassifier()\n",
    "\n",
    "# split into train and test sets\n",
    "X_train, X_test, y_train, y_test = train_test_split(X, y, test_size=0.33, random_state=1)\n",
    "model.fit(X_train, y_train)\n",
    "\n",
    "# get importance\n",
    "importance = model.feature_importances_\n",
    "# summarize feature importance\n",
    "for i,v in enumerate(importance):\n",
    "    print('Feature: %0d, Score: %.5f' % (i,v))\n",
    "# plot feature importance\n",
    "plt.bar([x for x in range(len(importance))], importance)\n",
    "plt.show()\n",
    "\n",
    "# Print score \n",
    "print(f\"\\u001b[35mTraining Data Score:  %.2f\" % (model.score(X_train, y_train)*100),\"%\")\n",
    "print(f\"\\u001b[35mTesting Data Score: %.2f\" % (model.score(X_test, y_test)*100),\"%\")"
   ]
  },
  {
   "cell_type": "markdown",
   "id": "1984c64a",
   "metadata": {},
   "source": [
    "### Save the trained model to pickle file"
   ]
  },
  {
   "cell_type": "code",
   "execution_count": 73,
   "id": "83fef9b0",
   "metadata": {
    "ExecuteTime": {
     "end_time": "2022-04-20T11:59:41.551806Z",
     "start_time": "2022-04-20T11:59:41.541151Z"
    }
   },
   "outputs": [],
   "source": [
    "# Create pickle file\n",
    "knnPickle = open('../models/RFCmodel_personality_prediction', 'wb') \n",
    "\n",
    "# Save the trained model to file\n",
    "pickle.dump(model, knnPickle)      \n",
    "knnPickle.close()"
   ]
  },
  {
   "cell_type": "markdown",
   "id": "ab776147",
   "metadata": {},
   "source": [
    "### Load the trained model"
   ]
  },
  {
   "cell_type": "code",
   "execution_count": 74,
   "id": "820ae993",
   "metadata": {
    "ExecuteTime": {
     "end_time": "2022-04-20T11:59:41.893242Z",
     "start_time": "2022-04-20T11:59:41.867237Z"
    }
   },
   "outputs": [],
   "source": [
    "# Open & load the model using pickle\n",
    "with open('../models/RFCmodel_personality_prediction' , 'rb') as f:\n",
    "    loaded_model = pickle.load(f)"
   ]
  },
  {
   "cell_type": "markdown",
   "id": "2f9ee969",
   "metadata": {},
   "source": [
    "### Simulate user input with new data"
   ]
  },
  {
   "cell_type": "code",
   "execution_count": 75,
   "id": "b79fb5e6",
   "metadata": {
    "ExecuteTime": {
     "end_time": "2022-04-20T11:59:42.221870Z",
     "start_time": "2022-04-20T11:59:42.210867Z"
    }
   },
   "outputs": [
    {
     "data": {
      "text/html": [
       "<div>\n",
       "<style scoped>\n",
       "    .dataframe tbody tr th:only-of-type {\n",
       "        vertical-align: middle;\n",
       "    }\n",
       "\n",
       "    .dataframe tbody tr th {\n",
       "        vertical-align: top;\n",
       "    }\n",
       "\n",
       "    .dataframe thead th {\n",
       "        text-align: right;\n",
       "    }\n",
       "</style>\n",
       "<table border=\"1\" class=\"dataframe\">\n",
       "  <thead>\n",
       "    <tr style=\"text-align: right;\">\n",
       "      <th></th>\n",
       "      <th>gender</th>\n",
       "      <th>age</th>\n",
       "      <th>openness</th>\n",
       "      <th>neuroticism</th>\n",
       "      <th>conscientiousness</th>\n",
       "      <th>agreeableness</th>\n",
       "      <th>extraversion</th>\n",
       "    </tr>\n",
       "  </thead>\n",
       "  <tbody>\n",
       "    <tr>\n",
       "      <th>0</th>\n",
       "      <td>1</td>\n",
       "      <td>40</td>\n",
       "      <td>9</td>\n",
       "      <td>4</td>\n",
       "      <td>4</td>\n",
       "      <td>4</td>\n",
       "      <td>4</td>\n",
       "    </tr>\n",
       "  </tbody>\n",
       "</table>\n",
       "</div>"
      ],
      "text/plain": [
       "   gender  age  openness  neuroticism  conscientiousness  agreeableness  \\\n",
       "0       1   40         9            4                  4              4   \n",
       "\n",
       "   extraversion  \n",
       "0             4  "
      ]
     },
     "execution_count": 75,
     "metadata": {},
     "output_type": "execute_result"
    }
   ],
   "source": [
    "user_input = {\"gender\": 1,\"age\": 40, \"openness\": 9, \"neuroticism\": 4, \"conscientiousness\": 4, \n",
    "              \"agreeableness\": 4, \"extraversion\": 4}\n",
    "user_input = pd.DataFrame(user_input, index=[0])\n",
    "user_input"
   ]
  },
  {
   "cell_type": "code",
   "execution_count": 76,
   "id": "c0a56979",
   "metadata": {
    "ExecuteTime": {
     "end_time": "2022-04-20T11:59:42.411829Z",
     "start_time": "2022-04-20T11:59:42.394784Z"
    }
   },
   "outputs": [
    {
     "data": {
      "text/plain": [
       "array([[ 1, 40,  9,  4,  4,  4,  4]], dtype=int64)"
      ]
     },
     "execution_count": 76,
     "metadata": {},
     "output_type": "execute_result"
    }
   ],
   "source": [
    "user_input = user_input.values.reshape(1, -1)\n",
    "user_input"
   ]
  },
  {
   "cell_type": "code",
   "execution_count": 77,
   "id": "abc77bfe",
   "metadata": {
    "ExecuteTime": {
     "end_time": "2022-04-20T11:59:42.598878Z",
     "start_time": "2022-04-20T11:59:42.578887Z"
    }
   },
   "outputs": [
    {
     "data": {
      "text/plain": [
       "array([1])"
      ]
     },
     "execution_count": 77,
     "metadata": {},
     "output_type": "execute_result"
    }
   ],
   "source": [
    "ML_guess = loaded_model.predict(user_input) \n",
    "ML_guess "
   ]
  },
  {
   "cell_type": "code",
   "execution_count": 78,
   "id": "c31669cd",
   "metadata": {
    "ExecuteTime": {
     "end_time": "2022-04-20T11:59:42.803925Z",
     "start_time": "2022-04-20T11:59:42.788921Z"
    }
   },
   "outputs": [],
   "source": [
    "# Mapped Personality category\n",
    "if np.array(ML_guess) == 0:\n",
    "    ML_guess = \"Dependable\"\n",
    "elif np.array(ML_guess) == 1:\n",
    "    ML_guess = \"Extraverted\"\n",
    "elif np.array(ML_guess) == 2:\n",
    "    ML_guess = \"Lively\"\n",
    "elif np.array(ML_guess) == 3:\n",
    "    ML_guess = \"Responsible\"\n",
    "else:\n",
    "    ML_guess = \"Serious\""
   ]
  },
  {
   "cell_type": "code",
   "execution_count": 79,
   "id": "38d2aa63",
   "metadata": {
    "ExecuteTime": {
     "end_time": "2022-04-20T11:59:42.994122Z",
     "start_time": "2022-04-20T11:59:42.979110Z"
    }
   },
   "outputs": [
    {
     "name": "stdout",
     "output_type": "stream",
     "text": [
      "ML predicted your personality is:  Extraverted\n"
     ]
    }
   ],
   "source": [
    "print(f\"ML predicted your personality is: \", ML_guess)"
   ]
  },
  {
   "cell_type": "code",
   "execution_count": null,
   "id": "a7a3b771",
   "metadata": {},
   "outputs": [],
   "source": []
  }
 ],
 "metadata": {
  "kernelspec": {
   "display_name": "Python 3 (ipykernel)",
   "language": "python",
   "name": "python3"
  },
  "language_info": {
   "codemirror_mode": {
    "name": "ipython",
    "version": 3
   },
   "file_extension": ".py",
   "mimetype": "text/x-python",
   "name": "python",
   "nbconvert_exporter": "python",
   "pygments_lexer": "ipython3",
   "version": "3.9.7"
  }
 },
 "nbformat": 4,
 "nbformat_minor": 5
}
